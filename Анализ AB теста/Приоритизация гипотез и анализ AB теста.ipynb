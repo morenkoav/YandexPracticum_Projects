{
 "cells": [
  {
   "cell_type": "markdown",
   "metadata": {},
   "source": [
    "<span style=\"color:green\">**Поздравляю, твой проект принят!**</span>\n",
    "\n",
    "Антон, отличная работа, получился качественный аналитический отчет. Поставленные задачи были успешно выполнены! Спасибо за обозначение корректировок. Недочёты исправлены! Надеюсь, ревью было полезным:) Желаю успехов в учебе и следующих проектах!\n",
    "\n",
    "\n",
    "<span style=\"color:purple\">**Привет, Антон!**</span>\n",
    "\n",
    "Меня зовут **Василий** и я – ревьювер, буду проверять твой проект. Ты проделал большую работу над проектом, но давай сделаем его еще лучше.\n",
    "\n",
    "Спасибо, что прислал проект. В тетради ты сможешь найти мои комментарии. Пострайся учесть эти комментарии в ходе выполнения дальнейших проектов.\n",
    "\n",
    "Твой проект обладает хорошей структурой и понятной логикой исследования. Тем не менее, в нём обнаружились недочёты, которые необходимо будет исправить.\n",
    "\n",
    "Обрати внимание, я буду выделять свои комментарии цветом, в зависимости от того, какие действия, важность и особенности тебя ждут в процессе проверки.\n",
    "\n",
    "<div class=\"alert alert-block alert-success\">\n",
    "\n",
    "**Комментарий ревьювера (все отлично)**\n",
    "    \n",
    "Такими комментариями я буду помечать хорошо проделаную работу, а так же хорошо проделаную работу над ошибками.\n",
    "</div>\n",
    "\n",
    "<div class=\"alert alert-block alert-warning\">\n",
    "\n",
    "**Комментарий ревьювера (что можно улучшить)**\n",
    "    \n",
    "После таких комментариев ничего исправлять не нужно, но я дам рекомендации на будущее и подскажу, что можно улучшить.\n",
    "</div>\n",
    "\n",
    "<div class=\"alert alert-block alert-danger\">\n",
    "    \n",
    "**Комментарий ревьювера (недочет, который нужно доработать)**\n",
    "    \n",
    "Если ты видишь такой комментарий, значит я указываю тебе на недочёт, его нужно исправить. Без такого исправления я не приму твою работу:)\n",
    "</div>\n",
    "\n",
    "**Пожалуста, не удаляй мои комментарии. При повторной проверке, я буду ориентироваться на них.**\n",
    "\n",
    "<span style=\"color:blue\"> Можешь под моими комментариями оставлять свои, в которых опиши свои исправления. Это облегчит процесс проверки и мне, и тебе:) Например, вот так:</span>\n",
    "\n",
    "<div class=\"alert alert-block alert-info\">\n",
    "<b>КОММЕНТАРИЙ ОТ УЧЕНИКА: </b>\n",
    "</div>"
   ]
  },
  {
   "cell_type": "markdown",
   "metadata": {},
   "source": [
    "# Проект: Приоритизация гипотез и проведение A/B теста интернет магазина\n",
    "\n",
    "\n",
    "**Описание проекта**\n",
    "\n",
    "**Цель проекта:** Приоритизировать список гипотез и провести A/B тест с целью определения гипотез способствующих увеличению выручки\n",
    "\n",
    "\n",
    "**Ход иссследования:**\n",
    "* Загрузка данных\n",
    "* Обзор полученных данных\n",
    "* Предобработка данных\n",
    "    * Проверка дубликатов\n",
    "    * Проверка групп на наличие одинаковых пользователй\n",
    "* Приминение фреймворка ICE для приоритизации гипотез\n",
    "* Приминение фремворка RICE для приоритизации гипотез\n",
    "* Анализ A/B теста:\n",
    "    * Построить график кумулятивной выручки по группам\n",
    "    * Построить график кумулятивного среднего чека по группам\n",
    "    * Построить график относительного изменения кумулятивного среднего чека группы B к группе A\n",
    "    * Построить график кумулятивного среднего количества заказов на посетителя по группам\n",
    "    * Построить график относительного изменения кумулятивного среднего количества заказов на посетителя группы B к группе A.\n",
    "    * Построить точечный график количества заказов по пользователям\n",
    "    * Посчитать 95-й и 99-й перцентили количества заказов на пользователя\n",
    "    * Построить точечный график стоимостей заказов\n",
    "    * Посчитать 95-й и 99-й перцентили стоимости заказов\n",
    "    * Посчитать статистическую значимость различий в среднем количестве заказов на посетителя между группами по «сырым» данным.\n",
    "    * Посчитать статистическую значимость различий в среднем чеке заказа между группами по «сырым» данным.\n",
    "    * Посчитать статистическую значимость различий в среднем количестве заказов на посетителя между группами по «очищенным» данным.\n",
    "    * Посчитать статистическую значимость различий в среднем чеке заказа между группами по «очищенным» данным.\n",
    "    * Принять решение по результатам теста\n",
    "\n",
    "**Исходные данные**:\n",
    "\n",
    "Получены три датасета:\n",
    "1. hypothesis.csv - 9 гипотез по увеличению выручки интернет-магазина с указанными параметрами Reach, Impact, Confidence, Effort.\n",
    "2. orders.csv - данные для A/B теста по заказам пользователей\n",
    "3. visitors.csv - данные для A/B теста по посетителям сайта\n",
    "\n",
    "**Содержание отчета:**\n",
    "1. [Загрузка и обзор полученных данных](#load_and_open_data)\n",
    "    * [Предобработка данных](#data_prepare)\n",
    "2. [Приоритизация гипотез](#hypotesis_prioritets)\n",
    "    * [Приоритизация гипотез с помощью фреймворка ICE](#hypotesis_prioritets_ice)\n",
    "    * [Приоритизация гипотез с помощью фреймворка RICE](#hypotesis_prioritets_rice)\n",
    "    * [Выводы по приоритизации гипотез](#hypotesis_prioritets_summary)\n",
    "3. [Анализ A/B теста](#AB_test)\n",
    "    * [Визуализация данных результатов A/B теста](#ab_vizualization)\n",
    "        * [График кумулятивной выручки по группам](#plot_cum_income_by_group)\n",
    "        * [График кумулятивного среднего чека по группам](#plot_cum_avg_check_by_group)\n",
    "        * [График относительного изменения кумулятивного среднего чека группы B к группе A](#plot_change_cum_avg_check_b_to_a)\n",
    "        * [График кумулятивного среднего количества заказов на посетителя по группам](#plot_cum_avg_orders_num_to_visitor_by_groups)\n",
    "        * [График относительного изменения кумулятивного среднего количества заказов на посетителя группы B к группе A](#plot_change_cum_avg_orders_num_b_to_a)\n",
    "        * [Точечный график количества заказов по пользователям](#scatter_orders_num_by_users)\n",
    "        * [Точечный график стоимостей заказов](#scatter_revenue_by_users)\n",
    "    * [Расчет статистической значимости результатов A/B теста](#ab_pvalue_calc)\n",
    "        * [Cтатистическая значимость различий в среднем количестве заказов на посетителя между группами по «сырым» данным](#stats_orders_raw)\n",
    "        * [Cтатистическая значимость различий в среднем чеке заказа между группами по «сырым» данным](#stats_checks_raw)\n",
    "        * [Cтатистическая значимость различий в среднем количестве заказов на посетителя между группами по «очищенным» данным](#stats_orders_cleaned)\n",
    "        * [Cтатистическая значимость различий в среднем чеке заказа между группами по «очищенным» данным](#stats_checks_cleaned)\n",
    "    * [Предлагаемое решение по результатам анализа A/B теста](#test_summary)\n",
    "4. [Выводы по результатам проекта](#summary)"
   ]
  },
  {
   "cell_type": "markdown",
   "metadata": {},
   "source": [
    "<div class=\"alert alert-block alert-success\">\n",
    "\n",
    "**Комментарий ревьювера (все отлично)**\n",
    "    \n",
    "Хорошее введение. Понятно чему посвящена твоя работа и какие этапы она содержит.\n",
    "</div>"
   ]
  },
  {
   "cell_type": "markdown",
   "metadata": {},
   "source": [
    "<a id=\"load_and_open_data\"></a> \n",
    "## Загрузка и обзор полученных данных"
   ]
  },
  {
   "cell_type": "code",
   "execution_count": 1,
   "metadata": {},
   "outputs": [],
   "source": [
    "# Импорт необходимых библиотек\n",
    "import pandas as pd\n",
    "import datetime as dt\n",
    "import numpy as np\n",
    "from matplotlib import pyplot as plt\n",
    "import scipy.stats as stats"
   ]
  },
  {
   "cell_type": "markdown",
   "metadata": {},
   "source": [
    "<div class=\"alert alert-block alert-success\">\n",
    "\n",
    "**Комментарий ревьювера (все отлично)**\n",
    "    \n",
    "Правильно, что импортируешь необходимые библиотеки в первой ячейке. Так твой коллега, запускающий работу, будет в курсе используемых в ней библиотек и сможет настроить свое окружение при необходимости.\n",
    "</div>"
   ]
  },
  {
   "cell_type": "code",
   "execution_count": 2,
   "metadata": {},
   "outputs": [],
   "source": [
    "# Загрузка датасетов \n",
    "hypothesis, orders, visitors = (\n",
    "    pd.read_csv('/datasets/hypothesis.csv'), # гипотезы\n",
    "    pd.read_csv('/datasets/orders.csv'), # заказы для A/B теста\n",
    "    pd.read_csv('/datasets/visitors.csv') # посетители для A/B теста\n",
    ")"
   ]
  },
  {
   "cell_type": "code",
   "execution_count": 3,
   "metadata": {},
   "outputs": [
    {
     "data": {
      "text/html": [
       "<div>\n",
       "<style scoped>\n",
       "    .dataframe tbody tr th:only-of-type {\n",
       "        vertical-align: middle;\n",
       "    }\n",
       "\n",
       "    .dataframe tbody tr th {\n",
       "        vertical-align: top;\n",
       "    }\n",
       "\n",
       "    .dataframe thead th {\n",
       "        text-align: right;\n",
       "    }\n",
       "</style>\n",
       "<table border=\"1\" class=\"dataframe\">\n",
       "  <thead>\n",
       "    <tr style=\"text-align: right;\">\n",
       "      <th></th>\n",
       "      <th>Hypothesis</th>\n",
       "      <th>Reach</th>\n",
       "      <th>Impact</th>\n",
       "      <th>Confidence</th>\n",
       "      <th>Efforts</th>\n",
       "    </tr>\n",
       "  </thead>\n",
       "  <tbody>\n",
       "    <tr>\n",
       "      <th>0</th>\n",
       "      <td>Добавить два новых канала привлечения трафика,...</td>\n",
       "      <td>3</td>\n",
       "      <td>10</td>\n",
       "      <td>8</td>\n",
       "      <td>6</td>\n",
       "    </tr>\n",
       "    <tr>\n",
       "      <th>1</th>\n",
       "      <td>Запустить собственную службу доставки, что сок...</td>\n",
       "      <td>2</td>\n",
       "      <td>5</td>\n",
       "      <td>4</td>\n",
       "      <td>10</td>\n",
       "    </tr>\n",
       "    <tr>\n",
       "      <th>2</th>\n",
       "      <td>Добавить блоки рекомендаций товаров на сайт ин...</td>\n",
       "      <td>8</td>\n",
       "      <td>3</td>\n",
       "      <td>7</td>\n",
       "      <td>3</td>\n",
       "    </tr>\n",
       "    <tr>\n",
       "      <th>3</th>\n",
       "      <td>Изменить структура категорий, что увеличит кон...</td>\n",
       "      <td>8</td>\n",
       "      <td>3</td>\n",
       "      <td>3</td>\n",
       "      <td>8</td>\n",
       "    </tr>\n",
       "    <tr>\n",
       "      <th>4</th>\n",
       "      <td>Изменить цвет фона главной страницы, чтобы уве...</td>\n",
       "      <td>3</td>\n",
       "      <td>1</td>\n",
       "      <td>1</td>\n",
       "      <td>1</td>\n",
       "    </tr>\n",
       "  </tbody>\n",
       "</table>\n",
       "</div>"
      ],
      "text/plain": [
       "                                          Hypothesis  Reach  Impact  \\\n",
       "0  Добавить два новых канала привлечения трафика,...      3      10   \n",
       "1  Запустить собственную службу доставки, что сок...      2       5   \n",
       "2  Добавить блоки рекомендаций товаров на сайт ин...      8       3   \n",
       "3  Изменить структура категорий, что увеличит кон...      8       3   \n",
       "4  Изменить цвет фона главной страницы, чтобы уве...      3       1   \n",
       "\n",
       "   Confidence  Efforts  \n",
       "0           8        6  \n",
       "1           4       10  \n",
       "2           7        3  \n",
       "3           3        8  \n",
       "4           1        1  "
      ]
     },
     "execution_count": 3,
     "metadata": {},
     "output_type": "execute_result"
    }
   ],
   "source": [
    "hypothesis.head()"
   ]
  },
  {
   "cell_type": "code",
   "execution_count": 4,
   "metadata": {},
   "outputs": [
    {
     "name": "stdout",
     "output_type": "stream",
     "text": [
      "<class 'pandas.core.frame.DataFrame'>\n",
      "RangeIndex: 9 entries, 0 to 8\n",
      "Data columns (total 5 columns):\n",
      " #   Column      Non-Null Count  Dtype \n",
      "---  ------      --------------  ----- \n",
      " 0   Hypothesis  9 non-null      object\n",
      " 1   Reach       9 non-null      int64 \n",
      " 2   Impact      9 non-null      int64 \n",
      " 3   Confidence  9 non-null      int64 \n",
      " 4   Efforts     9 non-null      int64 \n",
      "dtypes: int64(4), object(1)\n",
      "memory usage: 488.0+ bytes\n"
     ]
    }
   ],
   "source": [
    "hypothesis.info()"
   ]
  },
  {
   "cell_type": "markdown",
   "metadata": {},
   "source": [
    "**Таблица hypotesis:**\n",
    "\n",
    "- `Hypothesis` — краткое описание гипотезы;\n",
    "- `Reach` — охват пользователей по 10-балльной шкале;\n",
    "- `Impact` — влияние на пользователей по 10-балльной шкале;\n",
    "- `Confidence` — уверенность в гипотезе по 10-балльной шкале;\n",
    "- `Efforts` — затраты ресурсов на проверку гипотезы по 10-балльной шкале. Чем больше значение `Efforts`, тем дороже проверка гипотезы.\n",
    "\n",
    "В датасете всего 9 записей, пропусков нет, типы данных корректные"
   ]
  },
  {
   "cell_type": "code",
   "execution_count": 5,
   "metadata": {},
   "outputs": [
    {
     "data": {
      "text/html": [
       "<div>\n",
       "<style scoped>\n",
       "    .dataframe tbody tr th:only-of-type {\n",
       "        vertical-align: middle;\n",
       "    }\n",
       "\n",
       "    .dataframe tbody tr th {\n",
       "        vertical-align: top;\n",
       "    }\n",
       "\n",
       "    .dataframe thead th {\n",
       "        text-align: right;\n",
       "    }\n",
       "</style>\n",
       "<table border=\"1\" class=\"dataframe\">\n",
       "  <thead>\n",
       "    <tr style=\"text-align: right;\">\n",
       "      <th></th>\n",
       "      <th>transactionId</th>\n",
       "      <th>visitorId</th>\n",
       "      <th>date</th>\n",
       "      <th>revenue</th>\n",
       "      <th>group</th>\n",
       "    </tr>\n",
       "  </thead>\n",
       "  <tbody>\n",
       "    <tr>\n",
       "      <th>0</th>\n",
       "      <td>3667963787</td>\n",
       "      <td>3312258926</td>\n",
       "      <td>2019-08-15</td>\n",
       "      <td>1650</td>\n",
       "      <td>B</td>\n",
       "    </tr>\n",
       "    <tr>\n",
       "      <th>1</th>\n",
       "      <td>2804400009</td>\n",
       "      <td>3642806036</td>\n",
       "      <td>2019-08-15</td>\n",
       "      <td>730</td>\n",
       "      <td>B</td>\n",
       "    </tr>\n",
       "    <tr>\n",
       "      <th>2</th>\n",
       "      <td>2961555356</td>\n",
       "      <td>4069496402</td>\n",
       "      <td>2019-08-15</td>\n",
       "      <td>400</td>\n",
       "      <td>A</td>\n",
       "    </tr>\n",
       "    <tr>\n",
       "      <th>3</th>\n",
       "      <td>3797467345</td>\n",
       "      <td>1196621759</td>\n",
       "      <td>2019-08-15</td>\n",
       "      <td>9759</td>\n",
       "      <td>B</td>\n",
       "    </tr>\n",
       "    <tr>\n",
       "      <th>4</th>\n",
       "      <td>2282983706</td>\n",
       "      <td>2322279887</td>\n",
       "      <td>2019-08-15</td>\n",
       "      <td>2308</td>\n",
       "      <td>B</td>\n",
       "    </tr>\n",
       "  </tbody>\n",
       "</table>\n",
       "</div>"
      ],
      "text/plain": [
       "   transactionId   visitorId        date  revenue group\n",
       "0     3667963787  3312258926  2019-08-15     1650     B\n",
       "1     2804400009  3642806036  2019-08-15      730     B\n",
       "2     2961555356  4069496402  2019-08-15      400     A\n",
       "3     3797467345  1196621759  2019-08-15     9759     B\n",
       "4     2282983706  2322279887  2019-08-15     2308     B"
      ]
     },
     "execution_count": 5,
     "metadata": {},
     "output_type": "execute_result"
    }
   ],
   "source": [
    "orders.head()"
   ]
  },
  {
   "cell_type": "code",
   "execution_count": 6,
   "metadata": {},
   "outputs": [
    {
     "name": "stdout",
     "output_type": "stream",
     "text": [
      "<class 'pandas.core.frame.DataFrame'>\n",
      "RangeIndex: 1197 entries, 0 to 1196\n",
      "Data columns (total 5 columns):\n",
      " #   Column         Non-Null Count  Dtype \n",
      "---  ------         --------------  ----- \n",
      " 0   transactionId  1197 non-null   int64 \n",
      " 1   visitorId      1197 non-null   int64 \n",
      " 2   date           1197 non-null   object\n",
      " 3   revenue        1197 non-null   int64 \n",
      " 4   group          1197 non-null   object\n",
      "dtypes: int64(3), object(2)\n",
      "memory usage: 46.9+ KB\n"
     ]
    }
   ],
   "source": [
    "orders.info()"
   ]
  },
  {
   "cell_type": "markdown",
   "metadata": {},
   "source": [
    "**Таблица orders:**\n",
    "\n",
    "- `transactionId` — идентификатор заказа;\n",
    "- `visitorId` — идентификатор пользователя, совершившего заказ;\n",
    "- `date` — дата, когда был совершён заказ;\n",
    "- `revenue` — выручка заказа;\n",
    "- `group` — группа A/B-теста, в которую попал заказ.\n",
    "\n",
    "В датасете 1197 записей, пропусков нет, необходимо поле `date` привести к формату даты"
   ]
  },
  {
   "cell_type": "code",
   "execution_count": 7,
   "metadata": {},
   "outputs": [
    {
     "data": {
      "text/html": [
       "<div>\n",
       "<style scoped>\n",
       "    .dataframe tbody tr th:only-of-type {\n",
       "        vertical-align: middle;\n",
       "    }\n",
       "\n",
       "    .dataframe tbody tr th {\n",
       "        vertical-align: top;\n",
       "    }\n",
       "\n",
       "    .dataframe thead th {\n",
       "        text-align: right;\n",
       "    }\n",
       "</style>\n",
       "<table border=\"1\" class=\"dataframe\">\n",
       "  <thead>\n",
       "    <tr style=\"text-align: right;\">\n",
       "      <th></th>\n",
       "      <th>date</th>\n",
       "      <th>group</th>\n",
       "      <th>visitors</th>\n",
       "    </tr>\n",
       "  </thead>\n",
       "  <tbody>\n",
       "    <tr>\n",
       "      <th>0</th>\n",
       "      <td>2019-08-01</td>\n",
       "      <td>A</td>\n",
       "      <td>719</td>\n",
       "    </tr>\n",
       "    <tr>\n",
       "      <th>1</th>\n",
       "      <td>2019-08-02</td>\n",
       "      <td>A</td>\n",
       "      <td>619</td>\n",
       "    </tr>\n",
       "    <tr>\n",
       "      <th>2</th>\n",
       "      <td>2019-08-03</td>\n",
       "      <td>A</td>\n",
       "      <td>507</td>\n",
       "    </tr>\n",
       "    <tr>\n",
       "      <th>3</th>\n",
       "      <td>2019-08-04</td>\n",
       "      <td>A</td>\n",
       "      <td>717</td>\n",
       "    </tr>\n",
       "    <tr>\n",
       "      <th>4</th>\n",
       "      <td>2019-08-05</td>\n",
       "      <td>A</td>\n",
       "      <td>756</td>\n",
       "    </tr>\n",
       "  </tbody>\n",
       "</table>\n",
       "</div>"
      ],
      "text/plain": [
       "         date group  visitors\n",
       "0  2019-08-01     A       719\n",
       "1  2019-08-02     A       619\n",
       "2  2019-08-03     A       507\n",
       "3  2019-08-04     A       717\n",
       "4  2019-08-05     A       756"
      ]
     },
     "execution_count": 7,
     "metadata": {},
     "output_type": "execute_result"
    }
   ],
   "source": [
    "visitors.head()"
   ]
  },
  {
   "cell_type": "code",
   "execution_count": 8,
   "metadata": {},
   "outputs": [
    {
     "name": "stdout",
     "output_type": "stream",
     "text": [
      "<class 'pandas.core.frame.DataFrame'>\n",
      "RangeIndex: 62 entries, 0 to 61\n",
      "Data columns (total 3 columns):\n",
      " #   Column    Non-Null Count  Dtype \n",
      "---  ------    --------------  ----- \n",
      " 0   date      62 non-null     object\n",
      " 1   group     62 non-null     object\n",
      " 2   visitors  62 non-null     int64 \n",
      "dtypes: int64(1), object(2)\n",
      "memory usage: 1.6+ KB\n"
     ]
    }
   ],
   "source": [
    "visitors.info()"
   ]
  },
  {
   "cell_type": "markdown",
   "metadata": {},
   "source": [
    "**Таблица visitors:**\n",
    "\n",
    "- `date` — дата;\n",
    "- `group` — группа A/B-теста;\n",
    "- `visitors` — количество пользователей в указанную дату в указанной группе A/B-теста\n",
    "\n",
    "В датасете всего 62 записи, пропусков нет, необходимо поле `date` привести к формату даты"
   ]
  },
  {
   "cell_type": "code",
   "execution_count": 9,
   "metadata": {},
   "outputs": [],
   "source": [
    "# Приведем форматы полей `date` в датасетах orders и visitors к формату даты\n",
    "\n",
    "orders['date'] = orders['date'].map(lambda x: dt.datetime.strptime(x, '%Y-%m-%d'))\n",
    "\n",
    "visitors['date'] = visitors['date'].map(lambda x: dt.datetime.strptime(x, '%Y-%m-%d'))"
   ]
  },
  {
   "cell_type": "code",
   "execution_count": 10,
   "metadata": {
    "scrolled": true
   },
   "outputs": [
    {
     "name": "stdout",
     "output_type": "stream",
     "text": [
      "datetime64[ns] datetime64[ns]\n"
     ]
    }
   ],
   "source": [
    "# Проверим результат\n",
    "print(orders['date'].dtype, visitors['date'].dtype)"
   ]
  },
  {
   "cell_type": "markdown",
   "metadata": {},
   "source": [
    "<div class=\"alert alert-block alert-success\">\n",
    "\n",
    "**Комментарий ревьювера (все отлично)**\n",
    "    \n",
    "Даты приведены к соответствующему типу👍\n",
    "</div>"
   ]
  },
  {
   "cell_type": "markdown",
   "metadata": {},
   "source": [
    "<a id=\"data_prepare\"></a> \n",
    "### Предобработка данных"
   ]
  },
  {
   "cell_type": "code",
   "execution_count": 11,
   "metadata": {},
   "outputs": [
    {
     "name": "stdout",
     "output_type": "stream",
     "text": [
      "NULLS\n",
      "transactionId    0\n",
      "visitorId        0\n",
      "date             0\n",
      "revenue          0\n",
      "group            0\n",
      "dtype: int64\n",
      "NANs\n",
      "transactionId    0\n",
      "visitorId        0\n",
      "date             0\n",
      "revenue          0\n",
      "group            0\n",
      "dtype: int64\n",
      "========================================\n",
      "NULLS\n",
      "date        0\n",
      "group       0\n",
      "visitors    0\n",
      "dtype: int64\n",
      "NANs\n",
      "date        0\n",
      "group       0\n",
      "visitors    0\n",
      "dtype: int64\n",
      "========================================\n",
      "NULLS\n",
      "Hypothesis    0\n",
      "Reach         0\n",
      "Impact        0\n",
      "Confidence    0\n",
      "Efforts       0\n",
      "dtype: int64\n",
      "NANs\n",
      "Hypothesis    0\n",
      "Reach         0\n",
      "Impact        0\n",
      "Confidence    0\n",
      "Efforts       0\n",
      "dtype: int64\n",
      "========================================\n"
     ]
    }
   ],
   "source": [
    "# При первом рассмотрении данных пропусков не было обнаружено\n",
    "# Проверим каждую таблицу на null и na значения\n",
    "\n",
    "dfs = [orders, visitors, hypothesis]\n",
    "\n",
    "for i in dfs:\n",
    "    print('NULLS')\n",
    "    print(i.isnull().sum())\n",
    "    print('NANs')\n",
    "    print(i.isna().sum())\n",
    "    print(20*'==')"
   ]
  },
  {
   "cell_type": "markdown",
   "metadata": {},
   "source": [
    "Пропуски не обнаружены"
   ]
  },
  {
   "cell_type": "code",
   "execution_count": 12,
   "metadata": {},
   "outputs": [
    {
     "name": "stdout",
     "output_type": "stream",
     "text": [
      "0\n",
      "========================================\n",
      "0\n",
      "========================================\n",
      "0\n",
      "========================================\n"
     ]
    }
   ],
   "source": [
    "# Проверим таблицы orders, visitors, hypothesis на явные дубликаты\n",
    "\n",
    "for i in dfs:    \n",
    "    print(i.duplicated().sum())\n",
    "    print(20*'==')"
   ]
  },
  {
   "cell_type": "markdown",
   "metadata": {},
   "source": [
    "Явных дубликатов в датасетах не обнаружено."
   ]
  },
  {
   "cell_type": "code",
   "execution_count": 13,
   "metadata": {},
   "outputs": [
    {
     "data": {
      "text/plain": [
       "0"
      ]
     },
     "execution_count": 13,
     "metadata": {},
     "output_type": "execute_result"
    }
   ],
   "source": [
    "# Проверим неявные дубликаты в orders по комбинации полей transactionId, visitorId\n",
    "orders.duplicated(subset=['transactionId','visitorId'], keep=False).sum()"
   ]
  },
  {
   "cell_type": "code",
   "execution_count": 14,
   "metadata": {},
   "outputs": [
    {
     "data": {
      "text/plain": [
       "array(['B', 'A'], dtype=object)"
      ]
     },
     "execution_count": 14,
     "metadata": {},
     "output_type": "execute_result"
    }
   ],
   "source": [
    "# Проверим уникальные обозначения групп в orders (может быть разное обозначение для одних и теж же групп)\n",
    "orders['group'].unique()"
   ]
  },
  {
   "cell_type": "markdown",
   "metadata": {},
   "source": [
    "В таблице orders неявные дубликаты также не обнаружены."
   ]
  },
  {
   "cell_type": "code",
   "execution_count": 15,
   "metadata": {},
   "outputs": [
    {
     "data": {
      "text/plain": [
       "array(['A', 'B'], dtype=object)"
      ]
     },
     "execution_count": 15,
     "metadata": {},
     "output_type": "execute_result"
    }
   ],
   "source": [
    "# Проверим уникальные обозначения групп в visitors\n",
    "visitors['group'].unique()"
   ]
  },
  {
   "cell_type": "markdown",
   "metadata": {},
   "source": [
    "С категориями групп в таблице visitors проблем нет, ранее таблица была проверяна на наличие явных дубликатов, они не обнаружены, а исходя из структуры таблицы visitors выделить комбинации полей для поиска возможных неявных дублей нельзя."
   ]
  },
  {
   "cell_type": "markdown",
   "metadata": {},
   "source": [
    "Проверим консистентность групп теста в таблице orders, то есть отсутствие случаев, когда один и тот же пользователь присутствует в разных группах"
   ]
  },
  {
   "cell_type": "code",
   "execution_count": 16,
   "metadata": {},
   "outputs": [
    {
     "data": {
      "text/html": [
       "<div>\n",
       "<style scoped>\n",
       "    .dataframe tbody tr th:only-of-type {\n",
       "        vertical-align: middle;\n",
       "    }\n",
       "\n",
       "    .dataframe tbody tr th {\n",
       "        vertical-align: top;\n",
       "    }\n",
       "\n",
       "    .dataframe thead th {\n",
       "        text-align: right;\n",
       "    }\n",
       "</style>\n",
       "<table border=\"1\" class=\"dataframe\">\n",
       "  <thead>\n",
       "    <tr style=\"text-align: right;\">\n",
       "      <th></th>\n",
       "      <th>visitorId</th>\n",
       "      <th>A</th>\n",
       "      <th>B</th>\n",
       "      <th>alert_flag</th>\n",
       "    </tr>\n",
       "  </thead>\n",
       "  <tbody>\n",
       "    <tr>\n",
       "      <th>0</th>\n",
       "      <td>5114589</td>\n",
       "      <td>0.0</td>\n",
       "      <td>1.0</td>\n",
       "      <td>False</td>\n",
       "    </tr>\n",
       "    <tr>\n",
       "      <th>1</th>\n",
       "      <td>6958315</td>\n",
       "      <td>0.0</td>\n",
       "      <td>1.0</td>\n",
       "      <td>False</td>\n",
       "    </tr>\n",
       "    <tr>\n",
       "      <th>2</th>\n",
       "      <td>8300375</td>\n",
       "      <td>1.0</td>\n",
       "      <td>1.0</td>\n",
       "      <td>True</td>\n",
       "    </tr>\n",
       "    <tr>\n",
       "      <th>3</th>\n",
       "      <td>11685486</td>\n",
       "      <td>1.0</td>\n",
       "      <td>0.0</td>\n",
       "      <td>False</td>\n",
       "    </tr>\n",
       "    <tr>\n",
       "      <th>4</th>\n",
       "      <td>39475350</td>\n",
       "      <td>0.0</td>\n",
       "      <td>1.0</td>\n",
       "      <td>False</td>\n",
       "    </tr>\n",
       "    <tr>\n",
       "      <th>...</th>\n",
       "      <td>...</td>\n",
       "      <td>...</td>\n",
       "      <td>...</td>\n",
       "      <td>...</td>\n",
       "    </tr>\n",
       "    <tr>\n",
       "      <th>1026</th>\n",
       "      <td>4266935830</td>\n",
       "      <td>1.0</td>\n",
       "      <td>1.0</td>\n",
       "      <td>True</td>\n",
       "    </tr>\n",
       "    <tr>\n",
       "      <th>1027</th>\n",
       "      <td>4278982564</td>\n",
       "      <td>1.0</td>\n",
       "      <td>0.0</td>\n",
       "      <td>False</td>\n",
       "    </tr>\n",
       "    <tr>\n",
       "      <th>1028</th>\n",
       "      <td>4279090005</td>\n",
       "      <td>0.0</td>\n",
       "      <td>1.0</td>\n",
       "      <td>False</td>\n",
       "    </tr>\n",
       "    <tr>\n",
       "      <th>1029</th>\n",
       "      <td>4281247801</td>\n",
       "      <td>0.0</td>\n",
       "      <td>1.0</td>\n",
       "      <td>False</td>\n",
       "    </tr>\n",
       "    <tr>\n",
       "      <th>1030</th>\n",
       "      <td>4283872382</td>\n",
       "      <td>0.0</td>\n",
       "      <td>1.0</td>\n",
       "      <td>False</td>\n",
       "    </tr>\n",
       "  </tbody>\n",
       "</table>\n",
       "<p>1031 rows × 4 columns</p>\n",
       "</div>"
      ],
      "text/plain": [
       "       visitorId    A    B  alert_flag\n",
       "0        5114589  0.0  1.0       False\n",
       "1        6958315  0.0  1.0       False\n",
       "2        8300375  1.0  1.0        True\n",
       "3       11685486  1.0  0.0       False\n",
       "4       39475350  0.0  1.0       False\n",
       "...          ...  ...  ...         ...\n",
       "1026  4266935830  1.0  1.0        True\n",
       "1027  4278982564  1.0  0.0       False\n",
       "1028  4279090005  0.0  1.0       False\n",
       "1029  4281247801  0.0  1.0       False\n",
       "1030  4283872382  0.0  1.0       False\n",
       "\n",
       "[1031 rows x 4 columns]"
      ]
     },
     "execution_count": 16,
     "metadata": {},
     "output_type": "execute_result"
    }
   ],
   "source": [
    "# Сделаем сводную таблицу по идентификаторам пользователей и вхождения их в группы теста\n",
    "\n",
    "groups_pivot = orders.pivot_table(index='visitorId',\n",
    "                                 columns='group',\n",
    "                                 values='transactionId',\n",
    "                                 aggfunc='count').fillna(0).reset_index()\n",
    "\n",
    "groups_pivot.columns = ['visitorId','A','B']\n",
    "\n",
    "# Добавим признак присутствия пользователя в двух группах\n",
    "groups_pivot['alert_flag'] = (groups_pivot['A'] !=0) & (groups_pivot['B'] !=0)\n",
    "\n",
    "groups_pivot"
   ]
  },
  {
   "cell_type": "code",
   "execution_count": 17,
   "metadata": {},
   "outputs": [
    {
     "name": "stdout",
     "output_type": "stream",
     "text": [
      "58\n"
     ]
    },
    {
     "data": {
      "text/html": [
       "<div>\n",
       "<style scoped>\n",
       "    .dataframe tbody tr th:only-of-type {\n",
       "        vertical-align: middle;\n",
       "    }\n",
       "\n",
       "    .dataframe tbody tr th {\n",
       "        vertical-align: top;\n",
       "    }\n",
       "\n",
       "    .dataframe thead th {\n",
       "        text-align: right;\n",
       "    }\n",
       "</style>\n",
       "<table border=\"1\" class=\"dataframe\">\n",
       "  <thead>\n",
       "    <tr style=\"text-align: right;\">\n",
       "      <th></th>\n",
       "      <th>visitorId</th>\n",
       "      <th>A</th>\n",
       "      <th>B</th>\n",
       "      <th>alert_flag</th>\n",
       "    </tr>\n",
       "  </thead>\n",
       "  <tbody>\n",
       "    <tr>\n",
       "      <th>2</th>\n",
       "      <td>8300375</td>\n",
       "      <td>1.0</td>\n",
       "      <td>1.0</td>\n",
       "      <td>True</td>\n",
       "    </tr>\n",
       "    <tr>\n",
       "      <th>44</th>\n",
       "      <td>199603092</td>\n",
       "      <td>4.0</td>\n",
       "      <td>1.0</td>\n",
       "      <td>True</td>\n",
       "    </tr>\n",
       "    <tr>\n",
       "      <th>51</th>\n",
       "      <td>232979603</td>\n",
       "      <td>1.0</td>\n",
       "      <td>1.0</td>\n",
       "      <td>True</td>\n",
       "    </tr>\n",
       "    <tr>\n",
       "      <th>55</th>\n",
       "      <td>237748145</td>\n",
       "      <td>4.0</td>\n",
       "      <td>1.0</td>\n",
       "      <td>True</td>\n",
       "    </tr>\n",
       "    <tr>\n",
       "      <th>66</th>\n",
       "      <td>276558944</td>\n",
       "      <td>1.0</td>\n",
       "      <td>1.0</td>\n",
       "      <td>True</td>\n",
       "    </tr>\n",
       "  </tbody>\n",
       "</table>\n",
       "</div>"
      ],
      "text/plain": [
       "    visitorId    A    B  alert_flag\n",
       "2     8300375  1.0  1.0        True\n",
       "44  199603092  4.0  1.0        True\n",
       "51  232979603  1.0  1.0        True\n",
       "55  237748145  4.0  1.0        True\n",
       "66  276558944  1.0  1.0        True"
      ]
     },
     "execution_count": 17,
     "metadata": {},
     "output_type": "execute_result"
    }
   ],
   "source": [
    "# Сделаем срез по пользователям попавшим в обе группы и посчитаем их количество\n",
    "\n",
    "wrong_users = groups_pivot.query('alert_flag == True')\n",
    "\n",
    "print(wrong_users.shape[0])\n",
    "\n",
    "wrong_users.head()"
   ]
  },
  {
   "cell_type": "markdown",
   "metadata": {},
   "source": [
    "Всего получилось 58 пользователей которые попали одновременно в обе группы.\n",
    "\n",
    "Создадим копию исходной таблицы orders в orders_raw, а для дальнейшей работы будем использовать таблицу orders отфильтрованную от пользователей попавших в таблицу wrong_users"
   ]
  },
  {
   "cell_type": "code",
   "execution_count": 18,
   "metadata": {},
   "outputs": [],
   "source": [
    "# Копия исходного датасета с заказами\n",
    "orders_raw = orders.copy()\n",
    "\n",
    "orders = orders_raw.query(\"~visitorId.isin(@wrong_users['visitorId'])\")"
   ]
  },
  {
   "cell_type": "code",
   "execution_count": 19,
   "metadata": {},
   "outputs": [
    {
     "name": "stdout",
     "output_type": "stream",
     "text": [
      "1197 --> 1016 Delta= -181 -15.121136173767752\n"
     ]
    }
   ],
   "source": [
    "print(orders_raw.shape[0],\n",
    "      '-->', \n",
    "      orders.shape[0], \n",
    "      'Delta=', orders.shape[0]-orders_raw.shape[0],\n",
    "      (orders.shape[0]-orders_raw.shape[0])/orders_raw.shape[0]*100)"
   ]
  },
  {
   "cell_type": "markdown",
   "metadata": {},
   "source": [
    "Исходный датасет orders после удаления пользователей попавших в обе группы теста сократился на 181 запись или на 15%, что может быть весьма чувствительно, но оставлять таких пользователей также некорректно."
   ]
  },
  {
   "cell_type": "markdown",
   "metadata": {},
   "source": [
    "Данные загружены и готовы к дальнейшему анализу"
   ]
  },
  {
   "cell_type": "markdown",
   "metadata": {},
   "source": [
    "<div class=\"alert alert-block alert-danger\">\n",
    "    \n",
    "**Комментарий ревьювера (недочет, который нужно доработать)**\n",
    "    \n",
    "1) Требуется проверить данные на дубликаты и пропуски. При необходимости произвести предобработку.\n",
    "    \n",
    "2) Проверь, есть ли в таблице orders пользователи, оказавшиеся одновременно в двух группах. Дело в том, что при АВ тестировании могут быть ошибки при логировании и распределении пользователей по группам.\n",
    "</div>"
   ]
  },
  {
   "cell_type": "markdown",
   "metadata": {},
   "source": [
    "<div class=\"alert alert-block alert-info\">\n",
    "<b>КОММЕНТАРИЙ ОТ УЧЕНИКА: </b>\n",
    "\n",
    "**Васийлий**, привет!\n",
    "\n",
    "\n",
    "    \n",
    "По комментарию:\n",
    "1. Добавил раздел с предобработкой данных - сделал дополнительную проверку на пропуски и дубликаты\n",
    "2. Проверил вхождение одних и тех же пользователей в две группы одновременно, подготовил отфильтрованную таблицу orders без таких пользователей.\n",
    "</div>"
   ]
  },
  {
   "cell_type": "markdown",
   "metadata": {},
   "source": [
    "<div class=\"alert alert-block alert-success\">\n",
    "\n",
    "**Комментарий ревьювера v2 (все отлично)**\n",
    "    \n",
    "Допустимое решение удалить таких пользователей, однако они остались в таблице `visitors`, которую сложно предобработать от таких ошибок. \n",
    "    \n",
    "Единственного правильного решения здесь нет. В любом случае важно не оставлять факт пересечения групп без внимания. Если пользователи попали в обе группы, то коллегам нужно знать, что есть ошибки в логировании. Эта информациия в реальной работе поможет коллегам разобраться в проблеме и устранить ошибку распределения для следующих тестов.\n",
    "</div>"
   ]
  },
  {
   "cell_type": "markdown",
   "metadata": {},
   "source": [
    "<a id=\"hypotesis_prioritets\"></a> \n",
    "## Приоритизация гипотез"
   ]
  },
  {
   "cell_type": "markdown",
   "metadata": {},
   "source": [
    "<a id=\"hypotesis_prioritets_ice\"></a> \n",
    "### Приоритизация гипотез с помощью фреймворка ICE"
   ]
  },
  {
   "cell_type": "markdown",
   "metadata": {},
   "source": [
    "ICE (от англ. impact, confidence, effort / ease «влияние, уверенность, усилия / простота») — один из самых популярных способов приоритизации задач:\n",
    "![](https://pictures.s3.yandex.net/resources/ice_score_2-27da3b9e-15cd-4f96-91a4-fefffd1d986e_1569198107.jpg)\n",
    "\n",
    "*Impact* — насколько сильно изменение повлияет на пользователей, их опыт и удовлетворение от продукта;\n",
    "\n",
    "*Confidence* — насколько вы уверены, что это изменение повлияет на пользователей именно так;\n",
    "\n",
    "*Efforts* — сколько стоит протестировать эту гипотезу."
   ]
  },
  {
   "cell_type": "code",
   "execution_count": 20,
   "metadata": {},
   "outputs": [],
   "source": [
    "# Добавим расчет показателя ICE\n",
    "\n",
    "hypothesis['ICE'] = ((hypothesis['Impact'] * hypothesis['Confidence']) / hypothesis['Efforts']).round(3)"
   ]
  },
  {
   "cell_type": "code",
   "execution_count": 21,
   "metadata": {
    "scrolled": true
   },
   "outputs": [
    {
     "data": {
      "text/html": [
       "<div>\n",
       "<style scoped>\n",
       "    .dataframe tbody tr th:only-of-type {\n",
       "        vertical-align: middle;\n",
       "    }\n",
       "\n",
       "    .dataframe tbody tr th {\n",
       "        vertical-align: top;\n",
       "    }\n",
       "\n",
       "    .dataframe thead th {\n",
       "        text-align: right;\n",
       "    }\n",
       "</style>\n",
       "<table border=\"1\" class=\"dataframe\">\n",
       "  <thead>\n",
       "    <tr style=\"text-align: right;\">\n",
       "      <th></th>\n",
       "      <th>Hypothesis</th>\n",
       "      <th>Reach</th>\n",
       "      <th>Impact</th>\n",
       "      <th>Confidence</th>\n",
       "      <th>Efforts</th>\n",
       "      <th>ICE</th>\n",
       "    </tr>\n",
       "  </thead>\n",
       "  <tbody>\n",
       "    <tr>\n",
       "      <th>8</th>\n",
       "      <td>Запустить акцию, дающую скидку на товар в день рождения</td>\n",
       "      <td>1</td>\n",
       "      <td>9</td>\n",
       "      <td>9</td>\n",
       "      <td>5</td>\n",
       "      <td>16.200</td>\n",
       "    </tr>\n",
       "    <tr>\n",
       "      <th>0</th>\n",
       "      <td>Добавить два новых канала привлечения трафика, что позволит привлекать на 30% больше пользователей</td>\n",
       "      <td>3</td>\n",
       "      <td>10</td>\n",
       "      <td>8</td>\n",
       "      <td>6</td>\n",
       "      <td>13.333</td>\n",
       "    </tr>\n",
       "    <tr>\n",
       "      <th>7</th>\n",
       "      <td>Добавить форму подписки на все основные страницы, чтобы собрать базу клиентов для email-рассылок</td>\n",
       "      <td>10</td>\n",
       "      <td>7</td>\n",
       "      <td>8</td>\n",
       "      <td>5</td>\n",
       "      <td>11.200</td>\n",
       "    </tr>\n",
       "    <tr>\n",
       "      <th>6</th>\n",
       "      <td>Показать на главной странице баннеры с актуальными акциями и распродажами, чтобы увеличить конверсию</td>\n",
       "      <td>5</td>\n",
       "      <td>3</td>\n",
       "      <td>8</td>\n",
       "      <td>3</td>\n",
       "      <td>8.000</td>\n",
       "    </tr>\n",
       "    <tr>\n",
       "      <th>2</th>\n",
       "      <td>Добавить блоки рекомендаций товаров на сайт интернет магазина, чтобы повысить конверсию и средний чек заказа</td>\n",
       "      <td>8</td>\n",
       "      <td>3</td>\n",
       "      <td>7</td>\n",
       "      <td>3</td>\n",
       "      <td>7.000</td>\n",
       "    </tr>\n",
       "    <tr>\n",
       "      <th>1</th>\n",
       "      <td>Запустить собственную службу доставки, что сократит срок доставки заказов</td>\n",
       "      <td>2</td>\n",
       "      <td>5</td>\n",
       "      <td>4</td>\n",
       "      <td>10</td>\n",
       "      <td>2.000</td>\n",
       "    </tr>\n",
       "    <tr>\n",
       "      <th>5</th>\n",
       "      <td>Добавить страницу отзывов клиентов о магазине, что позволит увеличить количество заказов</td>\n",
       "      <td>3</td>\n",
       "      <td>2</td>\n",
       "      <td>2</td>\n",
       "      <td>3</td>\n",
       "      <td>1.333</td>\n",
       "    </tr>\n",
       "    <tr>\n",
       "      <th>3</th>\n",
       "      <td>Изменить структура категорий, что увеличит конверсию, т.к. пользователи быстрее найдут нужный товар</td>\n",
       "      <td>8</td>\n",
       "      <td>3</td>\n",
       "      <td>3</td>\n",
       "      <td>8</td>\n",
       "      <td>1.125</td>\n",
       "    </tr>\n",
       "    <tr>\n",
       "      <th>4</th>\n",
       "      <td>Изменить цвет фона главной страницы, чтобы увеличить вовлеченность пользователей</td>\n",
       "      <td>3</td>\n",
       "      <td>1</td>\n",
       "      <td>1</td>\n",
       "      <td>1</td>\n",
       "      <td>1.000</td>\n",
       "    </tr>\n",
       "  </tbody>\n",
       "</table>\n",
       "</div>"
      ],
      "text/plain": [
       "                                                                                                     Hypothesis  \\\n",
       "8                                                       Запустить акцию, дающую скидку на товар в день рождения   \n",
       "0            Добавить два новых канала привлечения трафика, что позволит привлекать на 30% больше пользователей   \n",
       "7              Добавить форму подписки на все основные страницы, чтобы собрать базу клиентов для email-рассылок   \n",
       "6          Показать на главной странице баннеры с актуальными акциями и распродажами, чтобы увеличить конверсию   \n",
       "2  Добавить блоки рекомендаций товаров на сайт интернет магазина, чтобы повысить конверсию и средний чек заказа   \n",
       "1                                     Запустить собственную службу доставки, что сократит срок доставки заказов   \n",
       "5                      Добавить страницу отзывов клиентов о магазине, что позволит увеличить количество заказов   \n",
       "3           Изменить структура категорий, что увеличит конверсию, т.к. пользователи быстрее найдут нужный товар   \n",
       "4                              Изменить цвет фона главной страницы, чтобы увеличить вовлеченность пользователей   \n",
       "\n",
       "   Reach  Impact  Confidence  Efforts     ICE  \n",
       "8      1       9           9        5  16.200  \n",
       "0      3      10           8        6  13.333  \n",
       "7     10       7           8        5  11.200  \n",
       "6      5       3           8        3   8.000  \n",
       "2      8       3           7        3   7.000  \n",
       "1      2       5           4       10   2.000  \n",
       "5      3       2           2        3   1.333  \n",
       "3      8       3           3        8   1.125  \n",
       "4      3       1           1        1   1.000  "
      ]
     },
     "execution_count": 21,
     "metadata": {},
     "output_type": "execute_result"
    }
   ],
   "source": [
    "# Отсортируем по убыванию получившийся показатель ICE\n",
    "\n",
    "pd.set_option('display.max_colwidth', None)\n",
    "ice_ranked = hypothesis.copy().sort_values('ICE', ascending=False)\n",
    "\n",
    "ice_ranked"
   ]
  },
  {
   "cell_type": "markdown",
   "metadata": {},
   "source": [
    "<div class=\"alert alert-block alert-success\">\n",
    "\n",
    "**Комментарий ревьювера (все отлично)**\n",
    "    \n",
    "Молодец, что изменяешь параметры отображения таблиц для вывода всей информации👍\n",
    "</div>"
   ]
  },
  {
   "cell_type": "markdown",
   "metadata": {},
   "source": [
    "По показателю ICE наверх выдвинулись следующие гипотезы:\n",
    "\n",
    "* Запустить акцию, дающую скидку на товар в день рождения\t\n",
    "* Добавить два новых канала привлечения трафика, что позволит привлекать на 30% больше пользователей\n",
    "* Добавить форму подписки на все основные страницы, чтобы собрать базу клиентов для email-рассылок\n",
    "* Показать на главной странице баннеры с актуальными акциями и распродажами, чтобы увеличить конверсию"
   ]
  },
  {
   "cell_type": "markdown",
   "metadata": {},
   "source": [
    "<a id=\"hypotesis_prioritets_rice\"></a> \n",
    "### Приоритизация гипотез с помощью фреймворка RICE"
   ]
  },
  {
   "cell_type": "markdown",
   "metadata": {},
   "source": [
    "RICE (R от англ. reach, «охват») - модификация фреймоворка ICE\n",
    "\n",
    "![](https://pictures.s3.yandex.net/resources/rice_score_1634305501.png)\n",
    "\n",
    "Reach — скольких пользователей затронет изменение, которое вы хотите внести"
   ]
  },
  {
   "cell_type": "code",
   "execution_count": 22,
   "metadata": {},
   "outputs": [],
   "source": [
    "# Добавим расчет показателя RICE\n",
    "\n",
    "hypothesis['RICE'] = (\n",
    "    (hypothesis['Reach'] * hypothesis['Impact'] * hypothesis['Confidence']) / hypothesis['Efforts']\n",
    ").round(3)"
   ]
  },
  {
   "cell_type": "code",
   "execution_count": 23,
   "metadata": {},
   "outputs": [
    {
     "data": {
      "text/html": [
       "<div>\n",
       "<style scoped>\n",
       "    .dataframe tbody tr th:only-of-type {\n",
       "        vertical-align: middle;\n",
       "    }\n",
       "\n",
       "    .dataframe tbody tr th {\n",
       "        vertical-align: top;\n",
       "    }\n",
       "\n",
       "    .dataframe thead th {\n",
       "        text-align: right;\n",
       "    }\n",
       "</style>\n",
       "<table border=\"1\" class=\"dataframe\">\n",
       "  <thead>\n",
       "    <tr style=\"text-align: right;\">\n",
       "      <th></th>\n",
       "      <th>Hypothesis</th>\n",
       "      <th>Reach</th>\n",
       "      <th>Impact</th>\n",
       "      <th>Confidence</th>\n",
       "      <th>Efforts</th>\n",
       "      <th>ICE</th>\n",
       "      <th>RICE</th>\n",
       "    </tr>\n",
       "  </thead>\n",
       "  <tbody>\n",
       "    <tr>\n",
       "      <th>7</th>\n",
       "      <td>Добавить форму подписки на все основные страницы, чтобы собрать базу клиентов для email-рассылок</td>\n",
       "      <td>10</td>\n",
       "      <td>7</td>\n",
       "      <td>8</td>\n",
       "      <td>5</td>\n",
       "      <td>11.200</td>\n",
       "      <td>112.0</td>\n",
       "    </tr>\n",
       "    <tr>\n",
       "      <th>2</th>\n",
       "      <td>Добавить блоки рекомендаций товаров на сайт интернет магазина, чтобы повысить конверсию и средний чек заказа</td>\n",
       "      <td>8</td>\n",
       "      <td>3</td>\n",
       "      <td>7</td>\n",
       "      <td>3</td>\n",
       "      <td>7.000</td>\n",
       "      <td>56.0</td>\n",
       "    </tr>\n",
       "    <tr>\n",
       "      <th>0</th>\n",
       "      <td>Добавить два новых канала привлечения трафика, что позволит привлекать на 30% больше пользователей</td>\n",
       "      <td>3</td>\n",
       "      <td>10</td>\n",
       "      <td>8</td>\n",
       "      <td>6</td>\n",
       "      <td>13.333</td>\n",
       "      <td>40.0</td>\n",
       "    </tr>\n",
       "    <tr>\n",
       "      <th>6</th>\n",
       "      <td>Показать на главной странице баннеры с актуальными акциями и распродажами, чтобы увеличить конверсию</td>\n",
       "      <td>5</td>\n",
       "      <td>3</td>\n",
       "      <td>8</td>\n",
       "      <td>3</td>\n",
       "      <td>8.000</td>\n",
       "      <td>40.0</td>\n",
       "    </tr>\n",
       "    <tr>\n",
       "      <th>8</th>\n",
       "      <td>Запустить акцию, дающую скидку на товар в день рождения</td>\n",
       "      <td>1</td>\n",
       "      <td>9</td>\n",
       "      <td>9</td>\n",
       "      <td>5</td>\n",
       "      <td>16.200</td>\n",
       "      <td>16.2</td>\n",
       "    </tr>\n",
       "    <tr>\n",
       "      <th>3</th>\n",
       "      <td>Изменить структура категорий, что увеличит конверсию, т.к. пользователи быстрее найдут нужный товар</td>\n",
       "      <td>8</td>\n",
       "      <td>3</td>\n",
       "      <td>3</td>\n",
       "      <td>8</td>\n",
       "      <td>1.125</td>\n",
       "      <td>9.0</td>\n",
       "    </tr>\n",
       "    <tr>\n",
       "      <th>1</th>\n",
       "      <td>Запустить собственную службу доставки, что сократит срок доставки заказов</td>\n",
       "      <td>2</td>\n",
       "      <td>5</td>\n",
       "      <td>4</td>\n",
       "      <td>10</td>\n",
       "      <td>2.000</td>\n",
       "      <td>4.0</td>\n",
       "    </tr>\n",
       "    <tr>\n",
       "      <th>5</th>\n",
       "      <td>Добавить страницу отзывов клиентов о магазине, что позволит увеличить количество заказов</td>\n",
       "      <td>3</td>\n",
       "      <td>2</td>\n",
       "      <td>2</td>\n",
       "      <td>3</td>\n",
       "      <td>1.333</td>\n",
       "      <td>4.0</td>\n",
       "    </tr>\n",
       "    <tr>\n",
       "      <th>4</th>\n",
       "      <td>Изменить цвет фона главной страницы, чтобы увеличить вовлеченность пользователей</td>\n",
       "      <td>3</td>\n",
       "      <td>1</td>\n",
       "      <td>1</td>\n",
       "      <td>1</td>\n",
       "      <td>1.000</td>\n",
       "      <td>3.0</td>\n",
       "    </tr>\n",
       "  </tbody>\n",
       "</table>\n",
       "</div>"
      ],
      "text/plain": [
       "                                                                                                     Hypothesis  \\\n",
       "7              Добавить форму подписки на все основные страницы, чтобы собрать базу клиентов для email-рассылок   \n",
       "2  Добавить блоки рекомендаций товаров на сайт интернет магазина, чтобы повысить конверсию и средний чек заказа   \n",
       "0            Добавить два новых канала привлечения трафика, что позволит привлекать на 30% больше пользователей   \n",
       "6          Показать на главной странице баннеры с актуальными акциями и распродажами, чтобы увеличить конверсию   \n",
       "8                                                       Запустить акцию, дающую скидку на товар в день рождения   \n",
       "3           Изменить структура категорий, что увеличит конверсию, т.к. пользователи быстрее найдут нужный товар   \n",
       "1                                     Запустить собственную службу доставки, что сократит срок доставки заказов   \n",
       "5                      Добавить страницу отзывов клиентов о магазине, что позволит увеличить количество заказов   \n",
       "4                              Изменить цвет фона главной страницы, чтобы увеличить вовлеченность пользователей   \n",
       "\n",
       "   Reach  Impact  Confidence  Efforts     ICE   RICE  \n",
       "7     10       7           8        5  11.200  112.0  \n",
       "2      8       3           7        3   7.000   56.0  \n",
       "0      3      10           8        6  13.333   40.0  \n",
       "6      5       3           8        3   8.000   40.0  \n",
       "8      1       9           9        5  16.200   16.2  \n",
       "3      8       3           3        8   1.125    9.0  \n",
       "1      2       5           4       10   2.000    4.0  \n",
       "5      3       2           2        3   1.333    4.0  \n",
       "4      3       1           1        1   1.000    3.0  "
      ]
     },
     "execution_count": 23,
     "metadata": {},
     "output_type": "execute_result"
    }
   ],
   "source": [
    "# Отсортируем по убыванию получившийся показатель RICE\n",
    "\n",
    "pd.set_option('display.max_colwidth', None)\n",
    "rice_ranked = hypothesis.copy().sort_values('RICE', ascending=False)\n",
    "\n",
    "rice_ranked"
   ]
  },
  {
   "cell_type": "markdown",
   "metadata": {},
   "source": [
    "<div class=\"alert alert-block alert-warning\">\n",
    "\n",
    "**Комментарий ревьювера (что можно улучшить)**\n",
    "    \n",
    "Рекомендую производить округление до 3 знаков после запятой.\n",
    "</div>"
   ]
  },
  {
   "cell_type": "markdown",
   "metadata": {},
   "source": [
    "<div class=\"alert alert-block alert-info\">\n",
    "<b>КОММЕНТАРИЙ ОТ УЧЕНИКА: </b>\n",
    "\n",
    "Добавил округление до 3-х знаков.\n",
    "</div>"
   ]
  },
  {
   "cell_type": "markdown",
   "metadata": {},
   "source": [
    "По показателю RICE наверх выдвинулись следующие гипотезы:\n",
    "\n",
    "* Добавить форму подписки на все основные страницы, чтобы собрать базу клиентов для email-рассылок\n",
    "* Добавить блоки рекомендаций товаров на сайт интернет магазина, чтобы повысить конверсию и средний чек заказа\n",
    "* Добавить два новых канала привлечения трафика, что позволит привлекать на 30% больше пользователей\n",
    "* Показать на главной странице баннеры с актуальными акциями и распродажами, чтобы увеличить конверсию"
   ]
  },
  {
   "cell_type": "markdown",
   "metadata": {},
   "source": [
    "<a id=\"hypotesis_prioritets_summary\"></a> \n",
    "### Выводы по приоритизации гипотез"
   ]
  },
  {
   "cell_type": "markdown",
   "metadata": {},
   "source": [
    "**Топ 4 гипотезы по приоритету ICE:**\n",
    "* Запустить акцию, дающую скидку на товар в день рождения\t\n",
    "* Добавить два новых канала привлечения трафика, что позволит привлекать на 30% больше пользователей\n",
    "* Добавить форму подписки на все основные страницы, чтобы собрать базу клиентов для email-рассылок\n",
    "* Показать на главной странице баннеры с актуальными акциями и распродажами, чтобы увеличить конверсию\n",
    "\n",
    "\n",
    "**Топ 4 гипотезы по приоритету RICE:**\n",
    "* Добавить форму подписки на все основные страницы, чтобы собрать базу клиентов для email-рассылок\n",
    "* Добавить блоки рекомендаций товаров на сайт интернет магазина, чтобы повысить конверсию и средний чек заказа\n",
    "* Добавить два новых канала привлечения трафика, что позволит привлекать на 30% больше пользователей\n",
    "* Показать на главной странице баннеры с актуальными акциями и распродажами, чтобы увеличить конверсию\n",
    "\n",
    "\n",
    "Как видно в двух списках пересекается следующие три гипотезы: \n",
    "* \"Добавить два новых канала привлечения трафика, что позволит привлекать на 30% больше пользователей\", \n",
    "* \"Добавить форму подписки на все основные страницы, чтобы собрать базу клиентов для email-рассылок\",\n",
    "* \"Показать на главной странице баннеры с актуальными акциями и распродажами, чтобы увеличить конверсию\"\n",
    "\n",
    "При этом гипотеза №1 по ICE исчезла из шорт-листа гипотез по RICE, а гипотеза №3 по ICE стала №1 по RICE. Перераспределение приоритетов гипотез связано с введением нового показателя Reach (оценка того, скольких пользователей затронет изменение) в фреймворке RICE. Поэтому при прочих равных, гипотезы с высокой оценкой Reach поднялись наверх.\n",
    "\n",
    "\n",
    "Так у лидера гипотез ICE \"Запустить акцию, дающую скидку на товар в день рождения\" оцкенка Reach составила 1 (что выглядит логично), и эта гипотеза полностью ушла из шорт-листа приоритетных гипотез по фреймворку RICE не смотря на\n",
    "высокие оценки показателей Impact и Confidence и среднем Effort."
   ]
  },
  {
   "cell_type": "markdown",
   "metadata": {},
   "source": [
    "<div class=\"alert alert-block alert-success\">\n",
    "\n",
    "**Комментарий ревьювера (все отлично)**\n",
    "    \n",
    "Все верно, охват меняет приоритезацию. Отличие фреймворков определено.\n",
    "</div>"
   ]
  },
  {
   "cell_type": "markdown",
   "metadata": {},
   "source": [
    "<a id=\"AB_test\"></a> \n",
    "## Анализ A/B теста"
   ]
  },
  {
   "cell_type": "markdown",
   "metadata": {},
   "source": [
    "<a id=\"ab_vizualization\"></a> \n",
    "### Визуализация данных результатов A/B теста"
   ]
  },
  {
   "cell_type": "code",
   "execution_count": 24,
   "metadata": {},
   "outputs": [
    {
     "data": {
      "text/html": [
       "<div>\n",
       "<style scoped>\n",
       "    .dataframe tbody tr th:only-of-type {\n",
       "        vertical-align: middle;\n",
       "    }\n",
       "\n",
       "    .dataframe tbody tr th {\n",
       "        vertical-align: top;\n",
       "    }\n",
       "\n",
       "    .dataframe thead th {\n",
       "        text-align: right;\n",
       "    }\n",
       "</style>\n",
       "<table border=\"1\" class=\"dataframe\">\n",
       "  <thead>\n",
       "    <tr style=\"text-align: right;\">\n",
       "      <th></th>\n",
       "      <th>date</th>\n",
       "      <th>group</th>\n",
       "    </tr>\n",
       "  </thead>\n",
       "  <tbody>\n",
       "    <tr>\n",
       "      <th>0</th>\n",
       "      <td>2019-08-15</td>\n",
       "      <td>B</td>\n",
       "    </tr>\n",
       "    <tr>\n",
       "      <th>7</th>\n",
       "      <td>2019-08-15</td>\n",
       "      <td>A</td>\n",
       "    </tr>\n",
       "    <tr>\n",
       "      <th>45</th>\n",
       "      <td>2019-08-16</td>\n",
       "      <td>A</td>\n",
       "    </tr>\n",
       "    <tr>\n",
       "      <th>47</th>\n",
       "      <td>2019-08-16</td>\n",
       "      <td>B</td>\n",
       "    </tr>\n",
       "    <tr>\n",
       "      <th>55</th>\n",
       "      <td>2019-08-01</td>\n",
       "      <td>A</td>\n",
       "    </tr>\n",
       "    <tr>\n",
       "      <th>...</th>\n",
       "      <td>...</td>\n",
       "      <td>...</td>\n",
       "    </tr>\n",
       "    <tr>\n",
       "      <th>1068</th>\n",
       "      <td>2019-08-12</td>\n",
       "      <td>A</td>\n",
       "    </tr>\n",
       "    <tr>\n",
       "      <th>1114</th>\n",
       "      <td>2019-08-13</td>\n",
       "      <td>B</td>\n",
       "    </tr>\n",
       "    <tr>\n",
       "      <th>1116</th>\n",
       "      <td>2019-08-13</td>\n",
       "      <td>A</td>\n",
       "    </tr>\n",
       "    <tr>\n",
       "      <th>1149</th>\n",
       "      <td>2019-08-14</td>\n",
       "      <td>B</td>\n",
       "    </tr>\n",
       "    <tr>\n",
       "      <th>1150</th>\n",
       "      <td>2019-08-14</td>\n",
       "      <td>A</td>\n",
       "    </tr>\n",
       "  </tbody>\n",
       "</table>\n",
       "<p>62 rows × 2 columns</p>\n",
       "</div>"
      ],
      "text/plain": [
       "           date group\n",
       "0    2019-08-15     B\n",
       "7    2019-08-15     A\n",
       "45   2019-08-16     A\n",
       "47   2019-08-16     B\n",
       "55   2019-08-01     A\n",
       "...         ...   ...\n",
       "1068 2019-08-12     A\n",
       "1114 2019-08-13     B\n",
       "1116 2019-08-13     A\n",
       "1149 2019-08-14     B\n",
       "1150 2019-08-14     A\n",
       "\n",
       "[62 rows x 2 columns]"
      ]
     },
     "execution_count": 24,
     "metadata": {},
     "output_type": "execute_result"
    }
   ],
   "source": [
    "# Создаем массив уникальных пар значений дат и групп теста\n",
    "datesGroups = orders[['date','group']].drop_duplicates() \n",
    "\n",
    "# Проверим\n",
    "datesGroups"
   ]
  },
  {
   "cell_type": "code",
   "execution_count": 25,
   "metadata": {},
   "outputs": [
    {
     "data": {
      "text/html": [
       "<div>\n",
       "<style scoped>\n",
       "    .dataframe tbody tr th:only-of-type {\n",
       "        vertical-align: middle;\n",
       "    }\n",
       "\n",
       "    .dataframe tbody tr th {\n",
       "        vertical-align: top;\n",
       "    }\n",
       "\n",
       "    .dataframe thead th {\n",
       "        text-align: right;\n",
       "    }\n",
       "</style>\n",
       "<table border=\"1\" class=\"dataframe\">\n",
       "  <thead>\n",
       "    <tr style=\"text-align: right;\">\n",
       "      <th></th>\n",
       "      <th>date</th>\n",
       "      <th>group</th>\n",
       "      <th>transactionId</th>\n",
       "      <th>visitorId</th>\n",
       "      <th>revenue</th>\n",
       "    </tr>\n",
       "  </thead>\n",
       "  <tbody>\n",
       "    <tr>\n",
       "      <th>55</th>\n",
       "      <td>2019-08-01</td>\n",
       "      <td>A</td>\n",
       "      <td>23</td>\n",
       "      <td>19</td>\n",
       "      <td>142779</td>\n",
       "    </tr>\n",
       "    <tr>\n",
       "      <th>66</th>\n",
       "      <td>2019-08-01</td>\n",
       "      <td>B</td>\n",
       "      <td>17</td>\n",
       "      <td>17</td>\n",
       "      <td>59758</td>\n",
       "    </tr>\n",
       "    <tr>\n",
       "      <th>175</th>\n",
       "      <td>2019-08-02</td>\n",
       "      <td>A</td>\n",
       "      <td>42</td>\n",
       "      <td>36</td>\n",
       "      <td>234381</td>\n",
       "    </tr>\n",
       "    <tr>\n",
       "      <th>173</th>\n",
       "      <td>2019-08-02</td>\n",
       "      <td>B</td>\n",
       "      <td>40</td>\n",
       "      <td>39</td>\n",
       "      <td>221801</td>\n",
       "    </tr>\n",
       "    <tr>\n",
       "      <th>291</th>\n",
       "      <td>2019-08-03</td>\n",
       "      <td>A</td>\n",
       "      <td>66</td>\n",
       "      <td>60</td>\n",
       "      <td>346854</td>\n",
       "    </tr>\n",
       "    <tr>\n",
       "      <th>...</th>\n",
       "      <td>...</td>\n",
       "      <td>...</td>\n",
       "      <td>...</td>\n",
       "      <td>...</td>\n",
       "      <td>...</td>\n",
       "    </tr>\n",
       "    <tr>\n",
       "      <th>533</th>\n",
       "      <td>2019-08-29</td>\n",
       "      <td>B</td>\n",
       "      <td>510</td>\n",
       "      <td>490</td>\n",
       "      <td>4746610</td>\n",
       "    </tr>\n",
       "    <tr>\n",
       "      <th>757</th>\n",
       "      <td>2019-08-30</td>\n",
       "      <td>A</td>\n",
       "      <td>460</td>\n",
       "      <td>437</td>\n",
       "      <td>3311413</td>\n",
       "    </tr>\n",
       "    <tr>\n",
       "      <th>690</th>\n",
       "      <td>2019-08-30</td>\n",
       "      <td>B</td>\n",
       "      <td>531</td>\n",
       "      <td>511</td>\n",
       "      <td>4955833</td>\n",
       "    </tr>\n",
       "    <tr>\n",
       "      <th>958</th>\n",
       "      <td>2019-08-31</td>\n",
       "      <td>A</td>\n",
       "      <td>468</td>\n",
       "      <td>445</td>\n",
       "      <td>3364656</td>\n",
       "    </tr>\n",
       "    <tr>\n",
       "      <th>930</th>\n",
       "      <td>2019-08-31</td>\n",
       "      <td>B</td>\n",
       "      <td>548</td>\n",
       "      <td>528</td>\n",
       "      <td>5068972</td>\n",
       "    </tr>\n",
       "  </tbody>\n",
       "</table>\n",
       "<p>62 rows × 5 columns</p>\n",
       "</div>"
      ],
      "text/plain": [
       "          date group  transactionId  visitorId  revenue\n",
       "55  2019-08-01     A             23         19   142779\n",
       "66  2019-08-01     B             17         17    59758\n",
       "175 2019-08-02     A             42         36   234381\n",
       "173 2019-08-02     B             40         39   221801\n",
       "291 2019-08-03     A             66         60   346854\n",
       "..         ...   ...            ...        ...      ...\n",
       "533 2019-08-29     B            510        490  4746610\n",
       "757 2019-08-30     A            460        437  3311413\n",
       "690 2019-08-30     B            531        511  4955833\n",
       "958 2019-08-31     A            468        445  3364656\n",
       "930 2019-08-31     B            548        528  5068972\n",
       "\n",
       "[62 rows x 5 columns]"
      ]
     },
     "execution_count": 25,
     "metadata": {},
     "output_type": "execute_result"
    }
   ],
   "source": [
    "# Получим кумулятивные агрегированные данные по заказам по дням\n",
    "\n",
    "ordersAggregated = (\n",
    "    datesGroups.apply(\n",
    "        lambda x: orders[np.logical_and(orders['date'] <= x['date'], orders['group'] == x['group'])]\n",
    "        .agg({'date' : 'max',\n",
    "              'group' : 'max',\n",
    "              'transactionId' : 'nunique',\n",
    "              'visitorId' : 'nunique',\n",
    "              'revenue' : 'sum'}),\n",
    "        axis=1)\n",
    "    .sort_values(by=['date','group'])\n",
    ")\n",
    "\n",
    "# Проверим\n",
    "ordersAggregated"
   ]
  },
  {
   "cell_type": "code",
   "execution_count": 26,
   "metadata": {},
   "outputs": [
    {
     "data": {
      "text/html": [
       "<div>\n",
       "<style scoped>\n",
       "    .dataframe tbody tr th:only-of-type {\n",
       "        vertical-align: middle;\n",
       "    }\n",
       "\n",
       "    .dataframe tbody tr th {\n",
       "        vertical-align: top;\n",
       "    }\n",
       "\n",
       "    .dataframe thead th {\n",
       "        text-align: right;\n",
       "    }\n",
       "</style>\n",
       "<table border=\"1\" class=\"dataframe\">\n",
       "  <thead>\n",
       "    <tr style=\"text-align: right;\">\n",
       "      <th></th>\n",
       "      <th>date</th>\n",
       "      <th>group</th>\n",
       "      <th>visitors</th>\n",
       "    </tr>\n",
       "  </thead>\n",
       "  <tbody>\n",
       "    <tr>\n",
       "      <th>55</th>\n",
       "      <td>2019-08-01</td>\n",
       "      <td>A</td>\n",
       "      <td>719</td>\n",
       "    </tr>\n",
       "    <tr>\n",
       "      <th>66</th>\n",
       "      <td>2019-08-01</td>\n",
       "      <td>B</td>\n",
       "      <td>713</td>\n",
       "    </tr>\n",
       "    <tr>\n",
       "      <th>175</th>\n",
       "      <td>2019-08-02</td>\n",
       "      <td>A</td>\n",
       "      <td>1338</td>\n",
       "    </tr>\n",
       "    <tr>\n",
       "      <th>173</th>\n",
       "      <td>2019-08-02</td>\n",
       "      <td>B</td>\n",
       "      <td>1294</td>\n",
       "    </tr>\n",
       "    <tr>\n",
       "      <th>291</th>\n",
       "      <td>2019-08-03</td>\n",
       "      <td>A</td>\n",
       "      <td>1845</td>\n",
       "    </tr>\n",
       "    <tr>\n",
       "      <th>...</th>\n",
       "      <td>...</td>\n",
       "      <td>...</td>\n",
       "      <td>...</td>\n",
       "    </tr>\n",
       "    <tr>\n",
       "      <th>533</th>\n",
       "      <td>2019-08-29</td>\n",
       "      <td>B</td>\n",
       "      <td>17708</td>\n",
       "    </tr>\n",
       "    <tr>\n",
       "      <th>757</th>\n",
       "      <td>2019-08-30</td>\n",
       "      <td>A</td>\n",
       "      <td>18037</td>\n",
       "    </tr>\n",
       "    <tr>\n",
       "      <th>690</th>\n",
       "      <td>2019-08-30</td>\n",
       "      <td>B</td>\n",
       "      <td>18198</td>\n",
       "    </tr>\n",
       "    <tr>\n",
       "      <th>958</th>\n",
       "      <td>2019-08-31</td>\n",
       "      <td>A</td>\n",
       "      <td>18736</td>\n",
       "    </tr>\n",
       "    <tr>\n",
       "      <th>930</th>\n",
       "      <td>2019-08-31</td>\n",
       "      <td>B</td>\n",
       "      <td>18916</td>\n",
       "    </tr>\n",
       "  </tbody>\n",
       "</table>\n",
       "<p>62 rows × 3 columns</p>\n",
       "</div>"
      ],
      "text/plain": [
       "          date group  visitors\n",
       "55  2019-08-01     A       719\n",
       "66  2019-08-01     B       713\n",
       "175 2019-08-02     A      1338\n",
       "173 2019-08-02     B      1294\n",
       "291 2019-08-03     A      1845\n",
       "..         ...   ...       ...\n",
       "533 2019-08-29     B     17708\n",
       "757 2019-08-30     A     18037\n",
       "690 2019-08-30     B     18198\n",
       "958 2019-08-31     A     18736\n",
       "930 2019-08-31     B     18916\n",
       "\n",
       "[62 rows x 3 columns]"
      ]
     },
     "execution_count": 26,
     "metadata": {},
     "output_type": "execute_result"
    }
   ],
   "source": [
    "# Получим кумулятивные агрегированные данные по посетителям по дням\n",
    "\n",
    "visitorsAggregated = (\n",
    "    datesGroups.apply(\n",
    "        lambda x: visitors[np.logical_and(visitors['date'] <= x['date'], visitors['group'] == x['group'])]\n",
    "        .agg({'date' : 'max',\n",
    "              'group' : 'max',\n",
    "              'visitors' : 'sum'}),\n",
    "        axis=1)\n",
    "    .sort_values(by=['date','group'])\n",
    ")\n",
    "\n",
    "# Проверим\n",
    "visitorsAggregated"
   ]
  },
  {
   "cell_type": "code",
   "execution_count": 27,
   "metadata": {},
   "outputs": [
    {
     "data": {
      "text/html": [
       "<div>\n",
       "<style scoped>\n",
       "    .dataframe tbody tr th:only-of-type {\n",
       "        vertical-align: middle;\n",
       "    }\n",
       "\n",
       "    .dataframe tbody tr th {\n",
       "        vertical-align: top;\n",
       "    }\n",
       "\n",
       "    .dataframe thead th {\n",
       "        text-align: right;\n",
       "    }\n",
       "</style>\n",
       "<table border=\"1\" class=\"dataframe\">\n",
       "  <thead>\n",
       "    <tr style=\"text-align: right;\">\n",
       "      <th></th>\n",
       "      <th>date</th>\n",
       "      <th>group</th>\n",
       "      <th>orders</th>\n",
       "      <th>buyers</th>\n",
       "      <th>revenue</th>\n",
       "      <th>visitors</th>\n",
       "    </tr>\n",
       "  </thead>\n",
       "  <tbody>\n",
       "    <tr>\n",
       "      <th>0</th>\n",
       "      <td>2019-08-01</td>\n",
       "      <td>A</td>\n",
       "      <td>23</td>\n",
       "      <td>19</td>\n",
       "      <td>142779</td>\n",
       "      <td>719</td>\n",
       "    </tr>\n",
       "    <tr>\n",
       "      <th>1</th>\n",
       "      <td>2019-08-01</td>\n",
       "      <td>B</td>\n",
       "      <td>17</td>\n",
       "      <td>17</td>\n",
       "      <td>59758</td>\n",
       "      <td>713</td>\n",
       "    </tr>\n",
       "    <tr>\n",
       "      <th>2</th>\n",
       "      <td>2019-08-02</td>\n",
       "      <td>A</td>\n",
       "      <td>42</td>\n",
       "      <td>36</td>\n",
       "      <td>234381</td>\n",
       "      <td>1338</td>\n",
       "    </tr>\n",
       "    <tr>\n",
       "      <th>3</th>\n",
       "      <td>2019-08-02</td>\n",
       "      <td>B</td>\n",
       "      <td>40</td>\n",
       "      <td>39</td>\n",
       "      <td>221801</td>\n",
       "      <td>1294</td>\n",
       "    </tr>\n",
       "    <tr>\n",
       "      <th>4</th>\n",
       "      <td>2019-08-03</td>\n",
       "      <td>A</td>\n",
       "      <td>66</td>\n",
       "      <td>60</td>\n",
       "      <td>346854</td>\n",
       "      <td>1845</td>\n",
       "    </tr>\n",
       "  </tbody>\n",
       "</table>\n",
       "</div>"
      ],
      "text/plain": [
       "        date group  orders  buyers  revenue  visitors\n",
       "0 2019-08-01     A      23      19   142779       719\n",
       "1 2019-08-01     B      17      17    59758       713\n",
       "2 2019-08-02     A      42      36   234381      1338\n",
       "3 2019-08-02     B      40      39   221801      1294\n",
       "4 2019-08-03     A      66      60   346854      1845"
      ]
     },
     "execution_count": 27,
     "metadata": {},
     "output_type": "execute_result"
    }
   ],
   "source": [
    "# Объединяем кумулятивные данные в одной таблице и присваиваем ее столбцам понятные названия\n",
    "cumulativeData = ordersAggregated.merge(visitorsAggregated, left_on=['date', 'group'], right_on=['date', 'group'])\n",
    "cumulativeData.columns = ['date', 'group', 'orders', 'buyers', 'revenue', 'visitors']\n",
    "\n",
    "cumulativeData.head(5)"
   ]
  },
  {
   "cell_type": "markdown",
   "metadata": {},
   "source": [
    "<div class=\"alert alert-block alert-success\">\n",
    "\n",
    "**Комментарий ревьювера (все отлично)**\n",
    "    \n",
    "Кумулятивные данные сформированы👍\n",
    "</div>"
   ]
  },
  {
   "cell_type": "markdown",
   "metadata": {},
   "source": [
    "Данные для построения кумулятивных графиков готовы."
   ]
  },
  {
   "cell_type": "code",
   "execution_count": 28,
   "metadata": {},
   "outputs": [],
   "source": [
    "# Для оптимизации использования повторяющегося кода подготовим функцию для отрисовки графиков\n",
    "\n",
    "def plot_it(data, parameter, title='', x_label='', y_label='день', figsize=(15,6), level2=0.10):\n",
    "    \n",
    "    if parameter not in ['orders_by_user','revenue_by_user']:\n",
    "        data['conversion'] = data['orders']/data['visitors']\n",
    "        data_groupA = data[data['group']=='A'][['date', 'revenue', 'orders', 'conversion']]\n",
    "        data_groupB = data[data['group']=='B'][['date', 'revenue', 'orders', 'conversion']]\n",
    "    \n",
    "    # Устанавливаем размер графика\n",
    "    plt.figure(figsize=figsize)\n",
    "    \n",
    "    if parameter == 'revenue':\n",
    "        # Строим график для группы А\n",
    "        plt.plot(data_groupA['date'], data_groupA['revenue'], label='A')\n",
    "        # Строим график для группы B\n",
    "        plt.plot(data_groupB['date'], data_groupB['revenue'], label='B')\n",
    "        plt.legend()\n",
    "\n",
    "    elif parameter == 'avg_check':\n",
    "        # Строим график для группы А\n",
    "        plt.plot(data_groupA['date'], data_groupA['revenue']/data_groupA['orders'], label='A')\n",
    "        # Строим график для группы B\n",
    "        plt.plot(data_groupB['date'], data_groupB['revenue']/data_groupB['orders'], label='B')\n",
    "        plt.legend()\n",
    "    \n",
    "    elif parameter == 'avg_orders':\n",
    "        # Строим график для группы А\n",
    "        plt.plot(data_groupA['date'], data_groupA['conversion'], label='A')\n",
    "        # Строим график для группы B\n",
    "        plt.plot(data_groupB['date'], data_groupB['conversion'], label='B')\n",
    "        plt.legend()\n",
    "        #plt.axis([\"2019-04-01\", '2019-04-23', 0, 0.015]) \n",
    "        \n",
    "    elif parameter == 'rel_change_check_b_to_a':\n",
    "        # собираем данные в одном датафрейме\n",
    "        mergedCumulative = data_groupA.merge(data_groupB, left_on='date', right_on='date', how='left', suffixes=['A', 'B'])\n",
    "        # cтроим отношение средних чеков\n",
    "        plt.plot(mergedCumulative['date'], (mergedCumulative['revenueB']/mergedCumulative['ordersB'])/(mergedCumulative['revenueA']/mergedCumulative['ordersA'])-1)\n",
    "        # добавляем ось X\n",
    "        plt.axhline(y=0, color='black', linestyle='--')\n",
    "        \n",
    "    elif parameter == 'rel_change_conversion_b_to_a':\n",
    "        mergedCumulative = data_groupA[['date','conversion']].merge(data_groupB[['date','conversion']], left_on='date', right_on='date', how='left', suffixes=['A', 'B'])\n",
    "\n",
    "        plt.plot(mergedCumulative['date'], mergedCumulative['conversionB']/mergedCumulative['conversionA']-1, label=\"Относительный прирост кумулятивного среднего количества заказов на посетителя группы B относительно группы A\")\n",
    "        plt.legend()\n",
    "        plt.axhline(y=0, color='black', linestyle='--')\n",
    "        plt.axhline(y=level2, color='grey', linestyle='--')\n",
    "        #plt.axis([\"2019-04-01\", '2019-04-23', -0.6, 0.6])\n",
    "    \n",
    "    elif parameter == 'orders_by_user':\n",
    "        x_values = pd.Series(range(0,len(data)))\n",
    "        plt.scatter(x_values, data['orders'])\n",
    "        \n",
    "    elif parameter == 'revenue_by_user':\n",
    "        x_values = pd.Series(range(0,len(data)))\n",
    "        plt.scatter(x_values, data['revenue'])\n",
    "\n",
    "        \n",
    "    # Добавляем подписи и заголовок\n",
    "    plt.xlabel(x_label, fontsize=12)\n",
    "    plt.ylabel(y_label, fontsize=12)\n",
    "    plt.title(title, fontsize=14)\n",
    "        \n",
    "    # Отображаем график\n",
    "    plt.tight_layout()\n",
    "    plt.show()"
   ]
  },
  {
   "cell_type": "markdown",
   "metadata": {},
   "source": [
    "<a id=\"plot_cum_income_by_group\"></a> \n",
    "#### График кумулятивной выручки по группам"
   ]
  },
  {
   "cell_type": "code",
   "execution_count": 29,
   "metadata": {},
   "outputs": [
    {
     "data": {
      "image/png": "[encoded data removed]",
      "text/plain": [
       "<Figure size 1080x432 with 1 Axes>"
      ]
     },
     "metadata": {
      "needs_background": "light"
     },
     "output_type": "display_data"
    }
   ],
   "source": [
    "# Построим график накопительной выручки на каждый день по групам\n",
    "plot_it(cumulativeData,\n",
    "        parameter='revenue',\n",
    "        title='График кумулятивной выручки по группам',\n",
    "        x_label='Дата',\n",
    "        y_label='Выручка, руб.',\n",
    "       )"
   ]
  },
  {
   "cell_type": "markdown",
   "metadata": {},
   "source": [
    "<div class=\"alert alert-block alert-success\">\n",
    "\n",
    "**Комментарий ревьювера (все отлично)**\n",
    "    \n",
    "Визуализация на хорошем уровне. Здорово, что уделяешь внимание оформлению графиков.\n",
    "    \n",
    "Предлагаю изучить интересные методы по визуализации. Прикрепляю несколько интересных ссылок:\n",
    "    \n",
    "https://coderlessons.com/tutorials/python-technologies/izuchai-siborna/siborn-kratkoe-rukovodstvo\n",
    "\n",
    "https://tproger.ru/translations/python-data-vizualization/\n",
    "</div>"
   ]
  },
  {
   "cell_type": "markdown",
   "metadata": {},
   "source": [
    "**Выводы**"
   ]
  },
  {
   "cell_type": "markdown",
   "metadata": {},
   "source": [
    "Выручка равномерно увеличивается в течение почти всего теста.\n",
    "\n",
    "На графике накопительной выручки группы B в точке между 17 и 21 августа наблюдается резкий прирост. Это может свидетельствовать о всплесках числа заказов, либо о появлении очень дорогих заказов в выборке. Выбросы будут проанализированы ниже."
   ]
  },
  {
   "cell_type": "markdown",
   "metadata": {},
   "source": [
    "<div class=\"alert alert-block alert-success\">\n",
    "\n",
    "**Комментарий ревьювера (все отлично)**\n",
    "    \n",
    "Все верно!\n",
    "</div>"
   ]
  },
  {
   "cell_type": "markdown",
   "metadata": {},
   "source": [
    "<a id=\"plot_cum_avg_check_by_group\"></a> \n",
    "#### График кумулятивного среднего чека по группам"
   ]
  },
  {
   "cell_type": "code",
   "execution_count": 30,
   "metadata": {},
   "outputs": [
    {
     "data": {
      "image/png": "[encoded data removed]",
      "text/plain": [
       "<Figure size 1080x432 with 1 Axes>"
      ]
     },
     "metadata": {
      "needs_background": "light"
     },
     "output_type": "display_data"
    }
   ],
   "source": [
    "# Построим график накопительного среднего чека на каждый день по групам\n",
    "plot_it(cumulativeData,\n",
    "        parameter='avg_check',\n",
    "        title='График кумулятивного среднего чека по группам',\n",
    "        x_label='Дата',\n",
    "        y_label='Средний чек, руб.',\n",
    "       )"
   ]
  },
  {
   "cell_type": "markdown",
   "metadata": {},
   "source": [
    "**Выводы**"
   ]
  },
  {
   "cell_type": "markdown",
   "metadata": {},
   "source": [
    "* В период с 1 по 13 августа наблюдается высокая волатильность величины среднего чека по обеим группам.\n",
    "* По группе А средний чек начиная с 13 августа начал стабилизироваться у отметки чуть менее 7000, однако начиная с 25 августа наблюдается небольшой прирост и к 29 августа средний чек снова стабилизировался.\n",
    "\n",
    "* Средний чек по группе Б колеблясь рос до 17 августа, далее примерно 18 августа произошел резкий скачок среднего чека до 10000, что также подтверждает предположение о появлении аномальных заказов. После этого плавное снижение, в районе 29 августа средний чек вышел на \"полку\".\n",
    "\n",
    "\n",
    "По данному графику создается впечатление о недостаточности данных для оценки стабильности среднего чека, так как по обеим группам стабилизация наблюдается только в последние дни теста."
   ]
  },
  {
   "cell_type": "markdown",
   "metadata": {},
   "source": [
    "<div class=\"alert alert-block alert-success\">\n",
    "\n",
    "**Комментарий ревьювера (все отлично)**\n",
    "    \n",
    "Согласен, резкий рост может свидетельствовать о выбросах.\n",
    "</div>"
   ]
  },
  {
   "cell_type": "markdown",
   "metadata": {},
   "source": [
    "<a id=\"plot_change_cum_avg_check_b_to_a\"></a> \n",
    "#### График относительного изменения кумулятивного среднего чека группы B к группе A"
   ]
  },
  {
   "cell_type": "code",
   "execution_count": 31,
   "metadata": {},
   "outputs": [
    {
     "data": {
      "image/png": "[encoded data removed]",
      "text/plain": [
       "<Figure size 1080x432 with 1 Axes>"
      ]
     },
     "metadata": {
      "needs_background": "light"
     },
     "output_type": "display_data"
    }
   ],
   "source": [
    "# Построим график относительного изменения кумулятивного среднего чека группы B к группе A\n",
    "plot_it(cumulativeData,\n",
    "        parameter='rel_change_check_b_to_a',\n",
    "        title='График относительного изменения кумулятивного среднего чека группы B к группе A',\n",
    "        x_label='Дата',\n",
    "        y_label='Отн. изменение, ед.',\n",
    "       )"
   ]
  },
  {
   "cell_type": "markdown",
   "metadata": {},
   "source": [
    "**Выводы**"
   ]
  },
  {
   "cell_type": "markdown",
   "metadata": {},
   "source": [
    "В начале теста изменение быстро растет достигая ~+35%. На предыдущем графике за этот же период также видно, что средний чек по группе B превзошел группу А. Это может быть связано как с появлением крупных чеков в указанный период либо со случайными колебаниями в начале теста, проверка очищенных данных может прояснить причины данного явления.\n",
    "\n",
    "Далее начиная с 9 августа относительное изменение начинает также быстро уменьшаться доходя в минимуме до ~-11% (13 августа). \n",
    "\n",
    "После падения показатель вернулся росту, а в районе 18 августа наблюдаем всплеск, после которого изменение среднего чека по группе Б относительно группы А достигло около +50%. \n",
    "\n",
    "Начиная с этой точки наблюдаем плавное снижение изменения среднего чека вплоть до 29 августа, начиная с 29 августа есть признаки стабилизации показателя, но учитывая что данные приходятся на самый конец рассматриваемого прерода, сложно сделать выводы об устойчивости данной тенденции.\n",
    "\n",
    "Данный график также подтверждает наличие аномальных событий во время проведения теста."
   ]
  },
  {
   "cell_type": "markdown",
   "metadata": {},
   "source": [
    "<div class=\"alert alert-block alert-warning\">\n",
    "\n",
    "**Комментарий ревьювера (что можно улучшить)**\n",
    "    \n",
    "Второй пик 19 августа можно объяснить ранее обнаруженными аномалиями. Но чем можно объяснить первый пик с учётом того, что в эти даты аномалий по среднему чеку и по выручке не было?\n",
    "</div>"
   ]
  },
  {
   "cell_type": "markdown",
   "metadata": {},
   "source": [
    "<div class=\"alert alert-block alert-info\">\n",
    "<b>КОММЕНТАРИЙ ОТ УЧЕНИКА: </b>\n",
    "\n",
    "Немного дополнил вывод выше. Первый пик может быть связан:\n",
    "* либо с появлением крупных чеков в период с 1 по 8 августа (на графике динамики среднего чека по группам также видно, что в данный период группа B превзошла группу А, затем снова сошлись до появления второго пика)\n",
    "* либо случайные колебания в начале теста и недостаток данных для кумулитивного усреднения\n",
    "</div>"
   ]
  },
  {
   "cell_type": "markdown",
   "metadata": {},
   "source": [
    "<div class=\"alert alert-block alert-success\">\n",
    "\n",
    "**Комментарий ревьювера v2 (все отлично)**\n",
    "    \n",
    "Согласен с объяснениями👍\n",
    "</div>"
   ]
  },
  {
   "cell_type": "markdown",
   "metadata": {},
   "source": [
    "<a id=\"plot_cum_avg_orders_num_to_visitor_by_groups\"></a> \n",
    "#### График кумулятивного среднего количества заказов на посетителя по группам"
   ]
  },
  {
   "cell_type": "code",
   "execution_count": 32,
   "metadata": {},
   "outputs": [
    {
     "data": {
      "image/png": "[encoded data removed]",
      "text/plain": [
       "<Figure size 1080x432 with 1 Axes>"
      ]
     },
     "metadata": {
      "needs_background": "light"
     },
     "output_type": "display_data"
    }
   ],
   "source": [
    "# Построим график относительного изменения кумулятивного среднего чека группы B к группе A\n",
    "plot_it(cumulativeData,\n",
    "        parameter='avg_orders',\n",
    "        title='График кумулятивного среднего количества заказов на посетителя по группам',\n",
    "        x_label='Дата',\n",
    "        y_label='Заказов на посетителя',\n",
    "       )"
   ]
  },
  {
   "cell_type": "markdown",
   "metadata": {},
   "source": [
    "**Выводы**"
   ]
  },
  {
   "cell_type": "markdown",
   "metadata": {},
   "source": [
    "Тест начался с того, что среднее кумулитивное количество заказов по группе А было выше чем по группе Б, но после 5 августа картина поменялась, график приобрел симметричный вид, среднее количество заказов по группе Б превысило группу А и стабилизировалось около отметки 0.034, а количество заказов по группе А ушло вниз и стабилизировалось около отметки 0.30. "
   ]
  },
  {
   "cell_type": "markdown",
   "metadata": {},
   "source": [
    "<div class=\"alert alert-block alert-success\">\n",
    "\n",
    "**Комментарий ревьювера (все отлично)**\n",
    "    \n",
    "Согласен, к середине теста графики стабилизировались около определенных значений.\n",
    "</div>"
   ]
  },
  {
   "cell_type": "markdown",
   "metadata": {},
   "source": [
    "<a id=\"plot_change_cum_avg_orders_num_b_to_a\"></a> \n",
    "#### График относительного изменения кумулятивного среднего количества заказов на посетителя группы B к группе A"
   ]
  },
  {
   "cell_type": "code",
   "execution_count": 33,
   "metadata": {},
   "outputs": [
    {
     "data": {
      "image/png": "[encoded data removed]",
      "text/plain": [
       "<Figure size 1080x432 with 1 Axes>"
      ]
     },
     "metadata": {
      "needs_background": "light"
     },
     "output_type": "display_data"
    }
   ],
   "source": [
    "# Построим график относительного изменения кумулятивного среднего чека группы B к группе A\n",
    "plot_it(cumulativeData,\n",
    "        parameter='rel_change_conversion_b_to_a',\n",
    "        title='График относительного изменения кумулятивного среднего количества заказов на посетителя группы B к группе A',\n",
    "        x_label='Дата',\n",
    "        y_label='Отн. изменение, ед.',\n",
    "        level2=0.12\n",
    "       )"
   ]
  },
  {
   "cell_type": "markdown",
   "metadata": {},
   "source": [
    "**Выводы**"
   ]
  },
  {
   "cell_type": "markdown",
   "metadata": {},
   "source": [
    "На данном графике также видно, что до 5 августа среднее количество заказов по группе Б колебалось и уходило ниже относительно группы А.\n",
    "\n",
    "С 5 по 9 августа произошел быстрый прирост группы Б относительно группы А (с 0 до ~17%), затем был еще небольщой промежуток роста, после чего изменение стабилизировалось около отметки +12%."
   ]
  },
  {
   "cell_type": "markdown",
   "metadata": {},
   "source": [
    "<div class=\"alert alert-block alert-success\">\n",
    "\n",
    "**Комментарий ревьювера (все отлично)**\n",
    "     \n",
    "Группа В лучше группы А большую часть теста. Правильно, что сразу комментируешь графики.\n",
    "</div>"
   ]
  },
  {
   "cell_type": "markdown",
   "metadata": {},
   "source": [
    "<a id=\"scatter_orders_num_by_users\"></a> \n",
    "#### Точечный график количества заказов по пользователям"
   ]
  },
  {
   "cell_type": "code",
   "execution_count": 34,
   "metadata": {},
   "outputs": [
    {
     "data": {
      "text/html": [
       "<div>\n",
       "<style scoped>\n",
       "    .dataframe tbody tr th:only-of-type {\n",
       "        vertical-align: middle;\n",
       "    }\n",
       "\n",
       "    .dataframe tbody tr th {\n",
       "        vertical-align: top;\n",
       "    }\n",
       "\n",
       "    .dataframe thead th {\n",
       "        text-align: right;\n",
       "    }\n",
       "</style>\n",
       "<table border=\"1\" class=\"dataframe\">\n",
       "  <thead>\n",
       "    <tr style=\"text-align: right;\">\n",
       "      <th></th>\n",
       "      <th>visitorId</th>\n",
       "      <th>orders</th>\n",
       "    </tr>\n",
       "  </thead>\n",
       "  <tbody>\n",
       "    <tr>\n",
       "      <th>908</th>\n",
       "      <td>3967698036</td>\n",
       "      <td>3</td>\n",
       "    </tr>\n",
       "    <tr>\n",
       "      <th>55</th>\n",
       "      <td>249864742</td>\n",
       "      <td>3</td>\n",
       "    </tr>\n",
       "    <tr>\n",
       "      <th>478</th>\n",
       "      <td>2108163459</td>\n",
       "      <td>3</td>\n",
       "    </tr>\n",
       "    <tr>\n",
       "      <th>687</th>\n",
       "      <td>2988190573</td>\n",
       "      <td>3</td>\n",
       "    </tr>\n",
       "    <tr>\n",
       "      <th>890</th>\n",
       "      <td>3908431265</td>\n",
       "      <td>3</td>\n",
       "    </tr>\n",
       "    <tr>\n",
       "      <th>138</th>\n",
       "      <td>611059232</td>\n",
       "      <td>3</td>\n",
       "    </tr>\n",
       "    <tr>\n",
       "      <th>632</th>\n",
       "      <td>2742574263</td>\n",
       "      <td>3</td>\n",
       "    </tr>\n",
       "    <tr>\n",
       "      <th>157</th>\n",
       "      <td>678354126</td>\n",
       "      <td>2</td>\n",
       "    </tr>\n",
       "    <tr>\n",
       "      <th>323</th>\n",
       "      <td>1404560065</td>\n",
       "      <td>2</td>\n",
       "    </tr>\n",
       "    <tr>\n",
       "      <th>452</th>\n",
       "      <td>1985475298</td>\n",
       "      <td>2</td>\n",
       "    </tr>\n",
       "  </tbody>\n",
       "</table>\n",
       "</div>"
      ],
      "text/plain": [
       "      visitorId  orders\n",
       "908  3967698036       3\n",
       "55    249864742       3\n",
       "478  2108163459       3\n",
       "687  2988190573       3\n",
       "890  3908431265       3\n",
       "138   611059232       3\n",
       "632  2742574263       3\n",
       "157   678354126       2\n",
       "323  1404560065       2\n",
       "452  1985475298       2"
      ]
     },
     "execution_count": 34,
     "metadata": {},
     "output_type": "execute_result"
    }
   ],
   "source": [
    "# Подготовим данные для подсчета количества заказаов по пользователям\n",
    "ordersByUsers = (\n",
    "    orders.groupby('visitorId', as_index=False)\n",
    "    .agg({'transactionId': 'nunique'})\n",
    ")\n",
    "\n",
    "ordersByUsers.columns = ['visitorId', 'orders']\n",
    "\n",
    "ordersByUsers.sort_values(by='orders', ascending=False).head(10) "
   ]
  },
  {
   "cell_type": "code",
   "execution_count": 35,
   "metadata": {},
   "outputs": [
    {
     "data": {
      "image/png": "[encoded data removed]",
      "text/plain": [
       "<Figure size 720x432 with 1 Axes>"
      ]
     },
     "metadata": {
      "needs_background": "light"
     },
     "output_type": "display_data"
    }
   ],
   "source": [
    "# Построим точечный график количества заказов по пользователям\n",
    "\n",
    "plot_it(ordersByUsers,\n",
    "        parameter='orders_by_user',\n",
    "        title='Точечный график количества заказов по пользователям',\n",
    "        x_label='Пользователь',\n",
    "        y_label='Кол-во заказов',\n",
    "        figsize=(10,6)\n",
    "       )"
   ]
  },
  {
   "cell_type": "markdown",
   "metadata": {},
   "source": [
    "Выводы подтверждаются: много пользователей с 2-4 заказами. Их точная доля не ясна — непонятно, считать их аномалиями или нет. "
   ]
  },
  {
   "cell_type": "code",
   "execution_count": 36,
   "metadata": {},
   "outputs": [
    {
     "data": {
      "text/plain": [
       "array([1., 2.])"
      ]
     },
     "execution_count": 36,
     "metadata": {},
     "output_type": "execute_result"
    }
   ],
   "source": [
    "# Расчет 95-го и 99-го перцентиля количества заказов на пользователя\n",
    "\n",
    "np.percentile(ordersByUsers['orders'], [95, 99])"
   ]
  },
  {
   "cell_type": "markdown",
   "metadata": {},
   "source": [
    "* не более 5% пользователей оформляли больше 1 заказа.\n",
    "* не более 1% пользователей оформляли больше 2 заказов."
   ]
  },
  {
   "cell_type": "markdown",
   "metadata": {},
   "source": [
    "**Выводы**"
   ]
  },
  {
   "cell_type": "markdown",
   "metadata": {},
   "source": [
    "Для фильтрации аномального количества заказов возьмем за верхнюю границу 1."
   ]
  },
  {
   "cell_type": "markdown",
   "metadata": {},
   "source": [
    "<div class=\"alert alert-block alert-success\">\n",
    "\n",
    "**Комментарий ревьювера (все отлично)**\n",
    "     \n",
    "Отлично, перцентили количества заказов на пользователя рассчитаны верно. Согласен с выбранной границей.\n",
    "</div>"
   ]
  },
  {
   "cell_type": "markdown",
   "metadata": {},
   "source": [
    "<a id=\"scatter_revenue_by_users\"></a> \n",
    "#### Точечный график стоимостей заказов"
   ]
  },
  {
   "cell_type": "code",
   "execution_count": 37,
   "metadata": {},
   "outputs": [
    {
     "data": {
      "image/png": "[encoded data removed]",
      "text/plain": [
       "<Figure size 720x432 with 1 Axes>"
      ]
     },
     "metadata": {
      "needs_background": "light"
     },
     "output_type": "display_data"
    }
   ],
   "source": [
    "# Построим точечный график по единичным чекам\n",
    "\n",
    "plot_it(orders,\n",
    "        parameter='revenue_by_user',\n",
    "        title='Точечный график выручки по пользователям',\n",
    "        x_label='Пользователь',\n",
    "        y_label='Выручка',\n",
    "        figsize=(10,6)\n",
    "       )"
   ]
  },
  {
   "cell_type": "markdown",
   "metadata": {},
   "source": [
    "На полученном графике явно видны только 2 выброса - около 200 тыс и >1.2 млн. Посчитаем 95 и 99 перцентили для стоимости заказа по пользователям."
   ]
  },
  {
   "cell_type": "code",
   "execution_count": 38,
   "metadata": {},
   "outputs": [
    {
     "data": {
      "image/png": "[encoded data removed]",
      "text/plain": [
       "<Figure size 1080x432 with 1 Axes>"
      ]
     },
     "metadata": {
      "needs_background": "light"
     },
     "output_type": "display_data"
    }
   ],
   "source": [
    "# Построим дополнительный график для оценки разброса значений чеков\n",
    "x_values = pd.Series(range(0,len(orders)))\n",
    "\n",
    "plt.figure(figsize=(15,6))\n",
    "plt.ylim([0, 100000])\n",
    "plt.scatter(x_values, orders['revenue']);"
   ]
  },
  {
   "cell_type": "markdown",
   "metadata": {},
   "source": [
    "На данном детализированном графике видно, что начиная с чека около 30000 руб заказы становятся значительно реже."
   ]
  },
  {
   "cell_type": "markdown",
   "metadata": {},
   "source": [
    "<div class=\"alert alert-block alert-warning\">\n",
    "\n",
    "**Комментарий ревьювера (что можно улучшить)**\n",
    "    \n",
    "    \n",
    "Можно построить дополнительный график, не учитывая аномально большие значения при помощи:\n",
    "    \n",
    "    plt.ylim([0, 100000])\n",
    "    \n",
    "Таким образом получится изучить основную массу данных.\n",
    "</div>\n"
   ]
  },
  {
   "cell_type": "markdown",
   "metadata": {},
   "source": [
    "<div class=\"alert alert-block alert-info\">\n",
    "<b>КОММЕНТАРИЙ ОТ УЧЕНИКА: </b>\n",
    "\n",
    "Добавил дополнительный детализированный график, по нему хорошо видно, что начиная с отметки около 30 тыс заказы встречаются значительно реже, что коррелирует с результатами расчета перцентилей ниже.\n",
    "</div>"
   ]
  },
  {
   "cell_type": "markdown",
   "metadata": {},
   "source": [
    "<div class=\"alert alert-block alert-success\">\n",
    "\n",
    "**Комментарий ревьювера v2 (все отлично)**\n",
    "    \n",
    "👍\n",
    "</div>"
   ]
  },
  {
   "cell_type": "code",
   "execution_count": 39,
   "metadata": {},
   "outputs": [
    {
     "data": {
      "text/plain": [
       "array([26785., 53904.])"
      ]
     },
     "execution_count": 39,
     "metadata": {},
     "output_type": "execute_result"
    }
   ],
   "source": [
    "# Расчет 95-го и 99-го перцентиля стоимости заказов\n",
    "\n",
    "np.percentile(orders['revenue'], [95, 99])"
   ]
  },
  {
   "cell_type": "markdown",
   "metadata": {},
   "source": [
    "* не более 5% пользователей совершали покупки дороже 27000 руб., иначе говоря чек 95% пользователей не превышает 27 тыс. руб.\n",
    "* не более 1% пользователей совершали покупки дороже 54000 руб."
   ]
  },
  {
   "cell_type": "markdown",
   "metadata": {},
   "source": [
    "**Выводы**"
   ]
  },
  {
   "cell_type": "markdown",
   "metadata": {},
   "source": [
    "Для фильтрации аномальной стоимости заказа возьмем за верхнюю границу 27000."
   ]
  },
  {
   "cell_type": "markdown",
   "metadata": {},
   "source": [
    "<div class=\"alert alert-block alert-success\">\n",
    "    \n",
    "\n",
    "**Комментарий ревьювера (все отлично)**\n",
    "     \n",
    "Отлично, перцентили величины заказов рассчитаны верно. По границе тоже согласен.\n",
    "</div>"
   ]
  },
  {
   "cell_type": "markdown",
   "metadata": {},
   "source": [
    "<a id=\"ab_pvalue_calc\"></a>\n",
    "### Расчет статистической значимости результатов A/B теста"
   ]
  },
  {
   "cell_type": "markdown",
   "metadata": {},
   "source": [
    "Подготовим данные для проверки гипотез"
   ]
  },
  {
   "cell_type": "code",
   "execution_count": 40,
   "metadata": {},
   "outputs": [],
   "source": [
    "# Посуточные данные по посетителям из группы А\n",
    "\n",
    "visitorsADaily = visitors[visitors['group'] == 'A'][['date', 'visitors']]\n",
    "visitorsADaily.columns = ['date', 'visitorsPerDateA']"
   ]
  },
  {
   "cell_type": "code",
   "execution_count": 41,
   "metadata": {},
   "outputs": [],
   "source": [
    "# Кумулитивные данные по посетителям из группы А\n",
    "\n",
    "visitorsACummulative = visitorsADaily.apply(\n",
    "    lambda x: visitorsADaily[visitorsADaily['date'] <= x['date']].agg(\n",
    "        {'date': 'max', 'visitorsPerDateA': 'sum'}\n",
    "    ),\n",
    "    axis=1,\n",
    ")\n",
    "visitorsACummulative.columns = ['date', 'visitorsCummulativeA']"
   ]
  },
  {
   "cell_type": "code",
   "execution_count": 42,
   "metadata": {},
   "outputs": [],
   "source": [
    "# Посуточные данные по посетителям из группы B\n",
    "\n",
    "visitorsBDaily = visitors[visitors['group'] == 'B'][['date', 'visitors']]\n",
    "visitorsBDaily.columns = ['date', 'visitorsPerDateB']"
   ]
  },
  {
   "cell_type": "code",
   "execution_count": 43,
   "metadata": {},
   "outputs": [],
   "source": [
    "# Кумулитивные данные по посетителям из группы B\n",
    "\n",
    "visitorsBCummulative = visitorsBDaily.apply(\n",
    "    lambda x: visitorsBDaily[visitorsBDaily['date'] <= x['date']].agg(\n",
    "        {'date': 'max', 'visitorsPerDateB': 'sum'}\n",
    "    ),\n",
    "    axis=1,\n",
    ")\n",
    "visitorsBCummulative.columns = ['date', 'visitorsCummulativeB']"
   ]
  },
  {
   "cell_type": "code",
   "execution_count": 44,
   "metadata": {},
   "outputs": [],
   "source": [
    "# Посуточные данные по заказам из группы А\n",
    "\n",
    "ordersADaily = (\n",
    "    orders[orders['group'] == 'A'][['date', 'transactionId', 'visitorId', 'revenue']]\n",
    "    .groupby('date', as_index=False)\n",
    "    .agg({'transactionId': pd.Series.nunique, 'revenue': 'sum'})\n",
    ")\n",
    "\n",
    "ordersADaily.columns = ['date', 'ordersPerDateA', 'revenuePerDateA']"
   ]
  },
  {
   "cell_type": "code",
   "execution_count": 45,
   "metadata": {},
   "outputs": [],
   "source": [
    "# Кумулитивные данные по заказам из группы А\n",
    "\n",
    "ordersACummulative = ordersADaily.apply(\n",
    "    lambda x: ordersADaily[ordersADaily['date'] <= x['date']].agg(\n",
    "        {'date': 'max', 'ordersPerDateA': 'sum', 'revenuePerDateA': 'sum'}\n",
    "    ),\n",
    "    axis=1,\n",
    ").sort_values(by=['date'])\n",
    "\n",
    "ordersACummulative.columns = [\n",
    "    'date',\n",
    "    'ordersCummulativeA',\n",
    "    'revenueCummulativeA',\n",
    "]"
   ]
  },
  {
   "cell_type": "code",
   "execution_count": 46,
   "metadata": {},
   "outputs": [],
   "source": [
    "# Посуточные данные по заказам из группы B\n",
    "\n",
    "ordersBDaily = (\n",
    "    orders[orders['group'] == 'B'][['date', 'transactionId', 'visitorId', 'revenue']]\n",
    "    .groupby('date', as_index=False)\n",
    "    .agg({'transactionId': pd.Series.nunique, 'revenue': 'sum'})\n",
    ")\n",
    "\n",
    "ordersBDaily.columns = ['date', 'ordersPerDateB', 'revenuePerDateB']"
   ]
  },
  {
   "cell_type": "code",
   "execution_count": 47,
   "metadata": {},
   "outputs": [],
   "source": [
    "# Кумулитивные данные по заказам из группы B\n",
    "\n",
    "ordersBCummulative = ordersBDaily.apply(\n",
    "    lambda x: ordersBDaily[ordersBDaily['date'] <= x['date']].agg(\n",
    "        {'date': 'max', 'ordersPerDateB': 'sum', 'revenuePerDateB': 'sum'}\n",
    "    ),\n",
    "    axis=1,\n",
    ").sort_values(by=['date'])\n",
    "\n",
    "ordersBCummulative.columns = [\n",
    "    'date',\n",
    "    'ordersCummulativeB',\n",
    "    'revenueCummulativeB',\n",
    "]"
   ]
  },
  {
   "cell_type": "code",
   "execution_count": 48,
   "metadata": {},
   "outputs": [],
   "source": [
    "# Соберем все полученные таблицы в одну\n",
    "\n",
    "data = (\n",
    "    ordersADaily.merge(\n",
    "        ordersBDaily, left_on='date', right_on='date', how='left'\n",
    "    )\n",
    "    .merge(ordersACummulative, left_on='date', right_on='date', how='left')\n",
    "    .merge(ordersBCummulative, left_on='date', right_on='date', how='left')\n",
    "    .merge(visitorsADaily, left_on='date', right_on='date', how='left')\n",
    "    .merge(visitorsBDaily, left_on='date', right_on='date', how='left')\n",
    "    .merge(visitorsACummulative, left_on='date', right_on='date', how='left')\n",
    "    .merge(visitorsBCummulative, left_on='date', right_on='date', how='left')\n",
    ")"
   ]
  },
  {
   "cell_type": "code",
   "execution_count": 49,
   "metadata": {},
   "outputs": [
    {
     "data": {
      "text/html": [
       "<div>\n",
       "<style scoped>\n",
       "    .dataframe tbody tr th:only-of-type {\n",
       "        vertical-align: middle;\n",
       "    }\n",
       "\n",
       "    .dataframe tbody tr th {\n",
       "        vertical-align: top;\n",
       "    }\n",
       "\n",
       "    .dataframe thead th {\n",
       "        text-align: right;\n",
       "    }\n",
       "</style>\n",
       "<table border=\"1\" class=\"dataframe\">\n",
       "  <thead>\n",
       "    <tr style=\"text-align: right;\">\n",
       "      <th></th>\n",
       "      <th>date</th>\n",
       "      <th>ordersPerDateA</th>\n",
       "      <th>revenuePerDateA</th>\n",
       "      <th>ordersPerDateB</th>\n",
       "      <th>revenuePerDateB</th>\n",
       "      <th>ordersCummulativeA</th>\n",
       "      <th>revenueCummulativeA</th>\n",
       "      <th>ordersCummulativeB</th>\n",
       "      <th>revenueCummulativeB</th>\n",
       "      <th>visitorsPerDateA</th>\n",
       "      <th>visitorsPerDateB</th>\n",
       "      <th>visitorsCummulativeA</th>\n",
       "      <th>visitorsCummulativeB</th>\n",
       "    </tr>\n",
       "  </thead>\n",
       "  <tbody>\n",
       "    <tr>\n",
       "      <th>0</th>\n",
       "      <td>2019-08-01</td>\n",
       "      <td>23</td>\n",
       "      <td>142779</td>\n",
       "      <td>17</td>\n",
       "      <td>59758</td>\n",
       "      <td>23</td>\n",
       "      <td>142779</td>\n",
       "      <td>17</td>\n",
       "      <td>59758</td>\n",
       "      <td>719</td>\n",
       "      <td>713</td>\n",
       "      <td>719</td>\n",
       "      <td>713</td>\n",
       "    </tr>\n",
       "    <tr>\n",
       "      <th>1</th>\n",
       "      <td>2019-08-02</td>\n",
       "      <td>19</td>\n",
       "      <td>91602</td>\n",
       "      <td>23</td>\n",
       "      <td>162043</td>\n",
       "      <td>42</td>\n",
       "      <td>234381</td>\n",
       "      <td>40</td>\n",
       "      <td>221801</td>\n",
       "      <td>619</td>\n",
       "      <td>581</td>\n",
       "      <td>1338</td>\n",
       "      <td>1294</td>\n",
       "    </tr>\n",
       "    <tr>\n",
       "      <th>2</th>\n",
       "      <td>2019-08-03</td>\n",
       "      <td>24</td>\n",
       "      <td>112473</td>\n",
       "      <td>14</td>\n",
       "      <td>67049</td>\n",
       "      <td>66</td>\n",
       "      <td>346854</td>\n",
       "      <td>54</td>\n",
       "      <td>288850</td>\n",
       "      <td>507</td>\n",
       "      <td>509</td>\n",
       "      <td>1845</td>\n",
       "      <td>1803</td>\n",
       "    </tr>\n",
       "    <tr>\n",
       "      <th>3</th>\n",
       "      <td>2019-08-04</td>\n",
       "      <td>11</td>\n",
       "      <td>41176</td>\n",
       "      <td>14</td>\n",
       "      <td>96890</td>\n",
       "      <td>77</td>\n",
       "      <td>388030</td>\n",
       "      <td>68</td>\n",
       "      <td>385740</td>\n",
       "      <td>717</td>\n",
       "      <td>770</td>\n",
       "      <td>2562</td>\n",
       "      <td>2573</td>\n",
       "    </tr>\n",
       "    <tr>\n",
       "      <th>4</th>\n",
       "      <td>2019-08-05</td>\n",
       "      <td>22</td>\n",
       "      <td>86383</td>\n",
       "      <td>21</td>\n",
       "      <td>89908</td>\n",
       "      <td>99</td>\n",
       "      <td>474413</td>\n",
       "      <td>89</td>\n",
       "      <td>475648</td>\n",
       "      <td>756</td>\n",
       "      <td>707</td>\n",
       "      <td>3318</td>\n",
       "      <td>3280</td>\n",
       "    </tr>\n",
       "    <tr>\n",
       "      <th>5</th>\n",
       "      <td>2019-08-06</td>\n",
       "      <td>15</td>\n",
       "      <td>40919</td>\n",
       "      <td>23</td>\n",
       "      <td>214842</td>\n",
       "      <td>114</td>\n",
       "      <td>515332</td>\n",
       "      <td>112</td>\n",
       "      <td>690490</td>\n",
       "      <td>667</td>\n",
       "      <td>655</td>\n",
       "      <td>3985</td>\n",
       "      <td>3935</td>\n",
       "    </tr>\n",
       "    <tr>\n",
       "      <th>6</th>\n",
       "      <td>2019-08-07</td>\n",
       "      <td>16</td>\n",
       "      <td>123248</td>\n",
       "      <td>23</td>\n",
       "      <td>219164</td>\n",
       "      <td>130</td>\n",
       "      <td>638580</td>\n",
       "      <td>135</td>\n",
       "      <td>909654</td>\n",
       "      <td>644</td>\n",
       "      <td>709</td>\n",
       "      <td>4629</td>\n",
       "      <td>4644</td>\n",
       "    </tr>\n",
       "    <tr>\n",
       "      <th>7</th>\n",
       "      <td>2019-08-08</td>\n",
       "      <td>14</td>\n",
       "      <td>88639</td>\n",
       "      <td>22</td>\n",
       "      <td>150141</td>\n",
       "      <td>144</td>\n",
       "      <td>727219</td>\n",
       "      <td>157</td>\n",
       "      <td>1059795</td>\n",
       "      <td>610</td>\n",
       "      <td>654</td>\n",
       "      <td>5239</td>\n",
       "      <td>5298</td>\n",
       "    </tr>\n",
       "    <tr>\n",
       "      <th>8</th>\n",
       "      <td>2019-08-09</td>\n",
       "      <td>11</td>\n",
       "      <td>134237</td>\n",
       "      <td>19</td>\n",
       "      <td>103166</td>\n",
       "      <td>155</td>\n",
       "      <td>861456</td>\n",
       "      <td>176</td>\n",
       "      <td>1162961</td>\n",
       "      <td>617</td>\n",
       "      <td>610</td>\n",
       "      <td>5856</td>\n",
       "      <td>5908</td>\n",
       "    </tr>\n",
       "    <tr>\n",
       "      <th>9</th>\n",
       "      <td>2019-08-10</td>\n",
       "      <td>15</td>\n",
       "      <td>152275</td>\n",
       "      <td>22</td>\n",
       "      <td>105162</td>\n",
       "      <td>170</td>\n",
       "      <td>1013731</td>\n",
       "      <td>198</td>\n",
       "      <td>1268123</td>\n",
       "      <td>406</td>\n",
       "      <td>369</td>\n",
       "      <td>6262</td>\n",
       "      <td>6277</td>\n",
       "    </tr>\n",
       "    <tr>\n",
       "      <th>10</th>\n",
       "      <td>2019-08-11</td>\n",
       "      <td>11</td>\n",
       "      <td>60665</td>\n",
       "      <td>12</td>\n",
       "      <td>53060</td>\n",
       "      <td>181</td>\n",
       "      <td>1074396</td>\n",
       "      <td>210</td>\n",
       "      <td>1321183</td>\n",
       "      <td>718</td>\n",
       "      <td>721</td>\n",
       "      <td>6980</td>\n",
       "      <td>6998</td>\n",
       "    </tr>\n",
       "    <tr>\n",
       "      <th>11</th>\n",
       "      <td>2019-08-12</td>\n",
       "      <td>19</td>\n",
       "      <td>220392</td>\n",
       "      <td>19</td>\n",
       "      <td>104054</td>\n",
       "      <td>200</td>\n",
       "      <td>1294788</td>\n",
       "      <td>229</td>\n",
       "      <td>1425237</td>\n",
       "      <td>595</td>\n",
       "      <td>543</td>\n",
       "      <td>7575</td>\n",
       "      <td>7541</td>\n",
       "    </tr>\n",
       "    <tr>\n",
       "      <th>12</th>\n",
       "      <td>2019-08-13</td>\n",
       "      <td>14</td>\n",
       "      <td>263638</td>\n",
       "      <td>20</td>\n",
       "      <td>117691</td>\n",
       "      <td>214</td>\n",
       "      <td>1558426</td>\n",
       "      <td>249</td>\n",
       "      <td>1542928</td>\n",
       "      <td>748</td>\n",
       "      <td>769</td>\n",
       "      <td>8323</td>\n",
       "      <td>8310</td>\n",
       "    </tr>\n",
       "    <tr>\n",
       "      <th>13</th>\n",
       "      <td>2019-08-14</td>\n",
       "      <td>17</td>\n",
       "      <td>43266</td>\n",
       "      <td>14</td>\n",
       "      <td>107340</td>\n",
       "      <td>231</td>\n",
       "      <td>1601692</td>\n",
       "      <td>263</td>\n",
       "      <td>1650268</td>\n",
       "      <td>735</td>\n",
       "      <td>746</td>\n",
       "      <td>9058</td>\n",
       "      <td>9056</td>\n",
       "    </tr>\n",
       "    <tr>\n",
       "      <th>14</th>\n",
       "      <td>2019-08-15</td>\n",
       "      <td>10</td>\n",
       "      <td>80877</td>\n",
       "      <td>26</td>\n",
       "      <td>310159</td>\n",
       "      <td>241</td>\n",
       "      <td>1682569</td>\n",
       "      <td>289</td>\n",
       "      <td>1960427</td>\n",
       "      <td>628</td>\n",
       "      <td>544</td>\n",
       "      <td>9686</td>\n",
       "      <td>9600</td>\n",
       "    </tr>\n",
       "    <tr>\n",
       "      <th>15</th>\n",
       "      <td>2019-08-16</td>\n",
       "      <td>18</td>\n",
       "      <td>99851</td>\n",
       "      <td>18</td>\n",
       "      <td>114250</td>\n",
       "      <td>259</td>\n",
       "      <td>1782420</td>\n",
       "      <td>307</td>\n",
       "      <td>2074677</td>\n",
       "      <td>361</td>\n",
       "      <td>413</td>\n",
       "      <td>10047</td>\n",
       "      <td>10013</td>\n",
       "    </tr>\n",
       "    <tr>\n",
       "      <th>16</th>\n",
       "      <td>2019-08-17</td>\n",
       "      <td>6</td>\n",
       "      <td>34740</td>\n",
       "      <td>13</td>\n",
       "      <td>80865</td>\n",
       "      <td>265</td>\n",
       "      <td>1817160</td>\n",
       "      <td>320</td>\n",
       "      <td>2155542</td>\n",
       "      <td>412</td>\n",
       "      <td>421</td>\n",
       "      <td>10459</td>\n",
       "      <td>10434</td>\n",
       "    </tr>\n",
       "    <tr>\n",
       "      <th>17</th>\n",
       "      <td>2019-08-18</td>\n",
       "      <td>13</td>\n",
       "      <td>59581</td>\n",
       "      <td>7</td>\n",
       "      <td>35323</td>\n",
       "      <td>278</td>\n",
       "      <td>1876741</td>\n",
       "      <td>327</td>\n",
       "      <td>2190865</td>\n",
       "      <td>668</td>\n",
       "      <td>737</td>\n",
       "      <td>11127</td>\n",
       "      <td>11171</td>\n",
       "    </tr>\n",
       "    <tr>\n",
       "      <th>18</th>\n",
       "      <td>2019-08-19</td>\n",
       "      <td>21</td>\n",
       "      <td>168193</td>\n",
       "      <td>21</td>\n",
       "      <td>1429920</td>\n",
       "      <td>299</td>\n",
       "      <td>2044934</td>\n",
       "      <td>348</td>\n",
       "      <td>3620785</td>\n",
       "      <td>502</td>\n",
       "      <td>487</td>\n",
       "      <td>11629</td>\n",
       "      <td>11658</td>\n",
       "    </tr>\n",
       "    <tr>\n",
       "      <th>19</th>\n",
       "      <td>2019-08-20</td>\n",
       "      <td>10</td>\n",
       "      <td>58679</td>\n",
       "      <td>20</td>\n",
       "      <td>147274</td>\n",
       "      <td>309</td>\n",
       "      <td>2103613</td>\n",
       "      <td>368</td>\n",
       "      <td>3768059</td>\n",
       "      <td>575</td>\n",
       "      <td>560</td>\n",
       "      <td>12204</td>\n",
       "      <td>12218</td>\n",
       "    </tr>\n",
       "    <tr>\n",
       "      <th>20</th>\n",
       "      <td>2019-08-21</td>\n",
       "      <td>20</td>\n",
       "      <td>170169</td>\n",
       "      <td>12</td>\n",
       "      <td>140347</td>\n",
       "      <td>329</td>\n",
       "      <td>2273782</td>\n",
       "      <td>380</td>\n",
       "      <td>3908406</td>\n",
       "      <td>646</td>\n",
       "      <td>656</td>\n",
       "      <td>12850</td>\n",
       "      <td>12874</td>\n",
       "    </tr>\n",
       "    <tr>\n",
       "      <th>21</th>\n",
       "      <td>2019-08-22</td>\n",
       "      <td>10</td>\n",
       "      <td>92365</td>\n",
       "      <td>21</td>\n",
       "      <td>141728</td>\n",
       "      <td>339</td>\n",
       "      <td>2366147</td>\n",
       "      <td>401</td>\n",
       "      <td>4050134</td>\n",
       "      <td>609</td>\n",
       "      <td>650</td>\n",
       "      <td>13459</td>\n",
       "      <td>13524</td>\n",
       "    </tr>\n",
       "    <tr>\n",
       "      <th>22</th>\n",
       "      <td>2019-08-23</td>\n",
       "      <td>20</td>\n",
       "      <td>57863</td>\n",
       "      <td>13</td>\n",
       "      <td>77269</td>\n",
       "      <td>359</td>\n",
       "      <td>2424010</td>\n",
       "      <td>414</td>\n",
       "      <td>4127403</td>\n",
       "      <td>468</td>\n",
       "      <td>546</td>\n",
       "      <td>13927</td>\n",
       "      <td>14070</td>\n",
       "    </tr>\n",
       "    <tr>\n",
       "      <th>23</th>\n",
       "      <td>2019-08-24</td>\n",
       "      <td>13</td>\n",
       "      <td>122013</td>\n",
       "      <td>14</td>\n",
       "      <td>87866</td>\n",
       "      <td>372</td>\n",
       "      <td>2546023</td>\n",
       "      <td>428</td>\n",
       "      <td>4215269</td>\n",
       "      <td>395</td>\n",
       "      <td>378</td>\n",
       "      <td>14322</td>\n",
       "      <td>14448</td>\n",
       "    </tr>\n",
       "    <tr>\n",
       "      <th>24</th>\n",
       "      <td>2019-08-25</td>\n",
       "      <td>8</td>\n",
       "      <td>51884</td>\n",
       "      <td>12</td>\n",
       "      <td>79257</td>\n",
       "      <td>380</td>\n",
       "      <td>2597907</td>\n",
       "      <td>440</td>\n",
       "      <td>4294526</td>\n",
       "      <td>621</td>\n",
       "      <td>679</td>\n",
       "      <td>14943</td>\n",
       "      <td>15127</td>\n",
       "    </tr>\n",
       "    <tr>\n",
       "      <th>25</th>\n",
       "      <td>2019-08-26</td>\n",
       "      <td>16</td>\n",
       "      <td>157214</td>\n",
       "      <td>22</td>\n",
       "      <td>173439</td>\n",
       "      <td>396</td>\n",
       "      <td>2755121</td>\n",
       "      <td>462</td>\n",
       "      <td>4467965</td>\n",
       "      <td>722</td>\n",
       "      <td>676</td>\n",
       "      <td>15665</td>\n",
       "      <td>15803</td>\n",
       "    </tr>\n",
       "    <tr>\n",
       "      <th>26</th>\n",
       "      <td>2019-08-27</td>\n",
       "      <td>23</td>\n",
       "      <td>185350</td>\n",
       "      <td>11</td>\n",
       "      <td>111347</td>\n",
       "      <td>419</td>\n",
       "      <td>2940471</td>\n",
       "      <td>473</td>\n",
       "      <td>4579312</td>\n",
       "      <td>711</td>\n",
       "      <td>720</td>\n",
       "      <td>16376</td>\n",
       "      <td>16523</td>\n",
       "    </tr>\n",
       "    <tr>\n",
       "      <th>27</th>\n",
       "      <td>2019-08-28</td>\n",
       "      <td>15</td>\n",
       "      <td>96462</td>\n",
       "      <td>22</td>\n",
       "      <td>61198</td>\n",
       "      <td>434</td>\n",
       "      <td>3036933</td>\n",
       "      <td>495</td>\n",
       "      <td>4640510</td>\n",
       "      <td>594</td>\n",
       "      <td>654</td>\n",
       "      <td>16970</td>\n",
       "      <td>17177</td>\n",
       "    </tr>\n",
       "    <tr>\n",
       "      <th>28</th>\n",
       "      <td>2019-08-29</td>\n",
       "      <td>17</td>\n",
       "      <td>196300</td>\n",
       "      <td>15</td>\n",
       "      <td>106100</td>\n",
       "      <td>451</td>\n",
       "      <td>3233233</td>\n",
       "      <td>510</td>\n",
       "      <td>4746610</td>\n",
       "      <td>577</td>\n",
       "      <td>531</td>\n",
       "      <td>17547</td>\n",
       "      <td>17708</td>\n",
       "    </tr>\n",
       "    <tr>\n",
       "      <th>29</th>\n",
       "      <td>2019-08-30</td>\n",
       "      <td>9</td>\n",
       "      <td>78180</td>\n",
       "      <td>21</td>\n",
       "      <td>209223</td>\n",
       "      <td>460</td>\n",
       "      <td>3311413</td>\n",
       "      <td>531</td>\n",
       "      <td>4955833</td>\n",
       "      <td>490</td>\n",
       "      <td>490</td>\n",
       "      <td>18037</td>\n",
       "      <td>18198</td>\n",
       "    </tr>\n",
       "    <tr>\n",
       "      <th>30</th>\n",
       "      <td>2019-08-31</td>\n",
       "      <td>8</td>\n",
       "      <td>53243</td>\n",
       "      <td>17</td>\n",
       "      <td>113139</td>\n",
       "      <td>468</td>\n",
       "      <td>3364656</td>\n",
       "      <td>548</td>\n",
       "      <td>5068972</td>\n",
       "      <td>699</td>\n",
       "      <td>718</td>\n",
       "      <td>18736</td>\n",
       "      <td>18916</td>\n",
       "    </tr>\n",
       "  </tbody>\n",
       "</table>\n",
       "</div>"
      ],
      "text/plain": [
       "         date  ordersPerDateA  revenuePerDateA  ordersPerDateB  \\\n",
       "0  2019-08-01              23           142779              17   \n",
       "1  2019-08-02              19            91602              23   \n",
       "2  2019-08-03              24           112473              14   \n",
       "3  2019-08-04              11            41176              14   \n",
       "4  2019-08-05              22            86383              21   \n",
       "5  2019-08-06              15            40919              23   \n",
       "6  2019-08-07              16           123248              23   \n",
       "7  2019-08-08              14            88639              22   \n",
       "8  2019-08-09              11           134237              19   \n",
       "9  2019-08-10              15           152275              22   \n",
       "10 2019-08-11              11            60665              12   \n",
       "11 2019-08-12              19           220392              19   \n",
       "12 2019-08-13              14           263638              20   \n",
       "13 2019-08-14              17            43266              14   \n",
       "14 2019-08-15              10            80877              26   \n",
       "15 2019-08-16              18            99851              18   \n",
       "16 2019-08-17               6            34740              13   \n",
       "17 2019-08-18              13            59581               7   \n",
       "18 2019-08-19              21           168193              21   \n",
       "19 2019-08-20              10            58679              20   \n",
       "20 2019-08-21              20           170169              12   \n",
       "21 2019-08-22              10            92365              21   \n",
       "22 2019-08-23              20            57863              13   \n",
       "23 2019-08-24              13           122013              14   \n",
       "24 2019-08-25               8            51884              12   \n",
       "25 2019-08-26              16           157214              22   \n",
       "26 2019-08-27              23           185350              11   \n",
       "27 2019-08-28              15            96462              22   \n",
       "28 2019-08-29              17           196300              15   \n",
       "29 2019-08-30               9            78180              21   \n",
       "30 2019-08-31               8            53243              17   \n",
       "\n",
       "    revenuePerDateB  ordersCummulativeA  revenueCummulativeA  \\\n",
       "0             59758                  23               142779   \n",
       "1            162043                  42               234381   \n",
       "2             67049                  66               346854   \n",
       "3             96890                  77               388030   \n",
       "4             89908                  99               474413   \n",
       "5            214842                 114               515332   \n",
       "6            219164                 130               638580   \n",
       "7            150141                 144               727219   \n",
       "8            103166                 155               861456   \n",
       "9            105162                 170              1013731   \n",
       "10            53060                 181              1074396   \n",
       "11           104054                 200              1294788   \n",
       "12           117691                 214              1558426   \n",
       "13           107340                 231              1601692   \n",
       "14           310159                 241              1682569   \n",
       "15           114250                 259              1782420   \n",
       "16            80865                 265              1817160   \n",
       "17            35323                 278              1876741   \n",
       "18          1429920                 299              2044934   \n",
       "19           147274                 309              2103613   \n",
       "20           140347                 329              2273782   \n",
       "21           141728                 339              2366147   \n",
       "22            77269                 359              2424010   \n",
       "23            87866                 372              2546023   \n",
       "24            79257                 380              2597907   \n",
       "25           173439                 396              2755121   \n",
       "26           111347                 419              2940471   \n",
       "27            61198                 434              3036933   \n",
       "28           106100                 451              3233233   \n",
       "29           209223                 460              3311413   \n",
       "30           113139                 468              3364656   \n",
       "\n",
       "    ordersCummulativeB  revenueCummulativeB  visitorsPerDateA  \\\n",
       "0                   17                59758               719   \n",
       "1                   40               221801               619   \n",
       "2                   54               288850               507   \n",
       "3                   68               385740               717   \n",
       "4                   89               475648               756   \n",
       "5                  112               690490               667   \n",
       "6                  135               909654               644   \n",
       "7                  157              1059795               610   \n",
       "8                  176              1162961               617   \n",
       "9                  198              1268123               406   \n",
       "10                 210              1321183               718   \n",
       "11                 229              1425237               595   \n",
       "12                 249              1542928               748   \n",
       "13                 263              1650268               735   \n",
       "14                 289              1960427               628   \n",
       "15                 307              2074677               361   \n",
       "16                 320              2155542               412   \n",
       "17                 327              2190865               668   \n",
       "18                 348              3620785               502   \n",
       "19                 368              3768059               575   \n",
       "20                 380              3908406               646   \n",
       "21                 401              4050134               609   \n",
       "22                 414              4127403               468   \n",
       "23                 428              4215269               395   \n",
       "24                 440              4294526               621   \n",
       "25                 462              4467965               722   \n",
       "26                 473              4579312               711   \n",
       "27                 495              4640510               594   \n",
       "28                 510              4746610               577   \n",
       "29                 531              4955833               490   \n",
       "30                 548              5068972               699   \n",
       "\n",
       "    visitorsPerDateB  visitorsCummulativeA  visitorsCummulativeB  \n",
       "0                713                   719                   713  \n",
       "1                581                  1338                  1294  \n",
       "2                509                  1845                  1803  \n",
       "3                770                  2562                  2573  \n",
       "4                707                  3318                  3280  \n",
       "5                655                  3985                  3935  \n",
       "6                709                  4629                  4644  \n",
       "7                654                  5239                  5298  \n",
       "8                610                  5856                  5908  \n",
       "9                369                  6262                  6277  \n",
       "10               721                  6980                  6998  \n",
       "11               543                  7575                  7541  \n",
       "12               769                  8323                  8310  \n",
       "13               746                  9058                  9056  \n",
       "14               544                  9686                  9600  \n",
       "15               413                 10047                 10013  \n",
       "16               421                 10459                 10434  \n",
       "17               737                 11127                 11171  \n",
       "18               487                 11629                 11658  \n",
       "19               560                 12204                 12218  \n",
       "20               656                 12850                 12874  \n",
       "21               650                 13459                 13524  \n",
       "22               546                 13927                 14070  \n",
       "23               378                 14322                 14448  \n",
       "24               679                 14943                 15127  \n",
       "25               676                 15665                 15803  \n",
       "26               720                 16376                 16523  \n",
       "27               654                 16970                 17177  \n",
       "28               531                 17547                 17708  \n",
       "29               490                 18037                 18198  \n",
       "30               718                 18736                 18916  "
      ]
     },
     "execution_count": 49,
     "metadata": {},
     "output_type": "execute_result"
    }
   ],
   "source": [
    "# Проверим\n",
    "\n",
    "data"
   ]
  },
  {
   "cell_type": "markdown",
   "metadata": {},
   "source": [
    "<a id=\"stats_orders_raw\"></a> \n",
    "#### Cтатистическая значимость различий в среднем количестве заказов на посетителя между группами по «сырым» данным"
   ]
  },
  {
   "cell_type": "markdown",
   "metadata": {},
   "source": [
    "Сформулируем гипотезы:\n",
    "\n",
    "**$H_0$:** Различий в среднем количестве заказов между группами нет\n",
    "\n",
    "**Альтернативная гипотеза:** Различия в среднем между группами есть"
   ]
  },
  {
   "cell_type": "code",
   "execution_count": 50,
   "metadata": {},
   "outputs": [],
   "source": [
    "# Создадим переменные ordersByUsersA и ordersByUsersB со столбцами ['visitorId', 'orders']\n",
    "\n",
    "ordersByUsersA = (\n",
    "    orders[orders['group'] == 'A']\n",
    "    .groupby('visitorId', as_index=False)\n",
    "    .agg({'transactionId': pd.Series.nunique})\n",
    ")\n",
    "\n",
    "ordersByUsersA.columns = ['visitorId', 'orders']\n",
    "\n",
    "ordersByUsersB = (\n",
    "    orders[orders['group'] == 'B']\n",
    "    .groupby('visitorId', as_index=False)\n",
    "    .agg({'transactionId': pd.Series.nunique})\n",
    ")\n",
    "\n",
    "ordersByUsersB.columns = ['visitorId', 'orders']"
   ]
  },
  {
   "cell_type": "markdown",
   "metadata": {},
   "source": [
    "Объявим переменные sampleA и sampleB, в которых пользователям из разных групп будет соответствовать количество заказов. Тем, кто ничего не заказал, будут соответствовать нули. Это нужно, чтобы подготовить выборки к проверке критерием Манна-Уитни.\n",
    "\n",
    "Переменная sampleA должна состоять из двух частей:\n",
    "* Список с количеством заказов для каждого из пользователей: ordersByUsersA['orders'].\n",
    "* Нули для пользователей, которые ничего не заказывали. Их количество равно разнице между суммой посетителей и количеством записей о заказах: data['visitorsPerDateA'].sum() - len(ordersByUsersA['orders']).\n",
    "\n",
    "Дальше передадим аргумент, сообщающий, что объекты Series нужно объединить по строкам (то есть записать подряд): pd.concat([...], axis=0). То же делаем для sampleB и получаем:"
   ]
  },
  {
   "cell_type": "markdown",
   "metadata": {},
   "source": [
    "<div class=\"alert alert-block alert-success\">\n",
    "    \n",
    "\n",
    "**Комментарий ревьювера (все отлично)**\n",
    "     \n",
    "Параметры проверки гипотез отражены👍\n",
    "</div>"
   ]
  },
  {
   "cell_type": "code",
   "execution_count": 51,
   "metadata": {},
   "outputs": [],
   "source": [
    "sampleA = pd.concat(\n",
    "    [ordersByUsersA['orders'],\n",
    "     pd.Series(0, \n",
    "               index=np.arange(data['visitorsPerDateA'].sum() - len(ordersByUsersA['orders'])),\n",
    "               name='orders')],\n",
    "    axis=0\n",
    ")\n",
    "\n",
    "sampleB = pd.concat(\n",
    "    [ordersByUsersB['orders'],\n",
    "     pd.Series(0, \n",
    "               index=np.arange(data['visitorsPerDateB'].sum() - len(ordersByUsersB['orders'])),\n",
    "               name='orders')],\n",
    "    axis=0\n",
    ")"
   ]
  },
  {
   "cell_type": "code",
   "execution_count": 52,
   "metadata": {},
   "outputs": [
    {
     "name": "stdout",
     "output_type": "stream",
     "text": [
      "p-value для равенства среднего количества заказов по сырым данным: 0.011\n"
     ]
    }
   ],
   "source": [
    "# Применим критерий Манна-Уитни и найдем уровень значимости (p-value):\n",
    "\n",
    "p_value_avg_orders_raw = stats.mannwhitneyu(sampleA, sampleB)[1]\n",
    "\n",
    "print(f\"p-value для равенства среднего количества заказов по сырым данным: {p_value_avg_orders_raw:.3f}\")"
   ]
  },
  {
   "cell_type": "markdown",
   "metadata": {},
   "source": [
    "p-value получился меньше 0.05, следовательно нулевую гипотезу мы должны отвергнуть.\n",
    "\n",
    "Мы получили статистически значимую разницу между средним количеством заказов в двух группах."
   ]
  },
  {
   "cell_type": "markdown",
   "metadata": {},
   "source": [
    "Чтобы получить среднее число заказов на пользователя, поделим сумму заказов на число пользователей — найдём среднее в выборке sampleA методом mean(). \n",
    "\n",
    "Аналогично найдём среднее группы B: SampleB.mean().\n",
    "\n",
    "Выведем относительный прирост среднего числа заказов группы B: среднее число заказов группы B / среднее число заказов группы A - 1.  Округлим до трёх знаков после запятой."
   ]
  },
  {
   "cell_type": "code",
   "execution_count": 53,
   "metadata": {},
   "outputs": [
    {
     "name": "stdout",
     "output_type": "stream",
     "text": [
      "Относительный прирост среднего числа заказов группы B: 0.160\n"
     ]
    }
   ],
   "source": [
    "# Относительный прирост среднего числа заказов группы B\n",
    "\n",
    "avg_orders_change_raw = sampleB.mean() / sampleA.mean() - 1\n",
    "\n",
    "print(f\"Относительный прирост среднего числа заказов группы B: {avg_orders_change_raw:.3f}\")"
   ]
  },
  {
   "cell_type": "markdown",
   "metadata": {},
   "source": [
    "Относительный прирост среднего числа заказов группы B относительно группы A по сырым данным составляет 16%.\n",
    "\n",
    "**Вывод:** По сырым данным есть различие в среднем числе заказов между группами А и B. Среднее число заказов в группе B на ~16% выше."
   ]
  },
  {
   "cell_type": "markdown",
   "metadata": {},
   "source": [
    "<div class=\"alert alert-block alert-success\">\n",
    "\n",
    "**Комментарий ревьювера (все отлично)**\n",
    "    \n",
    "Согласен. Группа B лучше по результатам.\n",
    "</div>"
   ]
  },
  {
   "cell_type": "markdown",
   "metadata": {},
   "source": [
    "<a id=\"stats_checks_raw\"></a> \n",
    "#### Cтатистическая значимость различий в среднем чеке заказа между группами по «сырым» данным"
   ]
  },
  {
   "cell_type": "markdown",
   "metadata": {},
   "source": [
    "Сформулируем гипотезы:\n",
    "\n",
    "**$H_0$:** Различий в среднем чеке между группами нет\n",
    "\n",
    "**Альтернативная гипотеза:** Различия в среднем чеке между группами есть"
   ]
  },
  {
   "cell_type": "code",
   "execution_count": 54,
   "metadata": {},
   "outputs": [
    {
     "name": "stdout",
     "output_type": "stream",
     "text": [
      "p-value для равенства среднего чека по сырым данным: 0.829\n"
     ]
    }
   ],
   "source": [
    "# Применим критерий Манна-Уитни и найдем уровень значимости для среднего чека:\n",
    "\n",
    "p_value_avg_check_raw = stats.mannwhitneyu(orders[orders['group']=='A']['revenue'],\n",
    "                                           orders[orders['group']=='B']['revenue'])[1]\n",
    "\n",
    "print(f\"p-value для равенства среднего чека по сырым данным: {p_value_avg_check_raw:.3f}\")"
   ]
  },
  {
   "cell_type": "markdown",
   "metadata": {},
   "source": [
    "p-value получился больше 0.05, следовательно нет причин отвергнуть нулевую гипотезу.\n",
    "\n",
    "Мы не получили статистически значимой разницы между средним чеком в двух группах."
   ]
  },
  {
   "cell_type": "code",
   "execution_count": 55,
   "metadata": {},
   "outputs": [
    {
     "name": "stdout",
     "output_type": "stream",
     "text": [
      "Относительный прирост среднего чека группы B: 0.287\n"
     ]
    }
   ],
   "source": [
    "# Относительный прирост среднего чека группы B\n",
    "\n",
    "avg_check_change_raw = orders[orders['group']=='B']['revenue'].mean()/orders[orders['group']=='A']['revenue'].mean()-1\n",
    "\n",
    "print(f\"Относительный прирост среднего чека группы B: {avg_check_change_raw:.3f}\")"
   ]
  },
  {
   "cell_type": "markdown",
   "metadata": {},
   "source": [
    "Получились противоречивые результаты - с одной стороны нет статистически значимой разницы между средними чеками в двух группах, с другой стороны нашли, что прирост среднего чека в группе B составил 29%.\n",
    "\n",
    "**Вывод:** Необходимо проверить гипотезы на очищенных от выбросов / аномалий данных."
   ]
  },
  {
   "cell_type": "markdown",
   "metadata": {},
   "source": [
    "<div class=\"alert alert-block alert-success\">\n",
    "\n",
    "**Комментарий ревьювера (все отлично)**\n",
    "    \n",
    "Ты верно сделал вывод, что статистически значимых различий в среднем чеке нет.\n",
    "</div>"
   ]
  },
  {
   "cell_type": "markdown",
   "metadata": {},
   "source": [
    "<a id=\"stats_orders_cleaned\"></a> \n",
    "#### Cтатистическая значимость различий в среднем количестве заказов на посетителя между группами по «очищенным» данным"
   ]
  },
  {
   "cell_type": "markdown",
   "metadata": {},
   "source": [
    "Ранее на основе расчета перцентилей определили считать аномальными случаи свыше 2 заказов на пользователя и заказы дороже 28000 руб."
   ]
  },
  {
   "cell_type": "code",
   "execution_count": 56,
   "metadata": {},
   "outputs": [],
   "source": [
    "# Аномальное количество заказов\n",
    "\n",
    "usersWithManyOrders = pd.concat(\n",
    "    [\n",
    "        ordersByUsersA[ordersByUsersA['orders'] > 1]['visitorId'],\n",
    "        ordersByUsersB[ordersByUsersB['orders'] > 1]['visitorId'],\n",
    "    ],\n",
    "    axis=0,\n",
    ")"
   ]
  },
  {
   "cell_type": "code",
   "execution_count": 57,
   "metadata": {},
   "outputs": [],
   "source": [
    "# Аномальные чеки\n",
    "\n",
    "usersWithExpensiveOrders = orders[orders['revenue'] > 27000]['visitorId']"
   ]
  },
  {
   "cell_type": "markdown",
   "metadata": {},
   "source": [
    "<div class=\"alert alert-block alert-danger\">\n",
    "    \n",
    "**Комментарий ревьювера (недочет, который нужно доработать)**\n",
    "    \n",
    "Граница фильтрации в коде не соответствует твоему решению в тексте работы.\n",
    "\n",
    "</div>"
   ]
  },
  {
   "cell_type": "markdown",
   "metadata": {},
   "source": [
    "<div class=\"alert alert-block alert-info\">\n",
    "<b>КОММЕНТАРИЙ ОТ УЧЕНИКА: </b>\n",
    "\n",
    "Скорректировал фильтры с учетом пересчитанных перцентилей выше:\n",
    "* 95-й перцентиль для количества заказов - 1\n",
    "* 95-й перцентиль для среднего чека - 27000\n",
    "</div>"
   ]
  },
  {
   "cell_type": "markdown",
   "metadata": {},
   "source": [
    "<div class=\"alert alert-block alert-success\">\n",
    "\n",
    "**Комментарий ревьювера v2 (все отлично)**\n",
    "    \n",
    "Принимаю исправления👍\n",
    "</div>"
   ]
  },
  {
   "cell_type": "code",
   "execution_count": 58,
   "metadata": {},
   "outputs": [],
   "source": [
    "# Объединим аномальные заказы и аномальные чеки\n",
    "\n",
    "abnormalUsers = (\n",
    "    pd.concat([usersWithManyOrders, usersWithExpensiveOrders], axis=0)\n",
    "    .drop_duplicates()\n",
    "    .sort_values()\n",
    ")"
   ]
  },
  {
   "cell_type": "code",
   "execution_count": 59,
   "metadata": {},
   "outputs": [
    {
     "name": "stdout",
     "output_type": "stream",
     "text": [
      "568     113298937\n",
      "1099    148427295\n",
      "928     204675465\n",
      "33      249864742\n",
      "684     358944393\n",
      "Name: visitorId, dtype: int64\n",
      "86\n"
     ]
    }
   ],
   "source": [
    "print(abnormalUsers.head())\n",
    "print(abnormalUsers.shape[0])"
   ]
  },
  {
   "cell_type": "markdown",
   "metadata": {},
   "source": [
    "Всего получилось 86 заказов"
   ]
  },
  {
   "cell_type": "code",
   "execution_count": 60,
   "metadata": {},
   "outputs": [],
   "source": [
    "# Подготовим очищенные данные для теста (отфильтруем аномалии) для группы А\n",
    "\n",
    "sampleAFiltered = pd.concat(\n",
    "    [\n",
    "        ordersByUsersA[\n",
    "            np.logical_not(ordersByUsersA['visitorId'].isin(abnormalUsers))\n",
    "        ]['orders'],\n",
    "        pd.Series(\n",
    "            0,\n",
    "            index=np.arange(\n",
    "                data['visitorsPerDateA'].sum() - len(ordersByUsersA['orders'])\n",
    "            ),\n",
    "            name='orders',\n",
    "        ),\n",
    "    ],\n",
    "    axis=0,\n",
    ")"
   ]
  },
  {
   "cell_type": "code",
   "execution_count": 61,
   "metadata": {},
   "outputs": [],
   "source": [
    "# Подготовим очищенные данные для теста группы B\n",
    "\n",
    "sampleBFiltered = pd.concat(\n",
    "    [\n",
    "        ordersByUsersB[\n",
    "            np.logical_not(ordersByUsersB['visitorId'].isin(abnormalUsers))\n",
    "        ]['orders'],\n",
    "        pd.Series(\n",
    "            0,\n",
    "            index=np.arange(\n",
    "                data['visitorsPerDateB'].sum() - len(ordersByUsersB['orders'])\n",
    "            ),\n",
    "            name='orders',\n",
    "        ),\n",
    "    ],\n",
    "    axis=0,\n",
    ")"
   ]
  },
  {
   "cell_type": "code",
   "execution_count": 62,
   "metadata": {},
   "outputs": [
    {
     "name": "stdout",
     "output_type": "stream",
     "text": [
      "p-value для равенства среднего количества заказов по очищенным данным: 0.016\n"
     ]
    }
   ],
   "source": [
    "# Применим критерий Манна-Уитни и найдем уровень значимости (p-value) для очищенных данных:\n",
    "\n",
    "p_value_avg_orders_cleaned = stats.mannwhitneyu(sampleAFiltered, sampleBFiltered)[1]\n",
    "\n",
    "print(f\"p-value для равенства среднего количества заказов по очищенным данным: {p_value_avg_orders_cleaned:.3f}\")"
   ]
  },
  {
   "cell_type": "code",
   "execution_count": 63,
   "metadata": {},
   "outputs": [
    {
     "name": "stdout",
     "output_type": "stream",
     "text": [
      "Относительный прирост среднего числа заказов группы B: 0.174\n"
     ]
    }
   ],
   "source": [
    "# Относительный прирост среднего числа заказов группы B по очищенным данным\n",
    "\n",
    "avg_orders_change_cleaned = sampleBFiltered.mean() / sampleAFiltered.mean() - 1\n",
    "\n",
    "print(f\"Относительный прирост среднего числа заказов группы B: {avg_orders_change_cleaned:.3f}\")"
   ]
  },
  {
   "cell_type": "markdown",
   "metadata": {},
   "source": [
    "Относительно сырых данных, результаты данного теста в части статзначимости практически не изменились, попрежнему мы отвергаем нулевую гипотезу о равенстве среднего количества заказов на человека по двум группам, так как есть статистически значимая разница.\n",
    "\n",
    "Прирост количества закаов по группе B увеличился с 16 до 17.4%.\n",
    "\n",
    "**Вывод:** в группе B среднее количество заказов на человека выше чем в группе А."
   ]
  },
  {
   "cell_type": "markdown",
   "metadata": {},
   "source": [
    "<div class=\"alert alert-block alert-success\">\n",
    "\n",
    "**Комментарий ревьювера (все отлично)**\n",
    "    \n",
    "Всё верно, значимые различия по-прежнему есть.\n",
    "    \n",
    "</div>"
   ]
  },
  {
   "cell_type": "markdown",
   "metadata": {},
   "source": [
    "<a id=\"stats_checks_cleaned\"></a> \n",
    "#### Cтатистическая значимость различий в среднем чеке заказа между группами по «очищенным» данным"
   ]
  },
  {
   "cell_type": "code",
   "execution_count": 64,
   "metadata": {},
   "outputs": [
    {
     "name": "stdout",
     "output_type": "stream",
     "text": [
      "p-value для равенства среднего чека по сырым данным: 0.727\n"
     ]
    }
   ],
   "source": [
    "# Применим критерий Манна-Уитни и найдем уровень значимости для среднего чека по очищенным данным:\n",
    "\n",
    "p_value_avg_check_cleaned = stats.mannwhitneyu(\n",
    "    orders[\n",
    "        np.logical_and(\n",
    "                orders['group'] == 'A',\n",
    "                np.logical_not(orders['visitorId'].isin(abnormalUsers)),\n",
    "                )\n",
    "            ]['revenue'],\n",
    "    orders[\n",
    "        np.logical_and(\n",
    "                orders['group'] == 'B',\n",
    "                np.logical_not(orders['visitorId'].isin(abnormalUsers)),\n",
    "                )\n",
    "            ]['revenue']                                           \n",
    ")[1]\n",
    "\n",
    "print(f\"p-value для равенства среднего чека по сырым данным: {p_value_avg_check_cleaned:.3f}\")"
   ]
  },
  {
   "cell_type": "code",
   "execution_count": 65,
   "metadata": {},
   "outputs": [
    {
     "name": "stdout",
     "output_type": "stream",
     "text": [
      "Относительный прирост среднего чека группы B: -0.034\n"
     ]
    }
   ],
   "source": [
    "# Относительный прирост среднего чека группы B по очищенным данным\n",
    "\n",
    "avg_check_change_cleaned = orders[np.logical_and(\n",
    "                orders['group'] == 'B',\n",
    "                np.logical_not(orders['visitorId'].isin(abnormalUsers)),\n",
    "            )\n",
    "        ]['revenue'].mean() / orders[np.logical_and(\n",
    "                orders['group'] == 'A',\n",
    "                np.logical_not(orders['visitorId'].isin(abnormalUsers)),\n",
    "            )\n",
    "        ]['revenue'].mean()-1\n",
    "\n",
    "print(f\"Относительный прирост среднего чека группы B: {avg_check_change_cleaned:.3f}\")"
   ]
  },
  {
   "cell_type": "markdown",
   "metadata": {},
   "source": [
    "На очищенных данных p-value для среднего чека изменился не существенно, оснований отвергать нулевую гипотезу о равенстве чеков нет, так как отсутсвует статистически значимая разница.\n",
    "\n",
    "При этом прирост среднего чека по группе B изменился драматично, так с +29% он ушел в -3%. Этот факт подтверждает наличие искажений теста за счет аномальных значений."
   ]
  },
  {
   "cell_type": "markdown",
   "metadata": {},
   "source": [
    "<div class=\"alert alert-block alert-success\">\n",
    "\n",
    "**Комментарий ревьювера (все отлично)**\n",
    "    \n",
    "Согласен с выводом. После очистки значимых отличий по среднему чеку не появилось.\n",
    "</div>"
   ]
  },
  {
   "cell_type": "code",
   "execution_count": 66,
   "metadata": {},
   "outputs": [],
   "source": [
    "# Подготовим данные для построения кумулятивных графиков по очищенным данным\n",
    "\n",
    "ordersAggregatedCleaned = (\n",
    "    datesGroups.apply(\n",
    "        lambda x: orders[\n",
    "            (orders['date'] <= x['date']) &\n",
    "            (orders['group'] == x['group']) &\n",
    "            (~orders['visitorId'].isin(abnormalUsers))\n",
    "        ].agg({\n",
    "            'date': 'max',\n",
    "            'group': 'max',\n",
    "            'transactionId': 'nunique',\n",
    "            'visitorId': 'nunique',\n",
    "            'revenue': 'sum'\n",
    "        }),\n",
    "        axis=1\n",
    "    ).sort_values(by=['date', 'group'])\n",
    ")"
   ]
  },
  {
   "cell_type": "code",
   "execution_count": 67,
   "metadata": {},
   "outputs": [],
   "source": [
    "# Объединяем кумулятивные очищенные данные в одной таблице\n",
    "cumulativeDataCleaned = ordersAggregatedCleaned.merge(visitorsAggregated, left_on=['date', 'group'], right_on=['date', 'group'])\n",
    "cumulativeDataCleaned.columns = ['date', 'group', 'orders', 'buyers', 'revenue', 'visitors']"
   ]
  },
  {
   "cell_type": "code",
   "execution_count": 68,
   "metadata": {},
   "outputs": [
    {
     "data": {
      "image/png": "[encoded data removed]",
      "text/plain": [
       "<Figure size 1080x432 with 1 Axes>"
      ]
     },
     "metadata": {
      "needs_background": "light"
     },
     "output_type": "display_data"
    }
   ],
   "source": [
    "# Построим график относительного изменения кумулятивного среднего чека группы B к группе A по очищенным данным\n",
    "plot_it(cumulativeDataCleaned,\n",
    "        parameter='rel_change_check_b_to_a',\n",
    "        title='График относительного изменения кумулятивного среднего чека группы B к группе A по очищенным данным',\n",
    "        x_label='Дата',\n",
    "        y_label='Отн. изменение, ед.',\n",
    "       )"
   ]
  },
  {
   "cell_type": "code",
   "execution_count": 69,
   "metadata": {},
   "outputs": [
    {
     "data": {
      "image/png": "[encoded data removed]",
      "text/plain": [
       "<Figure size 1080x432 with 1 Axes>"
      ]
     },
     "metadata": {
      "needs_background": "light"
     },
     "output_type": "display_data"
    }
   ],
   "source": [
    "# Построим график относительного изменения кумулятивного среднего чека группы B к группе A по очищенным данным\n",
    "plot_it(cumulativeDataCleaned,\n",
    "        parameter='rel_change_conversion_b_to_a',\n",
    "        title='График относительного изменения кумулятивного среднего количества заказов на посетителя группы B к группе A по очищенным данным',\n",
    "        x_label='Дата',\n",
    "        y_label='Отн. изменение, ед.',\n",
    "        level2=0.15\n",
    "       )"
   ]
  },
  {
   "cell_type": "markdown",
   "metadata": {},
   "source": [
    "* График относительного изменения среднего чека по очищенным данным показывает, что в группе B нет существенных изменений относительно группы А.\n",
    "\n",
    "* График относительного изменения количества заказов по очищенным данным показывает, что в группе B есть значимое увеличение среднего количества заказов."
   ]
  },
  {
   "cell_type": "markdown",
   "metadata": {},
   "source": [
    "<a id=\"test_summary\"></a> \n",
    "#### Предлагаемое решение по результатам анализа A/B теста"
   ]
  },
  {
   "cell_type": "markdown",
   "metadata": {},
   "source": [
    "По результатам анализа A/B теста получена следующая информация:\n",
    "\n",
    "* Обнаружена статистически значимая разница между средним количеством заказов. Разница обнаруживается и по сырым и по очищенным данным. Среднее количество заказов в группе B выше на 17%.\n",
    "\n",
    "\n",
    "* Нет статистически значимой разницы в величине среднего чека ни по сырым ни по очищенным данным. \n",
    "\n",
    "\n",
    "* По сырым данным был получен относительный прирост среднего чека в группе B +29%, по очищенным данным -3%. На результаты теста оказали влияние выявленные аномально высокие чеки.\n",
    "\n",
    "\n",
    "* Графики относительного изменения количества заказов и среднего чека по очищенным данным подтвердили результаты теста.\n",
    "\n",
    "\n",
    "**Исходя из полученных результатов, тест следует остановить и признать его успешным.**\n",
    "\n",
    "Успешным тест предлагается признать так как был получен прирост количества заказов в группе B, что при сопоставимом уровне среднего чека позволит увеличить выручку интернет магазина ($Income = Q_{заказов} \\times Чек$).\n"
   ]
  },
  {
   "cell_type": "markdown",
   "metadata": {},
   "source": [
    "<div class=\"alert alert-block alert-success\">\n",
    "\n",
    "**Комментарий ревьювера (все отлично)**\n",
    "    \n",
    "Согласен с решением. Тест прошел успешно! Среднее количество заказов увеличилось при отсутствии значимых изменений по среднему чеку -> выручка увеличилась, так как стали покупать чаще.\n",
    "</div>"
   ]
  },
  {
   "cell_type": "markdown",
   "metadata": {},
   "source": [
    "<a id=\"summary\"></a> \n",
    "## Выводы по результатам проекта"
   ]
  },
  {
   "cell_type": "markdown",
   "metadata": {},
   "source": [
    "**1. Приоритизация гипотез**\n",
    "\n",
    "* Для приоритизации предложенных гипотез применены фреймворки ICE и RICE.\n",
    "* Показано различие в результатах приоритизации гипотез по данным фреймворкам\n",
    "    * Перераспределение приоритетов гипотез в зависимости от используемого фреймворка ICE / RICE связано с введением показателя Reach (оценка того, скольких пользователей затронет изменение) в фреймворке RICE. Поэтому при прочих равных, гипотезы с высокой оценкой Reach поднимаются наверх.\n",
    "    \n",
    "**2. Анализ результатов А/B теста**\n",
    "\n",
    "* Проанализированы изменения количества заказов и среднего чека на \"сырых\" и очищенных данных.\n",
    "* Применен критерий Манна-Уитни для определения статистической значимости анализируемых изменений.\n",
    "* Показано влияние аномалий в данных на результаты теста\n",
    "\n",
    "Получены следующие результаты:\n",
    "* Обнаружена статистически значимая разница между средним количеством заказов. Разница обнаруживается и по сырым и по очищенным данным. Среднее количество заказов в группе B выше на 17%.\n",
    "\n",
    "\n",
    "* Нет статистически значимой разницы в величине среднего чека ни по сырым ни по очищенным данным. \n",
    "\n",
    "\n",
    "* По сырым данным был получен относительный прирост среднего чека в группе B +29%, по очищенным данным -3%. На результаты теста оказали влияние выявленные аномально высокие чеки.\n",
    "\n",
    "\n",
    "* Графики относительного изменения количества заказов и среднего чека по очищенным данным подтвердили результаты теста.\n",
    "\n",
    "\n",
    "**Исходя из полученных результатов, тест следует остановить и признать его успешным.**\n",
    "\n",
    "Успешным тест предлагается признать так как был получен прирост количества заказов в группе B, что при сопоставимом уровне среднего чека позволит увеличить выручку интернет магазина ($Income = Q_{заказов} \\times Чек$)."
   ]
  },
  {
   "cell_type": "markdown",
   "metadata": {},
   "source": [
    "<div class=\"alert alert-block alert-success\">\n",
    "\n",
    "**Комментарий ревьювера (все отлично)**\n",
    "    \n",
    "Принимаю общий вывод – все основные результаты работы отражены.\n",
    "</div>"
   ]
  },
  {
   "cell_type": "markdown",
   "metadata": {},
   "source": [
    "<div class=\"alert alert-block alert-warning\">\n",
    "\n",
    "**Комментарий ревьювера (общий вывод)**\n",
    "    \n",
    "Антон, мне понравилась твоя работа! Выводы хорошо структурированы и достаточно содержательны, умеешь считать перцентили, собирать и визуализировать данные, качественно проводишь проверку гипотез. Спасибо за четкие комментарии по результатам исследования, аккуратный код и качественное оформление отчета! Это упростило проверку. Для принятия твоей работы нужно исправить критические недочёты:\n",
    "    \n",
    "\n",
    "* проверить данные на дубликаты, пропуски и пересечение групп;\n",
    "* поправить границу фильтрации стоимости заказов для проверки гипотез по очищенным данным.\n",
    "    \n",
    "В дополнении прикрепляю полезный материал по теме A/B-тестирования: \n",
    "\n",
    "* https://your-scorpion.ru/ab-tests-check-mathematics/\n",
    "    \n",
    "Жду твою работу!\n",
    "  \n",
    "</div>"
   ]
  },
  {
   "cell_type": "markdown",
   "metadata": {},
   "source": [
    "<div class=\"alert alert-block alert-info\">\n",
    "<b>КОММЕНТАРИЙ ОТ УЧЕНИКА: </b>\n",
    "\n",
    "Василий, спасибо за высокую оценку работы!\n",
    "    \n",
    "По основным замечаниям внес корректировки, где было необходимо уточнил комментарии и выводы.\n",
    "    \n",
    "Также спасибо за ссылку на статью, прочитал, действительно полезно и практично.\n",
    "</div>"
   ]
  },
  {
   "cell_type": "code",
   "execution_count": null,
   "metadata": {},
   "outputs": [],
   "source": []
  }
 ],
 "metadata": {
  "ExecuteTimeLog": [
   {
    "duration": 376,
    "start_time": "2025-04-28T05:47:11.197Z"
   },
   {
    "duration": 70,
    "start_time": "2025-04-28T05:53:29.781Z"
   },
   {
    "duration": 61,
    "start_time": "2025-04-28T05:53:57.786Z"
   },
   {
    "duration": 65,
    "start_time": "2025-04-28T05:54:05.104Z"
   },
   {
    "duration": 7,
    "start_time": "2025-04-28T05:54:10.011Z"
   },
   {
    "duration": 13,
    "start_time": "2025-04-28T05:54:16.941Z"
   },
   {
    "duration": 8,
    "start_time": "2025-04-28T05:54:36.111Z"
   },
   {
    "duration": 7,
    "start_time": "2025-04-28T05:54:53.003Z"
   },
   {
    "duration": 542,
    "start_time": "2025-04-28T07:15:18.543Z"
   },
   {
    "duration": 14,
    "start_time": "2025-04-28T07:43:41.984Z"
   },
   {
    "duration": 12,
    "start_time": "2025-04-28T07:46:16.471Z"
   },
   {
    "duration": 11,
    "start_time": "2025-04-28T07:50:02.100Z"
   },
   {
    "duration": 17,
    "start_time": "2025-04-28T07:52:08.545Z"
   },
   {
    "duration": 4,
    "start_time": "2025-04-28T07:53:21.036Z"
   },
   {
    "duration": 13,
    "start_time": "2025-04-28T07:54:42.697Z"
   },
   {
    "duration": 498,
    "start_time": "2025-04-28T07:55:13.629Z"
   },
   {
    "duration": 85,
    "start_time": "2025-04-28T07:55:28.048Z"
   },
   {
    "duration": 13,
    "start_time": "2025-04-28T07:55:33.182Z"
   },
   {
    "duration": 11,
    "start_time": "2025-04-28T07:55:49.131Z"
   },
   {
    "duration": 13,
    "start_time": "2025-04-28T07:56:14.409Z"
   },
   {
    "duration": 10,
    "start_time": "2025-04-28T07:56:23.423Z"
   },
   {
    "duration": 5,
    "start_time": "2025-04-28T07:57:34.749Z"
   },
   {
    "duration": 13,
    "start_time": "2025-04-28T07:58:52.419Z"
   },
   {
    "duration": 4,
    "start_time": "2025-04-28T07:59:40.676Z"
   },
   {
    "duration": 3,
    "start_time": "2025-04-28T08:00:03.489Z"
   },
   {
    "duration": 864,
    "start_time": "2025-04-28T08:07:47.397Z"
   },
   {
    "duration": 9,
    "start_time": "2025-04-28T08:27:38.594Z"
   },
   {
    "duration": 12,
    "start_time": "2025-04-28T08:27:45.179Z"
   },
   {
    "duration": 4,
    "start_time": "2025-04-28T08:28:58.801Z"
   },
   {
    "duration": 14,
    "start_time": "2025-04-28T08:29:07.862Z"
   },
   {
    "duration": 11,
    "start_time": "2025-04-28T08:29:38.237Z"
   },
   {
    "duration": 3,
    "start_time": "2025-04-28T08:31:37.322Z"
   },
   {
    "duration": 85,
    "start_time": "2025-04-28T08:31:37.327Z"
   },
   {
    "duration": 7,
    "start_time": "2025-04-28T08:31:37.414Z"
   },
   {
    "duration": 22,
    "start_time": "2025-04-28T08:31:37.423Z"
   },
   {
    "duration": 8,
    "start_time": "2025-04-28T08:31:37.447Z"
   },
   {
    "duration": 9,
    "start_time": "2025-04-28T08:31:37.458Z"
   },
   {
    "duration": 10,
    "start_time": "2025-04-28T08:31:37.468Z"
   },
   {
    "duration": 17,
    "start_time": "2025-04-28T08:31:37.479Z"
   },
   {
    "duration": 30,
    "start_time": "2025-04-28T08:31:37.498Z"
   },
   {
    "duration": 11,
    "start_time": "2025-04-28T08:31:37.530Z"
   },
   {
    "duration": 7,
    "start_time": "2025-04-28T08:31:37.543Z"
   },
   {
    "duration": 28,
    "start_time": "2025-04-28T08:31:37.551Z"
   },
   {
    "duration": 14,
    "start_time": "2025-04-28T08:33:56.407Z"
   },
   {
    "duration": 8,
    "start_time": "2025-04-28T08:34:09.502Z"
   },
   {
    "duration": 6,
    "start_time": "2025-04-28T08:35:18.639Z"
   },
   {
    "duration": 1507,
    "start_time": "2025-04-28T08:35:34.705Z"
   },
   {
    "duration": 1667,
    "start_time": "2025-04-28T08:37:33.999Z"
   },
   {
    "duration": 5,
    "start_time": "2025-04-28T08:38:40.316Z"
   },
   {
    "duration": 4,
    "start_time": "2025-04-28T08:43:24.836Z"
   },
   {
    "duration": 10,
    "start_time": "2025-04-28T08:43:34.737Z"
   },
   {
    "duration": 4,
    "start_time": "2025-04-28T08:50:01.621Z"
   },
   {
    "duration": 11,
    "start_time": "2025-04-28T08:50:04.276Z"
   },
   {
    "duration": 4,
    "start_time": "2025-04-28T08:51:07.294Z"
   },
   {
    "duration": 12,
    "start_time": "2025-04-28T08:52:14.031Z"
   },
   {
    "duration": 5,
    "start_time": "2025-04-28T08:53:35.256Z"
   },
   {
    "duration": 80,
    "start_time": "2025-04-28T09:30:00.367Z"
   },
   {
    "duration": 46,
    "start_time": "2025-05-01T03:51:41.616Z"
   },
   {
    "duration": 786,
    "start_time": "2025-05-01T03:51:59.910Z"
   },
   {
    "duration": 68,
    "start_time": "2025-05-01T03:52:00.698Z"
   },
   {
    "duration": 11,
    "start_time": "2025-05-01T03:52:00.767Z"
   },
   {
    "duration": 35,
    "start_time": "2025-05-01T03:52:00.780Z"
   },
   {
    "duration": 21,
    "start_time": "2025-05-01T03:52:00.817Z"
   },
   {
    "duration": 13,
    "start_time": "2025-05-01T03:52:00.840Z"
   },
   {
    "duration": 13,
    "start_time": "2025-05-01T03:52:00.855Z"
   },
   {
    "duration": 15,
    "start_time": "2025-05-01T03:52:00.869Z"
   },
   {
    "duration": 25,
    "start_time": "2025-05-01T03:52:00.885Z"
   },
   {
    "duration": 22,
    "start_time": "2025-05-01T03:52:00.912Z"
   },
   {
    "duration": 5,
    "start_time": "2025-05-01T03:52:00.936Z"
   },
   {
    "duration": 9,
    "start_time": "2025-05-01T03:52:00.942Z"
   },
   {
    "duration": 5,
    "start_time": "2025-05-01T03:52:00.953Z"
   },
   {
    "duration": 14,
    "start_time": "2025-05-01T03:52:00.963Z"
   },
   {
    "duration": 25,
    "start_time": "2025-05-01T03:52:00.979Z"
   },
   {
    "duration": 16,
    "start_time": "2025-05-01T03:52:01.006Z"
   },
   {
    "duration": 12,
    "start_time": "2025-05-01T03:52:32.032Z"
   },
   {
    "duration": 16,
    "start_time": "2025-05-01T03:53:02.007Z"
   },
   {
    "duration": 92,
    "start_time": "2025-05-01T04:44:58.110Z"
   },
   {
    "duration": 6,
    "start_time": "2025-05-01T05:34:52.565Z"
   },
   {
    "duration": 10,
    "start_time": "2025-05-01T05:35:04.937Z"
   },
   {
    "duration": 51,
    "start_time": "2025-05-01T05:37:43.084Z"
   },
   {
    "duration": 152,
    "start_time": "2025-05-01T05:40:29.810Z"
   },
   {
    "duration": 11,
    "start_time": "2025-05-01T05:40:36.282Z"
   },
   {
    "duration": 146,
    "start_time": "2025-05-01T05:42:10.346Z"
   },
   {
    "duration": 10,
    "start_time": "2025-05-01T05:42:16.394Z"
   },
   {
    "duration": 153,
    "start_time": "2025-05-01T06:37:09.900Z"
   },
   {
    "duration": 150,
    "start_time": "2025-05-01T06:38:33.532Z"
   },
   {
    "duration": 11,
    "start_time": "2025-05-01T06:38:37.167Z"
   },
   {
    "duration": 111,
    "start_time": "2025-05-01T06:39:16.860Z"
   },
   {
    "duration": 15,
    "start_time": "2025-05-01T06:39:27.915Z"
   },
   {
    "duration": 9,
    "start_time": "2025-05-01T06:44:42.766Z"
   },
   {
    "duration": 11,
    "start_time": "2025-05-01T06:44:57.575Z"
   },
   {
    "duration": 12,
    "start_time": "2025-05-01T07:16:00.118Z"
   },
   {
    "duration": 157,
    "start_time": "2025-05-01T07:16:14.949Z"
   },
   {
    "duration": 111,
    "start_time": "2025-05-01T07:16:26.574Z"
   },
   {
    "duration": 8,
    "start_time": "2025-05-01T07:42:44.639Z"
   },
   {
    "duration": 5,
    "start_time": "2025-05-01T07:42:50.364Z"
   },
   {
    "duration": 7,
    "start_time": "2025-05-01T07:42:52.940Z"
   },
   {
    "duration": 456,
    "start_time": "2025-05-01T07:43:28.544Z"
   },
   {
    "duration": 5,
    "start_time": "2025-05-01T07:43:59.120Z"
   },
   {
    "duration": 324,
    "start_time": "2025-05-01T07:44:07.876Z"
   },
   {
    "duration": 424,
    "start_time": "2025-05-01T07:44:33.155Z"
   },
   {
    "duration": 324,
    "start_time": "2025-05-01T07:45:56.652Z"
   },
   {
    "duration": 91,
    "start_time": "2025-05-01T07:57:31.063Z"
   },
   {
    "duration": 5,
    "start_time": "2025-05-01T07:57:44.152Z"
   },
   {
    "duration": 396,
    "start_time": "2025-05-01T07:57:51.452Z"
   },
   {
    "duration": 6,
    "start_time": "2025-05-01T07:59:12.044Z"
   },
   {
    "duration": 406,
    "start_time": "2025-05-01T07:59:15.319Z"
   },
   {
    "duration": 7,
    "start_time": "2025-05-01T08:00:07.161Z"
   },
   {
    "duration": 366,
    "start_time": "2025-05-01T08:00:11.377Z"
   },
   {
    "duration": 6,
    "start_time": "2025-05-01T08:01:15.026Z"
   },
   {
    "duration": 414,
    "start_time": "2025-05-01T08:01:18.021Z"
   },
   {
    "duration": 6,
    "start_time": "2025-05-01T08:02:04.442Z"
   },
   {
    "duration": 321,
    "start_time": "2025-05-01T08:02:07.250Z"
   },
   {
    "duration": 7,
    "start_time": "2025-05-01T08:04:22.258Z"
   },
   {
    "duration": 350,
    "start_time": "2025-05-01T08:04:25.734Z"
   },
   {
    "duration": 353,
    "start_time": "2025-05-01T08:05:50.835Z"
   },
   {
    "duration": 7,
    "start_time": "2025-05-01T08:12:42.253Z"
   },
   {
    "duration": 423,
    "start_time": "2025-05-01T08:15:17.845Z"
   },
   {
    "duration": 8,
    "start_time": "2025-05-01T08:23:26.707Z"
   },
   {
    "duration": 1497,
    "start_time": "2025-05-01T08:24:49.271Z"
   },
   {
    "duration": 8,
    "start_time": "2025-05-01T08:25:09.067Z"
   },
   {
    "duration": 7,
    "start_time": "2025-05-01T08:26:00.952Z"
   },
   {
    "duration": 355,
    "start_time": "2025-05-01T08:26:08.480Z"
   },
   {
    "duration": 86,
    "start_time": "2025-05-01T08:27:04.032Z"
   },
   {
    "duration": 9,
    "start_time": "2025-05-01T08:43:10.270Z"
   },
   {
    "duration": 385,
    "start_time": "2025-05-01T08:44:24.010Z"
   },
   {
    "duration": 9,
    "start_time": "2025-05-01T08:45:55.858Z"
   },
   {
    "duration": 489,
    "start_time": "2025-05-01T08:46:03.110Z"
   },
   {
    "duration": 14,
    "start_time": "2025-05-01T08:46:29.039Z"
   },
   {
    "duration": 450,
    "start_time": "2025-05-01T08:46:38.442Z"
   },
   {
    "duration": 11,
    "start_time": "2025-05-01T10:22:07.169Z"
   },
   {
    "duration": 107,
    "start_time": "2025-05-01T10:24:06.255Z"
   },
   {
    "duration": 99,
    "start_time": "2025-05-01T10:24:18.343Z"
   },
   {
    "duration": 101,
    "start_time": "2025-05-01T10:29:55.337Z"
   },
   {
    "duration": 94,
    "start_time": "2025-05-01T10:30:42.225Z"
   },
   {
    "duration": 10,
    "start_time": "2025-05-01T10:32:25.628Z"
   },
   {
    "duration": 420,
    "start_time": "2025-05-01T10:32:30.196Z"
   },
   {
    "duration": 338,
    "start_time": "2025-05-01T10:32:35.730Z"
   },
   {
    "duration": 1460,
    "start_time": "2025-05-01T10:35:07.534Z"
   },
   {
    "duration": 10,
    "start_time": "2025-05-01T10:37:41.861Z"
   },
   {
    "duration": 1490,
    "start_time": "2025-05-01T10:37:47.979Z"
   },
   {
    "duration": 302,
    "start_time": "2025-05-01T10:38:39.124Z"
   },
   {
    "duration": 287,
    "start_time": "2025-05-01T10:39:08.319Z"
   },
   {
    "duration": 443,
    "start_time": "2025-05-01T10:39:39.756Z"
   },
   {
    "duration": 11,
    "start_time": "2025-05-02T15:24:35.838Z"
   },
   {
    "duration": 288,
    "start_time": "2025-05-02T15:32:39.012Z"
   },
   {
    "duration": 5,
    "start_time": "2025-05-02T15:53:02.169Z"
   },
   {
    "duration": 5,
    "start_time": "2025-05-02T16:03:26.504Z"
   },
   {
    "duration": 90,
    "start_time": "2025-05-02T16:13:24.638Z"
   },
   {
    "duration": 821,
    "start_time": "2025-05-06T04:35:11.044Z"
   },
   {
    "duration": 79,
    "start_time": "2025-05-06T04:35:11.867Z"
   },
   {
    "duration": 11,
    "start_time": "2025-05-06T04:35:11.948Z"
   },
   {
    "duration": 11,
    "start_time": "2025-05-06T04:35:11.960Z"
   },
   {
    "duration": 25,
    "start_time": "2025-05-06T04:35:11.973Z"
   },
   {
    "duration": 35,
    "start_time": "2025-05-06T04:35:12.000Z"
   },
   {
    "duration": 20,
    "start_time": "2025-05-06T04:35:12.037Z"
   },
   {
    "duration": 11,
    "start_time": "2025-05-06T04:35:12.059Z"
   },
   {
    "duration": 26,
    "start_time": "2025-05-06T04:35:12.072Z"
   },
   {
    "duration": 6,
    "start_time": "2025-05-06T04:35:12.100Z"
   },
   {
    "duration": 10,
    "start_time": "2025-05-06T04:35:12.108Z"
   },
   {
    "duration": 18,
    "start_time": "2025-05-06T04:35:12.119Z"
   },
   {
    "duration": 8,
    "start_time": "2025-05-06T04:35:12.138Z"
   },
   {
    "duration": 21,
    "start_time": "2025-05-06T04:35:12.148Z"
   },
   {
    "duration": 15,
    "start_time": "2025-05-06T04:35:12.170Z"
   },
   {
    "duration": 167,
    "start_time": "2025-05-06T04:35:12.186Z"
   },
   {
    "duration": 140,
    "start_time": "2025-05-06T04:35:12.354Z"
   },
   {
    "duration": 11,
    "start_time": "2025-05-06T04:35:12.495Z"
   },
   {
    "duration": 10,
    "start_time": "2025-05-06T04:35:12.508Z"
   },
   {
    "duration": 502,
    "start_time": "2025-05-06T04:35:12.520Z"
   },
   {
    "duration": 352,
    "start_time": "2025-05-06T04:35:13.023Z"
   },
   {
    "duration": 485,
    "start_time": "2025-05-06T04:35:13.377Z"
   },
   {
    "duration": 380,
    "start_time": "2025-05-06T04:35:13.863Z"
   },
   {
    "duration": 453,
    "start_time": "2025-05-06T04:35:14.245Z"
   },
   {
    "duration": 10,
    "start_time": "2025-05-06T04:35:14.700Z"
   },
   {
    "duration": 282,
    "start_time": "2025-05-06T04:35:14.711Z"
   },
   {
    "duration": 5,
    "start_time": "2025-05-06T04:35:14.995Z"
   },
   {
    "duration": 307,
    "start_time": "2025-05-06T04:35:15.001Z"
   },
   {
    "duration": 5,
    "start_time": "2025-05-06T04:35:15.310Z"
   },
   {
    "duration": 69,
    "start_time": "2025-05-06T04:47:22.014Z"
   },
   {
    "duration": 9,
    "start_time": "2025-05-06T04:47:26.904Z"
   },
   {
    "duration": 8,
    "start_time": "2025-05-06T04:48:15.698Z"
   },
   {
    "duration": 124,
    "start_time": "2025-05-06T04:48:51.188Z"
   },
   {
    "duration": 9,
    "start_time": "2025-05-06T04:49:03.579Z"
   },
   {
    "duration": 10,
    "start_time": "2025-05-06T04:49:14.244Z"
   },
   {
    "duration": 5,
    "start_time": "2025-05-06T08:47:22.690Z"
   },
   {
    "duration": 9,
    "start_time": "2025-05-06T08:47:35.125Z"
   },
   {
    "duration": 45,
    "start_time": "2025-05-06T08:53:58.861Z"
   },
   {
    "duration": 10,
    "start_time": "2025-05-06T08:54:15.646Z"
   },
   {
    "duration": 5,
    "start_time": "2025-05-06T08:57:56.435Z"
   },
   {
    "duration": 8,
    "start_time": "2025-05-06T08:58:12.145Z"
   },
   {
    "duration": 46,
    "start_time": "2025-05-06T08:58:54.276Z"
   },
   {
    "duration": 7,
    "start_time": "2025-05-06T08:59:01.371Z"
   },
   {
    "duration": 79,
    "start_time": "2025-05-06T09:01:00.058Z"
   },
   {
    "duration": 15,
    "start_time": "2025-05-06T09:01:19.777Z"
   },
   {
    "duration": 8,
    "start_time": "2025-05-06T09:01:25.623Z"
   },
   {
    "duration": 46,
    "start_time": "2025-05-06T09:03:05.590Z"
   },
   {
    "duration": 8,
    "start_time": "2025-05-06T09:03:21.595Z"
   },
   {
    "duration": 13,
    "start_time": "2025-05-06T09:04:46.301Z"
   },
   {
    "duration": 48,
    "start_time": "2025-05-06T09:06:08.290Z"
   },
   {
    "duration": 22,
    "start_time": "2025-05-06T09:07:15.461Z"
   },
   {
    "duration": 19,
    "start_time": "2025-05-06T09:07:42.037Z"
   },
   {
    "duration": 6,
    "start_time": "2025-05-06T15:55:52.131Z"
   },
   {
    "duration": 5,
    "start_time": "2025-05-06T15:56:01.969Z"
   },
   {
    "duration": 5,
    "start_time": "2025-05-06T15:56:14.598Z"
   },
   {
    "duration": 10,
    "start_time": "2025-05-06T16:00:55.768Z"
   },
   {
    "duration": 384,
    "start_time": "2025-05-06T16:01:34.393Z"
   },
   {
    "duration": 25,
    "start_time": "2025-05-06T16:01:45.135Z"
   },
   {
    "duration": 23,
    "start_time": "2025-05-06T16:07:43.651Z"
   },
   {
    "duration": 24,
    "start_time": "2025-05-06T16:10:04.971Z"
   },
   {
    "duration": 24,
    "start_time": "2025-05-06T16:11:11.225Z"
   },
   {
    "duration": 23,
    "start_time": "2025-05-06T16:11:36.488Z"
   },
   {
    "duration": 35,
    "start_time": "2025-05-06T16:12:39.922Z"
   },
   {
    "duration": 3,
    "start_time": "2025-05-06T16:16:50.591Z"
   },
   {
    "duration": 90,
    "start_time": "2025-05-06T16:24:09.468Z"
   },
   {
    "duration": 8,
    "start_time": "2025-05-06T16:34:43.259Z"
   },
   {
    "duration": 10,
    "start_time": "2025-05-06T16:36:30.324Z"
   },
   {
    "duration": 5,
    "start_time": "2025-05-06T16:41:46.272Z"
   },
   {
    "duration": 11,
    "start_time": "2025-05-06T16:43:14.893Z"
   },
   {
    "duration": 84,
    "start_time": "2025-05-06T16:51:54.695Z"
   },
   {
    "duration": 6,
    "start_time": "2025-05-06T17:10:47.924Z"
   },
   {
    "duration": 5,
    "start_time": "2025-05-06T17:12:23.656Z"
   },
   {
    "duration": 5,
    "start_time": "2025-05-06T17:13:24.810Z"
   },
   {
    "duration": 6,
    "start_time": "2025-05-06T17:13:43.035Z"
   },
   {
    "duration": 3,
    "start_time": "2025-05-06T17:14:33.122Z"
   },
   {
    "duration": 6,
    "start_time": "2025-05-06T17:16:42.123Z"
   },
   {
    "duration": 6,
    "start_time": "2025-05-06T17:18:01.204Z"
   },
   {
    "duration": 23,
    "start_time": "2025-05-06T17:20:12.246Z"
   },
   {
    "duration": 4,
    "start_time": "2025-05-06T17:21:44.450Z"
   },
   {
    "duration": 1644,
    "start_time": "2025-05-06T17:34:18.468Z"
   },
   {
    "duration": 10,
    "start_time": "2025-05-06T17:34:29.987Z"
   },
   {
    "duration": 74,
    "start_time": "2025-05-06T17:55:09.810Z"
   },
   {
    "duration": 9,
    "start_time": "2025-05-06T17:55:56.822Z"
   },
   {
    "duration": 1786,
    "start_time": "2025-05-06T18:35:48.672Z"
   },
   {
    "duration": 1811,
    "start_time": "2025-05-06T18:36:21.612Z"
   },
   {
    "duration": 12,
    "start_time": "2025-05-06T18:38:33.475Z"
   },
   {
    "duration": 167,
    "start_time": "2025-05-06T18:39:15.688Z"
   },
   {
    "duration": 11,
    "start_time": "2025-05-06T18:39:28.818Z"
   },
   {
    "duration": 7,
    "start_time": "2025-05-06T18:43:39.498Z"
   },
   {
    "duration": 12,
    "start_time": "2025-05-06T18:43:50.735Z"
   },
   {
    "duration": 404,
    "start_time": "2025-05-06T18:45:40.578Z"
   },
   {
    "duration": 457,
    "start_time": "2025-05-06T18:47:21.263Z"
   },
   {
    "duration": 11,
    "start_time": "2025-05-06T18:49:24.723Z"
   },
   {
    "duration": 518,
    "start_time": "2025-05-06T18:49:41.870Z"
   },
   {
    "duration": 5,
    "start_time": "2025-05-06T19:47:45.385Z"
   },
   {
    "duration": 83,
    "start_time": "2025-05-06T19:47:45.392Z"
   },
   {
    "duration": 23,
    "start_time": "2025-05-06T19:47:45.479Z"
   },
   {
    "duration": 15,
    "start_time": "2025-05-06T19:47:45.504Z"
   },
   {
    "duration": 16,
    "start_time": "2025-05-06T19:47:45.522Z"
   },
   {
    "duration": 12,
    "start_time": "2025-05-06T19:47:45.540Z"
   },
   {
    "duration": 27,
    "start_time": "2025-05-06T19:47:45.554Z"
   },
   {
    "duration": 11,
    "start_time": "2025-05-06T19:47:45.584Z"
   },
   {
    "duration": 19,
    "start_time": "2025-05-06T19:47:45.597Z"
   },
   {
    "duration": 9,
    "start_time": "2025-05-06T19:47:45.618Z"
   },
   {
    "duration": 10,
    "start_time": "2025-05-06T19:47:45.629Z"
   },
   {
    "duration": 32,
    "start_time": "2025-05-06T19:47:45.640Z"
   },
   {
    "duration": 6,
    "start_time": "2025-05-06T19:47:45.675Z"
   },
   {
    "duration": 12,
    "start_time": "2025-05-06T19:47:45.686Z"
   },
   {
    "duration": 103,
    "start_time": "2025-05-06T19:47:45.700Z"
   },
   {
    "duration": 198,
    "start_time": "2025-05-06T19:47:45.805Z"
   },
   {
    "duration": 157,
    "start_time": "2025-05-06T19:47:46.005Z"
   },
   {
    "duration": 17,
    "start_time": "2025-05-06T19:47:46.164Z"
   },
   {
    "duration": 19,
    "start_time": "2025-05-06T19:47:46.183Z"
   },
   {
    "duration": 432,
    "start_time": "2025-05-06T19:47:46.204Z"
   },
   {
    "duration": 371,
    "start_time": "2025-05-06T19:47:46.638Z"
   },
   {
    "duration": 517,
    "start_time": "2025-05-06T19:47:47.012Z"
   },
   {
    "duration": 443,
    "start_time": "2025-05-06T19:47:47.531Z"
   },
   {
    "duration": 570,
    "start_time": "2025-05-06T19:47:47.976Z"
   },
   {
    "duration": 18,
    "start_time": "2025-05-06T19:47:48.548Z"
   },
   {
    "duration": 274,
    "start_time": "2025-05-06T19:47:48.568Z"
   },
   {
    "duration": 22,
    "start_time": "2025-05-06T19:47:48.844Z"
   },
   {
    "duration": 297,
    "start_time": "2025-05-06T19:47:48.868Z"
   },
   {
    "duration": 12,
    "start_time": "2025-05-06T19:47:49.168Z"
   },
   {
    "duration": 6,
    "start_time": "2025-05-06T19:47:49.183Z"
   },
   {
    "duration": 171,
    "start_time": "2025-05-06T19:47:49.191Z"
   },
   {
    "duration": 24,
    "start_time": "2025-05-06T19:47:49.364Z"
   },
   {
    "duration": 80,
    "start_time": "2025-05-06T19:47:49.390Z"
   },
   {
    "duration": 46,
    "start_time": "2025-05-06T19:47:49.472Z"
   },
   {
    "duration": 62,
    "start_time": "2025-05-06T19:47:49.520Z"
   },
   {
    "duration": 16,
    "start_time": "2025-05-06T19:47:49.584Z"
   },
   {
    "duration": 63,
    "start_time": "2025-05-06T19:47:49.603Z"
   },
   {
    "duration": 42,
    "start_time": "2025-05-06T19:47:49.669Z"
   },
   {
    "duration": 108,
    "start_time": "2025-05-06T19:47:49.713Z"
   },
   {
    "duration": 213,
    "start_time": "2025-05-06T19:47:49.823Z"
   },
   {
    "duration": 10,
    "start_time": "2025-05-06T19:47:50.042Z"
   },
   {
    "duration": 51,
    "start_time": "2025-05-06T19:47:50.062Z"
   },
   {
    "duration": 6,
    "start_time": "2025-05-06T19:47:50.115Z"
   },
   {
    "duration": 16,
    "start_time": "2025-05-06T19:47:50.123Z"
   },
   {
    "duration": 22,
    "start_time": "2025-05-06T19:47:50.143Z"
   },
   {
    "duration": 15,
    "start_time": "2025-05-06T19:47:50.169Z"
   },
   {
    "duration": 8,
    "start_time": "2025-05-06T19:47:50.188Z"
   },
   {
    "duration": 6,
    "start_time": "2025-05-06T19:47:50.198Z"
   },
   {
    "duration": 12,
    "start_time": "2025-05-06T19:47:50.206Z"
   },
   {
    "duration": 17,
    "start_time": "2025-05-06T19:47:50.219Z"
   },
   {
    "duration": 27,
    "start_time": "2025-05-06T19:47:50.238Z"
   },
   {
    "duration": 52,
    "start_time": "2025-05-06T19:47:50.267Z"
   },
   {
    "duration": 4,
    "start_time": "2025-05-06T19:47:50.321Z"
   },
   {
    "duration": 13,
    "start_time": "2025-05-06T19:47:50.327Z"
   },
   {
    "duration": 24,
    "start_time": "2025-05-06T19:47:50.342Z"
   },
   {
    "duration": 214,
    "start_time": "2025-05-06T19:47:50.368Z"
   },
   {
    "duration": 11,
    "start_time": "2025-05-06T19:47:50.587Z"
   },
   {
    "duration": 529,
    "start_time": "2025-05-06T19:47:50.600Z"
   },
   {
    "duration": 606,
    "start_time": "2025-05-06T19:47:51.131Z"
   },
   {
    "duration": 1457,
    "start_time": "2025-05-07T04:26:18.978Z"
   },
   {
    "duration": 172,
    "start_time": "2025-05-07T04:26:20.438Z"
   },
   {
    "duration": 19,
    "start_time": "2025-05-07T04:26:20.614Z"
   },
   {
    "duration": 16,
    "start_time": "2025-05-07T04:26:20.636Z"
   },
   {
    "duration": 8,
    "start_time": "2025-05-07T04:26:20.654Z"
   },
   {
    "duration": 13,
    "start_time": "2025-05-07T04:26:20.664Z"
   },
   {
    "duration": 10,
    "start_time": "2025-05-07T04:26:20.679Z"
   },
   {
    "duration": 11,
    "start_time": "2025-05-07T04:26:20.691Z"
   },
   {
    "duration": 14,
    "start_time": "2025-05-07T04:26:20.736Z"
   },
   {
    "duration": 5,
    "start_time": "2025-05-07T04:26:20.753Z"
   },
   {
    "duration": 9,
    "start_time": "2025-05-07T04:26:20.760Z"
   },
   {
    "duration": 27,
    "start_time": "2025-05-07T04:26:20.771Z"
   },
   {
    "duration": 8,
    "start_time": "2025-05-07T04:26:20.800Z"
   },
   {
    "duration": 39,
    "start_time": "2025-05-07T04:26:20.810Z"
   },
   {
    "duration": 16,
    "start_time": "2025-05-07T04:26:20.851Z"
   },
   {
    "duration": 199,
    "start_time": "2025-05-07T04:26:20.868Z"
   },
   {
    "duration": 173,
    "start_time": "2025-05-07T04:26:21.069Z"
   },
   {
    "duration": 17,
    "start_time": "2025-05-07T04:26:21.244Z"
   },
   {
    "duration": 11,
    "start_time": "2025-05-07T04:26:21.263Z"
   },
   {
    "duration": 520,
    "start_time": "2025-05-07T04:26:21.276Z"
   },
   {
    "duration": 366,
    "start_time": "2025-05-07T04:26:21.798Z"
   },
   {
    "duration": 518,
    "start_time": "2025-05-07T04:26:22.166Z"
   },
   {
    "duration": 421,
    "start_time": "2025-05-07T04:26:22.687Z"
   },
   {
    "duration": 464,
    "start_time": "2025-05-07T04:26:23.111Z"
   },
   {
    "duration": 13,
    "start_time": "2025-05-07T04:26:23.577Z"
   },
   {
    "duration": 303,
    "start_time": "2025-05-07T04:26:23.592Z"
   },
   {
    "duration": 6,
    "start_time": "2025-05-07T04:26:23.897Z"
   },
   {
    "duration": 314,
    "start_time": "2025-05-07T04:26:23.908Z"
   },
   {
    "duration": 12,
    "start_time": "2025-05-07T04:26:24.224Z"
   },
   {
    "duration": 6,
    "start_time": "2025-05-07T04:26:24.238Z"
   },
   {
    "duration": 136,
    "start_time": "2025-05-07T04:26:24.247Z"
   },
   {
    "duration": 21,
    "start_time": "2025-05-07T04:26:24.385Z"
   },
   {
    "duration": 59,
    "start_time": "2025-05-07T04:26:24.408Z"
   },
   {
    "duration": 16,
    "start_time": "2025-05-07T04:26:24.470Z"
   },
   {
    "duration": 71,
    "start_time": "2025-05-07T04:26:24.487Z"
   },
   {
    "duration": 31,
    "start_time": "2025-05-07T04:26:24.560Z"
   },
   {
    "duration": 67,
    "start_time": "2025-05-07T04:26:24.593Z"
   },
   {
    "duration": 23,
    "start_time": "2025-05-07T04:26:24.662Z"
   },
   {
    "duration": 17,
    "start_time": "2025-05-07T04:26:24.687Z"
   },
   {
    "duration": 197,
    "start_time": "2025-05-07T04:26:24.706Z"
   },
   {
    "duration": 9,
    "start_time": "2025-05-07T04:26:24.905Z"
   },
   {
    "duration": 54,
    "start_time": "2025-05-07T04:26:24.916Z"
   },
   {
    "duration": 5,
    "start_time": "2025-05-07T04:26:24.972Z"
   },
   {
    "duration": 9,
    "start_time": "2025-05-07T04:26:24.978Z"
   },
   {
    "duration": 7,
    "start_time": "2025-05-07T04:26:24.989Z"
   },
   {
    "duration": 42,
    "start_time": "2025-05-07T04:26:24.998Z"
   },
   {
    "duration": 87,
    "start_time": "2025-05-07T04:26:25.042Z"
   },
   {
    "duration": 6,
    "start_time": "2025-05-07T04:26:25.132Z"
   },
   {
    "duration": 17,
    "start_time": "2025-05-07T04:26:25.140Z"
   },
   {
    "duration": 10,
    "start_time": "2025-05-07T04:26:25.159Z"
   },
   {
    "duration": 29,
    "start_time": "2025-05-07T04:26:25.171Z"
   },
   {
    "duration": 46,
    "start_time": "2025-05-07T04:26:25.202Z"
   },
   {
    "duration": 5,
    "start_time": "2025-05-07T04:26:25.251Z"
   },
   {
    "duration": 9,
    "start_time": "2025-05-07T04:26:25.258Z"
   },
   {
    "duration": 12,
    "start_time": "2025-05-07T04:26:25.269Z"
   },
   {
    "duration": 205,
    "start_time": "2025-05-07T04:26:25.283Z"
   },
   {
    "duration": 7,
    "start_time": "2025-05-07T04:26:25.490Z"
   },
   {
    "duration": 571,
    "start_time": "2025-05-07T04:26:25.499Z"
   },
   {
    "duration": 546,
    "start_time": "2025-05-07T04:26:26.071Z"
   },
   {
    "duration": 1368,
    "start_time": "2025-05-07T04:40:31.064Z"
   },
   {
    "duration": 73,
    "start_time": "2025-05-07T04:40:32.434Z"
   },
   {
    "duration": 12,
    "start_time": "2025-05-07T04:40:32.509Z"
   },
   {
    "duration": 32,
    "start_time": "2025-05-07T04:40:32.523Z"
   },
   {
    "duration": 11,
    "start_time": "2025-05-07T04:40:32.557Z"
   },
   {
    "duration": 23,
    "start_time": "2025-05-07T04:40:32.571Z"
   },
   {
    "duration": 32,
    "start_time": "2025-05-07T04:40:32.596Z"
   },
   {
    "duration": 25,
    "start_time": "2025-05-07T04:40:32.630Z"
   },
   {
    "duration": 29,
    "start_time": "2025-05-07T04:40:32.657Z"
   },
   {
    "duration": 9,
    "start_time": "2025-05-07T04:40:32.691Z"
   },
   {
    "duration": 9,
    "start_time": "2025-05-07T04:40:32.702Z"
   },
   {
    "duration": 17,
    "start_time": "2025-05-07T04:40:32.713Z"
   },
   {
    "duration": 13,
    "start_time": "2025-05-07T04:40:32.735Z"
   },
   {
    "duration": 13,
    "start_time": "2025-05-07T04:40:32.756Z"
   },
   {
    "duration": 48,
    "start_time": "2025-05-07T04:40:32.771Z"
   },
   {
    "duration": 182,
    "start_time": "2025-05-07T04:40:32.821Z"
   },
   {
    "duration": 150,
    "start_time": "2025-05-07T04:40:33.005Z"
   },
   {
    "duration": 12,
    "start_time": "2025-05-07T04:40:33.157Z"
   },
   {
    "duration": 23,
    "start_time": "2025-05-07T04:40:33.170Z"
   },
   {
    "duration": 486,
    "start_time": "2025-05-07T04:40:33.195Z"
   },
   {
    "duration": 411,
    "start_time": "2025-05-07T04:40:33.683Z"
   },
   {
    "duration": 492,
    "start_time": "2025-05-07T04:40:34.096Z"
   },
   {
    "duration": 418,
    "start_time": "2025-05-07T04:40:34.590Z"
   },
   {
    "duration": 489,
    "start_time": "2025-05-07T04:40:35.010Z"
   },
   {
    "duration": 13,
    "start_time": "2025-05-07T04:40:35.500Z"
   },
   {
    "duration": 280,
    "start_time": "2025-05-07T04:40:35.515Z"
   },
   {
    "duration": 6,
    "start_time": "2025-05-07T04:40:35.797Z"
   },
   {
    "duration": 306,
    "start_time": "2025-05-07T04:40:35.811Z"
   },
   {
    "duration": 6,
    "start_time": "2025-05-07T04:40:36.118Z"
   },
   {
    "duration": 6,
    "start_time": "2025-05-07T04:40:36.141Z"
   },
   {
    "duration": 61,
    "start_time": "2025-05-07T04:40:36.152Z"
   },
   {
    "duration": 35,
    "start_time": "2025-05-07T04:40:36.215Z"
   },
   {
    "duration": 60,
    "start_time": "2025-05-07T04:40:36.252Z"
   },
   {
    "duration": 22,
    "start_time": "2025-05-07T04:40:36.314Z"
   },
   {
    "duration": 59,
    "start_time": "2025-05-07T04:40:36.344Z"
   },
   {
    "duration": 27,
    "start_time": "2025-05-07T04:40:36.404Z"
   },
   {
    "duration": 85,
    "start_time": "2025-05-07T04:40:36.432Z"
   },
   {
    "duration": 43,
    "start_time": "2025-05-07T04:40:36.520Z"
   },
   {
    "duration": 23,
    "start_time": "2025-05-07T04:40:36.567Z"
   },
   {
    "duration": 193,
    "start_time": "2025-05-07T04:40:36.592Z"
   },
   {
    "duration": 8,
    "start_time": "2025-05-07T04:40:36.787Z"
   },
   {
    "duration": 57,
    "start_time": "2025-05-07T04:40:36.797Z"
   },
   {
    "duration": 15,
    "start_time": "2025-05-07T04:40:36.856Z"
   },
   {
    "duration": 25,
    "start_time": "2025-05-07T04:40:36.873Z"
   },
   {
    "duration": 12,
    "start_time": "2025-05-07T04:40:36.900Z"
   },
   {
    "duration": 8,
    "start_time": "2025-05-07T04:40:36.914Z"
   },
   {
    "duration": 24,
    "start_time": "2025-05-07T04:40:36.924Z"
   },
   {
    "duration": 8,
    "start_time": "2025-05-07T04:40:36.949Z"
   },
   {
    "duration": 12,
    "start_time": "2025-05-07T04:40:36.958Z"
   },
   {
    "duration": 13,
    "start_time": "2025-05-07T04:40:36.972Z"
   },
   {
    "duration": 11,
    "start_time": "2025-05-07T04:40:36.987Z"
   },
   {
    "duration": 25,
    "start_time": "2025-05-07T04:40:37.000Z"
   },
   {
    "duration": 4,
    "start_time": "2025-05-07T04:40:37.027Z"
   },
   {
    "duration": 20,
    "start_time": "2025-05-07T04:40:37.033Z"
   },
   {
    "duration": 8,
    "start_time": "2025-05-07T04:40:37.054Z"
   },
   {
    "duration": 291,
    "start_time": "2025-05-07T04:40:37.064Z"
   },
   {
    "duration": 8,
    "start_time": "2025-05-07T04:40:37.357Z"
   },
   {
    "duration": 495,
    "start_time": "2025-05-07T04:40:37.367Z"
   },
   {
    "duration": 621,
    "start_time": "2025-05-07T04:40:37.863Z"
   },
   {
    "duration": 63,
    "start_time": "2025-05-07T14:54:16.507Z"
   },
   {
    "duration": 1260,
    "start_time": "2025-05-07T14:54:24.558Z"
   },
   {
    "duration": 67,
    "start_time": "2025-05-07T14:54:28.255Z"
   },
   {
    "duration": 17,
    "start_time": "2025-05-07T14:54:31.997Z"
   },
   {
    "duration": 11,
    "start_time": "2025-05-07T14:54:35.215Z"
   },
   {
    "duration": 10,
    "start_time": "2025-05-07T14:54:39.265Z"
   },
   {
    "duration": 9,
    "start_time": "2025-05-07T14:54:46.256Z"
   },
   {
    "duration": 9,
    "start_time": "2025-05-07T14:54:49.792Z"
   },
   {
    "duration": 13,
    "start_time": "2025-05-07T14:54:56.179Z"
   },
   {
    "duration": 15,
    "start_time": "2025-05-07T14:54:59.847Z"
   },
   {
    "duration": 14,
    "start_time": "2025-05-07T14:55:08.000Z"
   },
   {
    "duration": 12,
    "start_time": "2025-05-07T14:57:24.595Z"
   },
   {
    "duration": 15,
    "start_time": "2025-05-07T14:59:58.135Z"
   },
   {
    "duration": 65,
    "start_time": "2025-05-07T15:00:30.524Z"
   },
   {
    "duration": 78,
    "start_time": "2025-05-07T15:01:20.471Z"
   },
   {
    "duration": 10,
    "start_time": "2025-05-07T15:01:28.112Z"
   },
   {
    "duration": 9,
    "start_time": "2025-05-07T15:01:48.693Z"
   },
   {
    "duration": 18,
    "start_time": "2025-05-07T15:03:04.308Z"
   },
   {
    "duration": 7,
    "start_time": "2025-05-07T15:03:29.719Z"
   },
   {
    "duration": 9,
    "start_time": "2025-05-07T15:07:24.368Z"
   },
   {
    "duration": 5,
    "start_time": "2025-05-07T15:07:39.304Z"
   },
   {
    "duration": 7,
    "start_time": "2025-05-07T15:08:35.480Z"
   },
   {
    "duration": 4,
    "start_time": "2025-05-07T15:11:13.991Z"
   },
   {
    "duration": 5,
    "start_time": "2025-05-07T15:12:51.083Z"
   },
   {
    "duration": 5,
    "start_time": "2025-05-07T15:14:14.199Z"
   },
   {
    "duration": 12,
    "start_time": "2025-05-07T15:33:37.598Z"
   },
   {
    "duration": 4,
    "start_time": "2025-05-07T15:33:48.793Z"
   },
   {
    "duration": 8,
    "start_time": "2025-05-07T15:34:04.061Z"
   },
   {
    "duration": 31,
    "start_time": "2025-05-07T15:35:12.929Z"
   },
   {
    "duration": 63,
    "start_time": "2025-05-07T15:35:50.548Z"
   },
   {
    "duration": 19,
    "start_time": "2025-05-07T15:35:57.585Z"
   },
   {
    "duration": 17,
    "start_time": "2025-05-07T15:36:28.111Z"
   },
   {
    "duration": 23,
    "start_time": "2025-05-07T15:39:58.548Z"
   },
   {
    "duration": 22,
    "start_time": "2025-05-07T15:40:22.171Z"
   },
   {
    "duration": 14,
    "start_time": "2025-05-07T15:40:37.089Z"
   },
   {
    "duration": 25,
    "start_time": "2025-05-07T15:40:43.930Z"
   },
   {
    "duration": 19,
    "start_time": "2025-05-07T15:42:02.973Z"
   },
   {
    "duration": 356,
    "start_time": "2025-05-07T15:42:49.954Z"
   },
   {
    "duration": 15,
    "start_time": "2025-05-07T15:43:20.497Z"
   },
   {
    "duration": 31,
    "start_time": "2025-05-07T15:43:30.277Z"
   },
   {
    "duration": 20,
    "start_time": "2025-05-07T15:45:59.155Z"
   },
   {
    "duration": 12,
    "start_time": "2025-05-07T15:48:02.411Z"
   },
   {
    "duration": 72,
    "start_time": "2025-05-07T15:58:15.215Z"
   },
   {
    "duration": 40,
    "start_time": "2025-05-07T15:58:59.630Z"
   },
   {
    "duration": 30,
    "start_time": "2025-05-07T15:59:47.513Z"
   },
   {
    "duration": 6,
    "start_time": "2025-05-07T16:01:48.955Z"
   },
   {
    "duration": 9,
    "start_time": "2025-05-07T16:02:32.848Z"
   },
   {
    "duration": 4,
    "start_time": "2025-05-07T16:02:40.915Z"
   },
   {
    "duration": 89,
    "start_time": "2025-05-07T16:02:59.989Z"
   },
   {
    "duration": 59,
    "start_time": "2025-05-07T16:03:08.064Z"
   },
   {
    "duration": 63,
    "start_time": "2025-05-07T16:04:03.295Z"
   },
   {
    "duration": 4,
    "start_time": "2025-05-07T16:04:10.211Z"
   },
   {
    "duration": 13,
    "start_time": "2025-05-07T16:11:44.893Z"
   },
   {
    "duration": 6,
    "start_time": "2025-05-07T16:11:58.230Z"
   },
   {
    "duration": 11,
    "start_time": "2025-05-07T16:12:01.128Z"
   },
   {
    "duration": 11,
    "start_time": "2025-05-07T16:12:18.451Z"
   },
   {
    "duration": 10,
    "start_time": "2025-05-07T16:13:16.354Z"
   },
   {
    "duration": 5,
    "start_time": "2025-05-07T16:13:43.941Z"
   },
   {
    "duration": 16,
    "start_time": "2025-05-07T16:13:46.548Z"
   },
   {
    "duration": 15,
    "start_time": "2025-05-07T16:14:51.048Z"
   },
   {
    "duration": 4,
    "start_time": "2025-05-07T16:15:58.010Z"
   },
   {
    "duration": 13,
    "start_time": "2025-05-07T16:16:02.781Z"
   },
   {
    "duration": 5,
    "start_time": "2025-05-07T16:16:36.784Z"
   },
   {
    "duration": 12,
    "start_time": "2025-05-07T16:16:53.384Z"
   },
   {
    "duration": 1110,
    "start_time": "2025-05-07T16:18:47.953Z"
   },
   {
    "duration": 67,
    "start_time": "2025-05-07T16:18:49.065Z"
   },
   {
    "duration": 25,
    "start_time": "2025-05-07T16:18:49.133Z"
   },
   {
    "duration": 11,
    "start_time": "2025-05-07T16:18:49.160Z"
   },
   {
    "duration": 8,
    "start_time": "2025-05-07T16:18:49.174Z"
   },
   {
    "duration": 12,
    "start_time": "2025-05-07T16:18:49.183Z"
   },
   {
    "duration": 42,
    "start_time": "2025-05-07T16:18:49.196Z"
   },
   {
    "duration": 23,
    "start_time": "2025-05-07T16:18:49.240Z"
   },
   {
    "duration": 30,
    "start_time": "2025-05-07T16:18:49.265Z"
   },
   {
    "duration": 14,
    "start_time": "2025-05-07T16:18:49.298Z"
   },
   {
    "duration": 16,
    "start_time": "2025-05-07T16:18:49.314Z"
   },
   {
    "duration": 10,
    "start_time": "2025-05-07T16:18:49.332Z"
   },
   {
    "duration": 10,
    "start_time": "2025-05-07T16:18:49.345Z"
   },
   {
    "duration": 5,
    "start_time": "2025-05-07T16:18:49.358Z"
   },
   {
    "duration": 4,
    "start_time": "2025-05-07T16:18:49.364Z"
   },
   {
    "duration": 24,
    "start_time": "2025-05-07T16:18:49.369Z"
   },
   {
    "duration": 14,
    "start_time": "2025-05-07T16:18:49.394Z"
   },
   {
    "duration": 146,
    "start_time": "2025-05-07T16:18:49.409Z"
   },
   {
    "duration": 4,
    "start_time": "2025-05-07T16:18:49.557Z"
   },
   {
    "duration": 4,
    "start_time": "2025-05-07T16:18:49.563Z"
   },
   {
    "duration": 13,
    "start_time": "2025-05-07T16:18:49.568Z"
   },
   {
    "duration": 20,
    "start_time": "2025-05-07T16:18:49.583Z"
   },
   {
    "duration": 13,
    "start_time": "2025-05-07T16:18:49.605Z"
   },
   {
    "duration": 30,
    "start_time": "2025-05-07T16:18:49.620Z"
   },
   {
    "duration": 179,
    "start_time": "2025-05-07T16:18:49.651Z"
   },
   {
    "duration": 142,
    "start_time": "2025-05-07T16:18:49.832Z"
   },
   {
    "duration": 13,
    "start_time": "2025-05-07T16:18:49.977Z"
   },
   {
    "duration": 12,
    "start_time": "2025-05-07T16:18:49.992Z"
   },
   {
    "duration": 478,
    "start_time": "2025-05-07T16:18:50.006Z"
   },
   {
    "duration": 398,
    "start_time": "2025-05-07T16:18:50.486Z"
   },
   {
    "duration": 456,
    "start_time": "2025-05-07T16:18:50.886Z"
   },
   {
    "duration": 364,
    "start_time": "2025-05-07T16:18:51.346Z"
   },
   {
    "duration": 479,
    "start_time": "2025-05-07T16:18:51.712Z"
   },
   {
    "duration": 12,
    "start_time": "2025-05-07T16:18:52.193Z"
   },
   {
    "duration": 298,
    "start_time": "2025-05-07T16:18:52.207Z"
   },
   {
    "duration": 4,
    "start_time": "2025-05-07T16:18:52.507Z"
   },
   {
    "duration": 292,
    "start_time": "2025-05-07T16:18:52.513Z"
   },
   {
    "duration": 5,
    "start_time": "2025-05-07T16:18:52.807Z"
   },
   {
    "duration": 37,
    "start_time": "2025-05-07T16:18:52.814Z"
   },
   {
    "duration": 62,
    "start_time": "2025-05-07T16:18:52.853Z"
   },
   {
    "duration": 5,
    "start_time": "2025-05-07T16:18:52.919Z"
   },
   {
    "duration": 48,
    "start_time": "2025-05-07T16:18:52.926Z"
   },
   {
    "duration": 16,
    "start_time": "2025-05-07T16:18:52.975Z"
   },
   {
    "duration": 63,
    "start_time": "2025-05-07T16:18:52.992Z"
   },
   {
    "duration": 16,
    "start_time": "2025-05-07T16:18:53.057Z"
   },
   {
    "duration": 67,
    "start_time": "2025-05-07T16:18:53.075Z"
   },
   {
    "duration": 22,
    "start_time": "2025-05-07T16:18:53.146Z"
   },
   {
    "duration": 15,
    "start_time": "2025-05-07T16:18:53.170Z"
   },
   {
    "duration": 154,
    "start_time": "2025-05-07T16:18:53.187Z"
   },
   {
    "duration": 7,
    "start_time": "2025-05-07T16:18:53.345Z"
   },
   {
    "duration": 36,
    "start_time": "2025-05-07T16:18:53.354Z"
   },
   {
    "duration": 4,
    "start_time": "2025-05-07T16:18:53.393Z"
   },
   {
    "duration": 14,
    "start_time": "2025-05-07T16:18:53.399Z"
   },
   {
    "duration": 7,
    "start_time": "2025-05-07T16:18:53.415Z"
   },
   {
    "duration": 556,
    "start_time": "2025-05-07T16:34:37.519Z"
   },
   {
    "duration": 212,
    "start_time": "2025-05-07T16:48:23.282Z"
   },
   {
    "duration": 200,
    "start_time": "2025-05-07T16:49:24.091Z"
   },
   {
    "duration": 167,
    "start_time": "2025-05-07T16:49:44.134Z"
   },
   {
    "duration": 5,
    "start_time": "2025-05-07T16:59:53.910Z"
   },
   {
    "duration": 4,
    "start_time": "2025-05-07T16:59:57.615Z"
   },
   {
    "duration": 5,
    "start_time": "2025-05-07T17:02:16.231Z"
   },
   {
    "duration": 5,
    "start_time": "2025-05-07T17:02:18.991Z"
   },
   {
    "duration": 7,
    "start_time": "2025-05-07T17:02:37.753Z"
   },
   {
    "duration": 8,
    "start_time": "2025-05-07T17:02:41.775Z"
   },
   {
    "duration": 38,
    "start_time": "2025-05-07T17:02:46.157Z"
   },
   {
    "duration": 5,
    "start_time": "2025-05-07T17:02:51.194Z"
   },
   {
    "duration": 11,
    "start_time": "2025-05-07T17:04:20.787Z"
   },
   {
    "duration": 8,
    "start_time": "2025-05-07T17:04:24.957Z"
   },
   {
    "duration": 180,
    "start_time": "2025-05-07T17:05:58.175Z"
   },
   {
    "duration": 7,
    "start_time": "2025-05-07T17:06:01.056Z"
   },
   {
    "duration": 501,
    "start_time": "2025-05-07T17:06:05.673Z"
   },
   {
    "duration": 468,
    "start_time": "2025-05-07T17:06:29.585Z"
   },
   {
    "duration": 1186,
    "start_time": "2025-05-08T15:03:37.429Z"
   },
   {
    "duration": 67,
    "start_time": "2025-05-08T15:03:38.617Z"
   },
   {
    "duration": 14,
    "start_time": "2025-05-08T15:03:38.686Z"
   },
   {
    "duration": 131,
    "start_time": "2025-05-08T15:03:38.703Z"
   },
   {
    "duration": 9,
    "start_time": "2025-05-08T15:03:38.837Z"
   },
   {
    "duration": 11,
    "start_time": "2025-05-08T15:03:38.848Z"
   },
   {
    "duration": 10,
    "start_time": "2025-05-08T15:03:38.861Z"
   },
   {
    "duration": 12,
    "start_time": "2025-05-08T15:03:38.873Z"
   },
   {
    "duration": 33,
    "start_time": "2025-05-08T15:03:38.887Z"
   },
   {
    "duration": 7,
    "start_time": "2025-05-08T15:03:38.924Z"
   },
   {
    "duration": 17,
    "start_time": "2025-05-08T15:03:38.934Z"
   },
   {
    "duration": 9,
    "start_time": "2025-05-08T15:03:38.953Z"
   },
   {
    "duration": 6,
    "start_time": "2025-05-08T15:03:38.965Z"
   },
   {
    "duration": 34,
    "start_time": "2025-05-08T15:03:38.973Z"
   },
   {
    "duration": 11,
    "start_time": "2025-05-08T15:03:39.009Z"
   },
   {
    "duration": 37,
    "start_time": "2025-05-08T15:03:39.022Z"
   },
   {
    "duration": 31,
    "start_time": "2025-05-08T15:03:39.061Z"
   },
   {
    "duration": 142,
    "start_time": "2025-05-08T15:03:39.093Z"
   },
   {
    "duration": 5,
    "start_time": "2025-05-08T15:03:39.237Z"
   },
   {
    "duration": 36,
    "start_time": "2025-05-08T15:03:39.243Z"
   },
   {
    "duration": 14,
    "start_time": "2025-05-08T15:03:39.281Z"
   },
   {
    "duration": 14,
    "start_time": "2025-05-08T15:03:39.297Z"
   },
   {
    "duration": 21,
    "start_time": "2025-05-08T15:03:39.313Z"
   },
   {
    "duration": 27,
    "start_time": "2025-05-08T15:03:39.335Z"
   },
   {
    "duration": 189,
    "start_time": "2025-05-08T15:03:39.364Z"
   },
   {
    "duration": 142,
    "start_time": "2025-05-08T15:03:39.555Z"
   },
   {
    "duration": 19,
    "start_time": "2025-05-08T15:03:39.698Z"
   },
   {
    "duration": 63,
    "start_time": "2025-05-08T15:03:39.721Z"
   },
   {
    "duration": 457,
    "start_time": "2025-05-08T15:03:39.786Z"
   },
   {
    "duration": 398,
    "start_time": "2025-05-08T15:03:40.245Z"
   },
   {
    "duration": 453,
    "start_time": "2025-05-08T15:03:40.645Z"
   },
   {
    "duration": 367,
    "start_time": "2025-05-08T15:03:41.100Z"
   },
   {
    "duration": 484,
    "start_time": "2025-05-08T15:03:41.468Z"
   },
   {
    "duration": 12,
    "start_time": "2025-05-08T15:03:41.953Z"
   },
   {
    "duration": 308,
    "start_time": "2025-05-08T15:03:41.967Z"
   },
   {
    "duration": 5,
    "start_time": "2025-05-08T15:03:42.277Z"
   },
   {
    "duration": 288,
    "start_time": "2025-05-08T15:03:42.284Z"
   },
   {
    "duration": 162,
    "start_time": "2025-05-08T15:03:42.574Z"
   },
   {
    "duration": 5,
    "start_time": "2025-05-08T15:03:42.737Z"
   },
   {
    "duration": 67,
    "start_time": "2025-05-08T15:03:42.744Z"
   },
   {
    "duration": 136,
    "start_time": "2025-05-08T15:03:42.813Z"
   },
   {
    "duration": 6,
    "start_time": "2025-05-08T15:03:42.951Z"
   },
   {
    "duration": 57,
    "start_time": "2025-05-08T15:03:42.959Z"
   },
   {
    "duration": 23,
    "start_time": "2025-05-08T15:03:43.018Z"
   },
   {
    "duration": 67,
    "start_time": "2025-05-08T15:03:43.043Z"
   },
   {
    "duration": 15,
    "start_time": "2025-05-08T15:03:43.112Z"
   },
   {
    "duration": 52,
    "start_time": "2025-05-08T15:03:43.129Z"
   },
   {
    "duration": 38,
    "start_time": "2025-05-08T15:03:43.183Z"
   },
   {
    "duration": 105,
    "start_time": "2025-05-08T15:03:43.223Z"
   },
   {
    "duration": 147,
    "start_time": "2025-05-08T15:03:43.330Z"
   },
   {
    "duration": 33,
    "start_time": "2025-05-08T15:03:43.479Z"
   },
   {
    "duration": 51,
    "start_time": "2025-05-08T15:03:43.514Z"
   },
   {
    "duration": 5,
    "start_time": "2025-05-08T15:03:43.567Z"
   },
   {
    "duration": 21,
    "start_time": "2025-05-08T15:03:43.574Z"
   },
   {
    "duration": 8,
    "start_time": "2025-05-08T15:03:43.598Z"
   },
   {
    "duration": 7,
    "start_time": "2025-05-08T15:03:43.608Z"
   },
   {
    "duration": 34,
    "start_time": "2025-05-08T15:03:43.617Z"
   },
   {
    "duration": 5,
    "start_time": "2025-05-08T15:03:43.653Z"
   },
   {
    "duration": 7,
    "start_time": "2025-05-08T15:03:43.660Z"
   },
   {
    "duration": 96,
    "start_time": "2025-05-08T15:03:43.668Z"
   },
   {
    "duration": 28,
    "start_time": "2025-05-08T15:03:43.766Z"
   },
   {
    "duration": 28,
    "start_time": "2025-05-08T15:03:43.796Z"
   },
   {
    "duration": 5,
    "start_time": "2025-05-08T15:03:43.826Z"
   },
   {
    "duration": 11,
    "start_time": "2025-05-08T15:03:43.833Z"
   },
   {
    "duration": 95,
    "start_time": "2025-05-08T15:03:43.846Z"
   },
   {
    "duration": 202,
    "start_time": "2025-05-08T15:03:43.943Z"
   },
   {
    "duration": 7,
    "start_time": "2025-05-08T15:03:44.146Z"
   },
   {
    "duration": 458,
    "start_time": "2025-05-08T15:03:44.155Z"
   },
   {
    "duration": 533,
    "start_time": "2025-05-08T15:03:44.614Z"
   },
   {
    "duration": 1157,
    "start_time": "2025-05-08T15:06:33.044Z"
   },
   {
    "duration": 78,
    "start_time": "2025-05-08T15:06:34.203Z"
   },
   {
    "duration": 13,
    "start_time": "2025-05-08T15:06:34.283Z"
   },
   {
    "duration": 20,
    "start_time": "2025-05-08T15:06:34.299Z"
   },
   {
    "duration": 33,
    "start_time": "2025-05-08T15:06:34.320Z"
   },
   {
    "duration": 31,
    "start_time": "2025-05-08T15:06:34.355Z"
   },
   {
    "duration": 9,
    "start_time": "2025-05-08T15:06:34.388Z"
   },
   {
    "duration": 36,
    "start_time": "2025-05-08T15:06:34.398Z"
   },
   {
    "duration": 34,
    "start_time": "2025-05-08T15:06:34.436Z"
   },
   {
    "duration": 25,
    "start_time": "2025-05-08T15:06:34.473Z"
   },
   {
    "duration": 40,
    "start_time": "2025-05-08T15:06:34.500Z"
   },
   {
    "duration": 22,
    "start_time": "2025-05-08T15:06:34.542Z"
   },
   {
    "duration": 8,
    "start_time": "2025-05-08T15:06:34.566Z"
   },
   {
    "duration": 11,
    "start_time": "2025-05-08T15:06:34.575Z"
   },
   {
    "duration": 12,
    "start_time": "2025-05-08T15:06:34.588Z"
   },
   {
    "duration": 34,
    "start_time": "2025-05-08T15:06:34.602Z"
   },
   {
    "duration": 27,
    "start_time": "2025-05-08T15:06:34.638Z"
   },
   {
    "duration": 283,
    "start_time": "2025-05-08T15:06:34.666Z"
   },
   {
    "duration": 6,
    "start_time": "2025-05-08T15:06:34.950Z"
   },
   {
    "duration": 11,
    "start_time": "2025-05-08T15:06:34.958Z"
   },
   {
    "duration": 20,
    "start_time": "2025-05-08T15:06:34.971Z"
   },
   {
    "duration": 18,
    "start_time": "2025-05-08T15:06:34.993Z"
   },
   {
    "duration": 28,
    "start_time": "2025-05-08T15:06:35.012Z"
   },
   {
    "duration": 32,
    "start_time": "2025-05-08T15:06:35.041Z"
   },
   {
    "duration": 180,
    "start_time": "2025-05-08T15:06:35.075Z"
   },
   {
    "duration": 139,
    "start_time": "2025-05-08T15:06:35.257Z"
   },
   {
    "duration": 13,
    "start_time": "2025-05-08T15:06:35.405Z"
   },
   {
    "duration": 90,
    "start_time": "2025-05-08T15:06:35.422Z"
   },
   {
    "duration": 516,
    "start_time": "2025-05-08T15:06:35.514Z"
   },
   {
    "duration": 417,
    "start_time": "2025-05-08T15:06:36.031Z"
   },
   {
    "duration": 455,
    "start_time": "2025-05-08T15:06:36.450Z"
   },
   {
    "duration": 368,
    "start_time": "2025-05-08T15:06:36.907Z"
   },
   {
    "duration": 477,
    "start_time": "2025-05-08T15:06:37.277Z"
   },
   {
    "duration": 13,
    "start_time": "2025-05-08T15:06:37.756Z"
   },
   {
    "duration": 493,
    "start_time": "2025-05-08T15:06:37.770Z"
   },
   {
    "duration": 5,
    "start_time": "2025-05-08T15:06:38.264Z"
   },
   {
    "duration": 296,
    "start_time": "2025-05-08T15:06:38.270Z"
   },
   {
    "duration": 162,
    "start_time": "2025-05-08T15:06:38.567Z"
   },
   {
    "duration": 5,
    "start_time": "2025-05-08T15:06:38.731Z"
   },
   {
    "duration": 79,
    "start_time": "2025-05-08T15:06:38.737Z"
   },
   {
    "duration": 146,
    "start_time": "2025-05-08T15:06:38.818Z"
   },
   {
    "duration": 7,
    "start_time": "2025-05-08T15:06:38.966Z"
   },
   {
    "duration": 53,
    "start_time": "2025-05-08T15:06:38.975Z"
   },
   {
    "duration": 15,
    "start_time": "2025-05-08T15:06:39.029Z"
   },
   {
    "duration": 67,
    "start_time": "2025-05-08T15:06:39.045Z"
   },
   {
    "duration": 14,
    "start_time": "2025-05-08T15:06:39.113Z"
   },
   {
    "duration": 54,
    "start_time": "2025-05-08T15:06:39.128Z"
   },
   {
    "duration": 38,
    "start_time": "2025-05-08T15:06:39.183Z"
   },
   {
    "duration": 16,
    "start_time": "2025-05-08T15:06:39.222Z"
   },
   {
    "duration": 155,
    "start_time": "2025-05-08T15:06:39.239Z"
   },
   {
    "duration": 9,
    "start_time": "2025-05-08T15:06:39.396Z"
   },
   {
    "duration": 118,
    "start_time": "2025-05-08T15:06:39.407Z"
   },
   {
    "duration": 4,
    "start_time": "2025-05-08T15:06:39.526Z"
   },
   {
    "duration": 22,
    "start_time": "2025-05-08T15:06:39.532Z"
   },
   {
    "duration": 8,
    "start_time": "2025-05-08T15:06:39.555Z"
   },
   {
    "duration": 8,
    "start_time": "2025-05-08T15:06:39.565Z"
   },
   {
    "duration": 10,
    "start_time": "2025-05-08T15:06:39.575Z"
   },
   {
    "duration": 19,
    "start_time": "2025-05-08T15:06:39.586Z"
   },
   {
    "duration": 8,
    "start_time": "2025-05-08T15:06:39.607Z"
   },
   {
    "duration": 8,
    "start_time": "2025-05-08T15:06:39.617Z"
   },
   {
    "duration": 8,
    "start_time": "2025-05-08T15:06:39.626Z"
   },
   {
    "duration": 56,
    "start_time": "2025-05-08T15:06:39.635Z"
   },
   {
    "duration": 114,
    "start_time": "2025-05-08T15:06:39.692Z"
   },
   {
    "duration": 13,
    "start_time": "2025-05-08T15:06:39.808Z"
   },
   {
    "duration": 16,
    "start_time": "2025-05-08T15:06:39.823Z"
   },
   {
    "duration": 187,
    "start_time": "2025-05-08T15:06:39.841Z"
   },
   {
    "duration": 7,
    "start_time": "2025-05-08T15:06:40.029Z"
   },
   {
    "duration": 501,
    "start_time": "2025-05-08T15:06:40.037Z"
   },
   {
    "duration": 506,
    "start_time": "2025-05-08T15:06:40.540Z"
   }
  ],
  "kernelspec": {
   "display_name": "Python 3 (ipykernel)",
   "language": "python",
   "name": "python3"
  },
  "language_info": {
   "codemirror_mode": {
    "name": "ipython",
    "version": 3
   },
   "file_extension": ".py",
   "mimetype": "text/x-python",
   "name": "python",
   "nbconvert_exporter": "python",
   "pygments_lexer": "ipython3",
   "version": "3.9.5"
  },
  "toc": {
   "base_numbering": 1,
   "nav_menu": {},
   "number_sections": true,
   "sideBar": true,
   "skip_h1_title": true,
   "title_cell": "Table of Contents",
   "title_sidebar": "Contents",
   "toc_cell": false,
   "toc_position": {},
   "toc_section_display": true,
   "toc_window_display": false
  }
 },
 "nbformat": 4,
 "nbformat_minor": 2
}
