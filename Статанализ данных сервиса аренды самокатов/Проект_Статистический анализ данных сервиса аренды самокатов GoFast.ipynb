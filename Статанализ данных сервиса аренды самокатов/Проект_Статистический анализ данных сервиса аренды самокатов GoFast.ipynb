{
 "cells": [
  {
   "cell_type": "markdown",
   "id": "9fb06f26",
   "metadata": {},
   "source": [
    "<div  style=\"border-radius: 10px; box-shadow: 2px 2px 2px; border: 1px solid; padding: 10px \">\n",
    "\n",
    "**Антон, привет! Рад с тобой познакомиться :)**\n",
    "\n",
    "Меня зовут Василий Митров и я буду проверять твой проект. Предлагаю общаться на «ты». Если удобнее на «вы», просто напиши, и мы сменим стиль общения.\n",
    "\n",
    "Я оставлю комментарии в отдельных ячейках Markdown с заголовком «Комментарий ревьюера». Просьба не менять их местами и не удалять, чтобы наша работа над проектом была максимально продуктивной. Я буду использовать цветовую разметку:\n",
    "\n",
    "<div class=\"alert alert-danger\" style=\"border-radius: 10px; box-shadow: 2px 2px 2px; border: 1px solid; padding: 10px \">\n",
    "<b>Комментарий ревьюера</b> \n",
    "    \n",
    "✍ Так выделены самые важные замечания. Без их исправления проект не будет принят. Я оцениваю не только код, но и его интерпретацию, а также соответствие техническому заданию.\n",
    "</div>\n",
    "\n",
    "<div class=\"alert alert-warning\" style=\"border-radius: 10px; box-shadow: 2px 2px 2px; border: 1px solid; padding: 10px \">\n",
    "<b>Комментарий ревьюера</b> \n",
    "    \n",
    "📝 Так выделены небольшие замечания или рекомендации, которые стоит учесть. Это не критично, но поможет сделать работу лучше. Постарайся, пожалуйста, учесть эти комментарии в этом проекте или в будущих проектах.\n",
    "</div>\n",
    "\n",
    "<div class=\"alert alert-success\" style=\"border-radius: 10px; box-shadow: 2px 2px 2px; border: 1px solid; padding: 10px \">\n",
    "<b>Комментарий ревьюера</b> \n",
    "    \n",
    "👍 Так выделены все остальные комментарии, включая рекомендации, позитивные моменты или какие-то рассуждения и пояснения.\n",
    "</div>\n",
    "\n",
    "**Важные дополнения:**\n",
    "    \n",
    "* <u>Идеально, когда проект структурирован. Где названия разделов и подразделов будут записаны в ячейках [Markdown](https://paulradzkov.com/2014/markdown_cheatsheet/?).</u>\n",
    "    \n",
    "\n",
    "* <u>Проверь проект на работоспособность перед отправкой на проверку. Сделать это можно так: `Kernel -> Restart And Run All -> Restart And Run All Cells` предварительно сохранив проект нажав на дискету в левом верхнем углу. Это важный навык, который тебе пригодится как на собеседовании, при выполнении тестового задания, так и перед совещанием у руководства компании. Помни, ревьюеры не вносят изменения в код, даже если это путь к датасету или ячейка в неверном формате (Сode/Markdown).</u>\n",
    "    \n",
    "Давай работать над проектом в диалоге: если ты что-то меняешь в проекте или отвечаешь на мои комментарии — пиши об этом. Мне будет легче отследить изменения, если ты выделишь свои комментарии:\n",
    "\n",
    "<div class=\"alert alert-info\" style=\"border-radius: 10px; box-shadow: 2px 2px 2px; border: 1px solid; padding: 10px \"> \n",
    "<b>Комментарий студента</b> \n",
    "    \n",
    "Например, вот так. Также, если есть какие-то вопросы, или что-то осталось непонятным по ревью - спрашивай в таких блоках и я постараюсь дать ответ.\n",
    "</div>\n",
    "\n",
    "    \n",
    "<div class=\"alert alert-info\" style=\"border-radius: 10px; box-shadow: 2px 2px 2px; border: 1px solid; padding: 10px \"> \n",
    "<b>Комментарий студента</b> \n",
    "    \n",
    "Василий, привет! Рад познакомиться :)\n",
    "</div>\n",
    "---"
   ]
  },
  {
   "cell_type": "markdown",
   "id": "9f2060a9",
   "metadata": {},
   "source": [
    "# Проект: Статистический анализ данных сервиса аренды самокатов GoFast"
   ]
  },
  {
   "cell_type": "markdown",
   "id": "6546322b",
   "metadata": {},
   "source": [
    "**Описание проекта**\n",
    "\n",
    "**Цель исследования**: Проанализировать данные сервиса и проверить гипотезы, которые могут помочь бизнесу вырасти\n",
    "\n",
    "**Ход исследования:**\n",
    "\n",
    "* Загрузка данных\n",
    "* Обзор полученных данных\n",
    "* Предобработка данных\n",
    "* Исследовательский анализ данных\n",
    "* Объединение данных\n",
    "* Расчет выручки\n",
    "* Проверка гипотез\n",
    "* Исследование распределений\n",
    "* Подготовка выводов и рекомендаций\n",
    "\n",
    "**Исходные данные:**\n",
    "\n",
    "* Датасет с информацией о пользователях - users_go.csv\n",
    "* Датасет с информацией о поездках - rides_go.csv\n",
    "* Датасет с информацией о подписках - subscriptions.csv\n",
    "\n",
    "\n",
    "<a id=\"index\"></a> \n",
    "**Содержание отчета:**\n",
    "\n",
    "1. [Шаг 1. Загрузка данных](#load_and_open_data)\n",
    "2. [Шаг 2. Предобработка данных](#data_prepare)\n",
    "    * [Предобработка данных с датой](#date_data_prepare)\n",
    "    * [Проверка дубликатов и пропусков](#nans&dublicates)\n",
    "    * [Выводы по предобработке данных](#data_prepare_resume)\n",
    "3. [Шаг 3. Исследовательский анализ данных](#eda)\n",
    "    * [Города пользователей](#eda_cities)\n",
    "    * [Пользователи с подпиской и без](#eda_user_subs)\n",
    "    * [Возраст пользователей](#eda_user_ages)\n",
    "    * [Расстояние за одну поездку](#eda_distance)\n",
    "    * [Продолжительность поездок](#eda_duration)\n",
    "    * [Выводы по исследовательскому анализу данных](#eda_resume)\n",
    "4. [Шаг 4. Объединение данных](#data_merge)\n",
    "    * [Объединение трех датасетов в один](#df_union)\n",
    "    * [Создание датасетов пользователей с подписками и без](#df_segments)\n",
    "    * [Визуализация распределений дистанции поездок по категориям](#distance_segments)\n",
    "    * [Визуализация распределений времени поездок по категориям](#duration_segments)\n",
    "    * [Выводы по распределению длительности и продолжительности поездок по категориям](#segments_resume)\n",
    "5. [Шаг 5. Подсчёт выручки](#income)\n",
    "    * [Подготовка агрегированного датасета](#df_agregation)\n",
    "    * [Подсчет выручки](#income_calculation)\n",
    "6. [Шаг 6. Проверка гипотез](#hypotises_check)\n",
    "    * [Гипотеза 1 - пользователи с подпиской тратят больше времени на поездки](#h1)\n",
    "    * [Гипотеза 2 - среднее расстояние, которое проезжают пользователи с подпиской за одну поездку, не превышает 3130 метров](#h2)\n",
    "    * [Гипотеза 3 - помесячная выручка от пользователей с подпиской по месяцам выше, чем выручка от пользователей без подписки](#h3)\n",
    "    * [Гипотеза 4 - после обновления серверов количество обращений в техподдержку значительно снизилось](#h4)\n",
    "7. [Шаг 7. Распределения](#distributions)\n",
    "    * [Минимальное количество промокодов нужно разослать, чтобы вероятность не выполнить план была примерно 5 %](#distr_1)\n",
    "    * [График распределения вероятности открытия push-уведомления (не более 399.5 тыс. пользователей)](#distr_2)\n",
    "8. [Общие выводы и рекомендации](#global_resume)"
   ]
  },
  {
   "cell_type": "markdown",
   "id": "16b3ec3f",
   "metadata": {},
   "source": [
    "<div class=\"alert alert-success\" style=\"border-radius: 10px; box-shadow: 2px 2px 2px; border: 1px solid; padding: 10px \">\n",
    "<b>Комментарий ревьюера v.1</b> \n",
    "    \n",
    "👍 \n",
    "Отличное вступление к проекту! Здорово, что реализовал план с гиперссылками.\n",
    "</div>"
   ]
  },
  {
   "cell_type": "markdown",
   "id": "c42cbe00",
   "metadata": {},
   "source": [
    "<a id=\"load_and_open_data\"></a> \n",
    "### Шаг 1. Загрузка данных"
   ]
  },
  {
   "cell_type": "code",
   "execution_count": 1,
   "id": "eff9f206",
   "metadata": {},
   "outputs": [],
   "source": [
    "import pandas as pd\n",
    "import numpy as np\n",
    "from matplotlib import pyplot as plt\n",
    "import seaborn as sns\n",
    "import plotly.express as px\n",
    "import scipy.stats as st\n",
    "from scipy.stats import binom\n",
    "from scipy.stats import norm\n",
    "\n",
    "import warnings\n",
    "\n",
    "# Отключаем предупреждения\n",
    "warnings.filterwarnings('ignore')"
   ]
  },
  {
   "cell_type": "markdown",
   "id": "4d355d52",
   "metadata": {},
   "source": [
    "<div class=\"alert alert-success\" style=\"border-radius: 10px; box-shadow: 2px 2px 2px; border: 1px solid; padding: 10px \">\n",
    "<b>Комментарий ревьюера v.1</b> \n",
    "    \n",
    "👍 \n",
    "Правильно, что весь импорт ты проводишь в первой ячейке работы. Так твой коллега, запускающий работу, будет в курсе используемых в ней библиотек и сможет при необходимости быстро настроить окружение.\n",
    "</div>"
   ]
  },
  {
   "cell_type": "code",
   "execution_count": 2,
   "id": "df2ef685",
   "metadata": {},
   "outputs": [],
   "source": [
    "users, rides, subscrptns = (\n",
    "    pd.read_csv('/datasets/users_go.csv'), #пользователи\n",
    "    pd.read_csv('/datasets/rides_go.csv'), #поездки\n",
    "    pd.read_csv('/datasets/subscriptions_go.csv') #подписки\n",
    ")"
   ]
  },
  {
   "cell_type": "code",
   "execution_count": 3,
   "id": "e4167cc3",
   "metadata": {},
   "outputs": [
    {
     "name": "stdout",
     "output_type": "stream",
     "text": [
      "Записей о пользователях: 1565\n"
     ]
    },
    {
     "data": {
      "text/html": [
       "<div>\n",
       "<style scoped>\n",
       "    .dataframe tbody tr th:only-of-type {\n",
       "        vertical-align: middle;\n",
       "    }\n",
       "\n",
       "    .dataframe tbody tr th {\n",
       "        vertical-align: top;\n",
       "    }\n",
       "\n",
       "    .dataframe thead th {\n",
       "        text-align: right;\n",
       "    }\n",
       "</style>\n",
       "<table border=\"1\" class=\"dataframe\">\n",
       "  <thead>\n",
       "    <tr style=\"text-align: right;\">\n",
       "      <th></th>\n",
       "      <th>user_id</th>\n",
       "      <th>name</th>\n",
       "      <th>age</th>\n",
       "      <th>city</th>\n",
       "      <th>subscription_type</th>\n",
       "    </tr>\n",
       "  </thead>\n",
       "  <tbody>\n",
       "    <tr>\n",
       "      <th>0</th>\n",
       "      <td>1</td>\n",
       "      <td>Кира</td>\n",
       "      <td>22</td>\n",
       "      <td>Тюмень</td>\n",
       "      <td>ultra</td>\n",
       "    </tr>\n",
       "    <tr>\n",
       "      <th>1</th>\n",
       "      <td>2</td>\n",
       "      <td>Станислав</td>\n",
       "      <td>31</td>\n",
       "      <td>Омск</td>\n",
       "      <td>ultra</td>\n",
       "    </tr>\n",
       "    <tr>\n",
       "      <th>2</th>\n",
       "      <td>3</td>\n",
       "      <td>Алексей</td>\n",
       "      <td>20</td>\n",
       "      <td>Москва</td>\n",
       "      <td>ultra</td>\n",
       "    </tr>\n",
       "    <tr>\n",
       "      <th>3</th>\n",
       "      <td>4</td>\n",
       "      <td>Константин</td>\n",
       "      <td>26</td>\n",
       "      <td>Ростов-на-Дону</td>\n",
       "      <td>ultra</td>\n",
       "    </tr>\n",
       "    <tr>\n",
       "      <th>4</th>\n",
       "      <td>5</td>\n",
       "      <td>Адель</td>\n",
       "      <td>28</td>\n",
       "      <td>Омск</td>\n",
       "      <td>ultra</td>\n",
       "    </tr>\n",
       "  </tbody>\n",
       "</table>\n",
       "</div>"
      ],
      "text/plain": [
       "   user_id        name  age            city subscription_type\n",
       "0        1        Кира   22          Тюмень             ultra\n",
       "1        2   Станислав   31            Омск             ultra\n",
       "2        3     Алексей   20          Москва             ultra\n",
       "3        4  Константин   26  Ростов-на-Дону             ultra\n",
       "4        5       Адель   28            Омск             ultra"
      ]
     },
     "execution_count": 3,
     "metadata": {},
     "output_type": "execute_result"
    }
   ],
   "source": [
    "# Проверим данные о пользователях\n",
    "print('Записей о пользователях:',users.shape[0])\n",
    "users.head()"
   ]
  },
  {
   "cell_type": "code",
   "execution_count": 4,
   "id": "7e70990e",
   "metadata": {},
   "outputs": [
    {
     "name": "stdout",
     "output_type": "stream",
     "text": [
      "<class 'pandas.core.frame.DataFrame'>\n",
      "RangeIndex: 1565 entries, 0 to 1564\n",
      "Data columns (total 5 columns):\n",
      " #   Column             Non-Null Count  Dtype \n",
      "---  ------             --------------  ----- \n",
      " 0   user_id            1565 non-null   int64 \n",
      " 1   name               1565 non-null   object\n",
      " 2   age                1565 non-null   int64 \n",
      " 3   city               1565 non-null   object\n",
      " 4   subscription_type  1565 non-null   object\n",
      "dtypes: int64(2), object(3)\n",
      "memory usage: 61.3+ KB\n"
     ]
    }
   ],
   "source": [
    "# Проверим общую информацию о датасете\n",
    "users.info()"
   ]
  },
  {
   "cell_type": "markdown",
   "id": "60e05fa0",
   "metadata": {},
   "source": [
    "В таблице **users** содержится информация:\n",
    "* user_id - уникальный идентификатор пользователя\n",
    "* name - имя пользователя\n",
    "* age - возраст\n",
    "* city - город\n",
    "* subscription_type - тип подписки (free, ultra)\n",
    "\n",
    "\n",
    "Всего в таблице содержится информация о **1565** уникальных пользователях\n",
    "\n",
    "Пропуски в таблице отсутствуют, явных несоответствий типов данных не обнаружено."
   ]
  },
  {
   "cell_type": "code",
   "execution_count": 5,
   "id": "a6ddbaf8",
   "metadata": {},
   "outputs": [
    {
     "name": "stdout",
     "output_type": "stream",
     "text": [
      "Записей о поездках: 18068\n"
     ]
    },
    {
     "data": {
      "text/html": [
       "<div>\n",
       "<style scoped>\n",
       "    .dataframe tbody tr th:only-of-type {\n",
       "        vertical-align: middle;\n",
       "    }\n",
       "\n",
       "    .dataframe tbody tr th {\n",
       "        vertical-align: top;\n",
       "    }\n",
       "\n",
       "    .dataframe thead th {\n",
       "        text-align: right;\n",
       "    }\n",
       "</style>\n",
       "<table border=\"1\" class=\"dataframe\">\n",
       "  <thead>\n",
       "    <tr style=\"text-align: right;\">\n",
       "      <th></th>\n",
       "      <th>user_id</th>\n",
       "      <th>distance</th>\n",
       "      <th>duration</th>\n",
       "      <th>date</th>\n",
       "    </tr>\n",
       "  </thead>\n",
       "  <tbody>\n",
       "    <tr>\n",
       "      <th>0</th>\n",
       "      <td>1</td>\n",
       "      <td>4409.919140</td>\n",
       "      <td>25.599769</td>\n",
       "      <td>2021-01-01</td>\n",
       "    </tr>\n",
       "    <tr>\n",
       "      <th>1</th>\n",
       "      <td>1</td>\n",
       "      <td>2617.592153</td>\n",
       "      <td>15.816871</td>\n",
       "      <td>2021-01-18</td>\n",
       "    </tr>\n",
       "    <tr>\n",
       "      <th>2</th>\n",
       "      <td>1</td>\n",
       "      <td>754.159807</td>\n",
       "      <td>6.232113</td>\n",
       "      <td>2021-04-20</td>\n",
       "    </tr>\n",
       "    <tr>\n",
       "      <th>3</th>\n",
       "      <td>1</td>\n",
       "      <td>2694.783254</td>\n",
       "      <td>18.511000</td>\n",
       "      <td>2021-08-11</td>\n",
       "    </tr>\n",
       "    <tr>\n",
       "      <th>4</th>\n",
       "      <td>1</td>\n",
       "      <td>4028.687306</td>\n",
       "      <td>26.265803</td>\n",
       "      <td>2021-08-28</td>\n",
       "    </tr>\n",
       "  </tbody>\n",
       "</table>\n",
       "</div>"
      ],
      "text/plain": [
       "   user_id     distance   duration        date\n",
       "0        1  4409.919140  25.599769  2021-01-01\n",
       "1        1  2617.592153  15.816871  2021-01-18\n",
       "2        1   754.159807   6.232113  2021-04-20\n",
       "3        1  2694.783254  18.511000  2021-08-11\n",
       "4        1  4028.687306  26.265803  2021-08-28"
      ]
     },
     "execution_count": 5,
     "metadata": {},
     "output_type": "execute_result"
    }
   ],
   "source": [
    "print('Записей о поездках:',rides.shape[0])\n",
    "rides.head()"
   ]
  },
  {
   "cell_type": "code",
   "execution_count": 6,
   "id": "4351958d",
   "metadata": {},
   "outputs": [
    {
     "name": "stdout",
     "output_type": "stream",
     "text": [
      "<class 'pandas.core.frame.DataFrame'>\n",
      "RangeIndex: 18068 entries, 0 to 18067\n",
      "Data columns (total 4 columns):\n",
      " #   Column    Non-Null Count  Dtype  \n",
      "---  ------    --------------  -----  \n",
      " 0   user_id   18068 non-null  int64  \n",
      " 1   distance  18068 non-null  float64\n",
      " 2   duration  18068 non-null  float64\n",
      " 3   date      18068 non-null  object \n",
      "dtypes: float64(2), int64(1), object(1)\n",
      "memory usage: 564.8+ KB\n"
     ]
    }
   ],
   "source": [
    "# Проверим общую информацию о датасете\n",
    "rides.info()"
   ]
  },
  {
   "cell_type": "markdown",
   "id": "a23699d5",
   "metadata": {},
   "source": [
    "В таблице **rides** содержится информация:\n",
    "* user_id - уникальный идентификатор пользователя\n",
    "* distance - расстояние, которое пользователь проехал в текущей сессии (в метрах)\n",
    "* duration - продолжительность сессии (в минутах) — время с того момента, как пользователь нажал кнопку «Начать поездку» до момента, как он нажал кнопку «Завершить поездку»\n",
    "* date - дата совершения поездки\n",
    "\n",
    "\n",
    "Всего в таблице содержится информация о **18068** уникальных поездках\n",
    "\n",
    "Пропуски в таблице отсутствуют, поле с датой представлено как строка, при проведении предобработки необходимо будет его привести к типу даты."
   ]
  },
  {
   "cell_type": "code",
   "execution_count": 7,
   "id": "38e2aae2",
   "metadata": {},
   "outputs": [
    {
     "name": "stdout",
     "output_type": "stream",
     "text": [
      "Записей о тарифах: 2\n"
     ]
    },
    {
     "data": {
      "text/html": [
       "<div>\n",
       "<style scoped>\n",
       "    .dataframe tbody tr th:only-of-type {\n",
       "        vertical-align: middle;\n",
       "    }\n",
       "\n",
       "    .dataframe tbody tr th {\n",
       "        vertical-align: top;\n",
       "    }\n",
       "\n",
       "    .dataframe thead th {\n",
       "        text-align: right;\n",
       "    }\n",
       "</style>\n",
       "<table border=\"1\" class=\"dataframe\">\n",
       "  <thead>\n",
       "    <tr style=\"text-align: right;\">\n",
       "      <th></th>\n",
       "      <th>subscription_type</th>\n",
       "      <th>minute_price</th>\n",
       "      <th>start_ride_price</th>\n",
       "      <th>subscription_fee</th>\n",
       "    </tr>\n",
       "  </thead>\n",
       "  <tbody>\n",
       "    <tr>\n",
       "      <th>0</th>\n",
       "      <td>free</td>\n",
       "      <td>8</td>\n",
       "      <td>50</td>\n",
       "      <td>0</td>\n",
       "    </tr>\n",
       "    <tr>\n",
       "      <th>1</th>\n",
       "      <td>ultra</td>\n",
       "      <td>6</td>\n",
       "      <td>0</td>\n",
       "      <td>199</td>\n",
       "    </tr>\n",
       "  </tbody>\n",
       "</table>\n",
       "</div>"
      ],
      "text/plain": [
       "  subscription_type  minute_price  start_ride_price  subscription_fee\n",
       "0              free             8                50                 0\n",
       "1             ultra             6                 0               199"
      ]
     },
     "execution_count": 7,
     "metadata": {},
     "output_type": "execute_result"
    }
   ],
   "source": [
    "print('Записей о тарифах:',subscrptns.shape[0])\n",
    "subscrptns.head()"
   ]
  },
  {
   "cell_type": "markdown",
   "id": "5b7ffcf5",
   "metadata": {},
   "source": [
    "В таблице **subscrptns** содержится информация:\n",
    "* subscription_type - тип подписки\n",
    "* minute_price - стоимость одной минуты поездки по данной подписке\n",
    "* start_ride_price - стоимость начала поездки\n",
    "* subscription_fee - стоимость ежемесячного платежа\n",
    "\n",
    "Всего имеется два тарифа - free и ultra"
   ]
  },
  {
   "cell_type": "markdown",
   "id": "b8d5967d",
   "metadata": {},
   "source": [
    "[К содержанию](#index)"
   ]
  },
  {
   "cell_type": "markdown",
   "id": "004def98",
   "metadata": {},
   "source": [
    "<div class=\"alert alert-success\" style=\"border-radius: 10px; box-shadow: 2px 2px 2px; border: 1px solid; padding: 10px \">\n",
    "<b>Комментарий ревьюера v.1</b> \n",
    "    \n",
    "👍 \n",
    "Хорошая вводная часть.\n",
    "\n",
    "Рекомендую создать универсальную функцию, которая будет принимать на вход датафрейм, а на выходе она будет выводить нужные характеристики, например, head, describe, info, дубликаты и т.п.\n",
    "</div>"
   ]
  },
  {
   "cell_type": "markdown",
   "id": "e95ebca7",
   "metadata": {},
   "source": [
    "<a id=\"data_prepare\"></a> \n",
    "### Шаг 2. Предобработка данных"
   ]
  },
  {
   "cell_type": "markdown",
   "id": "2b819152",
   "metadata": {},
   "source": [
    "<a id=\"date_data_prepare\"></a> \n",
    "#### Предобработка данных с датой"
   ]
  },
  {
   "cell_type": "code",
   "execution_count": 8,
   "id": "f7bcba27",
   "metadata": {},
   "outputs": [],
   "source": [
    "# Преобразуем столбец с датой в таблице rides в формат datetime\n",
    "rides['date']=pd.to_datetime(rides['date'], format='%Y-%m-%d')"
   ]
  },
  {
   "cell_type": "markdown",
   "id": "f8b77e3a",
   "metadata": {},
   "source": [
    "<div class=\"alert alert-success\" style=\"border-radius: 10px; box-shadow: 2px 2px 2px; border: 1px solid; padding: 10px \">\n",
    "<b>Комментарий ревьюера v.1</b> \n",
    "    \n",
    "👍 При чтении файла можно указать параметр `parse_dates: parse_dates=['date']`. Тогда пандас автоматически переведет список столбцов в даты. Пример можно посмотреть [здесь](https://newtechaudit.ru/gruzi-daty-krasivo/).\n",
    "</div>"
   ]
  },
  {
   "cell_type": "code",
   "execution_count": 9,
   "id": "3b4ca86d",
   "metadata": {},
   "outputs": [
    {
     "data": {
      "text/plain": [
       "user_id              int64\n",
       "distance           float64\n",
       "duration           float64\n",
       "date        datetime64[ns]\n",
       "dtype: object"
      ]
     },
     "execution_count": 9,
     "metadata": {},
     "output_type": "execute_result"
    }
   ],
   "source": [
    "# Проверим результат\n",
    "rides.dtypes"
   ]
  },
  {
   "cell_type": "code",
   "execution_count": 10,
   "id": "48513e37",
   "metadata": {},
   "outputs": [],
   "source": [
    "# Добавим столбец с номером месяца\n",
    "rides['month'] = rides['date'].dt.month"
   ]
  },
  {
   "cell_type": "markdown",
   "id": "12d003cf",
   "metadata": {},
   "source": [
    "<a id=\"nans&dublicates\"></a> \n",
    "##### Проверка дубликатов и пропусков"
   ]
  },
  {
   "cell_type": "code",
   "execution_count": 11,
   "id": "ec9ec88b",
   "metadata": {
    "scrolled": true
   },
   "outputs": [
    {
     "name": "stdout",
     "output_type": "stream",
     "text": [
      "NULLS\n",
      "user_id              0\n",
      "name                 0\n",
      "age                  0\n",
      "city                 0\n",
      "subscription_type    0\n",
      "dtype: int64\n",
      "NANs\n",
      "user_id              0\n",
      "name                 0\n",
      "age                  0\n",
      "city                 0\n",
      "subscription_type    0\n",
      "dtype: int64\n",
      "========================================\n",
      "NULLS\n",
      "user_id     0\n",
      "distance    0\n",
      "duration    0\n",
      "date        0\n",
      "month       0\n",
      "dtype: int64\n",
      "NANs\n",
      "user_id     0\n",
      "distance    0\n",
      "duration    0\n",
      "date        0\n",
      "month       0\n",
      "dtype: int64\n",
      "========================================\n"
     ]
    }
   ],
   "source": [
    "# При первом рассмотрении данных пропусков не было обнаружено\n",
    "# Проверим каждую таблицу на null и na значения\n",
    "\n",
    "dfs = [users,rides]\n",
    "\n",
    "for i in dfs:\n",
    "    print('NULLS')\n",
    "    print(i.isnull().sum())\n",
    "    print('NANs')\n",
    "    print(i.isna().sum())\n",
    "    print(20*'==')\n"
   ]
  },
  {
   "cell_type": "markdown",
   "id": "bc6800c1",
   "metadata": {},
   "source": [
    "Пропуски не обнаружены, в таблице subscrptns всего две записи и там также отсутствуют пропуски"
   ]
  },
  {
   "cell_type": "code",
   "execution_count": 12,
   "id": "211cdb00",
   "metadata": {},
   "outputs": [
    {
     "name": "stdout",
     "output_type": "stream",
     "text": [
      "31\n",
      "========================================\n",
      "0\n",
      "========================================\n"
     ]
    }
   ],
   "source": [
    "# Проверим таблицы users, rides на явные дубликаты\n",
    "\n",
    "for i in dfs:    \n",
    "    print(i.duplicated().sum())\n",
    "    print(20*'==')"
   ]
  },
  {
   "cell_type": "markdown",
   "id": "1a90e820",
   "metadata": {},
   "source": [
    "В таблице users обнаружен 31 дубликат, посмотрим на найденные записи"
   ]
  },
  {
   "cell_type": "code",
   "execution_count": 13,
   "id": "dbca4073",
   "metadata": {},
   "outputs": [
    {
     "data": {
      "text/html": [
       "<div>\n",
       "<style scoped>\n",
       "    .dataframe tbody tr th:only-of-type {\n",
       "        vertical-align: middle;\n",
       "    }\n",
       "\n",
       "    .dataframe tbody tr th {\n",
       "        vertical-align: top;\n",
       "    }\n",
       "\n",
       "    .dataframe thead th {\n",
       "        text-align: right;\n",
       "    }\n",
       "</style>\n",
       "<table border=\"1\" class=\"dataframe\">\n",
       "  <thead>\n",
       "    <tr style=\"text-align: right;\">\n",
       "      <th></th>\n",
       "      <th>user_id</th>\n",
       "      <th>name</th>\n",
       "      <th>age</th>\n",
       "      <th>city</th>\n",
       "      <th>subscription_type</th>\n",
       "    </tr>\n",
       "  </thead>\n",
       "  <tbody>\n",
       "    <tr>\n",
       "      <th>292</th>\n",
       "      <td>293</td>\n",
       "      <td>Агата</td>\n",
       "      <td>26</td>\n",
       "      <td>Краснодар</td>\n",
       "      <td>ultra</td>\n",
       "    </tr>\n",
       "    <tr>\n",
       "      <th>1534</th>\n",
       "      <td>293</td>\n",
       "      <td>Агата</td>\n",
       "      <td>26</td>\n",
       "      <td>Краснодар</td>\n",
       "      <td>ultra</td>\n",
       "    </tr>\n",
       "  </tbody>\n",
       "</table>\n",
       "</div>"
      ],
      "text/plain": [
       "      user_id   name  age       city subscription_type\n",
       "292       293  Агата   26  Краснодар             ultra\n",
       "1534      293  Агата   26  Краснодар             ultra"
      ]
     },
     "metadata": {},
     "output_type": "display_data"
    },
    {
     "name": "stdout",
     "output_type": "stream",
     "text": [
      "========================================\n"
     ]
    },
    {
     "data": {
      "text/html": [
       "<div>\n",
       "<style scoped>\n",
       "    .dataframe tbody tr th:only-of-type {\n",
       "        vertical-align: middle;\n",
       "    }\n",
       "\n",
       "    .dataframe tbody tr th {\n",
       "        vertical-align: top;\n",
       "    }\n",
       "\n",
       "    .dataframe thead th {\n",
       "        text-align: right;\n",
       "    }\n",
       "</style>\n",
       "<table border=\"1\" class=\"dataframe\">\n",
       "  <thead>\n",
       "    <tr style=\"text-align: right;\">\n",
       "      <th></th>\n",
       "      <th>user_id</th>\n",
       "      <th>name</th>\n",
       "      <th>age</th>\n",
       "      <th>city</th>\n",
       "      <th>subscription_type</th>\n",
       "    </tr>\n",
       "  </thead>\n",
       "  <tbody>\n",
       "    <tr>\n",
       "      <th>15</th>\n",
       "      <td>16</td>\n",
       "      <td>Амалия</td>\n",
       "      <td>27</td>\n",
       "      <td>Краснодар</td>\n",
       "      <td>ultra</td>\n",
       "    </tr>\n",
       "    <tr>\n",
       "      <th>1535</th>\n",
       "      <td>16</td>\n",
       "      <td>Амалия</td>\n",
       "      <td>27</td>\n",
       "      <td>Краснодар</td>\n",
       "      <td>ultra</td>\n",
       "    </tr>\n",
       "  </tbody>\n",
       "</table>\n",
       "</div>"
      ],
      "text/plain": [
       "      user_id    name  age       city subscription_type\n",
       "15         16  Амалия   27  Краснодар             ultra\n",
       "1535       16  Амалия   27  Краснодар             ultra"
      ]
     },
     "metadata": {},
     "output_type": "display_data"
    },
    {
     "name": "stdout",
     "output_type": "stream",
     "text": [
      "========================================\n"
     ]
    },
    {
     "data": {
      "text/html": [
       "<div>\n",
       "<style scoped>\n",
       "    .dataframe tbody tr th:only-of-type {\n",
       "        vertical-align: middle;\n",
       "    }\n",
       "\n",
       "    .dataframe tbody tr th {\n",
       "        vertical-align: top;\n",
       "    }\n",
       "\n",
       "    .dataframe thead th {\n",
       "        text-align: right;\n",
       "    }\n",
       "</style>\n",
       "<table border=\"1\" class=\"dataframe\">\n",
       "  <thead>\n",
       "    <tr style=\"text-align: right;\">\n",
       "      <th></th>\n",
       "      <th>user_id</th>\n",
       "      <th>name</th>\n",
       "      <th>age</th>\n",
       "      <th>city</th>\n",
       "      <th>subscription_type</th>\n",
       "    </tr>\n",
       "  </thead>\n",
       "  <tbody>\n",
       "    <tr>\n",
       "      <th>908</th>\n",
       "      <td>909</td>\n",
       "      <td>Константин</td>\n",
       "      <td>20</td>\n",
       "      <td>Екатеринбург</td>\n",
       "      <td>free</td>\n",
       "    </tr>\n",
       "    <tr>\n",
       "      <th>1536</th>\n",
       "      <td>909</td>\n",
       "      <td>Константин</td>\n",
       "      <td>20</td>\n",
       "      <td>Екатеринбург</td>\n",
       "      <td>free</td>\n",
       "    </tr>\n",
       "  </tbody>\n",
       "</table>\n",
       "</div>"
      ],
      "text/plain": [
       "      user_id        name  age          city subscription_type\n",
       "908       909  Константин   20  Екатеринбург              free\n",
       "1536      909  Константин   20  Екатеринбург              free"
      ]
     },
     "metadata": {},
     "output_type": "display_data"
    },
    {
     "name": "stdout",
     "output_type": "stream",
     "text": [
      "========================================\n"
     ]
    },
    {
     "data": {
      "text/html": [
       "<div>\n",
       "<style scoped>\n",
       "    .dataframe tbody tr th:only-of-type {\n",
       "        vertical-align: middle;\n",
       "    }\n",
       "\n",
       "    .dataframe tbody tr th {\n",
       "        vertical-align: top;\n",
       "    }\n",
       "\n",
       "    .dataframe thead th {\n",
       "        text-align: right;\n",
       "    }\n",
       "</style>\n",
       "<table border=\"1\" class=\"dataframe\">\n",
       "  <thead>\n",
       "    <tr style=\"text-align: right;\">\n",
       "      <th></th>\n",
       "      <th>user_id</th>\n",
       "      <th>name</th>\n",
       "      <th>age</th>\n",
       "      <th>city</th>\n",
       "      <th>subscription_type</th>\n",
       "    </tr>\n",
       "  </thead>\n",
       "  <tbody>\n",
       "    <tr>\n",
       "      <th>402</th>\n",
       "      <td>403</td>\n",
       "      <td>Полина</td>\n",
       "      <td>19</td>\n",
       "      <td>Сочи</td>\n",
       "      <td>ultra</td>\n",
       "    </tr>\n",
       "    <tr>\n",
       "      <th>1537</th>\n",
       "      <td>403</td>\n",
       "      <td>Полина</td>\n",
       "      <td>19</td>\n",
       "      <td>Сочи</td>\n",
       "      <td>ultra</td>\n",
       "    </tr>\n",
       "  </tbody>\n",
       "</table>\n",
       "</div>"
      ],
      "text/plain": [
       "      user_id    name  age  city subscription_type\n",
       "402       403  Полина   19  Сочи             ultra\n",
       "1537      403  Полина   19  Сочи             ultra"
      ]
     },
     "metadata": {},
     "output_type": "display_data"
    },
    {
     "name": "stdout",
     "output_type": "stream",
     "text": [
      "========================================\n"
     ]
    },
    {
     "data": {
      "text/html": [
       "<div>\n",
       "<style scoped>\n",
       "    .dataframe tbody tr th:only-of-type {\n",
       "        vertical-align: middle;\n",
       "    }\n",
       "\n",
       "    .dataframe tbody tr th {\n",
       "        vertical-align: top;\n",
       "    }\n",
       "\n",
       "    .dataframe thead th {\n",
       "        text-align: right;\n",
       "    }\n",
       "</style>\n",
       "<table border=\"1\" class=\"dataframe\">\n",
       "  <thead>\n",
       "    <tr style=\"text-align: right;\">\n",
       "      <th></th>\n",
       "      <th>user_id</th>\n",
       "      <th>name</th>\n",
       "      <th>age</th>\n",
       "      <th>city</th>\n",
       "      <th>subscription_type</th>\n",
       "    </tr>\n",
       "  </thead>\n",
       "  <tbody>\n",
       "    <tr>\n",
       "      <th>907</th>\n",
       "      <td>908</td>\n",
       "      <td>Рустам</td>\n",
       "      <td>30</td>\n",
       "      <td>Тюмень</td>\n",
       "      <td>free</td>\n",
       "    </tr>\n",
       "    <tr>\n",
       "      <th>1538</th>\n",
       "      <td>908</td>\n",
       "      <td>Рустам</td>\n",
       "      <td>30</td>\n",
       "      <td>Тюмень</td>\n",
       "      <td>free</td>\n",
       "    </tr>\n",
       "  </tbody>\n",
       "</table>\n",
       "</div>"
      ],
      "text/plain": [
       "      user_id    name  age    city subscription_type\n",
       "907       908  Рустам   30  Тюмень              free\n",
       "1538      908  Рустам   30  Тюмень              free"
      ]
     },
     "metadata": {},
     "output_type": "display_data"
    },
    {
     "name": "stdout",
     "output_type": "stream",
     "text": [
      "========================================\n"
     ]
    },
    {
     "data": {
      "text/html": [
       "<div>\n",
       "<style scoped>\n",
       "    .dataframe tbody tr th:only-of-type {\n",
       "        vertical-align: middle;\n",
       "    }\n",
       "\n",
       "    .dataframe tbody tr th {\n",
       "        vertical-align: top;\n",
       "    }\n",
       "\n",
       "    .dataframe thead th {\n",
       "        text-align: right;\n",
       "    }\n",
       "</style>\n",
       "<table border=\"1\" class=\"dataframe\">\n",
       "  <thead>\n",
       "    <tr style=\"text-align: right;\">\n",
       "      <th></th>\n",
       "      <th>user_id</th>\n",
       "      <th>name</th>\n",
       "      <th>age</th>\n",
       "      <th>city</th>\n",
       "      <th>subscription_type</th>\n",
       "    </tr>\n",
       "  </thead>\n",
       "  <tbody>\n",
       "    <tr>\n",
       "      <th>42</th>\n",
       "      <td>43</td>\n",
       "      <td>Стефания</td>\n",
       "      <td>22</td>\n",
       "      <td>Омск</td>\n",
       "      <td>ultra</td>\n",
       "    </tr>\n",
       "    <tr>\n",
       "      <th>1539</th>\n",
       "      <td>43</td>\n",
       "      <td>Стефания</td>\n",
       "      <td>22</td>\n",
       "      <td>Омск</td>\n",
       "      <td>ultra</td>\n",
       "    </tr>\n",
       "  </tbody>\n",
       "</table>\n",
       "</div>"
      ],
      "text/plain": [
       "      user_id      name  age  city subscription_type\n",
       "42         43  Стефания   22  Омск             ultra\n",
       "1539       43  Стефания   22  Омск             ultra"
      ]
     },
     "metadata": {},
     "output_type": "display_data"
    },
    {
     "name": "stdout",
     "output_type": "stream",
     "text": [
      "========================================\n"
     ]
    },
    {
     "data": {
      "text/html": [
       "<div>\n",
       "<style scoped>\n",
       "    .dataframe tbody tr th:only-of-type {\n",
       "        vertical-align: middle;\n",
       "    }\n",
       "\n",
       "    .dataframe tbody tr th {\n",
       "        vertical-align: top;\n",
       "    }\n",
       "\n",
       "    .dataframe thead th {\n",
       "        text-align: right;\n",
       "    }\n",
       "</style>\n",
       "<table border=\"1\" class=\"dataframe\">\n",
       "  <thead>\n",
       "    <tr style=\"text-align: right;\">\n",
       "      <th></th>\n",
       "      <th>user_id</th>\n",
       "      <th>name</th>\n",
       "      <th>age</th>\n",
       "      <th>city</th>\n",
       "      <th>subscription_type</th>\n",
       "    </tr>\n",
       "  </thead>\n",
       "  <tbody>\n",
       "    <tr>\n",
       "      <th>126</th>\n",
       "      <td>127</td>\n",
       "      <td>Павел</td>\n",
       "      <td>25</td>\n",
       "      <td>Пятигорск</td>\n",
       "      <td>ultra</td>\n",
       "    </tr>\n",
       "    <tr>\n",
       "      <th>1540</th>\n",
       "      <td>127</td>\n",
       "      <td>Павел</td>\n",
       "      <td>25</td>\n",
       "      <td>Пятигорск</td>\n",
       "      <td>ultra</td>\n",
       "    </tr>\n",
       "  </tbody>\n",
       "</table>\n",
       "</div>"
      ],
      "text/plain": [
       "      user_id   name  age       city subscription_type\n",
       "126       127  Павел   25  Пятигорск             ultra\n",
       "1540      127  Павел   25  Пятигорск             ultra"
      ]
     },
     "metadata": {},
     "output_type": "display_data"
    },
    {
     "name": "stdout",
     "output_type": "stream",
     "text": [
      "========================================\n"
     ]
    },
    {
     "data": {
      "text/html": [
       "<div>\n",
       "<style scoped>\n",
       "    .dataframe tbody tr th:only-of-type {\n",
       "        vertical-align: middle;\n",
       "    }\n",
       "\n",
       "    .dataframe tbody tr th {\n",
       "        vertical-align: top;\n",
       "    }\n",
       "\n",
       "    .dataframe thead th {\n",
       "        text-align: right;\n",
       "    }\n",
       "</style>\n",
       "<table border=\"1\" class=\"dataframe\">\n",
       "  <thead>\n",
       "    <tr style=\"text-align: right;\">\n",
       "      <th></th>\n",
       "      <th>user_id</th>\n",
       "      <th>name</th>\n",
       "      <th>age</th>\n",
       "      <th>city</th>\n",
       "      <th>subscription_type</th>\n",
       "    </tr>\n",
       "  </thead>\n",
       "  <tbody>\n",
       "    <tr>\n",
       "      <th>658</th>\n",
       "      <td>659</td>\n",
       "      <td>Злата</td>\n",
       "      <td>27</td>\n",
       "      <td>Ростов-на-Дону</td>\n",
       "      <td>ultra</td>\n",
       "    </tr>\n",
       "    <tr>\n",
       "      <th>1541</th>\n",
       "      <td>659</td>\n",
       "      <td>Злата</td>\n",
       "      <td>27</td>\n",
       "      <td>Ростов-на-Дону</td>\n",
       "      <td>ultra</td>\n",
       "    </tr>\n",
       "  </tbody>\n",
       "</table>\n",
       "</div>"
      ],
      "text/plain": [
       "      user_id   name  age            city subscription_type\n",
       "658       659  Злата   27  Ростов-на-Дону             ultra\n",
       "1541      659  Злата   27  Ростов-на-Дону             ultra"
      ]
     },
     "metadata": {},
     "output_type": "display_data"
    },
    {
     "name": "stdout",
     "output_type": "stream",
     "text": [
      "========================================\n"
     ]
    },
    {
     "data": {
      "text/html": [
       "<div>\n",
       "<style scoped>\n",
       "    .dataframe tbody tr th:only-of-type {\n",
       "        vertical-align: middle;\n",
       "    }\n",
       "\n",
       "    .dataframe tbody tr th {\n",
       "        vertical-align: top;\n",
       "    }\n",
       "\n",
       "    .dataframe thead th {\n",
       "        text-align: right;\n",
       "    }\n",
       "</style>\n",
       "<table border=\"1\" class=\"dataframe\">\n",
       "  <thead>\n",
       "    <tr style=\"text-align: right;\">\n",
       "      <th></th>\n",
       "      <th>user_id</th>\n",
       "      <th>name</th>\n",
       "      <th>age</th>\n",
       "      <th>city</th>\n",
       "      <th>subscription_type</th>\n",
       "    </tr>\n",
       "  </thead>\n",
       "  <tbody>\n",
       "    <tr>\n",
       "      <th>203</th>\n",
       "      <td>204</td>\n",
       "      <td>Руслан</td>\n",
       "      <td>30</td>\n",
       "      <td>Пятигорск</td>\n",
       "      <td>ultra</td>\n",
       "    </tr>\n",
       "    <tr>\n",
       "      <th>1542</th>\n",
       "      <td>204</td>\n",
       "      <td>Руслан</td>\n",
       "      <td>30</td>\n",
       "      <td>Пятигорск</td>\n",
       "      <td>ultra</td>\n",
       "    </tr>\n",
       "  </tbody>\n",
       "</table>\n",
       "</div>"
      ],
      "text/plain": [
       "      user_id    name  age       city subscription_type\n",
       "203       204  Руслан   30  Пятигорск             ultra\n",
       "1542      204  Руслан   30  Пятигорск             ultra"
      ]
     },
     "metadata": {},
     "output_type": "display_data"
    },
    {
     "name": "stdout",
     "output_type": "stream",
     "text": [
      "========================================\n"
     ]
    },
    {
     "data": {
      "text/html": [
       "<div>\n",
       "<style scoped>\n",
       "    .dataframe tbody tr th:only-of-type {\n",
       "        vertical-align: middle;\n",
       "    }\n",
       "\n",
       "    .dataframe tbody tr th {\n",
       "        vertical-align: top;\n",
       "    }\n",
       "\n",
       "    .dataframe thead th {\n",
       "        text-align: right;\n",
       "    }\n",
       "</style>\n",
       "<table border=\"1\" class=\"dataframe\">\n",
       "  <thead>\n",
       "    <tr style=\"text-align: right;\">\n",
       "      <th></th>\n",
       "      <th>user_id</th>\n",
       "      <th>name</th>\n",
       "      <th>age</th>\n",
       "      <th>city</th>\n",
       "      <th>subscription_type</th>\n",
       "    </tr>\n",
       "  </thead>\n",
       "  <tbody>\n",
       "    <tr>\n",
       "      <th>152</th>\n",
       "      <td>153</td>\n",
       "      <td>Герман</td>\n",
       "      <td>23</td>\n",
       "      <td>Москва</td>\n",
       "      <td>ultra</td>\n",
       "    </tr>\n",
       "    <tr>\n",
       "      <th>1543</th>\n",
       "      <td>153</td>\n",
       "      <td>Герман</td>\n",
       "      <td>23</td>\n",
       "      <td>Москва</td>\n",
       "      <td>ultra</td>\n",
       "    </tr>\n",
       "  </tbody>\n",
       "</table>\n",
       "</div>"
      ],
      "text/plain": [
       "      user_id    name  age    city subscription_type\n",
       "152       153  Герман   23  Москва             ultra\n",
       "1543      153  Герман   23  Москва             ultra"
      ]
     },
     "metadata": {},
     "output_type": "display_data"
    },
    {
     "name": "stdout",
     "output_type": "stream",
     "text": [
      "========================================\n"
     ]
    },
    {
     "data": {
      "text/html": [
       "<div>\n",
       "<style scoped>\n",
       "    .dataframe tbody tr th:only-of-type {\n",
       "        vertical-align: middle;\n",
       "    }\n",
       "\n",
       "    .dataframe tbody tr th {\n",
       "        vertical-align: top;\n",
       "    }\n",
       "\n",
       "    .dataframe thead th {\n",
       "        text-align: right;\n",
       "    }\n",
       "</style>\n",
       "<table border=\"1\" class=\"dataframe\">\n",
       "  <thead>\n",
       "    <tr style=\"text-align: right;\">\n",
       "      <th></th>\n",
       "      <th>user_id</th>\n",
       "      <th>name</th>\n",
       "      <th>age</th>\n",
       "      <th>city</th>\n",
       "      <th>subscription_type</th>\n",
       "    </tr>\n",
       "  </thead>\n",
       "  <tbody>\n",
       "    <tr>\n",
       "      <th>1244</th>\n",
       "      <td>1245</td>\n",
       "      <td>Регина</td>\n",
       "      <td>27</td>\n",
       "      <td>Пятигорск</td>\n",
       "      <td>free</td>\n",
       "    </tr>\n",
       "    <tr>\n",
       "      <th>1544</th>\n",
       "      <td>1245</td>\n",
       "      <td>Регина</td>\n",
       "      <td>27</td>\n",
       "      <td>Пятигорск</td>\n",
       "      <td>free</td>\n",
       "    </tr>\n",
       "  </tbody>\n",
       "</table>\n",
       "</div>"
      ],
      "text/plain": [
       "      user_id    name  age       city subscription_type\n",
       "1244     1245  Регина   27  Пятигорск              free\n",
       "1544     1245  Регина   27  Пятигорск              free"
      ]
     },
     "metadata": {},
     "output_type": "display_data"
    },
    {
     "name": "stdout",
     "output_type": "stream",
     "text": [
      "========================================\n"
     ]
    },
    {
     "data": {
      "text/html": [
       "<div>\n",
       "<style scoped>\n",
       "    .dataframe tbody tr th:only-of-type {\n",
       "        vertical-align: middle;\n",
       "    }\n",
       "\n",
       "    .dataframe tbody tr th {\n",
       "        vertical-align: top;\n",
       "    }\n",
       "\n",
       "    .dataframe thead th {\n",
       "        text-align: right;\n",
       "    }\n",
       "</style>\n",
       "<table border=\"1\" class=\"dataframe\">\n",
       "  <thead>\n",
       "    <tr style=\"text-align: right;\">\n",
       "      <th></th>\n",
       "      <th>user_id</th>\n",
       "      <th>name</th>\n",
       "      <th>age</th>\n",
       "      <th>city</th>\n",
       "      <th>subscription_type</th>\n",
       "    </tr>\n",
       "  </thead>\n",
       "  <tbody>\n",
       "    <tr>\n",
       "      <th>806</th>\n",
       "      <td>807</td>\n",
       "      <td>Александр</td>\n",
       "      <td>28</td>\n",
       "      <td>Екатеринбург</td>\n",
       "      <td>free</td>\n",
       "    </tr>\n",
       "    <tr>\n",
       "      <th>1545</th>\n",
       "      <td>807</td>\n",
       "      <td>Александр</td>\n",
       "      <td>28</td>\n",
       "      <td>Екатеринбург</td>\n",
       "      <td>free</td>\n",
       "    </tr>\n",
       "  </tbody>\n",
       "</table>\n",
       "</div>"
      ],
      "text/plain": [
       "      user_id       name  age          city subscription_type\n",
       "806       807  Александр   28  Екатеринбург              free\n",
       "1545      807  Александр   28  Екатеринбург              free"
      ]
     },
     "metadata": {},
     "output_type": "display_data"
    },
    {
     "name": "stdout",
     "output_type": "stream",
     "text": [
      "========================================\n"
     ]
    },
    {
     "data": {
      "text/html": [
       "<div>\n",
       "<style scoped>\n",
       "    .dataframe tbody tr th:only-of-type {\n",
       "        vertical-align: middle;\n",
       "    }\n",
       "\n",
       "    .dataframe tbody tr th {\n",
       "        vertical-align: top;\n",
       "    }\n",
       "\n",
       "    .dataframe thead th {\n",
       "        text-align: right;\n",
       "    }\n",
       "</style>\n",
       "<table border=\"1\" class=\"dataframe\">\n",
       "  <thead>\n",
       "    <tr style=\"text-align: right;\">\n",
       "      <th></th>\n",
       "      <th>user_id</th>\n",
       "      <th>name</th>\n",
       "      <th>age</th>\n",
       "      <th>city</th>\n",
       "      <th>subscription_type</th>\n",
       "    </tr>\n",
       "  </thead>\n",
       "  <tbody>\n",
       "    <tr>\n",
       "      <th>923</th>\n",
       "      <td>924</td>\n",
       "      <td>Мария</td>\n",
       "      <td>23</td>\n",
       "      <td>Пятигорск</td>\n",
       "      <td>free</td>\n",
       "    </tr>\n",
       "    <tr>\n",
       "      <th>1546</th>\n",
       "      <td>924</td>\n",
       "      <td>Мария</td>\n",
       "      <td>23</td>\n",
       "      <td>Пятигорск</td>\n",
       "      <td>free</td>\n",
       "    </tr>\n",
       "  </tbody>\n",
       "</table>\n",
       "</div>"
      ],
      "text/plain": [
       "      user_id   name  age       city subscription_type\n",
       "923       924  Мария   23  Пятигорск              free\n",
       "1546      924  Мария   23  Пятигорск              free"
      ]
     },
     "metadata": {},
     "output_type": "display_data"
    },
    {
     "name": "stdout",
     "output_type": "stream",
     "text": [
      "========================================\n"
     ]
    },
    {
     "data": {
      "text/html": [
       "<div>\n",
       "<style scoped>\n",
       "    .dataframe tbody tr th:only-of-type {\n",
       "        vertical-align: middle;\n",
       "    }\n",
       "\n",
       "    .dataframe tbody tr th {\n",
       "        vertical-align: top;\n",
       "    }\n",
       "\n",
       "    .dataframe thead th {\n",
       "        text-align: right;\n",
       "    }\n",
       "</style>\n",
       "<table border=\"1\" class=\"dataframe\">\n",
       "  <thead>\n",
       "    <tr style=\"text-align: right;\">\n",
       "      <th></th>\n",
       "      <th>user_id</th>\n",
       "      <th>name</th>\n",
       "      <th>age</th>\n",
       "      <th>city</th>\n",
       "      <th>subscription_type</th>\n",
       "    </tr>\n",
       "  </thead>\n",
       "  <tbody>\n",
       "    <tr>\n",
       "      <th>634</th>\n",
       "      <td>635</td>\n",
       "      <td>Герман</td>\n",
       "      <td>21</td>\n",
       "      <td>Москва</td>\n",
       "      <td>ultra</td>\n",
       "    </tr>\n",
       "    <tr>\n",
       "      <th>1547</th>\n",
       "      <td>635</td>\n",
       "      <td>Герман</td>\n",
       "      <td>21</td>\n",
       "      <td>Москва</td>\n",
       "      <td>ultra</td>\n",
       "    </tr>\n",
       "  </tbody>\n",
       "</table>\n",
       "</div>"
      ],
      "text/plain": [
       "      user_id    name  age    city subscription_type\n",
       "634       635  Герман   21  Москва             ultra\n",
       "1547      635  Герман   21  Москва             ultra"
      ]
     },
     "metadata": {},
     "output_type": "display_data"
    },
    {
     "name": "stdout",
     "output_type": "stream",
     "text": [
      "========================================\n"
     ]
    },
    {
     "data": {
      "text/html": [
       "<div>\n",
       "<style scoped>\n",
       "    .dataframe tbody tr th:only-of-type {\n",
       "        vertical-align: middle;\n",
       "    }\n",
       "\n",
       "    .dataframe tbody tr th {\n",
       "        vertical-align: top;\n",
       "    }\n",
       "\n",
       "    .dataframe thead th {\n",
       "        text-align: right;\n",
       "    }\n",
       "</style>\n",
       "<table border=\"1\" class=\"dataframe\">\n",
       "  <thead>\n",
       "    <tr style=\"text-align: right;\">\n",
       "      <th></th>\n",
       "      <th>user_id</th>\n",
       "      <th>name</th>\n",
       "      <th>age</th>\n",
       "      <th>city</th>\n",
       "      <th>subscription_type</th>\n",
       "    </tr>\n",
       "  </thead>\n",
       "  <tbody>\n",
       "    <tr>\n",
       "      <th>135</th>\n",
       "      <td>136</td>\n",
       "      <td>Марсель</td>\n",
       "      <td>25</td>\n",
       "      <td>Тюмень</td>\n",
       "      <td>ultra</td>\n",
       "    </tr>\n",
       "    <tr>\n",
       "      <th>1548</th>\n",
       "      <td>136</td>\n",
       "      <td>Марсель</td>\n",
       "      <td>25</td>\n",
       "      <td>Тюмень</td>\n",
       "      <td>ultra</td>\n",
       "    </tr>\n",
       "  </tbody>\n",
       "</table>\n",
       "</div>"
      ],
      "text/plain": [
       "      user_id     name  age    city subscription_type\n",
       "135       136  Марсель   25  Тюмень             ultra\n",
       "1548      136  Марсель   25  Тюмень             ultra"
      ]
     },
     "metadata": {},
     "output_type": "display_data"
    },
    {
     "name": "stdout",
     "output_type": "stream",
     "text": [
      "========================================\n"
     ]
    },
    {
     "data": {
      "text/html": [
       "<div>\n",
       "<style scoped>\n",
       "    .dataframe tbody tr th:only-of-type {\n",
       "        vertical-align: middle;\n",
       "    }\n",
       "\n",
       "    .dataframe tbody tr th {\n",
       "        vertical-align: top;\n",
       "    }\n",
       "\n",
       "    .dataframe thead th {\n",
       "        text-align: right;\n",
       "    }\n",
       "</style>\n",
       "<table border=\"1\" class=\"dataframe\">\n",
       "  <thead>\n",
       "    <tr style=\"text-align: right;\">\n",
       "      <th></th>\n",
       "      <th>user_id</th>\n",
       "      <th>name</th>\n",
       "      <th>age</th>\n",
       "      <th>city</th>\n",
       "      <th>subscription_type</th>\n",
       "    </tr>\n",
       "  </thead>\n",
       "  <tbody>\n",
       "    <tr>\n",
       "      <th>107</th>\n",
       "      <td>108</td>\n",
       "      <td>Влада</td>\n",
       "      <td>29</td>\n",
       "      <td>Тюмень</td>\n",
       "      <td>ultra</td>\n",
       "    </tr>\n",
       "    <tr>\n",
       "      <th>1549</th>\n",
       "      <td>108</td>\n",
       "      <td>Влада</td>\n",
       "      <td>29</td>\n",
       "      <td>Тюмень</td>\n",
       "      <td>ultra</td>\n",
       "    </tr>\n",
       "  </tbody>\n",
       "</table>\n",
       "</div>"
      ],
      "text/plain": [
       "      user_id   name  age    city subscription_type\n",
       "107       108  Влада   29  Тюмень             ultra\n",
       "1549      108  Влада   29  Тюмень             ultra"
      ]
     },
     "metadata": {},
     "output_type": "display_data"
    },
    {
     "name": "stdout",
     "output_type": "stream",
     "text": [
      "========================================\n"
     ]
    },
    {
     "data": {
      "text/html": [
       "<div>\n",
       "<style scoped>\n",
       "    .dataframe tbody tr th:only-of-type {\n",
       "        vertical-align: middle;\n",
       "    }\n",
       "\n",
       "    .dataframe tbody tr th {\n",
       "        vertical-align: top;\n",
       "    }\n",
       "\n",
       "    .dataframe thead th {\n",
       "        text-align: right;\n",
       "    }\n",
       "</style>\n",
       "<table border=\"1\" class=\"dataframe\">\n",
       "  <thead>\n",
       "    <tr style=\"text-align: right;\">\n",
       "      <th></th>\n",
       "      <th>user_id</th>\n",
       "      <th>name</th>\n",
       "      <th>age</th>\n",
       "      <th>city</th>\n",
       "      <th>subscription_type</th>\n",
       "    </tr>\n",
       "  </thead>\n",
       "  <tbody>\n",
       "    <tr>\n",
       "      <th>736</th>\n",
       "      <td>737</td>\n",
       "      <td>Мелания</td>\n",
       "      <td>27</td>\n",
       "      <td>Ростов-на-Дону</td>\n",
       "      <td>free</td>\n",
       "    </tr>\n",
       "    <tr>\n",
       "      <th>1550</th>\n",
       "      <td>737</td>\n",
       "      <td>Мелания</td>\n",
       "      <td>27</td>\n",
       "      <td>Ростов-на-Дону</td>\n",
       "      <td>free</td>\n",
       "    </tr>\n",
       "  </tbody>\n",
       "</table>\n",
       "</div>"
      ],
      "text/plain": [
       "      user_id     name  age            city subscription_type\n",
       "736       737  Мелания   27  Ростов-на-Дону              free\n",
       "1550      737  Мелания   27  Ростов-на-Дону              free"
      ]
     },
     "metadata": {},
     "output_type": "display_data"
    },
    {
     "name": "stdout",
     "output_type": "stream",
     "text": [
      "========================================\n"
     ]
    },
    {
     "data": {
      "text/html": [
       "<div>\n",
       "<style scoped>\n",
       "    .dataframe tbody tr th:only-of-type {\n",
       "        vertical-align: middle;\n",
       "    }\n",
       "\n",
       "    .dataframe tbody tr th {\n",
       "        vertical-align: top;\n",
       "    }\n",
       "\n",
       "    .dataframe thead th {\n",
       "        text-align: right;\n",
       "    }\n",
       "</style>\n",
       "<table border=\"1\" class=\"dataframe\">\n",
       "  <thead>\n",
       "    <tr style=\"text-align: right;\">\n",
       "      <th></th>\n",
       "      <th>user_id</th>\n",
       "      <th>name</th>\n",
       "      <th>age</th>\n",
       "      <th>city</th>\n",
       "      <th>subscription_type</th>\n",
       "    </tr>\n",
       "  </thead>\n",
       "  <tbody>\n",
       "    <tr>\n",
       "      <th>665</th>\n",
       "      <td>666</td>\n",
       "      <td>Зарина</td>\n",
       "      <td>29</td>\n",
       "      <td>Москва</td>\n",
       "      <td>ultra</td>\n",
       "    </tr>\n",
       "    <tr>\n",
       "      <th>1551</th>\n",
       "      <td>666</td>\n",
       "      <td>Зарина</td>\n",
       "      <td>29</td>\n",
       "      <td>Москва</td>\n",
       "      <td>ultra</td>\n",
       "    </tr>\n",
       "  </tbody>\n",
       "</table>\n",
       "</div>"
      ],
      "text/plain": [
       "      user_id    name  age    city subscription_type\n",
       "665       666  Зарина   29  Москва             ultra\n",
       "1551      666  Зарина   29  Москва             ultra"
      ]
     },
     "metadata": {},
     "output_type": "display_data"
    },
    {
     "name": "stdout",
     "output_type": "stream",
     "text": [
      "========================================\n"
     ]
    },
    {
     "data": {
      "text/html": [
       "<div>\n",
       "<style scoped>\n",
       "    .dataframe tbody tr th:only-of-type {\n",
       "        vertical-align: middle;\n",
       "    }\n",
       "\n",
       "    .dataframe tbody tr th {\n",
       "        vertical-align: top;\n",
       "    }\n",
       "\n",
       "    .dataframe thead th {\n",
       "        text-align: right;\n",
       "    }\n",
       "</style>\n",
       "<table border=\"1\" class=\"dataframe\">\n",
       "  <thead>\n",
       "    <tr style=\"text-align: right;\">\n",
       "      <th></th>\n",
       "      <th>user_id</th>\n",
       "      <th>name</th>\n",
       "      <th>age</th>\n",
       "      <th>city</th>\n",
       "      <th>subscription_type</th>\n",
       "    </tr>\n",
       "  </thead>\n",
       "  <tbody>\n",
       "    <tr>\n",
       "      <th>296</th>\n",
       "      <td>297</td>\n",
       "      <td>Егор</td>\n",
       "      <td>33</td>\n",
       "      <td>Пятигорск</td>\n",
       "      <td>ultra</td>\n",
       "    </tr>\n",
       "    <tr>\n",
       "      <th>1552</th>\n",
       "      <td>297</td>\n",
       "      <td>Егор</td>\n",
       "      <td>33</td>\n",
       "      <td>Пятигорск</td>\n",
       "      <td>ultra</td>\n",
       "    </tr>\n",
       "  </tbody>\n",
       "</table>\n",
       "</div>"
      ],
      "text/plain": [
       "      user_id  name  age       city subscription_type\n",
       "296       297  Егор   33  Пятигорск             ultra\n",
       "1552      297  Егор   33  Пятигорск             ultra"
      ]
     },
     "metadata": {},
     "output_type": "display_data"
    },
    {
     "name": "stdout",
     "output_type": "stream",
     "text": [
      "========================================\n"
     ]
    },
    {
     "data": {
      "text/html": [
       "<div>\n",
       "<style scoped>\n",
       "    .dataframe tbody tr th:only-of-type {\n",
       "        vertical-align: middle;\n",
       "    }\n",
       "\n",
       "    .dataframe tbody tr th {\n",
       "        vertical-align: top;\n",
       "    }\n",
       "\n",
       "    .dataframe thead th {\n",
       "        text-align: right;\n",
       "    }\n",
       "</style>\n",
       "<table border=\"1\" class=\"dataframe\">\n",
       "  <thead>\n",
       "    <tr style=\"text-align: right;\">\n",
       "      <th></th>\n",
       "      <th>user_id</th>\n",
       "      <th>name</th>\n",
       "      <th>age</th>\n",
       "      <th>city</th>\n",
       "      <th>subscription_type</th>\n",
       "    </tr>\n",
       "  </thead>\n",
       "  <tbody>\n",
       "    <tr>\n",
       "      <th>120</th>\n",
       "      <td>121</td>\n",
       "      <td>Алина</td>\n",
       "      <td>25</td>\n",
       "      <td>Пятигорск</td>\n",
       "      <td>ultra</td>\n",
       "    </tr>\n",
       "    <tr>\n",
       "      <th>1553</th>\n",
       "      <td>121</td>\n",
       "      <td>Алина</td>\n",
       "      <td>25</td>\n",
       "      <td>Пятигорск</td>\n",
       "      <td>ultra</td>\n",
       "    </tr>\n",
       "  </tbody>\n",
       "</table>\n",
       "</div>"
      ],
      "text/plain": [
       "      user_id   name  age       city subscription_type\n",
       "120       121  Алина   25  Пятигорск             ultra\n",
       "1553      121  Алина   25  Пятигорск             ultra"
      ]
     },
     "metadata": {},
     "output_type": "display_data"
    },
    {
     "name": "stdout",
     "output_type": "stream",
     "text": [
      "========================================\n"
     ]
    },
    {
     "data": {
      "text/html": [
       "<div>\n",
       "<style scoped>\n",
       "    .dataframe tbody tr th:only-of-type {\n",
       "        vertical-align: middle;\n",
       "    }\n",
       "\n",
       "    .dataframe tbody tr th {\n",
       "        vertical-align: top;\n",
       "    }\n",
       "\n",
       "    .dataframe thead th {\n",
       "        text-align: right;\n",
       "    }\n",
       "</style>\n",
       "<table border=\"1\" class=\"dataframe\">\n",
       "  <thead>\n",
       "    <tr style=\"text-align: right;\">\n",
       "      <th></th>\n",
       "      <th>user_id</th>\n",
       "      <th>name</th>\n",
       "      <th>age</th>\n",
       "      <th>city</th>\n",
       "      <th>subscription_type</th>\n",
       "    </tr>\n",
       "  </thead>\n",
       "  <tbody>\n",
       "    <tr>\n",
       "      <th>1197</th>\n",
       "      <td>1198</td>\n",
       "      <td>Демид</td>\n",
       "      <td>29</td>\n",
       "      <td>Ростов-на-Дону</td>\n",
       "      <td>free</td>\n",
       "    </tr>\n",
       "    <tr>\n",
       "      <th>1554</th>\n",
       "      <td>1198</td>\n",
       "      <td>Демид</td>\n",
       "      <td>29</td>\n",
       "      <td>Ростов-на-Дону</td>\n",
       "      <td>free</td>\n",
       "    </tr>\n",
       "  </tbody>\n",
       "</table>\n",
       "</div>"
      ],
      "text/plain": [
       "      user_id   name  age            city subscription_type\n",
       "1197     1198  Демид   29  Ростов-на-Дону              free\n",
       "1554     1198  Демид   29  Ростов-на-Дону              free"
      ]
     },
     "metadata": {},
     "output_type": "display_data"
    },
    {
     "name": "stdout",
     "output_type": "stream",
     "text": [
      "========================================\n"
     ]
    },
    {
     "data": {
      "text/html": [
       "<div>\n",
       "<style scoped>\n",
       "    .dataframe tbody tr th:only-of-type {\n",
       "        vertical-align: middle;\n",
       "    }\n",
       "\n",
       "    .dataframe tbody tr th {\n",
       "        vertical-align: top;\n",
       "    }\n",
       "\n",
       "    .dataframe thead th {\n",
       "        text-align: right;\n",
       "    }\n",
       "</style>\n",
       "<table border=\"1\" class=\"dataframe\">\n",
       "  <thead>\n",
       "    <tr style=\"text-align: right;\">\n",
       "      <th></th>\n",
       "      <th>user_id</th>\n",
       "      <th>name</th>\n",
       "      <th>age</th>\n",
       "      <th>city</th>\n",
       "      <th>subscription_type</th>\n",
       "    </tr>\n",
       "  </thead>\n",
       "  <tbody>\n",
       "    <tr>\n",
       "      <th>71</th>\n",
       "      <td>72</td>\n",
       "      <td>Никита</td>\n",
       "      <td>25</td>\n",
       "      <td>Москва</td>\n",
       "      <td>ultra</td>\n",
       "    </tr>\n",
       "    <tr>\n",
       "      <th>1555</th>\n",
       "      <td>72</td>\n",
       "      <td>Никита</td>\n",
       "      <td>25</td>\n",
       "      <td>Москва</td>\n",
       "      <td>ultra</td>\n",
       "    </tr>\n",
       "  </tbody>\n",
       "</table>\n",
       "</div>"
      ],
      "text/plain": [
       "      user_id    name  age    city subscription_type\n",
       "71         72  Никита   25  Москва             ultra\n",
       "1555       72  Никита   25  Москва             ultra"
      ]
     },
     "metadata": {},
     "output_type": "display_data"
    },
    {
     "name": "stdout",
     "output_type": "stream",
     "text": [
      "========================================\n"
     ]
    },
    {
     "data": {
      "text/html": [
       "<div>\n",
       "<style scoped>\n",
       "    .dataframe tbody tr th:only-of-type {\n",
       "        vertical-align: middle;\n",
       "    }\n",
       "\n",
       "    .dataframe tbody tr th {\n",
       "        vertical-align: top;\n",
       "    }\n",
       "\n",
       "    .dataframe thead th {\n",
       "        text-align: right;\n",
       "    }\n",
       "</style>\n",
       "<table border=\"1\" class=\"dataframe\">\n",
       "  <thead>\n",
       "    <tr style=\"text-align: right;\">\n",
       "      <th></th>\n",
       "      <th>user_id</th>\n",
       "      <th>name</th>\n",
       "      <th>age</th>\n",
       "      <th>city</th>\n",
       "      <th>subscription_type</th>\n",
       "    </tr>\n",
       "  </thead>\n",
       "  <tbody>\n",
       "    <tr>\n",
       "      <th>421</th>\n",
       "      <td>422</td>\n",
       "      <td>Кирилл</td>\n",
       "      <td>27</td>\n",
       "      <td>Сочи</td>\n",
       "      <td>ultra</td>\n",
       "    </tr>\n",
       "    <tr>\n",
       "      <th>1556</th>\n",
       "      <td>422</td>\n",
       "      <td>Кирилл</td>\n",
       "      <td>27</td>\n",
       "      <td>Сочи</td>\n",
       "      <td>ultra</td>\n",
       "    </tr>\n",
       "  </tbody>\n",
       "</table>\n",
       "</div>"
      ],
      "text/plain": [
       "      user_id    name  age  city subscription_type\n",
       "421       422  Кирилл   27  Сочи             ultra\n",
       "1556      422  Кирилл   27  Сочи             ultra"
      ]
     },
     "metadata": {},
     "output_type": "display_data"
    },
    {
     "name": "stdout",
     "output_type": "stream",
     "text": [
      "========================================\n"
     ]
    },
    {
     "data": {
      "text/html": [
       "<div>\n",
       "<style scoped>\n",
       "    .dataframe tbody tr th:only-of-type {\n",
       "        vertical-align: middle;\n",
       "    }\n",
       "\n",
       "    .dataframe tbody tr th {\n",
       "        vertical-align: top;\n",
       "    }\n",
       "\n",
       "    .dataframe thead th {\n",
       "        text-align: right;\n",
       "    }\n",
       "</style>\n",
       "<table border=\"1\" class=\"dataframe\">\n",
       "  <thead>\n",
       "    <tr style=\"text-align: right;\">\n",
       "      <th></th>\n",
       "      <th>user_id</th>\n",
       "      <th>name</th>\n",
       "      <th>age</th>\n",
       "      <th>city</th>\n",
       "      <th>subscription_type</th>\n",
       "    </tr>\n",
       "  </thead>\n",
       "  <tbody>\n",
       "    <tr>\n",
       "      <th>610</th>\n",
       "      <td>611</td>\n",
       "      <td>Владимир</td>\n",
       "      <td>28</td>\n",
       "      <td>Омск</td>\n",
       "      <td>ultra</td>\n",
       "    </tr>\n",
       "    <tr>\n",
       "      <th>1557</th>\n",
       "      <td>611</td>\n",
       "      <td>Владимир</td>\n",
       "      <td>28</td>\n",
       "      <td>Омск</td>\n",
       "      <td>ultra</td>\n",
       "    </tr>\n",
       "  </tbody>\n",
       "</table>\n",
       "</div>"
      ],
      "text/plain": [
       "      user_id      name  age  city subscription_type\n",
       "610       611  Владимир   28  Омск             ultra\n",
       "1557      611  Владимир   28  Омск             ultra"
      ]
     },
     "metadata": {},
     "output_type": "display_data"
    },
    {
     "name": "stdout",
     "output_type": "stream",
     "text": [
      "========================================\n"
     ]
    },
    {
     "data": {
      "text/html": [
       "<div>\n",
       "<style scoped>\n",
       "    .dataframe tbody tr th:only-of-type {\n",
       "        vertical-align: middle;\n",
       "    }\n",
       "\n",
       "    .dataframe tbody tr th {\n",
       "        vertical-align: top;\n",
       "    }\n",
       "\n",
       "    .dataframe thead th {\n",
       "        text-align: right;\n",
       "    }\n",
       "</style>\n",
       "<table border=\"1\" class=\"dataframe\">\n",
       "  <thead>\n",
       "    <tr style=\"text-align: right;\">\n",
       "      <th></th>\n",
       "      <th>user_id</th>\n",
       "      <th>name</th>\n",
       "      <th>age</th>\n",
       "      <th>city</th>\n",
       "      <th>subscription_type</th>\n",
       "    </tr>\n",
       "  </thead>\n",
       "  <tbody>\n",
       "    <tr>\n",
       "      <th>1236</th>\n",
       "      <td>1237</td>\n",
       "      <td>Евгения</td>\n",
       "      <td>23</td>\n",
       "      <td>Тюмень</td>\n",
       "      <td>free</td>\n",
       "    </tr>\n",
       "    <tr>\n",
       "      <th>1558</th>\n",
       "      <td>1237</td>\n",
       "      <td>Евгения</td>\n",
       "      <td>23</td>\n",
       "      <td>Тюмень</td>\n",
       "      <td>free</td>\n",
       "    </tr>\n",
       "  </tbody>\n",
       "</table>\n",
       "</div>"
      ],
      "text/plain": [
       "      user_id     name  age    city subscription_type\n",
       "1236     1237  Евгения   23  Тюмень              free\n",
       "1558     1237  Евгения   23  Тюмень              free"
      ]
     },
     "metadata": {},
     "output_type": "display_data"
    },
    {
     "name": "stdout",
     "output_type": "stream",
     "text": [
      "========================================\n"
     ]
    },
    {
     "data": {
      "text/html": [
       "<div>\n",
       "<style scoped>\n",
       "    .dataframe tbody tr th:only-of-type {\n",
       "        vertical-align: middle;\n",
       "    }\n",
       "\n",
       "    .dataframe tbody tr th {\n",
       "        vertical-align: top;\n",
       "    }\n",
       "\n",
       "    .dataframe thead th {\n",
       "        text-align: right;\n",
       "    }\n",
       "</style>\n",
       "<table border=\"1\" class=\"dataframe\">\n",
       "  <thead>\n",
       "    <tr style=\"text-align: right;\">\n",
       "      <th></th>\n",
       "      <th>user_id</th>\n",
       "      <th>name</th>\n",
       "      <th>age</th>\n",
       "      <th>city</th>\n",
       "      <th>subscription_type</th>\n",
       "    </tr>\n",
       "  </thead>\n",
       "  <tbody>\n",
       "    <tr>\n",
       "      <th>208</th>\n",
       "      <td>209</td>\n",
       "      <td>Андрей</td>\n",
       "      <td>23</td>\n",
       "      <td>Омск</td>\n",
       "      <td>ultra</td>\n",
       "    </tr>\n",
       "    <tr>\n",
       "      <th>1559</th>\n",
       "      <td>209</td>\n",
       "      <td>Андрей</td>\n",
       "      <td>23</td>\n",
       "      <td>Омск</td>\n",
       "      <td>ultra</td>\n",
       "    </tr>\n",
       "  </tbody>\n",
       "</table>\n",
       "</div>"
      ],
      "text/plain": [
       "      user_id    name  age  city subscription_type\n",
       "208       209  Андрей   23  Омск             ultra\n",
       "1559      209  Андрей   23  Омск             ultra"
      ]
     },
     "metadata": {},
     "output_type": "display_data"
    },
    {
     "name": "stdout",
     "output_type": "stream",
     "text": [
      "========================================\n"
     ]
    },
    {
     "data": {
      "text/html": [
       "<div>\n",
       "<style scoped>\n",
       "    .dataframe tbody tr th:only-of-type {\n",
       "        vertical-align: middle;\n",
       "    }\n",
       "\n",
       "    .dataframe tbody tr th {\n",
       "        vertical-align: top;\n",
       "    }\n",
       "\n",
       "    .dataframe thead th {\n",
       "        text-align: right;\n",
       "    }\n",
       "</style>\n",
       "<table border=\"1\" class=\"dataframe\">\n",
       "  <thead>\n",
       "    <tr style=\"text-align: right;\">\n",
       "      <th></th>\n",
       "      <th>user_id</th>\n",
       "      <th>name</th>\n",
       "      <th>age</th>\n",
       "      <th>city</th>\n",
       "      <th>subscription_type</th>\n",
       "    </tr>\n",
       "  </thead>\n",
       "  <tbody>\n",
       "    <tr>\n",
       "      <th>828</th>\n",
       "      <td>829</td>\n",
       "      <td>Федор</td>\n",
       "      <td>29</td>\n",
       "      <td>Пятигорск</td>\n",
       "      <td>free</td>\n",
       "    </tr>\n",
       "    <tr>\n",
       "      <th>1560</th>\n",
       "      <td>829</td>\n",
       "      <td>Федор</td>\n",
       "      <td>29</td>\n",
       "      <td>Пятигорск</td>\n",
       "      <td>free</td>\n",
       "    </tr>\n",
       "  </tbody>\n",
       "</table>\n",
       "</div>"
      ],
      "text/plain": [
       "      user_id   name  age       city subscription_type\n",
       "828       829  Федор   29  Пятигорск              free\n",
       "1560      829  Федор   29  Пятигорск              free"
      ]
     },
     "metadata": {},
     "output_type": "display_data"
    },
    {
     "name": "stdout",
     "output_type": "stream",
     "text": [
      "========================================\n"
     ]
    },
    {
     "data": {
      "text/html": [
       "<div>\n",
       "<style scoped>\n",
       "    .dataframe tbody tr th:only-of-type {\n",
       "        vertical-align: middle;\n",
       "    }\n",
       "\n",
       "    .dataframe tbody tr th {\n",
       "        vertical-align: top;\n",
       "    }\n",
       "\n",
       "    .dataframe thead th {\n",
       "        text-align: right;\n",
       "    }\n",
       "</style>\n",
       "<table border=\"1\" class=\"dataframe\">\n",
       "  <thead>\n",
       "    <tr style=\"text-align: right;\">\n",
       "      <th></th>\n",
       "      <th>user_id</th>\n",
       "      <th>name</th>\n",
       "      <th>age</th>\n",
       "      <th>city</th>\n",
       "      <th>subscription_type</th>\n",
       "    </tr>\n",
       "  </thead>\n",
       "  <tbody>\n",
       "    <tr>\n",
       "      <th>808</th>\n",
       "      <td>809</td>\n",
       "      <td>Юрий</td>\n",
       "      <td>26</td>\n",
       "      <td>Сочи</td>\n",
       "      <td>free</td>\n",
       "    </tr>\n",
       "    <tr>\n",
       "      <th>1561</th>\n",
       "      <td>809</td>\n",
       "      <td>Юрий</td>\n",
       "      <td>26</td>\n",
       "      <td>Сочи</td>\n",
       "      <td>free</td>\n",
       "    </tr>\n",
       "  </tbody>\n",
       "</table>\n",
       "</div>"
      ],
      "text/plain": [
       "      user_id  name  age  city subscription_type\n",
       "808       809  Юрий   26  Сочи              free\n",
       "1561      809  Юрий   26  Сочи              free"
      ]
     },
     "metadata": {},
     "output_type": "display_data"
    },
    {
     "name": "stdout",
     "output_type": "stream",
     "text": [
      "========================================\n"
     ]
    },
    {
     "data": {
      "text/html": [
       "<div>\n",
       "<style scoped>\n",
       "    .dataframe tbody tr th:only-of-type {\n",
       "        vertical-align: middle;\n",
       "    }\n",
       "\n",
       "    .dataframe tbody tr th {\n",
       "        vertical-align: top;\n",
       "    }\n",
       "\n",
       "    .dataframe thead th {\n",
       "        text-align: right;\n",
       "    }\n",
       "</style>\n",
       "<table border=\"1\" class=\"dataframe\">\n",
       "  <thead>\n",
       "    <tr style=\"text-align: right;\">\n",
       "      <th></th>\n",
       "      <th>user_id</th>\n",
       "      <th>name</th>\n",
       "      <th>age</th>\n",
       "      <th>city</th>\n",
       "      <th>subscription_type</th>\n",
       "    </tr>\n",
       "  </thead>\n",
       "  <tbody>\n",
       "    <tr>\n",
       "      <th>306</th>\n",
       "      <td>307</td>\n",
       "      <td>Ясмина</td>\n",
       "      <td>19</td>\n",
       "      <td>Краснодар</td>\n",
       "      <td>ultra</td>\n",
       "    </tr>\n",
       "    <tr>\n",
       "      <th>1562</th>\n",
       "      <td>307</td>\n",
       "      <td>Ясмина</td>\n",
       "      <td>19</td>\n",
       "      <td>Краснодар</td>\n",
       "      <td>ultra</td>\n",
       "    </tr>\n",
       "  </tbody>\n",
       "</table>\n",
       "</div>"
      ],
      "text/plain": [
       "      user_id    name  age       city subscription_type\n",
       "306       307  Ясмина   19  Краснодар             ultra\n",
       "1562      307  Ясмина   19  Краснодар             ultra"
      ]
     },
     "metadata": {},
     "output_type": "display_data"
    },
    {
     "name": "stdout",
     "output_type": "stream",
     "text": [
      "========================================\n"
     ]
    },
    {
     "data": {
      "text/html": [
       "<div>\n",
       "<style scoped>\n",
       "    .dataframe tbody tr th:only-of-type {\n",
       "        vertical-align: middle;\n",
       "    }\n",
       "\n",
       "    .dataframe tbody tr th {\n",
       "        vertical-align: top;\n",
       "    }\n",
       "\n",
       "    .dataframe thead th {\n",
       "        text-align: right;\n",
       "    }\n",
       "</style>\n",
       "<table border=\"1\" class=\"dataframe\">\n",
       "  <thead>\n",
       "    <tr style=\"text-align: right;\">\n",
       "      <th></th>\n",
       "      <th>user_id</th>\n",
       "      <th>name</th>\n",
       "      <th>age</th>\n",
       "      <th>city</th>\n",
       "      <th>subscription_type</th>\n",
       "    </tr>\n",
       "  </thead>\n",
       "  <tbody>\n",
       "    <tr>\n",
       "      <th>46</th>\n",
       "      <td>47</td>\n",
       "      <td>Юрий</td>\n",
       "      <td>28</td>\n",
       "      <td>Тюмень</td>\n",
       "      <td>ultra</td>\n",
       "    </tr>\n",
       "    <tr>\n",
       "      <th>1563</th>\n",
       "      <td>47</td>\n",
       "      <td>Юрий</td>\n",
       "      <td>28</td>\n",
       "      <td>Тюмень</td>\n",
       "      <td>ultra</td>\n",
       "    </tr>\n",
       "  </tbody>\n",
       "</table>\n",
       "</div>"
      ],
      "text/plain": [
       "      user_id  name  age    city subscription_type\n",
       "46         47  Юрий   28  Тюмень             ultra\n",
       "1563       47  Юрий   28  Тюмень             ultra"
      ]
     },
     "metadata": {},
     "output_type": "display_data"
    },
    {
     "name": "stdout",
     "output_type": "stream",
     "text": [
      "========================================\n"
     ]
    },
    {
     "data": {
      "text/html": [
       "<div>\n",
       "<style scoped>\n",
       "    .dataframe tbody tr th:only-of-type {\n",
       "        vertical-align: middle;\n",
       "    }\n",
       "\n",
       "    .dataframe tbody tr th {\n",
       "        vertical-align: top;\n",
       "    }\n",
       "\n",
       "    .dataframe thead th {\n",
       "        text-align: right;\n",
       "    }\n",
       "</style>\n",
       "<table border=\"1\" class=\"dataframe\">\n",
       "  <thead>\n",
       "    <tr style=\"text-align: right;\">\n",
       "      <th></th>\n",
       "      <th>user_id</th>\n",
       "      <th>name</th>\n",
       "      <th>age</th>\n",
       "      <th>city</th>\n",
       "      <th>subscription_type</th>\n",
       "    </tr>\n",
       "  </thead>\n",
       "  <tbody>\n",
       "    <tr>\n",
       "      <th>1044</th>\n",
       "      <td>1045</td>\n",
       "      <td>Артемий</td>\n",
       "      <td>28</td>\n",
       "      <td>Ростов-на-Дону</td>\n",
       "      <td>free</td>\n",
       "    </tr>\n",
       "    <tr>\n",
       "      <th>1564</th>\n",
       "      <td>1045</td>\n",
       "      <td>Артемий</td>\n",
       "      <td>28</td>\n",
       "      <td>Ростов-на-Дону</td>\n",
       "      <td>free</td>\n",
       "    </tr>\n",
       "  </tbody>\n",
       "</table>\n",
       "</div>"
      ],
      "text/plain": [
       "      user_id     name  age            city subscription_type\n",
       "1044     1045  Артемий   28  Ростов-на-Дону              free\n",
       "1564     1045  Артемий   28  Ростов-на-Дону              free"
      ]
     },
     "metadata": {},
     "output_type": "display_data"
    },
    {
     "name": "stdout",
     "output_type": "stream",
     "text": [
      "========================================\n"
     ]
    }
   ],
   "source": [
    "# Проверим все найденные дубликаты\n",
    "\n",
    "duplicated_users = users[users.duplicated()] # получим все найденные дубликаты\n",
    "\n",
    "# Получим из таблицы users все записи с user_id найденными в дубликатах\n",
    "for user in duplicated_users['user_id']:\n",
    "    display(users.query('user_id==@user'))\n",
    "    print(20*'==')"
   ]
  },
  {
   "cell_type": "markdown",
   "id": "01a40704",
   "metadata": {},
   "source": [
    "Получились полные дубли существующих записей, удалим их."
   ]
  },
  {
   "cell_type": "code",
   "execution_count": 14,
   "id": "b007b7cf",
   "metadata": {},
   "outputs": [],
   "source": [
    "# Удалим дубли из таблицы users\n",
    "\n",
    "users = users.drop_duplicates()"
   ]
  },
  {
   "cell_type": "markdown",
   "id": "e49589be",
   "metadata": {},
   "source": [
    "<a id=\"data_prepare_resume\"></a> \n",
    "#### Выводы по предобработке данных"
   ]
  },
  {
   "cell_type": "markdown",
   "id": "b660b40a",
   "metadata": {},
   "source": [
    "В результате предобработки данных внесены следующие изменения в исходные датасеты:\n",
    "* В таблице **rides** поле date приведено к типу datetime\n",
    "* В таблице **rides** добавлено поле с номером месяца совершенной поездки\n",
    "* Таблицы проверены на наличие nan и null, пропусков не обнаружено\n",
    "* Таблицы проверены на наличие дубликатов, в **users** найден 31 дубликат, дубликаты удалены."
   ]
  },
  {
   "cell_type": "markdown",
   "id": "f10b0286",
   "metadata": {},
   "source": [
    "[К содержанию](#index)"
   ]
  },
  {
   "cell_type": "markdown",
   "id": "61d9a36a",
   "metadata": {},
   "source": [
    "<div class=\"alert alert-success\" style=\"border-radius: 10px; box-shadow: 2px 2px 2px; border: 1px solid; padding: 10px \">\n",
    "<b>Комментарий ревьюера v.1</b> \n",
    "    \n",
    "👍 \n",
    "Отлично, мы провели первичный анализ и познакомились с данными. Приступим к исследовательскому анализу.\n",
    "</div>"
   ]
  },
  {
   "cell_type": "markdown",
   "id": "212593c7",
   "metadata": {},
   "source": [
    "<a id=\"eda\"></a> \n",
    "### Шаг 3. Исследовательский анализ данных"
   ]
  },
  {
   "cell_type": "markdown",
   "id": "cf459328",
   "metadata": {},
   "source": [
    "<a id=\"eda_cities\"></a> \n",
    "#### Города пользователей"
   ]
  },
  {
   "cell_type": "code",
   "execution_count": 15,
   "id": "cabff202",
   "metadata": {},
   "outputs": [
    {
     "data": {
      "text/plain": [
       "Пятигорск         219\n",
       "Екатеринбург      204\n",
       "Ростов-на-Дону    198\n",
       "Краснодар         193\n",
       "Сочи              189\n",
       "Омск              183\n",
       "Тюмень            180\n",
       "Москва            168\n",
       "Name: city, dtype: int64"
      ]
     },
     "execution_count": 15,
     "metadata": {},
     "output_type": "execute_result"
    }
   ],
   "source": [
    "# Посчитаем встречаемость уникальных городов пользователей\n",
    "city_counts = users['city'].value_counts()\n",
    "city_counts"
   ]
  },
  {
   "cell_type": "code",
   "execution_count": 16,
   "id": "1a4533de",
   "metadata": {},
   "outputs": [
    {
     "data": {
      "text/plain": [
       "Пятигорск         14.276402\n",
       "Екатеринбург      13.298566\n",
       "Ростов-на-Дону    12.907432\n",
       "Краснодар         12.581486\n",
       "Сочи              12.320730\n",
       "Омск              11.929596\n",
       "Тюмень            11.734029\n",
       "Москва            10.951760\n",
       "Name: city, dtype: float64"
      ]
     },
     "execution_count": 16,
     "metadata": {},
     "output_type": "execute_result"
    }
   ],
   "source": [
    "# Посчитаем доли каждого города\n",
    "city_proportions = city_counts / city_counts.sum() * 100\n",
    "city_proportions"
   ]
  },
  {
   "cell_type": "code",
   "execution_count": 17,
   "id": "55f3da3c",
   "metadata": {},
   "outputs": [],
   "source": [
    "# Определим функцию для отрисовки визуализаций\n",
    "\n",
    "def visualize_it(data, title, title2=None, x_label=None, y_label=None, parameter=None, bins=10, vis_type='barplot', figsize=(10,6), ascending=False, data2=None):\n",
    "    '''\n",
    "    Функция для автоматизации построения \n",
    "    визуализаций с повторяющимся кодом\n",
    "    Входные параметры:\n",
    "        data - данные по которым необходимо построить графики \n",
    "        data2 - данные для возможности сравнения двух датасетов\n",
    "        parameter - параметры для визуализации \n",
    "        vis_type - тип визуализации\n",
    "            barplot - столбчатая диаграмма SeaBorn\n",
    "            stacked - сгруппированная столбчатая диаграмма в реализации plotly express\n",
    "        bins - бины для гистограммы\n",
    "        figsize=(10,6) - размер графика\n",
    "        title - заголовок графика \n",
    "        x_label - подпись оси X \n",
    "        y_label - подпись оси Y\n",
    "        ascending='False' - сортировка по убыванию\n",
    "    '''\n",
    "    if vis_type=='barplot':\n",
    "        # Построение barplot sns\n",
    "        \n",
    "        # Устанавливаем размер графика\n",
    "        plt.figure(figsize=figsize)\n",
    "\n",
    "        # Строим столбчатую диаграмму с помощью sns.barplot\n",
    "        ax = sns.barplot(x=data.index, y=data.values)\n",
    "\n",
    "        # Добавляем подписи значений на каждый столбец:\n",
    "        for p in ax.patches:\n",
    "            height = p.get_height()  # высота столбца\n",
    "            ax.text(\n",
    "                x=p.get_x() + p.get_width() / 2, # горизонтальная координата в центре столбца\n",
    "                y=height,                        # вертикальная координата — чуть выше столбца\n",
    "                s=f'{int(height)}',              # текст подписи, приведем число к int (если нужно)\n",
    "                ha='center',                     # выравнивание по горизонтали\n",
    "                va='bottom'                      # выравнивание по вертикали (снизу)\n",
    "            )\n",
    "\n",
    "        # Добавляем подписи и заголовок\n",
    "        plt.xlabel(x_label, fontsize=12)\n",
    "        plt.ylabel(y_label, fontsize=12)\n",
    "        plt.title(title, fontsize=14)\n",
    "\n",
    "        # Отображаем график\n",
    "        plt.show()\n",
    "    \n",
    "    elif vis_type=='pie':\n",
    "        # Построение pie chart\n",
    "        # Устанавливаем размер графика\n",
    "        plt.figure(figsize=figsize)\n",
    "        \n",
    "        plt.pie(\n",
    "            data,\n",
    "            labels=data.index,\n",
    "            autopct='%.0f%%'\n",
    "        )\n",
    "        plt.title(title, fontsize=14)\n",
    "\n",
    "        # Отображение графика\n",
    "        plt.show()\n",
    "    \n",
    "    elif vis_type == 'stacked_norm':\n",
    "        # Построение нормированной сгруппированной столбчатой диаграммы\n",
    "        # Предполагаем, что data - DataFrame, где строки - категории по оси X, столбцы - категории сгруппированные\n",
    "        # Нормализуем данные по строкам\n",
    "        data_normalized = data.div(data.sum(axis=1), axis=0)\n",
    "\n",
    "        # Если требуется сортировка\n",
    "        if ascending:\n",
    "            data_normalized = data_normalized.sort_values(by=parameter, ascending=ascending)\n",
    "        \n",
    "        # Устанавливаем размер графика\n",
    "        plt.figure(figsize=figsize)\n",
    "        \n",
    "        # Построение графика\n",
    "        fig, ax = plt.subplots(figsize=figsize)\n",
    "        data_normalized.plot(\n",
    "            kind='bar',\n",
    "            stacked=True,\n",
    "            ax=ax,\n",
    "            width=0.8\n",
    "        )\n",
    "\n",
    "        # Добавляем подписи процентов на каждый сегмент\n",
    "        # Обходим все столбики на графике\n",
    "        for bars in ax.containers:\n",
    "            for bar in bars:\n",
    "                height = bar.get_height()\n",
    "                if height > 0:\n",
    "                    ax.text(\n",
    "                        bar.get_x() + bar.get_width() / 2,\n",
    "                        bar.get_y() + height / 2,\n",
    "                        f'{height * 100:.1f}%',  # Отображаем процент с одним знаком после запятой\n",
    "                        ha='center',\n",
    "                        va='center',\n",
    "                        fontsize=9,\n",
    "                        color='white'  # Можно настроить цвет текста\n",
    "                    )\n",
    "\n",
    "        plt.xlabel(x_label, fontsize=12)\n",
    "        plt.ylabel(y_label, fontsize=12)\n",
    "        plt.title(title, fontsize=14)\n",
    "        plt.legend(title=parameter, bbox_to_anchor=(1.05, 1), loc='upper left')\n",
    "        plt.tight_layout()\n",
    "        plt.show()\n",
    "    \n",
    "    elif vis_type == 'hist':\n",
    "        \n",
    "        if data2 is not None:\n",
    "            # Создаем фигуру и две области для графиков (1 строка, 2 столбца)\n",
    "            fig, axes = plt.subplots(1, 2, figsize=figsize)\n",
    "\n",
    "            # Построение первой гистограммы на первом графике\n",
    "            sns.histplot(data, bins=bins, stat='probability', kde=True, ax=axes[0])\n",
    "            axes[0].set_title(title)\n",
    "            axes[0].set_xlabel(x_label)\n",
    "            axes[0].set_ylabel('Относительная частота')\n",
    "\n",
    "            # Построение второй гистограммы на втором графике\n",
    "            sns.histplot(data2, bins=bins, stat='probability', kde=True, ax=axes[1])\n",
    "            axes[1].set_title(title2)\n",
    "            axes[1].set_xlabel(x_label)\n",
    "            axes[1].set_ylabel('Относительная частота')\n",
    "        else:\n",
    "            # Если предоставлен только один набор данных\n",
    "            sns.histplot(data, bins=bins, stat='probability', kde=True)\n",
    "        \n",
    "        plt.tight_layout()\n",
    "        plt.show()\n",
    "\n",
    "    else:\n",
    "        raise ValueError(f\"Unsupported vis_type: {vis_type}\")"
   ]
  },
  {
   "cell_type": "code",
   "execution_count": 18,
   "id": "ade4d94b",
   "metadata": {},
   "outputs": [
    {
     "data": {
      "image/png": "[encoded data removed]",
      "text/plain": [
       "<Figure size 1080x432 with 1 Axes>"
      ]
     },
     "metadata": {
      "needs_background": "light"
     },
     "output_type": "display_data"
    }
   ],
   "source": [
    "# Визуализируем распределение городов пользователей\n",
    "\n",
    "visualize_it(data=city_counts, \n",
    "             title='Распределение городов', \n",
    "             x_label='Город', \n",
    "             y_label='Количество записей',\n",
    "             figsize=(15,6))"
   ]
  },
  {
   "cell_type": "code",
   "execution_count": 19,
   "id": "34503fbe",
   "metadata": {},
   "outputs": [
    {
     "data": {
      "image/png": "[encoded data removed]",
      "text/plain": [
       "<Figure size 1080x432 with 1 Axes>"
      ]
     },
     "metadata": {
      "needs_background": "light"
     },
     "output_type": "display_data"
    }
   ],
   "source": [
    "# Визуализируем доли каждого города в общем количестве пользователей\n",
    "\n",
    "visualize_it(data=city_proportions, \n",
    "             title='Распределение городов - доля от общего количества', \n",
    "             x_label='Город', \n",
    "             y_label='Доля, %',\n",
    "             figsize=(15,6))"
   ]
  },
  {
   "cell_type": "markdown",
   "id": "a0629cd5",
   "metadata": {},
   "source": [
    "**Выводы по распределению городов**\n",
    "\n",
    "* Количество пользователей по городам распределено достаточно равномерно и находится в диапозоне 168-219 пользователей, доли распределны от 10 до 14%\n",
    "* Меньше всего пользователей в Москве - 168 (10%), больше всего в Пятигорске - 219 (14%).\n",
    "* Если рассматривать количество пользователей по городам в контексте размера города, то доля пользователей крайне мала, особенно для таких крупных городов как Москва, Екатеринбург, Ростов-на-Дону, Краснодар, Омск.\n",
    "* Привлечение новых пользователей в этих городах может являться точкой роста для компании."
   ]
  },
  {
   "cell_type": "markdown",
   "id": "b5ea8876",
   "metadata": {},
   "source": [
    "[К содержанию](#index)"
   ]
  },
  {
   "cell_type": "markdown",
   "id": "79e9cdcb",
   "metadata": {},
   "source": [
    "<div class=\"alert alert-success\" style=\"border-radius: 10px; box-shadow: 2px 2px 2px; border: 1px solid; padding: 10px \">\n",
    "<b>Комментарий ревьюера v.1</b> \n",
    "    \n",
    "👍 \n",
    "Не могу не отметить отличную визуализацию. Здорово, что оформляешь графики правильно.\n",
    "</div>"
   ]
  },
  {
   "cell_type": "markdown",
   "id": "e065b8f9",
   "metadata": {},
   "source": [
    "<a id=\"eda_user_subs\"></a> \n",
    "#### Пользователи с подпиской и без"
   ]
  },
  {
   "cell_type": "code",
   "execution_count": 20,
   "id": "6df5468e",
   "metadata": {},
   "outputs": [
    {
     "data": {
      "image/png": "[encoded data removed]",
      "text/plain": [
       "<Figure size 1080x432 with 1 Axes>"
      ]
     },
     "metadata": {},
     "output_type": "display_data"
    }
   ],
   "source": [
    "# Визуализируем распределение пользователей по наличию подписки\n",
    "\n",
    "visualize_it(data=users['subscription_type'].value_counts(), \n",
    "             title='Распределение пользователей по наличию подписки',\n",
    "             vis_type='pie',\n",
    "             parameter=users['subscription_type'].value_counts().index,\n",
    "             figsize=(15,6))"
   ]
  },
  {
   "cell_type": "markdown",
   "id": "8f35e20b",
   "metadata": {},
   "source": [
    "Как видно из полученных данных - только 46% используют подписку ultra, 54% находятся на бесплатном тарифе.\n",
    "\n",
    "Посмотрим как этот показатель меняется в зависимости от города"
   ]
  },
  {
   "cell_type": "code",
   "execution_count": 21,
   "id": "fee2a950",
   "metadata": {},
   "outputs": [],
   "source": [
    "# Построим сводную таблицу по городам и типам подписки\n",
    "subs_by_city = users.pivot_table(index='city',\n",
    "                                 columns='subscription_type',\n",
    "                                 values='user_id',\n",
    "                                 aggfunc='count')\n",
    "\n",
    "subs_by_city = subs_by_city.astype(int)"
   ]
  },
  {
   "cell_type": "code",
   "execution_count": 22,
   "id": "a0eb37cb",
   "metadata": {},
   "outputs": [
    {
     "data": {
      "text/plain": [
       "<Figure size 1080x432 with 0 Axes>"
      ]
     },
     "metadata": {},
     "output_type": "display_data"
    },
    {
     "data": {
      "image/png": "[encoded data removed]",
      "text/plain": [
       "<Figure size 1080x432 with 1 Axes>"
      ]
     },
     "metadata": {
      "needs_background": "light"
     },
     "output_type": "display_data"
    }
   ],
   "source": [
    "visualize_it(\n",
    "    data=subs_by_city,\n",
    "    title='Доля пользователей с подпиской и без по городам',\n",
    "    x_label='Город',\n",
    "    y_label='Доля',\n",
    "    parameter='Подписка',\n",
    "    vis_type='stacked_norm',\n",
    "    figsize=(15,6)\n",
    ")"
   ]
  },
  {
   "cell_type": "markdown",
   "id": "6cedc387",
   "metadata": {},
   "source": [
    "**Выводы по распределению пользователей с подпиской и без**\n",
    "\n",
    "* В общем по сервису доля пользователей с подпиской ultra составляет 46%, без подписки - 54% пользователей.\n",
    "* Распределение пользователей по городам в зависимости от наличия / отсутствия подписки сопоставимо, и в целом соответствует общему распределению. \n",
    "* Больше всего доля пользователей с подпиской ultra в Москве - 50% и в Омске - 49.7%.\n",
    "* По остальным городам доля пользователей с подпиской ultra находится в интервале 42-45%."
   ]
  },
  {
   "cell_type": "markdown",
   "id": "5f5bf10b",
   "metadata": {},
   "source": [
    "[К содержанию](#index)"
   ]
  },
  {
   "cell_type": "markdown",
   "id": "8301d83a",
   "metadata": {},
   "source": [
    "<div class=\"alert alert-success\" style=\"border-radius: 10px; box-shadow: 2px 2px 2px; border: 1px solid; padding: 10px \">\n",
    "<b>Комментарий ревьюера v.1</b> \n",
    "    \n",
    "👍 \n",
    "Супер, именно доля  корректно дает ответ на поставленный вопрос. \n",
    "</div>"
   ]
  },
  {
   "cell_type": "markdown",
   "id": "e4f844c5",
   "metadata": {},
   "source": [
    "<a id=\"eda_user_ages\"></a> \n",
    "#### Возраст пользователей"
   ]
  },
  {
   "cell_type": "code",
   "execution_count": 23,
   "id": "ec549be6",
   "metadata": {},
   "outputs": [
    {
     "data": {
      "text/plain": [
       "count    1534.000000\n",
       "mean       24.903520\n",
       "std         4.572367\n",
       "min        12.000000\n",
       "25%        22.000000\n",
       "50%        25.000000\n",
       "75%        28.000000\n",
       "max        43.000000\n",
       "Name: age, dtype: float64"
      ]
     },
     "execution_count": 23,
     "metadata": {},
     "output_type": "execute_result"
    }
   ],
   "source": [
    "# Будем работать с таблицей users\n",
    "# Посмотрим описательную статистику по возрасту пользователей (поле age)\n",
    "users['age'].describe()"
   ]
  },
  {
   "cell_type": "markdown",
   "id": "5ed1d6b1",
   "metadata": {},
   "source": [
    "* Возраст пользователей сервиса находится в диапозоне 12-43 лет\n",
    "* Средний возраст пользователя - 24.9, медианный также близок к этому уровню - 25 лет.\n",
    "* Возраст 75% пользователей не превышает 28 лет."
   ]
  },
  {
   "cell_type": "code",
   "execution_count": 24,
   "id": "f0da2ae0",
   "metadata": {},
   "outputs": [
    {
     "data": {
      "image/png": "[encoded data removed]",
      "text/plain": [
       "<Figure size 432x288 with 1 Axes>"
      ]
     },
     "metadata": {
      "needs_background": "light"
     },
     "output_type": "display_data"
    }
   ],
   "source": [
    "# Визуализируем распределение возрастов пользователей\n",
    "visualize_it(\n",
    "    data=users['age'],\n",
    "    title='Гистограмма распределения возрастов пользователей',\n",
    "    x_label='Возраст',\n",
    "    y_label='Количество',\n",
    "    vis_type='hist',\n",
    "    bins = 15\n",
    ")"
   ]
  },
  {
   "cell_type": "markdown",
   "id": "0e98a036",
   "metadata": {},
   "source": [
    "Гистограмма иллюстрирует выводы по описательной статистике возраста пользователей сервиса.\n",
    "\n",
    "Типичный пользователь сервиса - молодой человек в возрасте 20-30 лет."
   ]
  },
  {
   "cell_type": "markdown",
   "id": "f16912e7",
   "metadata": {},
   "source": [
    "**Выводы по распределению возраста пользователей**\n",
    "\n",
    "* Возраст пользователей сервиса находится в диапозоне 12-43 лет\n",
    "* Средний возраст пользователя - 24.9, медианный также близок к этому уровню - 25 лет.\n",
    "* Возраст 75% пользователей не превышает 28 лет.\n",
    "* Типичный пользователь сервиса - молодой человек в возрасте 20-30 лет."
   ]
  },
  {
   "cell_type": "markdown",
   "id": "342253f6",
   "metadata": {},
   "source": [
    "[К содержанию](#index)"
   ]
  },
  {
   "cell_type": "markdown",
   "id": "27bad335",
   "metadata": {},
   "source": [
    "<div class=\"alert alert-success\" style=\"border-radius: 10px; box-shadow: 2px 2px 2px; border: 1px solid; padding: 10px \">\n",
    "<b>Комментарий ревьюера v.1</b> \n",
    "    \n",
    "👍 \n",
    "Правильно, что используешь describe() для расчета описательных статистик.\n",
    "</div>"
   ]
  },
  {
   "cell_type": "markdown",
   "id": "81da654a",
   "metadata": {},
   "source": [
    "<a id=\"eda_distance\"></a> \n",
    "#### Расстояние за одну поездку"
   ]
  },
  {
   "cell_type": "code",
   "execution_count": 25,
   "id": "c65f9b08",
   "metadata": {},
   "outputs": [
    {
     "data": {
      "text/plain": [
       "count    18068.000000\n",
       "mean      3070.659976\n",
       "std       1116.831209\n",
       "min          0.855683\n",
       "25%       2543.226360\n",
       "50%       3133.609994\n",
       "75%       3776.222735\n",
       "max       7211.007745\n",
       "Name: distance, dtype: float64"
      ]
     },
     "execution_count": 25,
     "metadata": {},
     "output_type": "execute_result"
    }
   ],
   "source": [
    "# Будем работать с датасетом rides\n",
    "# Проверим описательную статистику для поля distance\n",
    "rides['distance'].describe()"
   ]
  },
  {
   "cell_type": "code",
   "execution_count": 26,
   "id": "c8b1cd9b",
   "metadata": {
    "scrolled": true
   },
   "outputs": [
    {
     "data": {
      "image/png": "[encoded data removed]",
      "text/plain": [
       "<Figure size 432x288 with 1 Axes>"
      ]
     },
     "metadata": {
      "needs_background": "light"
     },
     "output_type": "display_data"
    }
   ],
   "source": [
    "# Визуализируем распределение расстояние поездок пользователей\n",
    "visualize_it(\n",
    "    data=rides['distance'],\n",
    "    title='Гистограмма распределения дистанции поездок',\n",
    "    x_label='Дистанция, м',\n",
    "    y_label='Количество поездок',\n",
    "    vis_type='hist',\n",
    "    bins = 30\n",
    ")"
   ]
  },
  {
   "cell_type": "markdown",
   "id": "3618cddd",
   "metadata": {},
   "source": [
    "**Выводы по дистанции поездок**\n",
    "\n",
    "* Минимальная дистанция поездки - 0.85 м - скорее всего ошибка\n",
    "* Максимальная дистанция поездки - 7211 м\n",
    "* Средняя дистанция - 3070, медианная - 3134 м, разница не существенная.\n",
    "* 75% поездок не длинее 3776 м.\n",
    "* Типичная поездка - 2000-4000 м"
   ]
  },
  {
   "cell_type": "markdown",
   "id": "6e4287d1",
   "metadata": {},
   "source": [
    "[К содержанию](#index)"
   ]
  },
  {
   "cell_type": "markdown",
   "id": "f860984a",
   "metadata": {},
   "source": [
    "<a id=\"eda_duration\"></a> \n",
    "#### Продолжительность поездок"
   ]
  },
  {
   "cell_type": "code",
   "execution_count": 27,
   "id": "37bc48e1",
   "metadata": {},
   "outputs": [
    {
     "data": {
      "text/plain": [
       "count    18068.000000\n",
       "mean        17.805011\n",
       "std          6.091051\n",
       "min          0.500000\n",
       "25%         13.597563\n",
       "50%         17.678395\n",
       "75%         21.724800\n",
       "max         40.823963\n",
       "Name: duration, dtype: float64"
      ]
     },
     "execution_count": 27,
     "metadata": {},
     "output_type": "execute_result"
    }
   ],
   "source": [
    "# Будем работать с таблицей rides\n",
    "# Посмотрим описательную статистику по длительности поездок (поле duration)\n",
    "rides['duration'].describe()"
   ]
  },
  {
   "cell_type": "code",
   "execution_count": 28,
   "id": "49b5738a",
   "metadata": {},
   "outputs": [
    {
     "data": {
      "image/png": "[encoded data removed]",
      "text/plain": [
       "<Figure size 432x288 with 1 Axes>"
      ]
     },
     "metadata": {
      "needs_background": "light"
     },
     "output_type": "display_data"
    }
   ],
   "source": [
    "# Визуализируем распределение длительности поездок\n",
    "visualize_it(\n",
    "    data=rides['duration'],\n",
    "    title='Гистограмма распределения длительности поездок',\n",
    "    x_label='Длительность, мин',\n",
    "    y_label='Количество поездок',\n",
    "    vis_type='hist',\n",
    "    bins = 30\n",
    ")"
   ]
  },
  {
   "cell_type": "markdown",
   "id": "4e081f81",
   "metadata": {},
   "source": [
    "**Выводы по длительности поездок**\n",
    "\n",
    "* Минимальная длительность поездки - 0.5 мин - скорее всего ошибка\n",
    "* Максимальная длительность поездки - 41 мин.\n",
    "* Средняя длительность - 17.8 мин, медианная - 17.68 м, разница не существенная.\n",
    "* 75% поездок не дольше 22 мин.\n",
    "* Типичная продолжительность поездки на самокате - 10-25 мин.\n",
    "\n",
    "Данное распредление похоже на классическое нормальное"
   ]
  },
  {
   "cell_type": "markdown",
   "id": "bc1d1dad",
   "metadata": {},
   "source": [
    "[К содержанию](#index)"
   ]
  },
  {
   "cell_type": "markdown",
   "id": "e8f19028",
   "metadata": {},
   "source": [
    "<div class=\"alert alert-success\" style=\"border-radius: 10px; box-shadow: 2px 2px 2px; border: 1px solid; padding: 10px \">\n",
    "<b>Комментарий ревьюера v.1</b> \n",
    "    \n",
    "👍 \n",
    "Отличный анализ, вопросов нет!\n",
    "</div>"
   ]
  },
  {
   "cell_type": "markdown",
   "id": "70965d67",
   "metadata": {},
   "source": [
    "<a id=\"eda_resume\"></a> \n",
    "#### Выводы по исследовательскому анализу данных"
   ]
  },
  {
   "cell_type": "markdown",
   "id": "271c66f2",
   "metadata": {},
   "source": [
    "**Распределение городов**\n",
    "\n",
    "* Количество пользователей по городам распределено достаточно равномерно и находится в диапозоне 168-219 пользователей, доли распределны от 10 до 14%\n",
    "* Меньше всего пользователей в Москве - 168 (10%), больше всего в Пятигорске - 219 (14%).\n",
    "* Если рассматривать количество пользователей по городам в контексте размера города, то доля пользователей крайне мала, особенно для таких крупных городов как Москва, Екатеринбург, Ростов-на-Дону, Краснодар, Омск.\n",
    "* Привлечение новых пользователей в этих городах может являться точкой роста для компании.\n",
    "\n",
    "**Распределение пользователей с подпиской и без**\n",
    "\n",
    "* В общем по сервису доля пользователей с подпиской ultra составляет 46%, без подписки - 54% пользователей.\n",
    "* Распределение пользователей по городам в зависимости от наличия / отсутствия подписки сопоставимо, и в целом соответствует общему распределению. \n",
    "* Больше всего доля пользователей с подпиской ultra в Москве - 50% и в Омске - 49.7%.\n",
    "* По остальным городам доля пользователей с подпиской ultra находится в интервале 42-45%\n",
    "\n",
    "**Распределение возраста пользователей**\n",
    "\n",
    "* Возраст пользователей сервиса находится в диапозоне 12-43 лет\n",
    "* Средний возраст пользователя - 24.9, медианный также близок к этому уровню - 25 лет.\n",
    "* Возраст 75% пользователей не превышает 28 лет.\n",
    "* Типичный пользователь сервиса - молодой человек в возрасте 20-30 лет.\n",
    "\n",
    "**Дистанции поездок**\n",
    "\n",
    "* Минимальная дистанция поездки - 0.85 м - скорее всего ошибка\n",
    "* Максимальная дистанция поездки - 7211 м\n",
    "* Средняя дистанция - 3070, медианная - 3134 м, разница не существенная.\n",
    "* 75% поездок не длинее 3776 м.\n",
    "* Типичная поездка - 2000-4000 м\n",
    "\n",
    "**Длительность поездок**\n",
    "\n",
    "* Минимальная длительность поездки - 0.5 мин - скорее всего ошибка\n",
    "* Максимальная длительность поездки - 41 мин.\n",
    "* Средняя длительность - 17.8 мин, медианная - 17.68 м, разница не существенная.\n",
    "* 75% поездок не дольше 22 мин.\n",
    "* Типичная продолжительность поездки на самокате - 10-25 мин."
   ]
  },
  {
   "cell_type": "markdown",
   "id": "7e163ee4",
   "metadata": {},
   "source": [
    "[К содержанию](#index)"
   ]
  },
  {
   "cell_type": "markdown",
   "id": "fa28bd11",
   "metadata": {},
   "source": [
    "<div class=\"alert alert-success\" style=\"border-radius: 10px; box-shadow: 2px 2px 2px; border: 1px solid; padding: 10px \">\n",
    "<b>Комментарий ревьюера v.1</b> \n",
    "    \n",
    "👍 \n",
    "Молодец, что не забываешь писать промежуточные выводы и сохраняешь структуру проекта.\n",
    "</div>"
   ]
  },
  {
   "cell_type": "markdown",
   "id": "4ef51331",
   "metadata": {},
   "source": [
    "<a id=\"data_merge\"></a> \n",
    "###  Шаг 4. Объединение данных"
   ]
  },
  {
   "cell_type": "markdown",
   "id": "4172cfb7",
   "metadata": {},
   "source": [
    "<a id=\"df_union\"></a> \n",
    "#### Объединение трех датасетов в один"
   ]
  },
  {
   "cell_type": "code",
   "execution_count": 29,
   "id": "6bf288b5",
   "metadata": {},
   "outputs": [],
   "source": [
    "# К датасете с поездками (rides) присоединим датасет с пользователями (users) по правилу LEFT и ключу - user_id\n",
    "union_df = pd.merge(rides, users, on='user_id', how='left')"
   ]
  },
  {
   "cell_type": "code",
   "execution_count": 30,
   "id": "32a55923",
   "metadata": {},
   "outputs": [],
   "source": [
    "# К объединенному датасету также присоединим информацию о параметрах тарифов (subscrptns) по правилу LEFT и ключу - subscription_type\n",
    "union_df = pd.merge(union_df, subscrptns, on='subscription_type', how='left')"
   ]
  },
  {
   "cell_type": "code",
   "execution_count": 31,
   "id": "5f68ade3",
   "metadata": {},
   "outputs": [
    {
     "data": {
      "text/html": [
       "<div>\n",
       "<style scoped>\n",
       "    .dataframe tbody tr th:only-of-type {\n",
       "        vertical-align: middle;\n",
       "    }\n",
       "\n",
       "    .dataframe tbody tr th {\n",
       "        vertical-align: top;\n",
       "    }\n",
       "\n",
       "    .dataframe thead th {\n",
       "        text-align: right;\n",
       "    }\n",
       "</style>\n",
       "<table border=\"1\" class=\"dataframe\">\n",
       "  <thead>\n",
       "    <tr style=\"text-align: right;\">\n",
       "      <th></th>\n",
       "      <th>user_id</th>\n",
       "      <th>distance</th>\n",
       "      <th>duration</th>\n",
       "      <th>date</th>\n",
       "      <th>month</th>\n",
       "      <th>name</th>\n",
       "      <th>age</th>\n",
       "      <th>city</th>\n",
       "      <th>subscription_type</th>\n",
       "      <th>minute_price</th>\n",
       "      <th>start_ride_price</th>\n",
       "      <th>subscription_fee</th>\n",
       "    </tr>\n",
       "  </thead>\n",
       "  <tbody>\n",
       "    <tr>\n",
       "      <th>0</th>\n",
       "      <td>1</td>\n",
       "      <td>4409.919140</td>\n",
       "      <td>25.599769</td>\n",
       "      <td>2021-01-01</td>\n",
       "      <td>1</td>\n",
       "      <td>Кира</td>\n",
       "      <td>22</td>\n",
       "      <td>Тюмень</td>\n",
       "      <td>ultra</td>\n",
       "      <td>6</td>\n",
       "      <td>0</td>\n",
       "      <td>199</td>\n",
       "    </tr>\n",
       "    <tr>\n",
       "      <th>1</th>\n",
       "      <td>1</td>\n",
       "      <td>2617.592153</td>\n",
       "      <td>15.816871</td>\n",
       "      <td>2021-01-18</td>\n",
       "      <td>1</td>\n",
       "      <td>Кира</td>\n",
       "      <td>22</td>\n",
       "      <td>Тюмень</td>\n",
       "      <td>ultra</td>\n",
       "      <td>6</td>\n",
       "      <td>0</td>\n",
       "      <td>199</td>\n",
       "    </tr>\n",
       "    <tr>\n",
       "      <th>2</th>\n",
       "      <td>1</td>\n",
       "      <td>754.159807</td>\n",
       "      <td>6.232113</td>\n",
       "      <td>2021-04-20</td>\n",
       "      <td>4</td>\n",
       "      <td>Кира</td>\n",
       "      <td>22</td>\n",
       "      <td>Тюмень</td>\n",
       "      <td>ultra</td>\n",
       "      <td>6</td>\n",
       "      <td>0</td>\n",
       "      <td>199</td>\n",
       "    </tr>\n",
       "    <tr>\n",
       "      <th>3</th>\n",
       "      <td>1</td>\n",
       "      <td>2694.783254</td>\n",
       "      <td>18.511000</td>\n",
       "      <td>2021-08-11</td>\n",
       "      <td>8</td>\n",
       "      <td>Кира</td>\n",
       "      <td>22</td>\n",
       "      <td>Тюмень</td>\n",
       "      <td>ultra</td>\n",
       "      <td>6</td>\n",
       "      <td>0</td>\n",
       "      <td>199</td>\n",
       "    </tr>\n",
       "    <tr>\n",
       "      <th>4</th>\n",
       "      <td>1</td>\n",
       "      <td>4028.687306</td>\n",
       "      <td>26.265803</td>\n",
       "      <td>2021-08-28</td>\n",
       "      <td>8</td>\n",
       "      <td>Кира</td>\n",
       "      <td>22</td>\n",
       "      <td>Тюмень</td>\n",
       "      <td>ultra</td>\n",
       "      <td>6</td>\n",
       "      <td>0</td>\n",
       "      <td>199</td>\n",
       "    </tr>\n",
       "    <tr>\n",
       "      <th>...</th>\n",
       "      <td>...</td>\n",
       "      <td>...</td>\n",
       "      <td>...</td>\n",
       "      <td>...</td>\n",
       "      <td>...</td>\n",
       "      <td>...</td>\n",
       "      <td>...</td>\n",
       "      <td>...</td>\n",
       "      <td>...</td>\n",
       "      <td>...</td>\n",
       "      <td>...</td>\n",
       "      <td>...</td>\n",
       "    </tr>\n",
       "    <tr>\n",
       "      <th>18063</th>\n",
       "      <td>1534</td>\n",
       "      <td>3781.098080</td>\n",
       "      <td>19.822962</td>\n",
       "      <td>2021-11-04</td>\n",
       "      <td>11</td>\n",
       "      <td>Альберт</td>\n",
       "      <td>25</td>\n",
       "      <td>Краснодар</td>\n",
       "      <td>free</td>\n",
       "      <td>8</td>\n",
       "      <td>50</td>\n",
       "      <td>0</td>\n",
       "    </tr>\n",
       "    <tr>\n",
       "      <th>18064</th>\n",
       "      <td>1534</td>\n",
       "      <td>2840.423057</td>\n",
       "      <td>21.409799</td>\n",
       "      <td>2021-11-16</td>\n",
       "      <td>11</td>\n",
       "      <td>Альберт</td>\n",
       "      <td>25</td>\n",
       "      <td>Краснодар</td>\n",
       "      <td>free</td>\n",
       "      <td>8</td>\n",
       "      <td>50</td>\n",
       "      <td>0</td>\n",
       "    </tr>\n",
       "    <tr>\n",
       "      <th>18065</th>\n",
       "      <td>1534</td>\n",
       "      <td>3826.185507</td>\n",
       "      <td>18.435051</td>\n",
       "      <td>2021-11-18</td>\n",
       "      <td>11</td>\n",
       "      <td>Альберт</td>\n",
       "      <td>25</td>\n",
       "      <td>Краснодар</td>\n",
       "      <td>free</td>\n",
       "      <td>8</td>\n",
       "      <td>50</td>\n",
       "      <td>0</td>\n",
       "    </tr>\n",
       "    <tr>\n",
       "      <th>18066</th>\n",
       "      <td>1534</td>\n",
       "      <td>2902.308661</td>\n",
       "      <td>16.674362</td>\n",
       "      <td>2021-11-27</td>\n",
       "      <td>11</td>\n",
       "      <td>Альберт</td>\n",
       "      <td>25</td>\n",
       "      <td>Краснодар</td>\n",
       "      <td>free</td>\n",
       "      <td>8</td>\n",
       "      <td>50</td>\n",
       "      <td>0</td>\n",
       "    </tr>\n",
       "    <tr>\n",
       "      <th>18067</th>\n",
       "      <td>1534</td>\n",
       "      <td>2371.711192</td>\n",
       "      <td>15.893917</td>\n",
       "      <td>2021-12-29</td>\n",
       "      <td>12</td>\n",
       "      <td>Альберт</td>\n",
       "      <td>25</td>\n",
       "      <td>Краснодар</td>\n",
       "      <td>free</td>\n",
       "      <td>8</td>\n",
       "      <td>50</td>\n",
       "      <td>0</td>\n",
       "    </tr>\n",
       "  </tbody>\n",
       "</table>\n",
       "<p>18068 rows × 12 columns</p>\n",
       "</div>"
      ],
      "text/plain": [
       "       user_id     distance   duration       date  month     name  age  \\\n",
       "0            1  4409.919140  25.599769 2021-01-01      1     Кира   22   \n",
       "1            1  2617.592153  15.816871 2021-01-18      1     Кира   22   \n",
       "2            1   754.159807   6.232113 2021-04-20      4     Кира   22   \n",
       "3            1  2694.783254  18.511000 2021-08-11      8     Кира   22   \n",
       "4            1  4028.687306  26.265803 2021-08-28      8     Кира   22   \n",
       "...        ...          ...        ...        ...    ...      ...  ...   \n",
       "18063     1534  3781.098080  19.822962 2021-11-04     11  Альберт   25   \n",
       "18064     1534  2840.423057  21.409799 2021-11-16     11  Альберт   25   \n",
       "18065     1534  3826.185507  18.435051 2021-11-18     11  Альберт   25   \n",
       "18066     1534  2902.308661  16.674362 2021-11-27     11  Альберт   25   \n",
       "18067     1534  2371.711192  15.893917 2021-12-29     12  Альберт   25   \n",
       "\n",
       "            city subscription_type  minute_price  start_ride_price  \\\n",
       "0         Тюмень             ultra             6                 0   \n",
       "1         Тюмень             ultra             6                 0   \n",
       "2         Тюмень             ultra             6                 0   \n",
       "3         Тюмень             ultra             6                 0   \n",
       "4         Тюмень             ultra             6                 0   \n",
       "...          ...               ...           ...               ...   \n",
       "18063  Краснодар              free             8                50   \n",
       "18064  Краснодар              free             8                50   \n",
       "18065  Краснодар              free             8                50   \n",
       "18066  Краснодар              free             8                50   \n",
       "18067  Краснодар              free             8                50   \n",
       "\n",
       "       subscription_fee  \n",
       "0                   199  \n",
       "1                   199  \n",
       "2                   199  \n",
       "3                   199  \n",
       "4                   199  \n",
       "...                 ...  \n",
       "18063                 0  \n",
       "18064                 0  \n",
       "18065                 0  \n",
       "18066                 0  \n",
       "18067                 0  \n",
       "\n",
       "[18068 rows x 12 columns]"
      ]
     },
     "execution_count": 31,
     "metadata": {},
     "output_type": "execute_result"
    }
   ],
   "source": [
    "# Проверим получившийся датасет\n",
    "union_df"
   ]
  },
  {
   "cell_type": "markdown",
   "id": "7c6ddf94",
   "metadata": {},
   "source": [
    "В полученный датасет попали записи о всех поездках (18068), информация о пользователях и ценах поездки по действующему тарифу - free / ultra"
   ]
  },
  {
   "cell_type": "markdown",
   "id": "aae4a1bf",
   "metadata": {},
   "source": [
    "<div class=\"alert alert-success\" style=\"border-radius: 10px; box-shadow: 2px 2px 2px; border: 1px solid; padding: 10px \">\n",
    "<b>Комментарий ревьюера v.1</b> \n",
    "    \n",
    "👍 \n",
    "Объединение прошло корректно. Правильно, что следишь за размерностью.\n",
    "</div>"
   ]
  },
  {
   "cell_type": "markdown",
   "id": "5b6c930b",
   "metadata": {},
   "source": [
    "<a id=\"df_segments\"></a> \n",
    "#### Создание датасетов пользователей с подписками и без"
   ]
  },
  {
   "cell_type": "code",
   "execution_count": 32,
   "id": "22adb32e",
   "metadata": {},
   "outputs": [],
   "source": [
    "# Сделаем два среза по объединенному датасету - пользователи с подпиской и пользователи без подписки\n",
    "ultra_users = union_df.query('subscription_type==\"ultra\"').copy() # пользователи с подпиской\n",
    "free_users = union_df.query('subscription_type==\"free\"').copy() # пользователи без подписки"
   ]
  },
  {
   "cell_type": "code",
   "execution_count": 33,
   "id": "0ae6a522",
   "metadata": {},
   "outputs": [
    {
     "name": "stdout",
     "output_type": "stream",
     "text": [
      "6500\n"
     ]
    },
    {
     "data": {
      "text/html": [
       "<div>\n",
       "<style scoped>\n",
       "    .dataframe tbody tr th:only-of-type {\n",
       "        vertical-align: middle;\n",
       "    }\n",
       "\n",
       "    .dataframe tbody tr th {\n",
       "        vertical-align: top;\n",
       "    }\n",
       "\n",
       "    .dataframe thead th {\n",
       "        text-align: right;\n",
       "    }\n",
       "</style>\n",
       "<table border=\"1\" class=\"dataframe\">\n",
       "  <thead>\n",
       "    <tr style=\"text-align: right;\">\n",
       "      <th></th>\n",
       "      <th>user_id</th>\n",
       "      <th>distance</th>\n",
       "      <th>duration</th>\n",
       "      <th>date</th>\n",
       "      <th>month</th>\n",
       "      <th>name</th>\n",
       "      <th>age</th>\n",
       "      <th>city</th>\n",
       "      <th>subscription_type</th>\n",
       "      <th>minute_price</th>\n",
       "      <th>start_ride_price</th>\n",
       "      <th>subscription_fee</th>\n",
       "    </tr>\n",
       "  </thead>\n",
       "  <tbody>\n",
       "    <tr>\n",
       "      <th>0</th>\n",
       "      <td>1</td>\n",
       "      <td>4409.919140</td>\n",
       "      <td>25.599769</td>\n",
       "      <td>2021-01-01</td>\n",
       "      <td>1</td>\n",
       "      <td>Кира</td>\n",
       "      <td>22</td>\n",
       "      <td>Тюмень</td>\n",
       "      <td>ultra</td>\n",
       "      <td>6</td>\n",
       "      <td>0</td>\n",
       "      <td>199</td>\n",
       "    </tr>\n",
       "    <tr>\n",
       "      <th>1</th>\n",
       "      <td>1</td>\n",
       "      <td>2617.592153</td>\n",
       "      <td>15.816871</td>\n",
       "      <td>2021-01-18</td>\n",
       "      <td>1</td>\n",
       "      <td>Кира</td>\n",
       "      <td>22</td>\n",
       "      <td>Тюмень</td>\n",
       "      <td>ultra</td>\n",
       "      <td>6</td>\n",
       "      <td>0</td>\n",
       "      <td>199</td>\n",
       "    </tr>\n",
       "    <tr>\n",
       "      <th>2</th>\n",
       "      <td>1</td>\n",
       "      <td>754.159807</td>\n",
       "      <td>6.232113</td>\n",
       "      <td>2021-04-20</td>\n",
       "      <td>4</td>\n",
       "      <td>Кира</td>\n",
       "      <td>22</td>\n",
       "      <td>Тюмень</td>\n",
       "      <td>ultra</td>\n",
       "      <td>6</td>\n",
       "      <td>0</td>\n",
       "      <td>199</td>\n",
       "    </tr>\n",
       "    <tr>\n",
       "      <th>3</th>\n",
       "      <td>1</td>\n",
       "      <td>2694.783254</td>\n",
       "      <td>18.511000</td>\n",
       "      <td>2021-08-11</td>\n",
       "      <td>8</td>\n",
       "      <td>Кира</td>\n",
       "      <td>22</td>\n",
       "      <td>Тюмень</td>\n",
       "      <td>ultra</td>\n",
       "      <td>6</td>\n",
       "      <td>0</td>\n",
       "      <td>199</td>\n",
       "    </tr>\n",
       "    <tr>\n",
       "      <th>4</th>\n",
       "      <td>1</td>\n",
       "      <td>4028.687306</td>\n",
       "      <td>26.265803</td>\n",
       "      <td>2021-08-28</td>\n",
       "      <td>8</td>\n",
       "      <td>Кира</td>\n",
       "      <td>22</td>\n",
       "      <td>Тюмень</td>\n",
       "      <td>ultra</td>\n",
       "      <td>6</td>\n",
       "      <td>0</td>\n",
       "      <td>199</td>\n",
       "    </tr>\n",
       "  </tbody>\n",
       "</table>\n",
       "</div>"
      ],
      "text/plain": [
       "   user_id     distance   duration       date  month  name  age    city  \\\n",
       "0        1  4409.919140  25.599769 2021-01-01      1  Кира   22  Тюмень   \n",
       "1        1  2617.592153  15.816871 2021-01-18      1  Кира   22  Тюмень   \n",
       "2        1   754.159807   6.232113 2021-04-20      4  Кира   22  Тюмень   \n",
       "3        1  2694.783254  18.511000 2021-08-11      8  Кира   22  Тюмень   \n",
       "4        1  4028.687306  26.265803 2021-08-28      8  Кира   22  Тюмень   \n",
       "\n",
       "  subscription_type  minute_price  start_ride_price  subscription_fee  \n",
       "0             ultra             6                 0               199  \n",
       "1             ultra             6                 0               199  \n",
       "2             ultra             6                 0               199  \n",
       "3             ultra             6                 0               199  \n",
       "4             ultra             6                 0               199  "
      ]
     },
     "execution_count": 33,
     "metadata": {},
     "output_type": "execute_result"
    }
   ],
   "source": [
    "# Проверим полученный датасет пользователей с подпиской\n",
    "print(ultra_users.shape[0])\n",
    "ultra_users.head()"
   ]
  },
  {
   "cell_type": "code",
   "execution_count": 34,
   "id": "1ffdb725",
   "metadata": {},
   "outputs": [
    {
     "name": "stdout",
     "output_type": "stream",
     "text": [
      "11568\n"
     ]
    },
    {
     "data": {
      "text/html": [
       "<div>\n",
       "<style scoped>\n",
       "    .dataframe tbody tr th:only-of-type {\n",
       "        vertical-align: middle;\n",
       "    }\n",
       "\n",
       "    .dataframe tbody tr th {\n",
       "        vertical-align: top;\n",
       "    }\n",
       "\n",
       "    .dataframe thead th {\n",
       "        text-align: right;\n",
       "    }\n",
       "</style>\n",
       "<table border=\"1\" class=\"dataframe\">\n",
       "  <thead>\n",
       "    <tr style=\"text-align: right;\">\n",
       "      <th></th>\n",
       "      <th>user_id</th>\n",
       "      <th>distance</th>\n",
       "      <th>duration</th>\n",
       "      <th>date</th>\n",
       "      <th>month</th>\n",
       "      <th>name</th>\n",
       "      <th>age</th>\n",
       "      <th>city</th>\n",
       "      <th>subscription_type</th>\n",
       "      <th>minute_price</th>\n",
       "      <th>start_ride_price</th>\n",
       "      <th>subscription_fee</th>\n",
       "    </tr>\n",
       "  </thead>\n",
       "  <tbody>\n",
       "    <tr>\n",
       "      <th>6500</th>\n",
       "      <td>700</td>\n",
       "      <td>2515.690719</td>\n",
       "      <td>14.944286</td>\n",
       "      <td>2021-01-02</td>\n",
       "      <td>1</td>\n",
       "      <td>Айдар</td>\n",
       "      <td>22</td>\n",
       "      <td>Омск</td>\n",
       "      <td>free</td>\n",
       "      <td>8</td>\n",
       "      <td>50</td>\n",
       "      <td>0</td>\n",
       "    </tr>\n",
       "    <tr>\n",
       "      <th>6501</th>\n",
       "      <td>700</td>\n",
       "      <td>846.932642</td>\n",
       "      <td>16.234663</td>\n",
       "      <td>2021-02-01</td>\n",
       "      <td>2</td>\n",
       "      <td>Айдар</td>\n",
       "      <td>22</td>\n",
       "      <td>Омск</td>\n",
       "      <td>free</td>\n",
       "      <td>8</td>\n",
       "      <td>50</td>\n",
       "      <td>0</td>\n",
       "    </tr>\n",
       "    <tr>\n",
       "      <th>6502</th>\n",
       "      <td>700</td>\n",
       "      <td>4004.434142</td>\n",
       "      <td>20.016628</td>\n",
       "      <td>2021-02-04</td>\n",
       "      <td>2</td>\n",
       "      <td>Айдар</td>\n",
       "      <td>22</td>\n",
       "      <td>Омск</td>\n",
       "      <td>free</td>\n",
       "      <td>8</td>\n",
       "      <td>50</td>\n",
       "      <td>0</td>\n",
       "    </tr>\n",
       "    <tr>\n",
       "      <th>6503</th>\n",
       "      <td>700</td>\n",
       "      <td>1205.911290</td>\n",
       "      <td>9.782872</td>\n",
       "      <td>2021-02-10</td>\n",
       "      <td>2</td>\n",
       "      <td>Айдар</td>\n",
       "      <td>22</td>\n",
       "      <td>Омск</td>\n",
       "      <td>free</td>\n",
       "      <td>8</td>\n",
       "      <td>50</td>\n",
       "      <td>0</td>\n",
       "    </tr>\n",
       "    <tr>\n",
       "      <th>6504</th>\n",
       "      <td>700</td>\n",
       "      <td>3047.379435</td>\n",
       "      <td>17.427673</td>\n",
       "      <td>2021-02-14</td>\n",
       "      <td>2</td>\n",
       "      <td>Айдар</td>\n",
       "      <td>22</td>\n",
       "      <td>Омск</td>\n",
       "      <td>free</td>\n",
       "      <td>8</td>\n",
       "      <td>50</td>\n",
       "      <td>0</td>\n",
       "    </tr>\n",
       "  </tbody>\n",
       "</table>\n",
       "</div>"
      ],
      "text/plain": [
       "      user_id     distance   duration       date  month   name  age  city  \\\n",
       "6500      700  2515.690719  14.944286 2021-01-02      1  Айдар   22  Омск   \n",
       "6501      700   846.932642  16.234663 2021-02-01      2  Айдар   22  Омск   \n",
       "6502      700  4004.434142  20.016628 2021-02-04      2  Айдар   22  Омск   \n",
       "6503      700  1205.911290   9.782872 2021-02-10      2  Айдар   22  Омск   \n",
       "6504      700  3047.379435  17.427673 2021-02-14      2  Айдар   22  Омск   \n",
       "\n",
       "     subscription_type  minute_price  start_ride_price  subscription_fee  \n",
       "6500              free             8                50                 0  \n",
       "6501              free             8                50                 0  \n",
       "6502              free             8                50                 0  \n",
       "6503              free             8                50                 0  \n",
       "6504              free             8                50                 0  "
      ]
     },
     "execution_count": 34,
     "metadata": {},
     "output_type": "execute_result"
    }
   ],
   "source": [
    "# Проверим полученный датасет пользователей без подписки\n",
    "print(free_users.shape[0])\n",
    "free_users.head()"
   ]
  },
  {
   "cell_type": "markdown",
   "id": "6248337a",
   "metadata": {},
   "source": [
    "Датасет с пользователями без подписки получился почти в два раза больше чем датасет пользователей с подпиской"
   ]
  },
  {
   "cell_type": "markdown",
   "id": "6effc183",
   "metadata": {},
   "source": [
    "[К содержанию](#index)"
   ]
  },
  {
   "cell_type": "markdown",
   "id": "f83d2e58",
   "metadata": {},
   "source": [
    "<a id=\"distance_segments\"></a> \n",
    "#### Визуализация распределений дистанции поездок по категориям"
   ]
  },
  {
   "cell_type": "code",
   "execution_count": 35,
   "id": "ac684540",
   "metadata": {},
   "outputs": [
    {
     "data": {
      "image/png": "[encoded data removed]",
      "text/plain": [
       "<Figure size 720x432 with 2 Axes>"
      ]
     },
     "metadata": {
      "needs_background": "light"
     },
     "output_type": "display_data"
    }
   ],
   "source": [
    "# Визуализируем распределение дистанции поездок\n",
    "visualize_it(\n",
    "    data=ultra_users['distance'],\n",
    "    data2=free_users['distance'],\n",
    "    title='Дистанции поездок пользователей ultra',\n",
    "    title2='Дистанции поездок пользователей free',\n",
    "    x_label='Дистанция, м',\n",
    "    y_label='',\n",
    "    vis_type='hist',\n",
    "    bins = 20\n",
    ")"
   ]
  },
  {
   "cell_type": "markdown",
   "id": "814c9bc3",
   "metadata": {},
   "source": [
    "1. Средняя дистанция:\n",
    "   ⦁ Оба распределения имеют пиковые значения в районе 3000 метров, что указывает на схожую среднюю дистанцию поездок.\n",
    "\n",
    "2. Форма распределения:\n",
    "   ⦁ Оба распределения похожи и имеют форму, близкую к нормальному распределению с правым хвостом.\n",
    "\n",
    "3. Варьируемость:\n",
    "   ⦁ Распределение пользователей free выглядит более растянутым, что говорит о большей вариативности данных по дистанции поездки.\n",
    "\n",
    "4. Пики и плотность:\n",
    "   ⦁ Дистанции поездок пользователей ultra имеют более выраженный пик около средней дистанции, у пользователей free распределение более полого и растянуто.\n",
    "\n",
    "5. Дистанции:\n",
    "   ⦁ У пользователей ultra дистанци свыше 5000 метров встречаются реже чем у пользователей free.\n",
    "\n",
    "Таким образом, пользователи ultra совершают поездки близкие по длительности к средним, в то время как пользователи free чаще совершают поездки превышающие среднюю дистанцию."
   ]
  },
  {
   "cell_type": "markdown",
   "id": "0f9e3a24",
   "metadata": {},
   "source": [
    "[К содержанию](#index)"
   ]
  },
  {
   "cell_type": "markdown",
   "id": "82ef351e",
   "metadata": {},
   "source": [
    "<a id=\"duration_segments\"></a> \n",
    "#### Визуализация распределений времени поездок по категориям"
   ]
  },
  {
   "cell_type": "code",
   "execution_count": 36,
   "id": "064d8ee6",
   "metadata": {},
   "outputs": [
    {
     "data": {
      "image/png": "[encoded data removed]",
      "text/plain": [
       "<Figure size 720x432 with 2 Axes>"
      ]
     },
     "metadata": {
      "needs_background": "light"
     },
     "output_type": "display_data"
    }
   ],
   "source": [
    "# Визуализируем распределение времени поездок\n",
    "visualize_it(\n",
    "    data=ultra_users['duration'],\n",
    "    data2=free_users['duration'],\n",
    "    title='Длительеность поездок пользователей ultra',\n",
    "    title2='Длительность поездок пользователей free',\n",
    "    x_label='Длительность, мин',\n",
    "    y_label='',\n",
    "    vis_type='hist',\n",
    "    bins = 20\n",
    ")"
   ]
  },
  {
   "cell_type": "markdown",
   "id": "1ed501c4",
   "metadata": {},
   "source": [
    "* Для пользователей ultra: Распределение ближе к нормальному, с пиковой точкой около 15-20 минут. Длительность поездок в основном варьируется от 10 до 25 минут.\n",
    "\n",
    "* Для пользователей free: Также наблюдается нормальное распределение, но с менее выраженной пиковой точкой, около 15-20 минут. Диапазон длительности поездок схожий, от 10 до 25 минут, но распределение более вытянутое.\n",
    "\n",
    "Обе выборки имеют похожие формы, у пользователей тарифа free более равномерное распределение длительности поездок."
   ]
  },
  {
   "cell_type": "markdown",
   "id": "191a3679",
   "metadata": {},
   "source": [
    "[К содержанию](#index)"
   ]
  },
  {
   "cell_type": "markdown",
   "id": "f3a9a91d",
   "metadata": {},
   "source": [
    "<a id=\"segments_resume\"></a> \n",
    "#### Выводы по распределению длительности и продолжительности поездок по категориям"
   ]
  },
  {
   "cell_type": "markdown",
   "id": "911c8ca6",
   "metadata": {},
   "source": [
    "**Распределение расстояний в зависимости от подписки**\n",
    "\n",
    "* Пользователи ultra совершают поездки близкие по длительности к средним, в то время как пользователи free чаще совершают поездки превышающие среднюю дистанцию.\n",
    "\n",
    "**Распределение продолжительности поездок в зависимости от подписки**\n",
    "\n",
    "* Обе выборки имеют похожие формы, у пользователей тарифа free более равномерное распределение длительности поездок."
   ]
  },
  {
   "cell_type": "markdown",
   "id": "df63f554",
   "metadata": {},
   "source": [
    "[К содержанию](#index)"
   ]
  },
  {
   "cell_type": "markdown",
   "id": "0bd8d2d9",
   "metadata": {},
   "source": [
    "<div class=\"alert alert-success\" style=\"border-radius: 10px; box-shadow: 2px 2px 2px; border: 1px solid; padding: 10px \">\n",
    "<b>Комментарий ревьюера v.1</b> \n",
    "    \n",
    "👍 \n",
    "Выводы верны, визуализация корректная. Здорово, что есть сравнения профилей пользователей двух категорий.\n",
    "</div>"
   ]
  },
  {
   "cell_type": "markdown",
   "id": "402d620f",
   "metadata": {},
   "source": [
    "<a id=\"income\"></a> \n",
    "###  Шаг 5. Подсчёт выручки"
   ]
  },
  {
   "cell_type": "markdown",
   "id": "586e3af7",
   "metadata": {},
   "source": [
    "<a id=\"df_agregation\"></a> \n",
    "#### Подготовка агрегированного датасета"
   ]
  },
  {
   "cell_type": "code",
   "execution_count": 37,
   "id": "eb3f98e0",
   "metadata": {},
   "outputs": [],
   "source": [
    "# Добавим в объединенный датасет union_df столбец с округленной продожительностью каждой поездки\n",
    "union_df['dur_ceil'] = np.ceil(union_df['duration'])"
   ]
  },
  {
   "cell_type": "code",
   "execution_count": 38,
   "id": "a93be73c",
   "metadata": {},
   "outputs": [
    {
     "data": {
      "text/html": [
       "<div>\n",
       "<style scoped>\n",
       "    .dataframe tbody tr th:only-of-type {\n",
       "        vertical-align: middle;\n",
       "    }\n",
       "\n",
       "    .dataframe tbody tr th {\n",
       "        vertical-align: top;\n",
       "    }\n",
       "\n",
       "    .dataframe thead th {\n",
       "        text-align: right;\n",
       "    }\n",
       "</style>\n",
       "<table border=\"1\" class=\"dataframe\">\n",
       "  <thead>\n",
       "    <tr style=\"text-align: right;\">\n",
       "      <th></th>\n",
       "      <th>user_id</th>\n",
       "      <th>distance</th>\n",
       "      <th>duration</th>\n",
       "      <th>date</th>\n",
       "      <th>month</th>\n",
       "      <th>name</th>\n",
       "      <th>age</th>\n",
       "      <th>city</th>\n",
       "      <th>subscription_type</th>\n",
       "      <th>minute_price</th>\n",
       "      <th>start_ride_price</th>\n",
       "      <th>subscription_fee</th>\n",
       "      <th>dur_ceil</th>\n",
       "    </tr>\n",
       "  </thead>\n",
       "  <tbody>\n",
       "    <tr>\n",
       "      <th>0</th>\n",
       "      <td>1</td>\n",
       "      <td>4409.919140</td>\n",
       "      <td>25.599769</td>\n",
       "      <td>2021-01-01</td>\n",
       "      <td>1</td>\n",
       "      <td>Кира</td>\n",
       "      <td>22</td>\n",
       "      <td>Тюмень</td>\n",
       "      <td>ultra</td>\n",
       "      <td>6</td>\n",
       "      <td>0</td>\n",
       "      <td>199</td>\n",
       "      <td>26.0</td>\n",
       "    </tr>\n",
       "    <tr>\n",
       "      <th>1</th>\n",
       "      <td>1</td>\n",
       "      <td>2617.592153</td>\n",
       "      <td>15.816871</td>\n",
       "      <td>2021-01-18</td>\n",
       "      <td>1</td>\n",
       "      <td>Кира</td>\n",
       "      <td>22</td>\n",
       "      <td>Тюмень</td>\n",
       "      <td>ultra</td>\n",
       "      <td>6</td>\n",
       "      <td>0</td>\n",
       "      <td>199</td>\n",
       "      <td>16.0</td>\n",
       "    </tr>\n",
       "    <tr>\n",
       "      <th>2</th>\n",
       "      <td>1</td>\n",
       "      <td>754.159807</td>\n",
       "      <td>6.232113</td>\n",
       "      <td>2021-04-20</td>\n",
       "      <td>4</td>\n",
       "      <td>Кира</td>\n",
       "      <td>22</td>\n",
       "      <td>Тюмень</td>\n",
       "      <td>ultra</td>\n",
       "      <td>6</td>\n",
       "      <td>0</td>\n",
       "      <td>199</td>\n",
       "      <td>7.0</td>\n",
       "    </tr>\n",
       "    <tr>\n",
       "      <th>3</th>\n",
       "      <td>1</td>\n",
       "      <td>2694.783254</td>\n",
       "      <td>18.511000</td>\n",
       "      <td>2021-08-11</td>\n",
       "      <td>8</td>\n",
       "      <td>Кира</td>\n",
       "      <td>22</td>\n",
       "      <td>Тюмень</td>\n",
       "      <td>ultra</td>\n",
       "      <td>6</td>\n",
       "      <td>0</td>\n",
       "      <td>199</td>\n",
       "      <td>19.0</td>\n",
       "    </tr>\n",
       "    <tr>\n",
       "      <th>4</th>\n",
       "      <td>1</td>\n",
       "      <td>4028.687306</td>\n",
       "      <td>26.265803</td>\n",
       "      <td>2021-08-28</td>\n",
       "      <td>8</td>\n",
       "      <td>Кира</td>\n",
       "      <td>22</td>\n",
       "      <td>Тюмень</td>\n",
       "      <td>ultra</td>\n",
       "      <td>6</td>\n",
       "      <td>0</td>\n",
       "      <td>199</td>\n",
       "      <td>27.0</td>\n",
       "    </tr>\n",
       "  </tbody>\n",
       "</table>\n",
       "</div>"
      ],
      "text/plain": [
       "   user_id     distance   duration       date  month  name  age    city  \\\n",
       "0        1  4409.919140  25.599769 2021-01-01      1  Кира   22  Тюмень   \n",
       "1        1  2617.592153  15.816871 2021-01-18      1  Кира   22  Тюмень   \n",
       "2        1   754.159807   6.232113 2021-04-20      4  Кира   22  Тюмень   \n",
       "3        1  2694.783254  18.511000 2021-08-11      8  Кира   22  Тюмень   \n",
       "4        1  4028.687306  26.265803 2021-08-28      8  Кира   22  Тюмень   \n",
       "\n",
       "  subscription_type  minute_price  start_ride_price  subscription_fee  \\\n",
       "0             ultra             6                 0               199   \n",
       "1             ultra             6                 0               199   \n",
       "2             ultra             6                 0               199   \n",
       "3             ultra             6                 0               199   \n",
       "4             ultra             6                 0               199   \n",
       "\n",
       "   dur_ceil  \n",
       "0      26.0  \n",
       "1      16.0  \n",
       "2       7.0  \n",
       "3      19.0  \n",
       "4      27.0  "
      ]
     },
     "execution_count": 38,
     "metadata": {},
     "output_type": "execute_result"
    }
   ],
   "source": [
    "# Проверим\n",
    "union_df.head()"
   ]
  },
  {
   "cell_type": "code",
   "execution_count": 39,
   "id": "3db2e6c4",
   "metadata": {},
   "outputs": [],
   "source": [
    "# Сгруппируем объединенные ранее данные по полю тип user_id-month\n",
    "# Посчитаем количество поездок, суммарную дистанцию и время по каждому пользователю за месяц\n",
    "agg_df = union_df.groupby(['user_id', 'month']).agg(\n",
    "    trips=('user_id', 'count'),\n",
    "    total_distance=('distance', 'sum'),\n",
    "    total_duration=('dur_ceil', 'sum')\n",
    ").reset_index()"
   ]
  },
  {
   "cell_type": "markdown",
   "id": "a30c2c41",
   "metadata": {},
   "source": [
    "<div class=\"alert alert-info\" style=\"border-radius: 10px; box-shadow: 2px 2px 2px; border: 1px solid; padding: 10px \"> \n",
    "<b>Комментарий студента</b> \n",
    "    \n",
    "Изменил группировку, удалил тип подписки.\n",
    "</div>"
   ]
  },
  {
   "cell_type": "code",
   "execution_count": 40,
   "id": "d4881e32",
   "metadata": {},
   "outputs": [
    {
     "data": {
      "text/html": [
       "<div>\n",
       "<style scoped>\n",
       "    .dataframe tbody tr th:only-of-type {\n",
       "        vertical-align: middle;\n",
       "    }\n",
       "\n",
       "    .dataframe tbody tr th {\n",
       "        vertical-align: top;\n",
       "    }\n",
       "\n",
       "    .dataframe thead th {\n",
       "        text-align: right;\n",
       "    }\n",
       "</style>\n",
       "<table border=\"1\" class=\"dataframe\">\n",
       "  <thead>\n",
       "    <tr style=\"text-align: right;\">\n",
       "      <th></th>\n",
       "      <th>user_id</th>\n",
       "      <th>month</th>\n",
       "      <th>trips</th>\n",
       "      <th>total_distance</th>\n",
       "      <th>total_duration</th>\n",
       "    </tr>\n",
       "  </thead>\n",
       "  <tbody>\n",
       "    <tr>\n",
       "      <th>0</th>\n",
       "      <td>1</td>\n",
       "      <td>1</td>\n",
       "      <td>2</td>\n",
       "      <td>7027.511294</td>\n",
       "      <td>42.0</td>\n",
       "    </tr>\n",
       "    <tr>\n",
       "      <th>1</th>\n",
       "      <td>1</td>\n",
       "      <td>4</td>\n",
       "      <td>1</td>\n",
       "      <td>754.159807</td>\n",
       "      <td>7.0</td>\n",
       "    </tr>\n",
       "    <tr>\n",
       "      <th>2</th>\n",
       "      <td>1</td>\n",
       "      <td>8</td>\n",
       "      <td>2</td>\n",
       "      <td>6723.470560</td>\n",
       "      <td>46.0</td>\n",
       "    </tr>\n",
       "    <tr>\n",
       "      <th>3</th>\n",
       "      <td>1</td>\n",
       "      <td>10</td>\n",
       "      <td>2</td>\n",
       "      <td>5809.911100</td>\n",
       "      <td>32.0</td>\n",
       "    </tr>\n",
       "    <tr>\n",
       "      <th>4</th>\n",
       "      <td>1</td>\n",
       "      <td>11</td>\n",
       "      <td>3</td>\n",
       "      <td>7003.499363</td>\n",
       "      <td>56.0</td>\n",
       "    </tr>\n",
       "  </tbody>\n",
       "</table>\n",
       "</div>"
      ],
      "text/plain": [
       "   user_id  month  trips  total_distance  total_duration\n",
       "0        1      1      2     7027.511294            42.0\n",
       "1        1      4      1      754.159807             7.0\n",
       "2        1      8      2     6723.470560            46.0\n",
       "3        1     10      2     5809.911100            32.0\n",
       "4        1     11      3     7003.499363            56.0"
      ]
     },
     "execution_count": 40,
     "metadata": {},
     "output_type": "execute_result"
    }
   ],
   "source": [
    "# Проверим полученную таблицу\n",
    "agg_df.head()"
   ]
  },
  {
   "cell_type": "code",
   "execution_count": 41,
   "id": "9607eafa",
   "metadata": {},
   "outputs": [],
   "source": [
    "# К полученной таблице добавим информацию по действующим тарифам\n",
    "agg_df = pd.merge(agg_df, users, on='user_id', how='left')"
   ]
  },
  {
   "cell_type": "markdown",
   "id": "262f83d1",
   "metadata": {},
   "source": [
    "<div class=\"alert alert-info\" style=\"border-radius: 10px; box-shadow: 2px 2px 2px; border: 1px solid; padding: 10px \"> \n",
    "<b>Комментарий студента</b> \n",
    "    \n",
    "Скорректировал код, вместо присоединения таблицы с тарифами присоединяю таблицу с пользователями, чтобы получить их действующий тариф\n",
    "</div>"
   ]
  },
  {
   "cell_type": "code",
   "execution_count": 42,
   "id": "74684315",
   "metadata": {},
   "outputs": [
    {
     "data": {
      "text/html": [
       "<div>\n",
       "<style scoped>\n",
       "    .dataframe tbody tr th:only-of-type {\n",
       "        vertical-align: middle;\n",
       "    }\n",
       "\n",
       "    .dataframe tbody tr th {\n",
       "        vertical-align: top;\n",
       "    }\n",
       "\n",
       "    .dataframe thead th {\n",
       "        text-align: right;\n",
       "    }\n",
       "</style>\n",
       "<table border=\"1\" class=\"dataframe\">\n",
       "  <thead>\n",
       "    <tr style=\"text-align: right;\">\n",
       "      <th></th>\n",
       "      <th>user_id</th>\n",
       "      <th>month</th>\n",
       "      <th>trips</th>\n",
       "      <th>total_distance</th>\n",
       "      <th>total_duration</th>\n",
       "      <th>name</th>\n",
       "      <th>age</th>\n",
       "      <th>city</th>\n",
       "      <th>subscription_type</th>\n",
       "    </tr>\n",
       "  </thead>\n",
       "  <tbody>\n",
       "    <tr>\n",
       "      <th>0</th>\n",
       "      <td>1</td>\n",
       "      <td>1</td>\n",
       "      <td>2</td>\n",
       "      <td>7027.511294</td>\n",
       "      <td>42.0</td>\n",
       "      <td>Кира</td>\n",
       "      <td>22</td>\n",
       "      <td>Тюмень</td>\n",
       "      <td>ultra</td>\n",
       "    </tr>\n",
       "    <tr>\n",
       "      <th>1</th>\n",
       "      <td>1</td>\n",
       "      <td>4</td>\n",
       "      <td>1</td>\n",
       "      <td>754.159807</td>\n",
       "      <td>7.0</td>\n",
       "      <td>Кира</td>\n",
       "      <td>22</td>\n",
       "      <td>Тюмень</td>\n",
       "      <td>ultra</td>\n",
       "    </tr>\n",
       "    <tr>\n",
       "      <th>2</th>\n",
       "      <td>1</td>\n",
       "      <td>8</td>\n",
       "      <td>2</td>\n",
       "      <td>6723.470560</td>\n",
       "      <td>46.0</td>\n",
       "      <td>Кира</td>\n",
       "      <td>22</td>\n",
       "      <td>Тюмень</td>\n",
       "      <td>ultra</td>\n",
       "    </tr>\n",
       "    <tr>\n",
       "      <th>3</th>\n",
       "      <td>1</td>\n",
       "      <td>10</td>\n",
       "      <td>2</td>\n",
       "      <td>5809.911100</td>\n",
       "      <td>32.0</td>\n",
       "      <td>Кира</td>\n",
       "      <td>22</td>\n",
       "      <td>Тюмень</td>\n",
       "      <td>ultra</td>\n",
       "    </tr>\n",
       "    <tr>\n",
       "      <th>4</th>\n",
       "      <td>1</td>\n",
       "      <td>11</td>\n",
       "      <td>3</td>\n",
       "      <td>7003.499363</td>\n",
       "      <td>56.0</td>\n",
       "      <td>Кира</td>\n",
       "      <td>22</td>\n",
       "      <td>Тюмень</td>\n",
       "      <td>ultra</td>\n",
       "    </tr>\n",
       "  </tbody>\n",
       "</table>\n",
       "</div>"
      ],
      "text/plain": [
       "   user_id  month  trips  total_distance  total_duration  name  age    city  \\\n",
       "0        1      1      2     7027.511294            42.0  Кира   22  Тюмень   \n",
       "1        1      4      1      754.159807             7.0  Кира   22  Тюмень   \n",
       "2        1      8      2     6723.470560            46.0  Кира   22  Тюмень   \n",
       "3        1     10      2     5809.911100            32.0  Кира   22  Тюмень   \n",
       "4        1     11      3     7003.499363            56.0  Кира   22  Тюмень   \n",
       "\n",
       "  subscription_type  \n",
       "0             ultra  \n",
       "1             ultra  \n",
       "2             ultra  \n",
       "3             ultra  \n",
       "4             ultra  "
      ]
     },
     "execution_count": 42,
     "metadata": {},
     "output_type": "execute_result"
    }
   ],
   "source": [
    "# Проверим результат\n",
    "agg_df.head()"
   ]
  },
  {
   "cell_type": "markdown",
   "id": "0213b630",
   "metadata": {},
   "source": [
    "<div class=\"alert alert-info\" style=\"border-radius: 10px; box-shadow: 2px 2px 2px; border: 1px solid; padding: 10px \"> \n",
    "<b>Комментарий студента</b> \n",
    "    \n",
    "Теперь присоединим информацию о тарифах для каждого пользователя.\n",
    "</div>"
   ]
  },
  {
   "cell_type": "code",
   "execution_count": 43,
   "id": "11f2de23",
   "metadata": {},
   "outputs": [],
   "source": [
    "agg_df = pd.merge(agg_df, subscrptns, on='subscription_type', how='left')"
   ]
  },
  {
   "cell_type": "code",
   "execution_count": 44,
   "id": "5320ac4b",
   "metadata": {},
   "outputs": [
    {
     "data": {
      "text/html": [
       "<div>\n",
       "<style scoped>\n",
       "    .dataframe tbody tr th:only-of-type {\n",
       "        vertical-align: middle;\n",
       "    }\n",
       "\n",
       "    .dataframe tbody tr th {\n",
       "        vertical-align: top;\n",
       "    }\n",
       "\n",
       "    .dataframe thead th {\n",
       "        text-align: right;\n",
       "    }\n",
       "</style>\n",
       "<table border=\"1\" class=\"dataframe\">\n",
       "  <thead>\n",
       "    <tr style=\"text-align: right;\">\n",
       "      <th></th>\n",
       "      <th>user_id</th>\n",
       "      <th>month</th>\n",
       "      <th>trips</th>\n",
       "      <th>total_distance</th>\n",
       "      <th>total_duration</th>\n",
       "      <th>name</th>\n",
       "      <th>age</th>\n",
       "      <th>city</th>\n",
       "      <th>subscription_type</th>\n",
       "      <th>minute_price</th>\n",
       "      <th>start_ride_price</th>\n",
       "      <th>subscription_fee</th>\n",
       "    </tr>\n",
       "  </thead>\n",
       "  <tbody>\n",
       "    <tr>\n",
       "      <th>0</th>\n",
       "      <td>1</td>\n",
       "      <td>1</td>\n",
       "      <td>2</td>\n",
       "      <td>7027.511294</td>\n",
       "      <td>42.0</td>\n",
       "      <td>Кира</td>\n",
       "      <td>22</td>\n",
       "      <td>Тюмень</td>\n",
       "      <td>ultra</td>\n",
       "      <td>6</td>\n",
       "      <td>0</td>\n",
       "      <td>199</td>\n",
       "    </tr>\n",
       "    <tr>\n",
       "      <th>1</th>\n",
       "      <td>1</td>\n",
       "      <td>4</td>\n",
       "      <td>1</td>\n",
       "      <td>754.159807</td>\n",
       "      <td>7.0</td>\n",
       "      <td>Кира</td>\n",
       "      <td>22</td>\n",
       "      <td>Тюмень</td>\n",
       "      <td>ultra</td>\n",
       "      <td>6</td>\n",
       "      <td>0</td>\n",
       "      <td>199</td>\n",
       "    </tr>\n",
       "    <tr>\n",
       "      <th>2</th>\n",
       "      <td>1</td>\n",
       "      <td>8</td>\n",
       "      <td>2</td>\n",
       "      <td>6723.470560</td>\n",
       "      <td>46.0</td>\n",
       "      <td>Кира</td>\n",
       "      <td>22</td>\n",
       "      <td>Тюмень</td>\n",
       "      <td>ultra</td>\n",
       "      <td>6</td>\n",
       "      <td>0</td>\n",
       "      <td>199</td>\n",
       "    </tr>\n",
       "    <tr>\n",
       "      <th>3</th>\n",
       "      <td>1</td>\n",
       "      <td>10</td>\n",
       "      <td>2</td>\n",
       "      <td>5809.911100</td>\n",
       "      <td>32.0</td>\n",
       "      <td>Кира</td>\n",
       "      <td>22</td>\n",
       "      <td>Тюмень</td>\n",
       "      <td>ultra</td>\n",
       "      <td>6</td>\n",
       "      <td>0</td>\n",
       "      <td>199</td>\n",
       "    </tr>\n",
       "    <tr>\n",
       "      <th>4</th>\n",
       "      <td>1</td>\n",
       "      <td>11</td>\n",
       "      <td>3</td>\n",
       "      <td>7003.499363</td>\n",
       "      <td>56.0</td>\n",
       "      <td>Кира</td>\n",
       "      <td>22</td>\n",
       "      <td>Тюмень</td>\n",
       "      <td>ultra</td>\n",
       "      <td>6</td>\n",
       "      <td>0</td>\n",
       "      <td>199</td>\n",
       "    </tr>\n",
       "  </tbody>\n",
       "</table>\n",
       "</div>"
      ],
      "text/plain": [
       "   user_id  month  trips  total_distance  total_duration  name  age    city  \\\n",
       "0        1      1      2     7027.511294            42.0  Кира   22  Тюмень   \n",
       "1        1      4      1      754.159807             7.0  Кира   22  Тюмень   \n",
       "2        1      8      2     6723.470560            46.0  Кира   22  Тюмень   \n",
       "3        1     10      2     5809.911100            32.0  Кира   22  Тюмень   \n",
       "4        1     11      3     7003.499363            56.0  Кира   22  Тюмень   \n",
       "\n",
       "  subscription_type  minute_price  start_ride_price  subscription_fee  \n",
       "0             ultra             6                 0               199  \n",
       "1             ultra             6                 0               199  \n",
       "2             ultra             6                 0               199  \n",
       "3             ultra             6                 0               199  \n",
       "4             ultra             6                 0               199  "
      ]
     },
     "execution_count": 44,
     "metadata": {},
     "output_type": "execute_result"
    }
   ],
   "source": [
    "# Проверим результат\n",
    "agg_df.head()"
   ]
  },
  {
   "cell_type": "markdown",
   "id": "97151723",
   "metadata": {},
   "source": [
    "Таблица готова к подсчету выручки"
   ]
  },
  {
   "cell_type": "markdown",
   "id": "2e1c7aa0",
   "metadata": {},
   "source": [
    "[К содержанию](#index)"
   ]
  },
  {
   "cell_type": "markdown",
   "id": "63b9fa81",
   "metadata": {},
   "source": [
    "<a id=\"income_calculation\"></a> \n",
    "#### Подсчет выручки"
   ]
  },
  {
   "cell_type": "code",
   "execution_count": 45,
   "id": "47dd44ff",
   "metadata": {},
   "outputs": [],
   "source": [
    "# Добавим поле с выручкой для каждого пользователя за каждый месяц\n",
    "\n",
    "agg_df['income'] = (\n",
    "    agg_df['start_ride_price'] * agg_df['trips'] + \n",
    "    agg_df['minute_price'] * agg_df['total_duration'] + \n",
    "    agg_df['subscription_fee']\n",
    "    )"
   ]
  },
  {
   "cell_type": "code",
   "execution_count": 46,
   "id": "d4f2e951",
   "metadata": {},
   "outputs": [
    {
     "data": {
      "text/html": [
       "<div>\n",
       "<style scoped>\n",
       "    .dataframe tbody tr th:only-of-type {\n",
       "        vertical-align: middle;\n",
       "    }\n",
       "\n",
       "    .dataframe tbody tr th {\n",
       "        vertical-align: top;\n",
       "    }\n",
       "\n",
       "    .dataframe thead th {\n",
       "        text-align: right;\n",
       "    }\n",
       "</style>\n",
       "<table border=\"1\" class=\"dataframe\">\n",
       "  <thead>\n",
       "    <tr style=\"text-align: right;\">\n",
       "      <th></th>\n",
       "      <th>user_id</th>\n",
       "      <th>month</th>\n",
       "      <th>trips</th>\n",
       "      <th>total_distance</th>\n",
       "      <th>total_duration</th>\n",
       "      <th>name</th>\n",
       "      <th>age</th>\n",
       "      <th>city</th>\n",
       "      <th>subscription_type</th>\n",
       "      <th>minute_price</th>\n",
       "      <th>start_ride_price</th>\n",
       "      <th>subscription_fee</th>\n",
       "      <th>income</th>\n",
       "    </tr>\n",
       "  </thead>\n",
       "  <tbody>\n",
       "    <tr>\n",
       "      <th>0</th>\n",
       "      <td>1</td>\n",
       "      <td>1</td>\n",
       "      <td>2</td>\n",
       "      <td>7027.511294</td>\n",
       "      <td>42.0</td>\n",
       "      <td>Кира</td>\n",
       "      <td>22</td>\n",
       "      <td>Тюмень</td>\n",
       "      <td>ultra</td>\n",
       "      <td>6</td>\n",
       "      <td>0</td>\n",
       "      <td>199</td>\n",
       "      <td>451.0</td>\n",
       "    </tr>\n",
       "    <tr>\n",
       "      <th>1</th>\n",
       "      <td>1</td>\n",
       "      <td>4</td>\n",
       "      <td>1</td>\n",
       "      <td>754.159807</td>\n",
       "      <td>7.0</td>\n",
       "      <td>Кира</td>\n",
       "      <td>22</td>\n",
       "      <td>Тюмень</td>\n",
       "      <td>ultra</td>\n",
       "      <td>6</td>\n",
       "      <td>0</td>\n",
       "      <td>199</td>\n",
       "      <td>241.0</td>\n",
       "    </tr>\n",
       "    <tr>\n",
       "      <th>2</th>\n",
       "      <td>1</td>\n",
       "      <td>8</td>\n",
       "      <td>2</td>\n",
       "      <td>6723.470560</td>\n",
       "      <td>46.0</td>\n",
       "      <td>Кира</td>\n",
       "      <td>22</td>\n",
       "      <td>Тюмень</td>\n",
       "      <td>ultra</td>\n",
       "      <td>6</td>\n",
       "      <td>0</td>\n",
       "      <td>199</td>\n",
       "      <td>475.0</td>\n",
       "    </tr>\n",
       "    <tr>\n",
       "      <th>3</th>\n",
       "      <td>1</td>\n",
       "      <td>10</td>\n",
       "      <td>2</td>\n",
       "      <td>5809.911100</td>\n",
       "      <td>32.0</td>\n",
       "      <td>Кира</td>\n",
       "      <td>22</td>\n",
       "      <td>Тюмень</td>\n",
       "      <td>ultra</td>\n",
       "      <td>6</td>\n",
       "      <td>0</td>\n",
       "      <td>199</td>\n",
       "      <td>391.0</td>\n",
       "    </tr>\n",
       "    <tr>\n",
       "      <th>4</th>\n",
       "      <td>1</td>\n",
       "      <td>11</td>\n",
       "      <td>3</td>\n",
       "      <td>7003.499363</td>\n",
       "      <td>56.0</td>\n",
       "      <td>Кира</td>\n",
       "      <td>22</td>\n",
       "      <td>Тюмень</td>\n",
       "      <td>ultra</td>\n",
       "      <td>6</td>\n",
       "      <td>0</td>\n",
       "      <td>199</td>\n",
       "      <td>535.0</td>\n",
       "    </tr>\n",
       "  </tbody>\n",
       "</table>\n",
       "</div>"
      ],
      "text/plain": [
       "   user_id  month  trips  total_distance  total_duration  name  age    city  \\\n",
       "0        1      1      2     7027.511294            42.0  Кира   22  Тюмень   \n",
       "1        1      4      1      754.159807             7.0  Кира   22  Тюмень   \n",
       "2        1      8      2     6723.470560            46.0  Кира   22  Тюмень   \n",
       "3        1     10      2     5809.911100            32.0  Кира   22  Тюмень   \n",
       "4        1     11      3     7003.499363            56.0  Кира   22  Тюмень   \n",
       "\n",
       "  subscription_type  minute_price  start_ride_price  subscription_fee  income  \n",
       "0             ultra             6                 0               199   451.0  \n",
       "1             ultra             6                 0               199   241.0  \n",
       "2             ultra             6                 0               199   475.0  \n",
       "3             ultra             6                 0               199   391.0  \n",
       "4             ultra             6                 0               199   535.0  "
      ]
     },
     "execution_count": 46,
     "metadata": {},
     "output_type": "execute_result"
    }
   ],
   "source": [
    "# Проверим\n",
    "agg_df.head()"
   ]
  },
  {
   "cell_type": "markdown",
   "id": "0b790f42",
   "metadata": {},
   "source": [
    "<div class=\"alert alert-danger\" style=\"border-radius: 10px; box-shadow: 2px 2px 2px; border: 1px solid; padding: 10px \">\n",
    "<b>Комментарий ревьюера v.1</b> \n",
    "    \n",
    "✍ \n",
    "Антон, проделана большая работа, но есть ряд замечаний:\n",
    "    \n",
    "    \n",
    "* **Ты группируешь данные по subscription_type:** Это неверно, потому что тип подписки  это характеристика пользователя, а не атрибут поездки. Если человек в течение месяца изменит подписку (хотя даже если и не изменит), группировка по этому признаку приведёт к дублированию данных и искажению подсчётов. Вместо этого нужно агрегировать только по пользователю и месяцу, чтобы получить корректную помесячную статистику.\n",
    "\n",
    "\n",
    "* **merge с таблицей subscrptns лишний:**\n",
    "\n",
    "  * Тарифная таблица должна соответствовать пользователю в данный момент. Но ты соединяешь её по subscription_type, не проверяя, был ли у пользователя только один тариф в течение месяца.\n",
    "Если вдруг у него были поездки с разными типами подписок — подтянется непонятно какой тариф, и расчёт выручки даст некорректный результат.\n",
    "\n",
    "  * Повторный merge с таблицей тарифов не нужен, потому что все значения тарифов уже подтянуты в объединённый датафрейм на раннем этапе. Повторно объединять с subscrptns по subscription_type это не только избыточно, но и потенциально опасно: можно случайно заменить реальные значения, использовать не тот тариф, или продублировать данные. Всё нужное уже есть, просто агрегируй правильно при группировке.\n",
    "\n",
    "</div>"
   ]
  },
  {
   "cell_type": "markdown",
   "id": "3b195aca",
   "metadata": {},
   "source": [
    "<div class=\"alert alert-info\" style=\"border-radius: 10px; box-shadow: 2px 2px 2px; border: 1px solid; padding: 10px \"> \n",
    "<b>Комментарий студента</b> \n",
    "    \n",
    "Василий, согласен, логика с подпиской хромает, внес изменения в предыдущий код.\n",
    "</div>"
   ]
  },
  {
   "cell_type": "markdown",
   "id": "a91e838a",
   "metadata": {},
   "source": [
    "<div class=\"alert alert-success\" style=\"border-radius: 10px; box-shadow: 2px 2px 2px; border: 1px solid; padding: 10px \">\n",
    "<b>Комментарий ревьюера v.2</b> \n",
    "    \n",
    "👍 \n",
    "Да, теперь все отлично!\n",
    "</div>"
   ]
  },
  {
   "cell_type": "code",
   "execution_count": 47,
   "id": "5ec658fc",
   "metadata": {},
   "outputs": [
    {
     "data": {
      "image/png": "[encoded data removed]",
      "text/plain": [
       "<Figure size 720x432 with 2 Axes>"
      ]
     },
     "metadata": {
      "needs_background": "light"
     },
     "output_type": "display_data"
    }
   ],
   "source": [
    "# Визуализируем распределение выручки\n",
    "visualize_it(\n",
    "    data=agg_df.query('subscription_type==\"ultra\"')['income'],\n",
    "    data2=agg_df.query('subscription_type==\"free\"')['income'],\n",
    "    title='Выручка пользователей ultra',\n",
    "    title2='Выручка пользователей free',\n",
    "    x_label='Выручка, руб.',\n",
    "    y_label='',\n",
    "    vis_type='hist',\n",
    "    bins = 20\n",
    ")"
   ]
  },
  {
   "cell_type": "code",
   "execution_count": 48,
   "id": "3001e9fd",
   "metadata": {},
   "outputs": [
    {
     "data": {
      "text/html": [
       "<div>\n",
       "<style scoped>\n",
       "    .dataframe tbody tr th:only-of-type {\n",
       "        vertical-align: middle;\n",
       "    }\n",
       "\n",
       "    .dataframe tbody tr th {\n",
       "        vertical-align: top;\n",
       "    }\n",
       "\n",
       "    .dataframe thead th {\n",
       "        text-align: right;\n",
       "    }\n",
       "</style>\n",
       "<table border=\"1\" class=\"dataframe\">\n",
       "  <thead>\n",
       "    <tr style=\"text-align: right;\">\n",
       "      <th></th>\n",
       "      <th>city</th>\n",
       "      <th>sum_free</th>\n",
       "      <th>sum_ultra</th>\n",
       "      <th>mean_free</th>\n",
       "      <th>mean_ultra</th>\n",
       "    </tr>\n",
       "  </thead>\n",
       "  <tbody>\n",
       "    <tr>\n",
       "      <th>0</th>\n",
       "      <td>Екатеринбург</td>\n",
       "      <td>307378.0</td>\n",
       "      <td>222613.0</td>\n",
       "      <td>328.044824</td>\n",
       "      <td>359.633279</td>\n",
       "    </tr>\n",
       "    <tr>\n",
       "      <th>1</th>\n",
       "      <td>Краснодар</td>\n",
       "      <td>293930.0</td>\n",
       "      <td>195515.0</td>\n",
       "      <td>331.749436</td>\n",
       "      <td>362.736549</td>\n",
       "    </tr>\n",
       "    <tr>\n",
       "      <th>2</th>\n",
       "      <td>Москва</td>\n",
       "      <td>228046.0</td>\n",
       "      <td>180703.0</td>\n",
       "      <td>335.361765</td>\n",
       "      <td>362.130261</td>\n",
       "    </tr>\n",
       "    <tr>\n",
       "      <th>3</th>\n",
       "      <td>Омск</td>\n",
       "      <td>239796.0</td>\n",
       "      <td>209620.0</td>\n",
       "      <td>320.582888</td>\n",
       "      <td>361.413793</td>\n",
       "    </tr>\n",
       "    <tr>\n",
       "      <th>4</th>\n",
       "      <td>Пятигорск</td>\n",
       "      <td>325056.0</td>\n",
       "      <td>215646.0</td>\n",
       "      <td>325.707415</td>\n",
       "      <td>363.040404</td>\n",
       "    </tr>\n",
       "    <tr>\n",
       "      <th>5</th>\n",
       "      <td>Ростов-на-Дону</td>\n",
       "      <td>299786.0</td>\n",
       "      <td>220542.0</td>\n",
       "      <td>327.993435</td>\n",
       "      <td>363.930693</td>\n",
       "    </tr>\n",
       "    <tr>\n",
       "      <th>6</th>\n",
       "      <td>Сочи</td>\n",
       "      <td>277572.0</td>\n",
       "      <td>203765.0</td>\n",
       "      <td>327.711924</td>\n",
       "      <td>365.825853</td>\n",
       "    </tr>\n",
       "    <tr>\n",
       "      <th>7</th>\n",
       "      <td>Тюмень</td>\n",
       "      <td>262540.0</td>\n",
       "      <td>196133.0</td>\n",
       "      <td>333.172589</td>\n",
       "      <td>363.883117</td>\n",
       "    </tr>\n",
       "  </tbody>\n",
       "</table>\n",
       "</div>"
      ],
      "text/plain": [
       "             city  sum_free  sum_ultra   mean_free  mean_ultra\n",
       "0    Екатеринбург  307378.0   222613.0  328.044824  359.633279\n",
       "1       Краснодар  293930.0   195515.0  331.749436  362.736549\n",
       "2          Москва  228046.0   180703.0  335.361765  362.130261\n",
       "3            Омск  239796.0   209620.0  320.582888  361.413793\n",
       "4       Пятигорск  325056.0   215646.0  325.707415  363.040404\n",
       "5  Ростов-на-Дону  299786.0   220542.0  327.993435  363.930693\n",
       "6            Сочи  277572.0   203765.0  327.711924  365.825853\n",
       "7          Тюмень  262540.0   196133.0  333.172589  363.883117"
      ]
     },
     "execution_count": 48,
     "metadata": {},
     "output_type": "execute_result"
    }
   ],
   "source": [
    "# Построим сводную таблицу в разрезе подписок / городов\n",
    "city_pivot = agg_df.pivot_table(index='city',\n",
    "                   columns='subscription_type',\n",
    "                   values='income',\n",
    "                   aggfunc=['sum', 'mean']\n",
    "                  ).reset_index()\n",
    "\n",
    "city_pivot.columns = ['city', 'sum_free', 'sum_ultra', 'mean_free', 'mean_ultra']\n",
    "\n",
    "city_pivot"
   ]
  },
  {
   "cell_type": "markdown",
   "id": "afe7c767",
   "metadata": {},
   "source": [
    "Из полученной таблицы видно, что суммарная выручка по всем городам выше для пользователей без подписки, при этом средняя выручка выше у пользователей с подпиской ultra. Таким образом меньший чек компенсируется большим количеством пользователей."
   ]
  },
  {
   "cell_type": "code",
   "execution_count": 49,
   "id": "793f7581",
   "metadata": {
    "scrolled": false
   },
   "outputs": [
    {
     "data": {
      "image/png": "[encoded data removed]",
      "text/plain": [
       "<Figure size 720x432 with 2 Axes>"
      ]
     },
     "metadata": {
      "needs_background": "light"
     },
     "output_type": "display_data"
    }
   ],
   "source": [
    "# Визуализируем полученные данные с помощью хитмэпа\n",
    "\n",
    "# Удалим столбцы с суммарной выручкой\n",
    "heatmap_cities_check = city_pivot.drop(columns=['sum_free','sum_ultra']).set_index('city')\n",
    "\n",
    "# Построение тепловой карты\n",
    "plt.figure(figsize=(10, 6))\n",
    "sns.heatmap(heatmap_cities_check,\n",
    "            annot=True,\n",
    "            fmt='g',\n",
    "            cmap=\"YlGnBu\",\n",
    "            cbar_kws={'label': 'Средняя выручка, руб/чел'},\n",
    "            annot_kws={\"size\": 10})\n",
    "\n",
    "# Настройка заголовка и меток осей\n",
    "plt.title('Средняя выручка на пользователя по городам')\n",
    "plt.xlabel('Тариф')\n",
    "plt.ylabel('Город')\n",
    "\n",
    "# Отображение графика\n",
    "plt.tight_layout()\n",
    "plt.show()"
   ]
  },
  {
   "cell_type": "markdown",
   "id": "47e00d9a",
   "metadata": {},
   "source": [
    "<div class=\"alert alert-danger\" style=\"border-radius: 10px; box-shadow: 2px 2px 2px; border: 1px solid; padding: 10px \">\n",
    "<b>Комментарий ревьюера v.1</b> \n",
    "    \n",
    "✍ \n",
    "К сожалению здесь код упал с ошибкой. Поправь, пожалуйста и я буду ждать твой проект на повторное ревью.\n",
    "</div>"
   ]
  },
  {
   "cell_type": "markdown",
   "id": "77a376aa",
   "metadata": {},
   "source": [
    "<div class=\"alert alert-info\" style=\"border-radius: 10px; box-shadow: 2px 2px 2px; border: 1px solid; padding: 10px \"> \n",
    "<b>Комментарий студента</b> \n",
    "    \n",
    "Исправил код, должно работать\n",
    "</div>"
   ]
  },
  {
   "cell_type": "markdown",
   "id": "186b399c",
   "metadata": {},
   "source": [
    "<div class=\"alert alert-success\" style=\"border-radius: 10px; box-shadow: 2px 2px 2px; border: 1px solid; padding: 10px \">\n",
    "<b>Комментарий ревьюера v.2</b> \n",
    "    \n",
    "👍 \n",
    "\n",
    "</div>"
   ]
  },
  {
   "cell_type": "code",
   "execution_count": 50,
   "id": "51af01a0",
   "metadata": {},
   "outputs": [
    {
     "data": {
      "image/png": "[encoded data removed]",
      "text/plain": [
       "<Figure size 720x432 with 2 Axes>"
      ]
     },
     "metadata": {
      "needs_background": "light"
     },
     "output_type": "display_data"
    }
   ],
   "source": [
    "# Удалим столбцы со средним чеком\n",
    "heatmap_cities_income = city_pivot.drop(columns=['mean_free','mean_ultra']).set_index('city')\n",
    "heatmap_cities_income['sum_free'] = heatmap_cities_income['sum_free'] /1e3\n",
    "heatmap_cities_income['sum_ultra'] = heatmap_cities_income['sum_ultra'] /1e3\n",
    "\n",
    "# Построение тепловой карты\n",
    "plt.figure(figsize=(10, 6))\n",
    "sns.heatmap(heatmap_cities_income,\n",
    "            annot=True,\n",
    "            fmt='g',\n",
    "            cmap=\"YlGnBu\",\n",
    "            cbar_kws={'label': 'Суммарная выручка, тыс. руб.'},\n",
    "            annot_kws={\"size\": 10})\n",
    "\n",
    "# Настройка заголовка и меток осей\n",
    "plt.title('Суммарная выручка по городам, тыс. руб.')\n",
    "plt.xlabel('Тариф')\n",
    "plt.ylabel('Город')\n",
    "\n",
    "# Отображение графика\n",
    "plt.tight_layout()\n",
    "plt.show()"
   ]
  },
  {
   "cell_type": "markdown",
   "id": "ba5c0e5c",
   "metadata": {},
   "source": [
    "**Выводы по расчету выручки**\n",
    "* Суммарная выручка по всем городам выше для пользователей без подписки, при этом средняя выручка выше у пользователей с подпиской ultra. Таким образом меньший чек компенсируется большим количеством пользователей."
   ]
  },
  {
   "cell_type": "markdown",
   "id": "0fd8f732",
   "metadata": {},
   "source": [
    "[К содержанию](#index)"
   ]
  },
  {
   "cell_type": "markdown",
   "id": "92dabcef",
   "metadata": {},
   "source": [
    "<div class=\"alert alert-success\" style=\"border-radius: 10px; box-shadow: 2px 2px 2px; border: 1px solid; padding: 10px \">\n",
    "<b>Комментарий ревьюера v.2</b> \n",
    "    \n",
    "👍 \n",
    "Приступим к проверке гипотез.\n",
    "</div>"
   ]
  },
  {
   "cell_type": "markdown",
   "id": "41545ac0",
   "metadata": {},
   "source": [
    "<a id=\"hypotises_check\"></a> \n",
    "###   Шаг 6. Проверка гипотез"
   ]
  },
  {
   "cell_type": "markdown",
   "id": "83d2d823",
   "metadata": {},
   "source": [
    "<a id=\"h1\"></a> \n",
    "#### Гипотеза 1 - пользователи с подпиской тратят больше времени на поездки"
   ]
  },
  {
   "cell_type": "code",
   "execution_count": 51,
   "id": "cf80c5ac",
   "metadata": {},
   "outputs": [],
   "source": [
    "# Подготовим выборки пользователей с подпиской и без\n",
    "ultra_duration = ultra_users['duration']\n",
    "free_duration = free_users['duration']"
   ]
  },
  {
   "cell_type": "code",
   "execution_count": 52,
   "id": "5c5bba5b",
   "metadata": {},
   "outputs": [
    {
     "name": "stdout",
     "output_type": "stream",
     "text": [
      "(6500,) (11568,)\n"
     ]
    }
   ],
   "source": [
    "# Проверим размеры срезов\n",
    "print(ultra_duration.shape, free_duration.shape)"
   ]
  },
  {
   "cell_type": "markdown",
   "id": "2192d95b",
   "metadata": {},
   "source": [
    "Для проведения t-теста не будем сэмплировать срезы до подвыборок одинакового размера:\n",
    "* Отбор подвыборок одинакового размера не обязателен для проведения t-теста для независимых выборок, t-тест работает с выборками разного размера.\n",
    "* Отбор подвыборок может привести к потере информации и введению дополнительного случайного разброса."
   ]
  },
  {
   "cell_type": "code",
   "execution_count": 53,
   "id": "725f5f83",
   "metadata": {
    "scrolled": true
   },
   "outputs": [
    {
     "name": "stdout",
     "output_type": "stream",
     "text": [
      "Левен-тест p-value: 1.8548512219643586e-30\n"
     ]
    }
   ],
   "source": [
    "# Проверим предположение о равенстве дисперсий при помощи теста Левена\n",
    "stat, p_levene = st.levene(ultra_duration, free_duration, center='mean')\n",
    "print(f'Левен-тест p-value: {p_levene}')"
   ]
  },
  {
   "cell_type": "markdown",
   "id": "6e4c299b",
   "metadata": {},
   "source": [
    "Интерпретация теста Левена:\n",
    "* Нулевая гипотеза - дисперсии двух выборок равны\n",
    "* Альтернативная гипотеза - дисперсии не равны.\n",
    "\n",
    "* Так как p-value в тесте Левена получился значительно меньше уровня значимости alpha=0.05, мы отвергаем нулевую гипотезу, следовательно получаем вывод о том что дисперсии не равны.\n",
    "\n",
    "Поэтому в t-тесте для двух независимых выборок будем использовать параметр `equal_var=False`"
   ]
  },
  {
   "cell_type": "code",
   "execution_count": 54,
   "id": "2e58605d",
   "metadata": {},
   "outputs": [
    {
     "name": "stdout",
     "output_type": "stream",
     "text": [
      "Пользователи с подпиской 18.54198516280583\n",
      "Пользователи без подписки 17.39090929866399\n"
     ]
    }
   ],
   "source": [
    "# Проверим среднее время поездок у двух групп\n",
    "print('Пользователи с подпиской',ultra_duration.mean())\n",
    "print('Пользователи без подписки',free_duration.mean())"
   ]
  },
  {
   "cell_type": "markdown",
   "id": "1528b27e",
   "metadata": {},
   "source": [
    "Среднее время поездки у пользователей с подпиской незначительно выше.\n",
    "\n",
    "С учетом этого сформулируем гипотезы для проверки:\n",
    "* **Гипотеза $H_0$:** Среднее время поездки пользователей с подпиской равно среднему времени поездки пользователя без подписки\n",
    "\n",
    "* **Альтернативная гипотеза $H_1$:** Среднее время поездки у пользователей с подпиской больше, чем у пользователей без подписки"
   ]
  },
  {
   "cell_type": "markdown",
   "id": "f3089183",
   "metadata": {},
   "source": [
    "<div class=\"alert alert-danger\" style=\"border-radius: 10px; box-shadow: 2px 2px 2px; border: 1px solid; padding: 10px \">\n",
    "<b>Комментарий ревьюера v.2</b> \n",
    "    \n",
    "✍ \n",
    "Нулевая гипотеза в данном случае верна, а альтернативной будет гипотеза, указанная в задании. Альтернативная гипотеза также должна быть сформулирована максимально точно и подробно.\n",
    "    \n",
    "Лучше сформулировать альтернативную гипотезу так: Среднее время поездки у пользователей с подпиской больше, чем у пользователей без подписки, и соответственно в статистическом тесте использовать параметр `alternative = 'greater'`\n",
    "</div>"
   ]
  },
  {
   "cell_type": "markdown",
   "id": "b04dc5bc",
   "metadata": {},
   "source": [
    "<div class=\"alert alert-info\" style=\"border-radius: 10px; box-shadow: 2px 2px 2px; border: 1px solid; padding: 10px \"> \n",
    "<b>Комментарий студента v.2</b> \n",
    "    \n",
    "Скорректировал нулевую (сформулировал более однозначно) и алтернативную гипотезу, и параметр в тесте.\n",
    "\n",
    "Формулировка гипотез это кажется самое сложное в этом курсе🤯\n",
    "</div>"
   ]
  },
  {
   "cell_type": "markdown",
   "id": "ced87d1b",
   "metadata": {},
   "source": [
    "<div class=\"alert alert-success\" style=\"border-radius: 10px; box-shadow: 2px 2px 2px; border: 1px solid; padding: 10px \">\n",
    "<b>Комментарий ревьюера v.3</b> \n",
    "    \n",
    "👍 \n",
    "По началу так всегда :)\n",
    "</div>"
   ]
  },
  {
   "cell_type": "code",
   "execution_count": 55,
   "id": "299aa520",
   "metadata": {},
   "outputs": [
    {
     "name": "stdout",
     "output_type": "stream",
     "text": [
      "p-value: 5.6757813771289775e-37\n"
     ]
    }
   ],
   "source": [
    "# Проведем t-тест для независимых выборок c неравной дисперсией\n",
    "dur_test = st.ttest_ind(ultra_duration, free_duration, alternative='greater', equal_var=False)\n",
    "\n",
    "# Вывод p-value:\n",
    "print(f'p-value: {dur_test.pvalue}')"
   ]
  },
  {
   "cell_type": "code",
   "execution_count": 56,
   "id": "ad1d01ce",
   "metadata": {},
   "outputs": [
    {
     "name": "stdout",
     "output_type": "stream",
     "text": [
      "Отвергаем нулевую гипотезу\n"
     ]
    }
   ],
   "source": [
    "# Зададим уровень значимости\n",
    "alpha = 0.05 \n",
    "\n",
    "# Проверим p-value:\n",
    "if dur_test.pvalue < alpha:\n",
    "    print('Отвергаем нулевую гипотезу')\n",
    "else:\n",
    "    print('Нет оснований отвергнуть нулевую гипотезу')"
   ]
  },
  {
   "cell_type": "code",
   "execution_count": 57,
   "id": "562f474c",
   "metadata": {},
   "outputs": [
    {
     "data": {
      "image/png": "[encoded data removed]",
      "text/plain": [
       "<Figure size 576x432 with 1 Axes>"
      ]
     },
     "metadata": {
      "needs_background": "light"
     },
     "output_type": "display_data"
    }
   ],
   "source": [
    "# Построи boxplot для сравнения двух показателей\n",
    "plt.figure(figsize=(8, 6))\n",
    "sns.boxplot(x='subscription_type', y='duration', data=union_df)\n",
    "plt.title(\"Сравнение продолжительности поездок для разных групп\")\n",
    "plt.xlabel(\"Тип подписки\")\n",
    "plt.ylabel(\"Продолжительность (мин)\")\n",
    "plt.show()"
   ]
  },
  {
   "cell_type": "markdown",
   "id": "959d6e2c",
   "metadata": {},
   "source": [
    "**Вывод:**\n",
    "* Мы отвергли нулевую гипотезу, так как существует статистически значимая разница между средним временем поездок пользователей с подпиской и без. \n",
    "* Таким образом пользователи с подпиской тратят больше времени на поездки"
   ]
  },
  {
   "cell_type": "markdown",
   "id": "89401a04",
   "metadata": {},
   "source": [
    "<div class=\"alert alert-danger\" style=\"border-radius: 10px; box-shadow: 2px 2px 2px; border: 1px solid; padding: 10px \">\n",
    "<b>Комментарий ревьюера v.2</b> \n",
    "    \n",
    "✍ \n",
    "Не забудь, пожалуйста, перепроверить выводы после корректировки.\n",
    "</div>"
   ]
  },
  {
   "cell_type": "markdown",
   "id": "c6a7174d",
   "metadata": {},
   "source": [
    "<div class=\"alert alert-info\" style=\"border-radius: 10px; box-shadow: 2px 2px 2px; border: 1px solid; padding: 10px \"> \n",
    "<b>Комментарий студента v.2</b> \n",
    "    \n",
    "Скорректировал выводы здесь и в конце отчета\n",
    "</div>"
   ]
  },
  {
   "cell_type": "markdown",
   "id": "dbc3660d",
   "metadata": {},
   "source": [
    "<div class=\"alert alert-success\" style=\"border-radius: 10px; box-shadow: 2px 2px 2px; border: 1px solid; padding: 10px \">\n",
    "<b>Комментарий ревьюера v.3</b> \n",
    "    \n",
    "👍 \n",
    "\n",
    "</div>"
   ]
  },
  {
   "cell_type": "markdown",
   "id": "a40287e5",
   "metadata": {},
   "source": [
    "<a id=\"h2\"></a> \n",
    "#### Гипотеза 2 - среднее расстояние, которое проезжают пользователи с подпиской за одну поездку, не превышает 3130 метров"
   ]
  },
  {
   "cell_type": "markdown",
   "id": "4f9a03a9",
   "metadata": {},
   "source": [
    "Сформулируем гипотезы:\n",
    "* Нулевая гипотеза: Среднее расстояние, которое проезжают пользователи с подпиской равно 3130 м (оптимальное)\n",
    "* Альтернативная гипотеза: Среднее расстояние пользователей с подпиской более 3130 м (неоптимальное)\n",
    "\n",
    "Для проверки гипотезы необходимо провести правосторонний t-тест для одной выборки"
   ]
  },
  {
   "cell_type": "code",
   "execution_count": 58,
   "id": "5a295eaa",
   "metadata": {},
   "outputs": [],
   "source": [
    "# Подготовим данные\n",
    "ultra_distance = ultra_users['distance']"
   ]
  },
  {
   "cell_type": "code",
   "execution_count": 59,
   "id": "790697e6",
   "metadata": {},
   "outputs": [
    {
     "name": "stdout",
     "output_type": "stream",
     "text": [
      "p-value: 0.9195368847849785\n"
     ]
    }
   ],
   "source": [
    "# Проведем t-тест\n",
    "\n",
    "mu = 3130 # проверяемое значение среднего\n",
    "\n",
    "distance_test = st.ttest_1samp(ultra_distance, mu, alternative='greater')\n",
    "\n",
    "print('p-value:', distance_test.pvalue)"
   ]
  },
  {
   "cell_type": "code",
   "execution_count": 60,
   "id": "c4dfea9d",
   "metadata": {},
   "outputs": [
    {
     "name": "stdout",
     "output_type": "stream",
     "text": [
      "Нет оснований отвергнуть нулевую гипотезу\n"
     ]
    }
   ],
   "source": [
    "# Проверим p-value:\n",
    "if distance_test.pvalue < alpha:\n",
    "    print('Отвергаем нулевую гипотезу')\n",
    "else:\n",
    "    print('Нет оснований отвергнуть нулевую гипотезу')"
   ]
  },
  {
   "cell_type": "markdown",
   "id": "7e2016ab",
   "metadata": {},
   "source": [
    "<div class=\"alert alert-danger\" style=\"border-radius: 10px; box-shadow: 2px 2px 2px; border: 1px solid; padding: 10px \">\n",
    "<b>Комментарий ревьюера v.2</b> \n",
    "    \n",
    "✍ \n",
    "Поскольку оптимальное расстояние по износу составляет 3130 м, значит большее расстояние приводит к повышенному износу самоката. Следовательно, имеет смысл сформулировать альтернативную гипотезу \"Подписчики в среднем проезжают расстояние больше оптимального\" и соответственно в статистическом тесте использовать параметр `alternative = 'greater'`\n",
    "</div>"
   ]
  },
  {
   "cell_type": "markdown",
   "id": "f77de401",
   "metadata": {},
   "source": [
    "<div class=\"alert alert-info\" style=\"border-radius: 10px; box-shadow: 2px 2px 2px; border: 1px solid; padding: 10px \"> \n",
    "<b>Комментарий студента v.2</b> \n",
    "    \n",
    "Скорректировал нулевую (сформулировал более однозначно) и алтернативную гипотезу, и параметр в тесте.\n",
    "</div>"
   ]
  },
  {
   "cell_type": "markdown",
   "id": "66cd2683",
   "metadata": {},
   "source": [
    "<div class=\"alert alert-success\" style=\"border-radius: 10px; box-shadow: 2px 2px 2px; border: 1px solid; padding: 10px \">\n",
    "<b>Комментарий ревьюера v.3</b> \n",
    "    \n",
    "👍 \n",
    "\n",
    "</div>"
   ]
  },
  {
   "cell_type": "code",
   "execution_count": 61,
   "id": "227ac064",
   "metadata": {},
   "outputs": [
    {
     "name": "stdout",
     "output_type": "stream",
     "text": [
      "95% доверительный интервал для среднего: (3095.0963704601327, 3135.7944056139168)\n"
     ]
    }
   ],
   "source": [
    "# Дополнительно рассчитаем доверительный интервал для среднего расстояния\n",
    "confidence_level = 0.95\n",
    "n = ultra_distance.shape[0]\n",
    "degrees_freedom = n - 1\n",
    "sample_mean = ultra_distance.mean()\n",
    "sample_std = ultra_distance.std(ddof=1)\n",
    "standard_error = sample_std / np.sqrt(n)\n",
    "\n",
    "confidence_interval = st.t.interval(\n",
    "       confidence_level,\n",
    "       degrees_freedom,\n",
    "       sample_mean,\n",
    "       standard_error\n",
    "   )\n",
    "\n",
    "print(f'95% доверительный интервал для среднего: {confidence_interval}')"
   ]
  },
  {
   "cell_type": "markdown",
   "id": "102b724f",
   "metadata": {},
   "source": [
    "<div class=\"alert alert-danger\" style=\"border-radius: 10px; box-shadow: 2px 2px 2px; border: 1px solid; padding: 10px \">\n",
    "<b>Комментарий ревьюера v.2</b> \n",
    "    \n",
    "✍ \n",
    "Здесь у нас снова падение кода :(\n",
    "    \n",
    "Я проверю работу до конца, но поправить нужно обязательно.\n",
    "</div>"
   ]
  },
  {
   "cell_type": "markdown",
   "id": "5f7d0b20",
   "metadata": {},
   "source": [
    "<div class=\"alert alert-info\" style=\"border-radius: 10px; box-shadow: 2px 2px 2px; border: 1px solid; padding: 10px \"> \n",
    "<b>Комментарий студента v.2</b> \n",
    "    \n",
    "Добавил недостающую переменную n (какой-то рассинхрон с сохранением)😒\n",
    "</div>"
   ]
  },
  {
   "cell_type": "markdown",
   "id": "19817910",
   "metadata": {},
   "source": [
    "<div class=\"alert alert-success\" style=\"border-radius: 10px; box-shadow: 2px 2px 2px; border: 1px solid; padding: 10px \">\n",
    "<b>Комментарий ревьюера v.3</b> \n",
    "    \n",
    "👍 \n",
    "\n",
    "</div>"
   ]
  },
  {
   "cell_type": "markdown",
   "id": "a59c1329",
   "metadata": {},
   "source": [
    "Верхняя граница доверительного интервала превышает заданное в гипотезе 3130, что может говорить о возможности неоптимальной дистанции поездки у пользователей с подпиской."
   ]
  },
  {
   "cell_type": "code",
   "execution_count": 62,
   "id": "0641117e",
   "metadata": {},
   "outputs": [
    {
     "name": "stdout",
     "output_type": "stream",
     "text": [
      "Среднее 3115.4453880370247\n",
      "Медиана 3148.6372291760854\n"
     ]
    }
   ],
   "source": [
    "# Проверим среднее и медиану по выборке\n",
    "print('Среднее', ultra_distance.mean())\n",
    "print('Медиана', ultra_distance.median())"
   ]
  },
  {
   "cell_type": "markdown",
   "id": "f55188b7",
   "metadata": {},
   "source": [
    "Получили, что среднее меньше оптимального расстояния, а медиана превышает оптимальное на 18-19 м.\n",
    "\n",
    "Наличие среднего меньше чем медиана говорит о том, что в выборке есть очень низкие расстояния, которые смещают среднее в меньшую сторону. Медиана к таким колебаниям устойчива.\n",
    "\n",
    "При этом на тесте мы получили статистически значимую разницу, следовательно считаем что нулевая гипотеза принимается и пользователи с подпиской эксплуатаируют самокаты в оптимальном режиме."
   ]
  },
  {
   "cell_type": "markdown",
   "id": "9294c099",
   "metadata": {},
   "source": [
    "**Вывод:**\n",
    "\n",
    "* С учетом проведенных тестов, гипотеза о том, что пользователи с подпиской проезжают в среднем менее 3130 меторов подтвердилась, следовательно пользователи с подпиской способствуют более оптимальному износу самокатов."
   ]
  },
  {
   "cell_type": "markdown",
   "id": "4d9b4561",
   "metadata": {},
   "source": [
    "<div class=\"alert alert-info\" style=\"border-radius: 10px; box-shadow: 2px 2px 2px; border: 1px solid; padding: 10px \"> \n",
    "<b>Комментарий студента v.2</b> \n",
    "    \n",
    "Дополнил и скорректировал выводы, обновил общие выводы в конце отчета.\n",
    "</div>"
   ]
  },
  {
   "cell_type": "markdown",
   "id": "7fe86bd7",
   "metadata": {},
   "source": [
    "<a id=\"h3\"></a> \n",
    "#### Гипотеза 3 - помесячная выручка от пользователей с подпиской по месяцам выше, чем выручка от пользователей без подписки"
   ]
  },
  {
   "cell_type": "markdown",
   "id": "623c31a9",
   "metadata": {},
   "source": [
    "Сформулируем гипотезы:\n",
    "\n",
    "* Нулевая гипотеза: Помесячная выручка пользователей с подпиской равна выручке пользователей без подписки\n",
    "* Альтернативная гипотеза: Помесячная выручка пользователей с подпиской выше чем выручка пользователей без подписки\n",
    "\n",
    "Для проверки гипотезы необходимо провести левосторонний t-тест для одной выборки"
   ]
  },
  {
   "cell_type": "code",
   "execution_count": 63,
   "id": "4ff86619",
   "metadata": {},
   "outputs": [],
   "source": [
    "# Подготовим данные для теста\n",
    "\n",
    "'''\n",
    "# Агрегируем данные по месяцам и типам подписки\n",
    "income_pivot = agg_df.pivot_table(index='month',\n",
    "                                  columns='subscription_type',\n",
    "                                  values='income',\n",
    "                                  aggfunc='sum').reset_index()\n",
    "\n",
    "income_pivot.columns = ['month', 'free', 'ultra']\n",
    "'''\n",
    "\n",
    "# Сделаем срезы по помесячной выручке для двух категорий пользователей\n",
    "ultra_income = agg_df.query('subscription_type==\"ultra\"')['income']\n",
    "free_income = agg_df.query('subscription_type==\"free\"')['income']"
   ]
  },
  {
   "cell_type": "markdown",
   "id": "cef6e1a0",
   "metadata": {},
   "source": [
    "<div class=\"alert alert-danger\" style=\"border-radius: 10px; box-shadow: 2px 2px 2px; border: 1px solid; padding: 10px \">\n",
    "<b>Комментарий ревьюера v.2</b> \n",
    "    \n",
    "✍ \n",
    "Всю необходимую агрегацию мы уже сделали при создании датафрейма с помесячной выручкой и здесь необходимо использовать именно её со срезом по необходимым тарифам. Никакой дополнительной агрегации здесь не требуется, отсюда неверное значение в тесте.\n",
    "</div>"
   ]
  },
  {
   "cell_type": "markdown",
   "id": "6ec5fc1c",
   "metadata": {},
   "source": [
    "<div class=\"alert alert-info\" style=\"border-radius: 10px; box-shadow: 2px 2px 2px; border: 1px solid; padding: 10px \"> \n",
    "<b>Комментарий студента v.2</b> \n",
    "    \n",
    "Закомментировал предыдущий код, в новой редакции использую срезы по ранее полученному датафрейму с помесячной выручкой.\n",
    "    \n",
    "\n",
    "Также скорректировал формулировки гипотез с учетом ранее полученных комментариев.\n",
    "</div>"
   ]
  },
  {
   "cell_type": "code",
   "execution_count": 64,
   "id": "4442f4f0",
   "metadata": {},
   "outputs": [
    {
     "data": {
      "text/plain": [
       "0    451.0\n",
       "1    241.0\n",
       "2    475.0\n",
       "3    391.0\n",
       "4    535.0\n",
       "Name: income, dtype: float64"
      ]
     },
     "execution_count": 64,
     "metadata": {},
     "output_type": "execute_result"
    }
   ],
   "source": [
    "# Проверим результат\n",
    "ultra_income.head()"
   ]
  },
  {
   "cell_type": "code",
   "execution_count": 65,
   "id": "720d4555",
   "metadata": {},
   "outputs": [
    {
     "data": {
      "text/plain": [
       "4533    170.0\n",
       "4534    962.0\n",
       "4535    202.0\n",
       "4536    178.0\n",
       "4537    332.0\n",
       "Name: income, dtype: float64"
      ]
     },
     "execution_count": 65,
     "metadata": {},
     "output_type": "execute_result"
    }
   ],
   "source": [
    "free_income.head()"
   ]
  },
  {
   "cell_type": "markdown",
   "id": "f0a1c287",
   "metadata": {},
   "source": [
    "Так как для корректной работы метода ttest_rel() необходимо передавать выборки одинакового размера, проверим размер полученных срезов"
   ]
  },
  {
   "cell_type": "code",
   "execution_count": 66,
   "id": "ae6cedf8",
   "metadata": {},
   "outputs": [
    {
     "name": "stdout",
     "output_type": "stream",
     "text": [
      "(4533,)\n",
      "(6798,)\n"
     ]
    }
   ],
   "source": [
    "print(ultra_income.shape)\n",
    "print(free_income.shape)"
   ]
  },
  {
   "cell_type": "code",
   "execution_count": 67,
   "id": "cc6e1d29",
   "metadata": {},
   "outputs": [],
   "source": [
    "#Срезы разного размера, сэмлируем выборки по 4000 наблюдений:\n",
    "n = 4000\n",
    "\n",
    "ultra_income_smpl = ultra_income.sample(n)\n",
    "free_income_smpl = free_income.sample(n)"
   ]
  },
  {
   "cell_type": "code",
   "execution_count": 68,
   "id": "d72ea4a6",
   "metadata": {},
   "outputs": [
    {
     "name": "stdout",
     "output_type": "stream",
     "text": [
      "p-value: 2.7336253420141827e-23\n"
     ]
    }
   ],
   "source": [
    "# Проведем парный t-тест для связанных данных (помесячная выручка для двух видов тарифа)\n",
    "\n",
    "income_test = st.ttest_rel(ultra_income_smpl,\n",
    "                           free_income_smpl,\n",
    "                           alternative='greater')\n",
    "\n",
    "print('p-value:', income_test.pvalue)"
   ]
  },
  {
   "cell_type": "code",
   "execution_count": 69,
   "id": "5afaabfd",
   "metadata": {},
   "outputs": [
    {
     "name": "stdout",
     "output_type": "stream",
     "text": [
      "Отвергаем нулевую гипотезу\n"
     ]
    }
   ],
   "source": [
    "# Проверим p-value:\n",
    "if income_test.pvalue < alpha:\n",
    "    print('Отвергаем нулевую гипотезу')\n",
    "else:\n",
    "    print('Нет оснований отвергнуть нулевую гипотезу')"
   ]
  },
  {
   "cell_type": "markdown",
   "id": "1d072a4a",
   "metadata": {},
   "source": [
    "Мы отвергли нулевую гипотезу, так как существует статистически значимая разница между помесячной выручкой пользователей с подпиской и без подписки.\n",
    "\n",
    "Таким образом получается, что пользователи с подпиской приносят выручки больше чем пользователи без подписки."
   ]
  },
  {
   "cell_type": "markdown",
   "id": "b97f51bb",
   "metadata": {},
   "source": [
    "**Вывод:**\n",
    "\n",
    "* С учетом проведенного теста, гипотеза о том, что помесячная выручка пользователей с подпиской выше чем у пользователей без подписки подтвердилась.\n",
    "* Пользователи с подпиской приносят выручки больше чем пользователи без подписки."
   ]
  },
  {
   "cell_type": "markdown",
   "id": "c8f74c72",
   "metadata": {},
   "source": [
    "<div class=\"alert alert-info\" style=\"border-radius: 10px; box-shadow: 2px 2px 2px; border: 1px solid; padding: 10px \"> \n",
    "<b>Комментарий студента v.2</b> \n",
    "    \n",
    "Скорректированный по замечанию код дал противоположный результат, на данных было видно, что средний чек выше у пользователей с подпиской, но видимо из-за того, что пользователей без подписки больше, они перекрывали суммарную выручку пользователей с подпиской при рассмотрении агрегированных данных, а делать выводы на основе данного обстоятельства было некорректно.\n",
    "</div>"
   ]
  },
  {
   "cell_type": "markdown",
   "id": "aaff0332",
   "metadata": {},
   "source": [
    "<div class=\"alert alert-success\" style=\"border-radius: 10px; box-shadow: 2px 2px 2px; border: 1px solid; padding: 10px \">\n",
    "<b>Комментарий ревьюера v.3</b> \n",
    "    \n",
    "👍 \n",
    "\n",
    "</div>"
   ]
  },
  {
   "cell_type": "markdown",
   "id": "bfa7d695",
   "metadata": {},
   "source": [
    "<a id=\"h4\"></a> \n",
    "#### Гипотеза 4 - после обновления серверов количество обращений в техподдержку значительно снизилось"
   ]
  },
  {
   "cell_type": "markdown",
   "id": "d108081f",
   "metadata": {},
   "source": [
    "Для проверки данной гипотезы необходимо было бы провести парный t-test для зависимых выборок (выше использованный метод `ttest_rel`). Ему достаточно передать всего два параметра: наборы данных до и после. Оба набора должны быть одинаковыми по размеру: каждое измерение должно быть проведено до и после изменения."
   ]
  },
  {
   "cell_type": "markdown",
   "id": "cf459d55",
   "metadata": {},
   "source": [
    "[К содержанию](#index)"
   ]
  },
  {
   "cell_type": "markdown",
   "id": "16100094",
   "metadata": {},
   "source": [
    "<div class=\"alert alert-danger\" style=\"border-radius: 10px; box-shadow: 2px 2px 2px; border: 1px solid; padding: 10px \">\n",
    "<b>Комментарий ревьюера v.2</b> \n",
    "    \n",
    "✍ \n",
    "Вопрос: какую гипотезу мы будем проверять - одностороннюю или двустороннюю и какие гипотезы мы можем сформулировать?\n",
    "</div>"
   ]
  },
  {
   "cell_type": "markdown",
   "id": "3a5e4b67",
   "metadata": {},
   "source": [
    "<div class=\"alert alert-info\" style=\"border-radius: 10px; box-shadow: 2px 2px 2px; border: 1px solid; padding: 10px \"> \n",
    "<b>Комментарий студента v.2</b> \n",
    "\n",
    "Думаю проверять необходимо одностороннюю гипотезу, так как нас интересует конкретное влияние обновленных серверов на количество обращений в поддержку.\n",
    "\n",
    "**Нулевую гипотезу** можно сформулировать так: Количество обращений после обновлени серверов равно количеству обращений до обновления серверов\n",
    "\n",
    "**Альтернативная гипотеза** - количество обращений после обновления серверов меньше чем количество обращений до обновления серверов (`alternative='less'`)\n",
    "\n",
    "    \n",
    "\n",
    "Если мы не уверены, что после обновления количество обращений должно было снизиться, то можно проверить еще одну альтернативную гипотезу - **\"Количество обращений после обновления серверов выше чем количество обращений до обновления серверов\"** (`alternative='greater'`)\n",
    "\n",
    "</div>"
   ]
  },
  {
   "cell_type": "markdown",
   "id": "b1f2aa6c",
   "metadata": {},
   "source": [
    "<div class=\"alert alert-success\" style=\"border-radius: 10px; box-shadow: 2px 2px 2px; border: 1px solid; padding: 10px \">\n",
    "<b>Комментарий ревьюера v.3</b> \n",
    "    \n",
    "👍 \n",
    "Все верно, здесь у нас левостороняя гипотеза. Нам не интересно, увеличилось ли количество обращений после обновления, так как это не соответствует нашей изначальной гипотезе о положительном эффекте обновления серверов.\n",
    "</div>"
   ]
  },
  {
   "cell_type": "markdown",
   "id": "61213c5e",
   "metadata": {},
   "source": [
    "<a id=\"distributions\"></a> \n",
    "### Шаг 7. Распределения"
   ]
  },
  {
   "cell_type": "markdown",
   "id": "5a870fd0",
   "metadata": {},
   "source": [
    "<a id=\"distr_1\"></a> \n",
    "#### Минимальное количество промокодов нужно разослать, чтобы вероятность не выполнить план была примерно 5 %"
   ]
  },
  {
   "cell_type": "code",
   "execution_count": 70,
   "id": "275bf968",
   "metadata": {},
   "outputs": [],
   "source": [
    "# Параметры задачи\n",
    "p = 0.1\n",
    "target = 100 #число пользователей продливших подписку \n",
    "confidence_level = 0.95 #вероятность достижения цели"
   ]
  },
  {
   "cell_type": "code",
   "execution_count": 71,
   "id": "dda610a6",
   "metadata": {},
   "outputs": [],
   "source": [
    "# Диапазон значений для N\n",
    "N_values = np.arange(0, target*30)\n",
    "\n",
    "# Расчет кумулятивной вероятности для биномиального распределения\n",
    "# Вероятность при заданном N что будет продлено 99 и менее подписок\n",
    "cdf_values = [binom.cdf(target - 1, N, p) for N in N_values] \n",
    "\n",
    "# Поиск минимального N, для которого cdf <= 0.05\n",
    "N_min = None\n",
    "\n",
    "for N, cdf_val in zip(N_values, cdf_values):\n",
    "    if cdf_val <= 0.05:\n",
    "        N_min = N\n",
    "        break"
   ]
  },
  {
   "cell_type": "code",
   "execution_count": 72,
   "id": "419b305a",
   "metadata": {},
   "outputs": [
    {
     "data": {
      "image/png": "[encoded data removed]",
      "text/plain": [
       "<Figure size 720x432 with 1 Axes>"
      ]
     },
     "metadata": {
      "needs_background": "light"
     },
     "output_type": "display_data"
    },
    {
     "name": "stdout",
     "output_type": "stream",
     "text": [
      "Минимальное количество промокодов: 1161\n"
     ]
    }
   ],
   "source": [
    "# Визуализируем полученное распределение\n",
    "\n",
    "plt.figure(figsize=(10, 6))\n",
    "\n",
    "plt.plot(N_values, cdf_values, label='P(X < 100) (cdf)')\n",
    "plt.axhline(0.05, color='red', linestyle='--', label='0.05')\n",
    "\n",
    "if N_min is not None:\n",
    "    plt.axvline(N_min, color='green', linestyle='--', label=f'N = {N_min}')\n",
    "\n",
    "plt.xlabel('Количество разосланных промокодов (N)')\n",
    "plt.ylabel('P(X < 100)')\n",
    "plt.title('Вероятность, что число успешных продлений < 100')\n",
    "plt.legend()\n",
    "plt.grid(True)\n",
    "plt.show()\n",
    "\n",
    "print(f\"Минимальное количество промокодов: {N_min}\")"
   ]
  },
  {
   "cell_type": "markdown",
   "id": "92b0f303",
   "metadata": {},
   "source": [
    "**Вывод**\n",
    "\n",
    "Для достижения показателя в 100 продленных подписок с вероятностью 95% необходимо разослать 1161 промокод."
   ]
  },
  {
   "cell_type": "markdown",
   "id": "23801867",
   "metadata": {},
   "source": [
    "<div class=\"alert alert-success\" style=\"border-radius: 10px; box-shadow: 2px 2px 2px; border: 1px solid; padding: 10px \">\n",
    "<b>Комментарий ревьюера v.2</b> \n",
    "    \n",
    "👍 \n",
    "Отлично! Здорово, что выполнил необязательное задание.\n",
    "</div>"
   ]
  },
  {
   "cell_type": "markdown",
   "id": "41d601a0",
   "metadata": {},
   "source": [
    "<a id=\"distr_2\"></a> \n",
    "#### График распределения вероятности открытия push-уведомления (не более 399.5 тыс. пользователей)"
   ]
  },
  {
   "cell_type": "code",
   "execution_count": 73,
   "id": "b38b37e5",
   "metadata": {},
   "outputs": [],
   "source": [
    "# Задаим параметры\n",
    "n = 1000000\n",
    "p = 0.4\n",
    "mu = n * p\n",
    "sigma = np.sqrt(n * p * (1 - p))\n",
    "\n",
    "x_value = 399500"
   ]
  },
  {
   "cell_type": "code",
   "execution_count": 74,
   "id": "69daf1b9",
   "metadata": {},
   "outputs": [
    {
     "name": "stdout",
     "output_type": "stream",
     "text": [
      "P(X <= 399500) ≈ 0.154\n"
     ]
    }
   ],
   "source": [
    "# Вероятность\n",
    "probability = norm.cdf(x_value, loc=mu, scale=sigma)\n",
    "\n",
    "print(f\"P(X <= {x_value}) ≈ {probability:.3f}\")\n",
    "\n",
    "# Создаем массив x для построения графика\n",
    "x = np.linspace(mu - 3*sigma, mu + 3*sigma, 1000)\n",
    "pdf = norm.pdf(x, loc=mu, scale=sigma)"
   ]
  },
  {
   "cell_type": "code",
   "execution_count": 75,
   "id": "bebc48e7",
   "metadata": {},
   "outputs": [
    {
     "data": {
      "image/png": "[encoded data removed]",
      "text/plain": [
       "<Figure size 720x432 with 1 Axes>"
      ]
     },
     "metadata": {
      "needs_background": "light"
     },
     "output_type": "display_data"
    }
   ],
   "source": [
    "# Визуализируем распределение\n",
    "plt.figure(figsize=(10, 6))\n",
    "\n",
    "plt.plot(x, pdf, label='Нормальная плотность')\n",
    "plt.fill_between(x, pdf, where=(x <= x_value), color='skyblue', alpha=0.5, label=f'P(X ≤ {x_value})')\n",
    "\n",
    "plt.axvline(x_value, color='red', linestyle='--', label=f'X = {x_value}')\n",
    "plt.xlabel('Количество открытых уведомлений')\n",
    "plt.ylabel('Плотность вероятности')\n",
    "plt.title('Нормальная аппроксимация биномиального распределения')\n",
    "plt.legend()\n",
    "plt.grid(True)\n",
    "plt.show()"
   ]
  },
  {
   "cell_type": "markdown",
   "id": "f9600fe5",
   "metadata": {},
   "source": [
    "**Вывод**\n",
    "\n",
    "Вероятность того, что push-уведомление откроют менее 399.5 тыс. пользователей составляет около 15%."
   ]
  },
  {
   "cell_type": "markdown",
   "id": "ad41257f",
   "metadata": {},
   "source": [
    "[К содержанию](#index)"
   ]
  },
  {
   "cell_type": "markdown",
   "id": "8be47e0c",
   "metadata": {},
   "source": [
    "<div class=\"alert alert-success\" style=\"border-radius: 10px; box-shadow: 2px 2px 2px; border: 1px solid; padding: 10px \">\n",
    "<b>Комментарий ревьюера v.2</b> \n",
    "    \n",
    "👍 \n",
    "Совершенно верно.\n",
    "</div>"
   ]
  },
  {
   "cell_type": "markdown",
   "id": "7ac87557",
   "metadata": {},
   "source": [
    "<a id=\"global_resume\"></a> \n",
    "### Общие выводы и рекомендации"
   ]
  },
  {
   "cell_type": "markdown",
   "id": "384c37ed",
   "metadata": {},
   "source": [
    "**1. Исследовательский анализ данных**\n",
    "\n",
    "**Распределение городов**\n",
    "\n",
    "* Количество пользователей по городам распределено достаточно равномерно и находится в диапозоне 168-219 пользователей, доли распределны от 10 до 14%\n",
    "* Меньше всего пользователей в Москве - 168 (10%), больше всего в Пятигорске - 219 (14%).\n",
    "* Если рассматривать количество пользователей по городам в контексте размера города, то доля пользователей крайне мала, особенно для таких крупных городов как Москва, Екатеринбург, Ростов-на-Дону, Краснодар, Омск.\n",
    "* Привлечение новых пользователей в этих городах может являться точкой роста для компании.\n",
    "\n",
    "**Распределение пользователей с подпиской и без**\n",
    "\n",
    "* В общем по сервису доля пользователей с подпиской ultra составляет 46%, без подписки - 54% пользователей.\n",
    "* Распределение пользователей по городам в зависимости от наличия / отсутствия подписки сопоставимо, и в целом соответствует общему распределению. \n",
    "* Больше всего доля пользователей с подпиской ultra в Москве - 50% и в Омске - 49.7%.\n",
    "* По остальным городам доля пользователей с подпиской ultra находится в интервале 42-45%\n",
    "\n",
    "**Распределение возраста пользователей**\n",
    "\n",
    "* Возраст пользователей сервиса находится в диапозоне 12-43 лет\n",
    "* Средний возраст пользователя - 24.9, медианный также близок к этому уровню - 25 лет.\n",
    "* Возраст 75% пользователей не превышает 28 лет.\n",
    "* Типичный пользователь сервиса - молодой человек в возрасте 20-30 лет.\n",
    "\n",
    "**Дистанции поездок**\n",
    "\n",
    "* Минимальная дистанция поездки - 0.85 м - скорее всего ошибка\n",
    "* Максимальная дистанция поездки - 7211 м\n",
    "* Средняя дистанция - 3070, медианная - 3134 м, разница не существенная.\n",
    "* 75% поездок не длинее 3776 м.\n",
    "* Типичная поездка - 2000-4000 м\n",
    "\n",
    "**Длительность поездок**\n",
    "\n",
    "* Минимальная длительность поездки - 0.5 мин - скорее всего ошибка\n",
    "* Максимальная длительность поездки - 41 мин.\n",
    "* Средняя длительность - 17.8 мин, медианная - 17.68 м, разница не существенная.\n",
    "* 75% поездок не дольше 22 мин.\n",
    "* Типичная продолжительность поездки на самокате - 10-25 мин.\n",
    "\n",
    "**2. Выручка**\n",
    "\n",
    "* Суммарная выручка по всем городам выше для пользователей без подписки, при этом средняя выручка выше у пользователей с подпиской ultra. Таким образом меньший чек компенсируется большим количеством пользователей.\n",
    "\n",
    "**3. Проверка гипотез**\n",
    "\n",
    "**Гипотеза 1** - пользователи с подпиской тратят больше времени на поездки:\n",
    "* Мы отвергли нулевую гипотезу (равенство средней продолжительности поездок пользователей с подпиской и без), так как существует статистически значимая разница между средним временем поездок пользователей с подпиской и без. \n",
    "* Таким образом пользователи с подпиской тратят больше времени на поездки.\n",
    "* Потенциально пользователи с подпиской могут быть выгоднее для компании.\n",
    "    \n",
    "\n",
    "**Гипотеза 2** - среднее расстояние, которое проезжают пользователи с подпиской за одну поездку, не превышает 3130 метров\n",
    "* С учетом проведенных тестов, гипотеза о том, что пользователи с подпиской проезжают в среднем менее 3130 меторов подтвердилась, следовательно пользователи с подпиской способствуют более оптимальному износу самокатов.\n",
    "    \n",
    "    \n",
    "**Гипотеза 3** - помесячная выручка от пользователей с подпиской по месяцам выше, чем выручка от пользователей без подписки\n",
    "* С учетом проведенного теста, гипотеза о том, что помесячная выручка пользователей с подпиской выше чем у пользователей без подписки подтвердилась.\n",
    "* Пользователи с подпиской приносят выручки больше чем пользователи без подписки.\n",
    "\n",
    "**Гипотеза 4** - после обновления серверов количество обращений в техподдержку значительно снизилось\n",
    "* Для проверки данной гипотезы необходимо было бы провести парный t-test для зависимых выборок (выше использованный метод `ttest_rel`). Ему достаточно передать всего два параметра: наборы данных до и после. Оба набора должны быть одинаковыми по размеру: каждое измерение должно быть проведено до и после изменения.\n",
    "\n",
    "Проверять необходимо одностороннюю гипотезу, так как нас интересует конкретное влияние обновленных серверов на количество обращений в поддержку.\n",
    "\n",
    "**Нулевую гипотезу** можно сформулировать так: Количество обращений после обновлени серверов равно количеству обращений до обновления серверов\n",
    "\n",
    "**Альтернативная гипотеза** - количество обращений после обновления серверов меньше чем количество обращений до обновления серверов (`alternative='less'`)\n",
    "\n",
    "    \n",
    "Если мы не уверены, что после обновления количество обращений должно было снизиться, то можно проверить еще одну альтернативную гипотезу - **\"Количество обращений после обновления серверов выше чем количество обращений до обновления серверов\"** (`alternative='greater'`)\n",
    "\n",
    "\n",
    "**4.Распределения**\n",
    "\n",
    "* Минимальное количество промокодов нужно разослать, чтобы вероятность не выполнить план была примерно 5 %\n",
    "    * Для достижения показателя в 100 продленных подписок с вероятностью 95% необходимо разослать 1161 промокод.\n",
    "    \n",
    "    \n",
    "* График распределения вероятности открытия push-уведомления (не более 399.5 тыс. пользователей)\n",
    "    * Вероятность того, что push-уведомление откроют менее 399.5 тыс. пользователей составляет около 15%.\n",
    "    \n",
    "\n",
    "**SUMMARY**\n",
    "\n",
    "* Больше половины пользователей сервиса не пользуются платной подпиской.\n",
    "\n",
    "* Пользователи без подписки приносят выручки больше чем пользователи с подпиской, при этом средний чек выше у пользователей с подпиской. Это объясняется эффектом масштаба, то есть большее количество пользователей с меньшим чеком в целом дают суммарно большую выручку.\n",
    "\n",
    "* Для увеличения рентабельности компании рекомендуется увеличивать долю пользователей с подпиской, так как в целом они более выгодны. То есть целесообразно инвестировать в маркетинг и стимулировать существующих пользователей переходить на подписку, а также привлекать новых клиентов.\n",
    "\n",
    "* Пользователи с подпиской генерируют стабильный денежный поток который можно прогнозировать.\n",
    "\n",
    "\n",
    "**В целом пользователи с подпиской приносят больше денег, и генерируют стабильный денежный поток, поэтому целесообразно инвестировать в маркетинг и стимулировать имеющихся бесплатных пользователей к переходу на платную подписку, а также привлекать новых пользователей.**"
   ]
  },
  {
   "cell_type": "markdown",
   "id": "29106e62",
   "metadata": {},
   "source": [
    "<div class=\"alert alert-success\" style=\"border-radius: 10px; box-shadow: 2px 2px 2px; border: 1px solid; padding: 10px \">\n",
    "<b>Комментарий ревьюера v.2</b> \n",
    "    \n",
    "👍 \n",
    "Выводы понятны и логичны, а самое главное подкреплены выявленными фактами. Но, не забудь, пожалуйста, их перепроверить после корректировок.\n",
    "    \n",
    "Ты очень серьезно подходишь к визуализации.\n",
    "\n",
    "\n",
    "</div>"
   ]
  },
  {
   "cell_type": "markdown",
   "id": "44ede990",
   "metadata": {},
   "source": [
    "<div style=\"border:solid blue 3px; padding: 20px\">\n",
    "<div class=\"alert alert-success\">\n",
    "<b>Обратная связь v.1</b> \n",
    "    \n",
    "👋\n",
    "Антон, проект выполнен отлично. Особое внимание к деталям и структурированное оформление облегчает процесс просмотра и понимания материала. Все ключевые моменты в данных успешно выделены и четко обоснованы, при этом код написан эффективно. Есть несколько рекомендаций, и после внесения корректировок я готов принять проект.\n",
    "\n",
    "Удачи в доработках, жду! "
   ]
  },
  {
   "cell_type": "markdown",
   "id": "2dcb7ba0",
   "metadata": {},
   "source": [
    "<div class=\"alert alert-info\" style=\"border-radius: 10px; box-shadow: 2px 2px 2px; border: 1px solid; padding: 10px \"> \n",
    "<b>Комментарий студента v.2</b> \n",
    "\n",
    "Скорректировал выводы под уточненные расчеты и тесты гипотез.\n",
    "\n",
    "</div>"
   ]
  },
  {
   "cell_type": "markdown",
   "id": "0c05e627",
   "metadata": {},
   "source": [
    "<div style=\"border:solid indigo 3px; padding: 20px\">\n",
    "<div class=\"alert alert-success\">\n",
    "<b>Обратная связь v.2</b> \n",
    "    \n",
    "👋 \n",
    "      \n",
    "Антон, спасибо тебе за исправления критических моментов, а также спасибо за хорошую работу.\n",
    "    \n",
    "Поздравляю с успешным завершением проекта 🥳 🎉\n",
    "    \n",
    "И желаю успехов в новых работах 😊"
   ]
  }
 ],
 "metadata": {
  "ExecuteTimeLog": [
   {
    "duration": 1467,
    "start_time": "2025-04-12T19:56:31.136Z"
   },
   {
    "duration": 64,
    "start_time": "2025-04-12T20:00:57.660Z"
   },
   {
    "duration": 15,
    "start_time": "2025-04-12T20:02:10.790Z"
   },
   {
    "duration": 10,
    "start_time": "2025-04-12T20:02:46.307Z"
   },
   {
    "duration": 61,
    "start_time": "2025-04-12T20:03:36.847Z"
   },
   {
    "duration": 8,
    "start_time": "2025-04-12T20:03:49.912Z"
   },
   {
    "duration": 10,
    "start_time": "2025-04-12T20:14:29.612Z"
   },
   {
    "duration": 10,
    "start_time": "2025-04-12T20:14:57.765Z"
   },
   {
    "duration": 11,
    "start_time": "2025-04-12T20:16:34.094Z"
   },
   {
    "duration": 11,
    "start_time": "2025-04-12T20:19:01.112Z"
   },
   {
    "duration": 8,
    "start_time": "2025-04-12T20:19:32.832Z"
   },
   {
    "duration": 57,
    "start_time": "2025-04-12T20:33:11.284Z"
   },
   {
    "duration": 12,
    "start_time": "2025-04-12T20:37:49.587Z"
   },
   {
    "duration": 11,
    "start_time": "2025-04-12T20:38:20.842Z"
   },
   {
    "duration": 10,
    "start_time": "2025-04-12T20:39:49.931Z"
   },
   {
    "duration": 16,
    "start_time": "2025-04-13T16:51:42.117Z"
   },
   {
    "duration": 17,
    "start_time": "2025-04-13T16:52:06.118Z"
   },
   {
    "duration": 16,
    "start_time": "2025-04-13T16:52:13.933Z"
   },
   {
    "duration": 8,
    "start_time": "2025-04-13T16:56:33.007Z"
   },
   {
    "duration": 11,
    "start_time": "2025-04-13T16:57:23.558Z"
   },
   {
    "duration": 11,
    "start_time": "2025-04-13T16:57:26.916Z"
   },
   {
    "duration": 10,
    "start_time": "2025-04-13T16:57:32.268Z"
   },
   {
    "duration": 6,
    "start_time": "2025-04-13T16:57:50.477Z"
   },
   {
    "duration": 4,
    "start_time": "2025-04-13T16:59:25.554Z"
   },
   {
    "duration": 110,
    "start_time": "2025-04-13T16:59:32.223Z"
   },
   {
    "duration": 12,
    "start_time": "2025-04-13T16:59:56.346Z"
   },
   {
    "duration": 10,
    "start_time": "2025-04-13T17:00:07.224Z"
   },
   {
    "duration": 14,
    "start_time": "2025-04-13T17:00:17.406Z"
   },
   {
    "duration": 5,
    "start_time": "2025-04-13T17:00:38.088Z"
   },
   {
    "duration": 5,
    "start_time": "2025-04-13T17:00:49.777Z"
   },
   {
    "duration": 7,
    "start_time": "2025-04-13T17:00:59.950Z"
   },
   {
    "duration": 7,
    "start_time": "2025-04-13T17:03:04.377Z"
   },
   {
    "duration": 16,
    "start_time": "2025-04-13T17:03:15.275Z"
   },
   {
    "duration": 63,
    "start_time": "2025-04-13T17:05:09.456Z"
   },
   {
    "duration": 7,
    "start_time": "2025-04-13T17:08:55.754Z"
   },
   {
    "duration": 8,
    "start_time": "2025-04-13T17:09:03.882Z"
   },
   {
    "duration": 21,
    "start_time": "2025-04-13T17:14:28.907Z"
   },
   {
    "duration": 25,
    "start_time": "2025-04-13T17:15:16.608Z"
   },
   {
    "duration": 88,
    "start_time": "2025-04-13T17:15:46.111Z"
   },
   {
    "duration": 26,
    "start_time": "2025-04-13T17:15:51.905Z"
   },
   {
    "duration": 19,
    "start_time": "2025-04-13T17:16:33.937Z"
   },
   {
    "duration": 15,
    "start_time": "2025-04-13T17:17:08.805Z"
   },
   {
    "duration": 20,
    "start_time": "2025-04-13T17:18:05.687Z"
   },
   {
    "duration": 13,
    "start_time": "2025-04-13T17:41:35.814Z"
   },
   {
    "duration": 20,
    "start_time": "2025-04-13T17:44:20.960Z"
   },
   {
    "duration": 25,
    "start_time": "2025-04-13T17:44:43.155Z"
   },
   {
    "duration": 29,
    "start_time": "2025-04-13T17:44:50.926Z"
   },
   {
    "duration": 11,
    "start_time": "2025-04-13T17:45:15.079Z"
   },
   {
    "duration": 12,
    "start_time": "2025-04-13T17:46:31.340Z"
   },
   {
    "duration": 32,
    "start_time": "2025-04-13T17:48:39.862Z"
   },
   {
    "duration": 14,
    "start_time": "2025-04-13T17:50:59.022Z"
   },
   {
    "duration": 13,
    "start_time": "2025-04-13T17:52:01.660Z"
   },
   {
    "duration": 6,
    "start_time": "2025-04-13T17:54:53.084Z"
   },
   {
    "duration": 112,
    "start_time": "2025-04-13T17:57:28.319Z"
   },
   {
    "duration": 113,
    "start_time": "2025-04-13T17:57:57.867Z"
   },
   {
    "duration": 121,
    "start_time": "2025-04-13T17:58:34.997Z"
   },
   {
    "duration": 151,
    "start_time": "2025-04-13T18:00:20.119Z"
   },
   {
    "duration": 326,
    "start_time": "2025-04-13T18:01:05.848Z"
   },
   {
    "duration": 6,
    "start_time": "2025-04-13T18:08:32.859Z"
   },
   {
    "duration": 11,
    "start_time": "2025-04-13T18:09:04.133Z"
   },
   {
    "duration": 75,
    "start_time": "2025-04-13T18:29:08.439Z"
   },
   {
    "duration": 129,
    "start_time": "2025-04-13T18:29:29.761Z"
   },
   {
    "duration": 71,
    "start_time": "2025-04-13T18:32:39.881Z"
   },
   {
    "duration": 6,
    "start_time": "2025-04-13T18:40:44.859Z"
   },
   {
    "duration": 6,
    "start_time": "2025-04-13T18:41:58.506Z"
   },
   {
    "duration": 6,
    "start_time": "2025-04-13T18:44:06.398Z"
   },
   {
    "duration": 84,
    "start_time": "2025-04-13T18:58:12.650Z"
   },
   {
    "duration": 73,
    "start_time": "2025-04-13T18:58:30.673Z"
   },
   {
    "duration": 13,
    "start_time": "2025-04-13T18:59:13.741Z"
   },
   {
    "duration": 214,
    "start_time": "2025-04-13T19:00:42.564Z"
   },
   {
    "duration": 6,
    "start_time": "2025-04-13T19:03:06.927Z"
   },
   {
    "duration": 202,
    "start_time": "2025-04-13T19:03:12.631Z"
   },
   {
    "duration": 222,
    "start_time": "2025-04-13T19:04:18.738Z"
   },
   {
    "duration": 8,
    "start_time": "2025-04-13T19:13:57.851Z"
   },
   {
    "duration": 8,
    "start_time": "2025-04-13T19:14:24.055Z"
   },
   {
    "duration": 15,
    "start_time": "2025-04-13T19:15:44.438Z"
   },
   {
    "duration": 223,
    "start_time": "2025-04-13T19:17:06.877Z"
   },
   {
    "duration": 116,
    "start_time": "2025-04-13T19:29:15.014Z"
   },
   {
    "duration": 7,
    "start_time": "2025-04-13T19:39:11.287Z"
   },
   {
    "duration": 6,
    "start_time": "2025-04-13T19:40:12.487Z"
   },
   {
    "duration": 16,
    "start_time": "2025-04-13T19:42:41.679Z"
   },
   {
    "duration": 63,
    "start_time": "2025-04-13T19:44:07.155Z"
   },
   {
    "duration": 1474,
    "start_time": "2025-04-13T19:44:14.275Z"
   },
   {
    "duration": 97,
    "start_time": "2025-04-13T19:53:29.131Z"
   },
   {
    "duration": 7,
    "start_time": "2025-04-13T19:54:38.113Z"
   },
   {
    "duration": 24,
    "start_time": "2025-04-13T19:54:43.530Z"
   },
   {
    "duration": 7,
    "start_time": "2025-04-13T19:54:55.396Z"
   },
   {
    "duration": 92,
    "start_time": "2025-04-13T19:55:04.230Z"
   },
   {
    "duration": 8,
    "start_time": "2025-04-13T19:55:54.915Z"
   },
   {
    "duration": 104,
    "start_time": "2025-04-13T19:55:59.564Z"
   },
   {
    "duration": 18,
    "start_time": "2025-04-13T20:06:36.894Z"
   },
   {
    "duration": 12,
    "start_time": "2025-04-13T20:07:15.469Z"
   },
   {
    "duration": 7,
    "start_time": "2025-04-13T20:07:22.373Z"
   },
   {
    "duration": 14,
    "start_time": "2025-04-13T20:08:54.370Z"
   },
   {
    "duration": 20,
    "start_time": "2025-04-13T20:08:59.002Z"
   },
   {
    "duration": 28,
    "start_time": "2025-04-13T20:09:18.640Z"
   },
   {
    "duration": 4,
    "start_time": "2025-04-13T20:12:30.222Z"
   },
   {
    "duration": 3,
    "start_time": "2025-04-13T20:12:45.371Z"
   },
   {
    "duration": 16,
    "start_time": "2025-04-13T20:15:40.902Z"
   },
   {
    "duration": 3,
    "start_time": "2025-04-13T20:15:44.665Z"
   },
   {
    "duration": 23,
    "start_time": "2025-04-13T20:18:25.090Z"
   },
   {
    "duration": 13,
    "start_time": "2025-04-13T20:18:54.362Z"
   },
   {
    "duration": 4,
    "start_time": "2025-04-13T20:18:56.999Z"
   },
   {
    "duration": 6,
    "start_time": "2025-04-13T20:19:33.075Z"
   },
   {
    "duration": 15,
    "start_time": "2025-04-13T20:21:30.965Z"
   },
   {
    "duration": 6,
    "start_time": "2025-04-13T20:21:35.669Z"
   },
   {
    "duration": 3,
    "start_time": "2025-04-13T20:21:38.073Z"
   },
   {
    "duration": 16,
    "start_time": "2025-04-13T20:26:49.952Z"
   },
   {
    "duration": 3,
    "start_time": "2025-04-13T20:26:52.098Z"
   },
   {
    "duration": 5,
    "start_time": "2025-04-13T20:27:23.925Z"
   },
   {
    "duration": 14,
    "start_time": "2025-04-13T20:28:05.892Z"
   },
   {
    "duration": 247,
    "start_time": "2025-04-13T20:28:12.315Z"
   },
   {
    "duration": 232,
    "start_time": "2025-04-13T20:28:41.752Z"
   },
   {
    "duration": 10,
    "start_time": "2025-04-13T20:28:53.411Z"
   },
   {
    "duration": 230,
    "start_time": "2025-04-13T20:29:04.380Z"
   },
   {
    "duration": 10,
    "start_time": "2025-04-13T20:32:03.381Z"
   },
   {
    "duration": 265,
    "start_time": "2025-04-13T20:32:09.810Z"
   },
   {
    "duration": 13,
    "start_time": "2025-04-13T20:35:16.858Z"
   },
   {
    "duration": 437,
    "start_time": "2025-04-13T20:35:21.881Z"
   },
   {
    "duration": 17,
    "start_time": "2025-04-13T20:35:48.609Z"
   },
   {
    "duration": 441,
    "start_time": "2025-04-13T20:36:10.656Z"
   },
   {
    "duration": 388,
    "start_time": "2025-04-14T05:55:48.875Z"
   },
   {
    "duration": 390,
    "start_time": "2025-04-14T05:56:04.792Z"
   },
   {
    "duration": 9,
    "start_time": "2025-04-14T09:36:38.750Z"
   },
   {
    "duration": 6,
    "start_time": "2025-04-14T09:37:59.420Z"
   },
   {
    "duration": 150,
    "start_time": "2025-04-14T09:38:15.187Z"
   },
   {
    "duration": 144,
    "start_time": "2025-04-14T09:38:23.230Z"
   },
   {
    "duration": 12,
    "start_time": "2025-04-14T09:41:47.166Z"
   },
   {
    "duration": 377,
    "start_time": "2025-04-14T09:43:18.208Z"
   },
   {
    "duration": 324,
    "start_time": "2025-04-14T09:44:33.987Z"
   },
   {
    "duration": 79,
    "start_time": "2025-04-14T09:48:27.243Z"
   },
   {
    "duration": 19,
    "start_time": "2025-04-14T09:49:02.657Z"
   },
   {
    "duration": 288,
    "start_time": "2025-04-14T09:49:13.315Z"
   },
   {
    "duration": 316,
    "start_time": "2025-04-14T09:49:18.075Z"
   },
   {
    "duration": 363,
    "start_time": "2025-04-14T09:49:24.661Z"
   },
   {
    "duration": 283,
    "start_time": "2025-04-14T09:49:39.660Z"
   },
   {
    "duration": 279,
    "start_time": "2025-04-14T09:49:44.335Z"
   },
   {
    "duration": 72,
    "start_time": "2025-04-14T09:59:10.861Z"
   },
   {
    "duration": 5,
    "start_time": "2025-04-14T10:04:14.465Z"
   },
   {
    "duration": 8,
    "start_time": "2025-04-14T10:05:16.956Z"
   },
   {
    "duration": 7,
    "start_time": "2025-04-14T10:05:36.116Z"
   },
   {
    "duration": 10,
    "start_time": "2025-04-14T10:13:11.273Z"
   },
   {
    "duration": 356,
    "start_time": "2025-04-14T10:15:39.584Z"
   },
   {
    "duration": 333,
    "start_time": "2025-04-14T10:15:55.397Z"
   },
   {
    "duration": 370,
    "start_time": "2025-04-14T10:16:02.549Z"
   },
   {
    "duration": 66,
    "start_time": "2025-04-14T10:51:50.562Z"
   },
   {
    "duration": 67,
    "start_time": "2025-04-14T10:55:08.969Z"
   },
   {
    "duration": 72,
    "start_time": "2025-04-14T10:56:32.541Z"
   },
   {
    "duration": 10,
    "start_time": "2025-04-14T10:58:26.692Z"
   },
   {
    "duration": 369,
    "start_time": "2025-04-14T10:59:28.384Z"
   },
   {
    "duration": 10,
    "start_time": "2025-04-14T11:46:42.489Z"
   },
   {
    "duration": 20,
    "start_time": "2025-04-14T11:46:53.694Z"
   },
   {
    "duration": 13,
    "start_time": "2025-04-14T11:48:17.530Z"
   },
   {
    "duration": 14,
    "start_time": "2025-04-14T11:48:59.557Z"
   },
   {
    "duration": 22,
    "start_time": "2025-04-14T11:49:08.981Z"
   },
   {
    "duration": 69,
    "start_time": "2025-04-14T11:50:21.162Z"
   },
   {
    "duration": 63,
    "start_time": "2025-04-14T11:52:11.071Z"
   },
   {
    "duration": 11,
    "start_time": "2025-04-14T11:54:23.792Z"
   },
   {
    "duration": 19,
    "start_time": "2025-04-14T11:54:30.719Z"
   },
   {
    "duration": 9,
    "start_time": "2025-04-14T11:55:07.815Z"
   },
   {
    "duration": 12,
    "start_time": "2025-04-14T11:56:18.482Z"
   },
   {
    "duration": 13,
    "start_time": "2025-04-14T11:56:30.150Z"
   },
   {
    "duration": 18,
    "start_time": "2025-04-14T11:56:54.482Z"
   },
   {
    "duration": 20,
    "start_time": "2025-04-14T11:57:24.289Z"
   },
   {
    "duration": 15,
    "start_time": "2025-04-14T11:57:44.763Z"
   },
   {
    "duration": 84,
    "start_time": "2025-04-14T12:06:10.475Z"
   },
   {
    "duration": 14,
    "start_time": "2025-04-14T12:06:51.082Z"
   },
   {
    "duration": 21,
    "start_time": "2025-04-14T12:27:04.702Z"
   },
   {
    "duration": 285,
    "start_time": "2025-04-14T12:27:11.523Z"
   },
   {
    "duration": 294,
    "start_time": "2025-04-14T12:27:27.994Z"
   },
   {
    "duration": 314,
    "start_time": "2025-04-14T12:27:32.574Z"
   },
   {
    "duration": 280,
    "start_time": "2025-04-14T12:27:36.911Z"
   },
   {
    "duration": 337,
    "start_time": "2025-04-14T12:27:46.070Z"
   },
   {
    "duration": 332,
    "start_time": "2025-04-14T12:27:54.096Z"
   },
   {
    "duration": 64,
    "start_time": "2025-04-14T12:30:43.628Z"
   },
   {
    "duration": 868,
    "start_time": "2025-04-14T12:30:51.920Z"
   },
   {
    "duration": 399,
    "start_time": "2025-04-14T12:31:58.899Z"
   },
   {
    "duration": 419,
    "start_time": "2025-04-14T12:33:13.467Z"
   },
   {
    "duration": 11,
    "start_time": "2025-04-14T12:56:32.486Z"
   },
   {
    "duration": 227,
    "start_time": "2025-04-14T12:57:08.500Z"
   },
   {
    "duration": 224,
    "start_time": "2025-04-14T12:57:25.631Z"
   },
   {
    "duration": 194,
    "start_time": "2025-04-14T12:58:50.037Z"
   },
   {
    "duration": 244,
    "start_time": "2025-04-14T12:58:54.593Z"
   },
   {
    "duration": 183,
    "start_time": "2025-04-14T13:02:40.201Z"
   },
   {
    "duration": 178,
    "start_time": "2025-04-14T13:02:59.548Z"
   },
   {
    "duration": 14,
    "start_time": "2025-04-14T13:13:53.990Z"
   },
   {
    "duration": 308,
    "start_time": "2025-04-14T13:14:02.348Z"
   },
   {
    "duration": 525,
    "start_time": "2025-04-14T13:14:12.847Z"
   },
   {
    "duration": 486,
    "start_time": "2025-04-14T13:14:37.417Z"
   },
   {
    "duration": 581,
    "start_time": "2025-04-14T13:14:58.974Z"
   },
   {
    "duration": 66,
    "start_time": "2025-04-14T13:16:36.233Z"
   },
   {
    "duration": 726,
    "start_time": "2025-04-14T13:16:41.917Z"
   },
   {
    "duration": 675,
    "start_time": "2025-04-14T13:17:24.775Z"
   },
   {
    "duration": 678,
    "start_time": "2025-04-14T13:18:50.349Z"
   },
   {
    "duration": 718,
    "start_time": "2025-04-14T13:19:59.715Z"
   },
   {
    "duration": 690,
    "start_time": "2025-04-14T13:20:13.751Z"
   },
   {
    "duration": 658,
    "start_time": "2025-04-14T13:20:22.765Z"
   },
   {
    "duration": 675,
    "start_time": "2025-04-14T13:20:29.532Z"
   },
   {
    "duration": 1078,
    "start_time": "2025-04-14T13:20:37.991Z"
   },
   {
    "duration": 665,
    "start_time": "2025-04-14T13:20:51.187Z"
   },
   {
    "duration": 54,
    "start_time": "2025-04-14T16:47:27.597Z"
   },
   {
    "duration": 1496,
    "start_time": "2025-04-14T16:47:58.678Z"
   },
   {
    "duration": 65,
    "start_time": "2025-04-14T16:48:00.176Z"
   },
   {
    "duration": 13,
    "start_time": "2025-04-14T16:48:00.252Z"
   },
   {
    "duration": 60,
    "start_time": "2025-04-14T16:48:00.267Z"
   },
   {
    "duration": 30,
    "start_time": "2025-04-14T16:48:00.329Z"
   },
   {
    "duration": 29,
    "start_time": "2025-04-14T16:48:00.361Z"
   },
   {
    "duration": 56,
    "start_time": "2025-04-14T16:48:00.392Z"
   },
   {
    "duration": 37,
    "start_time": "2025-04-14T16:48:00.450Z"
   },
   {
    "duration": 4,
    "start_time": "2025-04-14T16:48:00.488Z"
   },
   {
    "duration": 17,
    "start_time": "2025-04-14T16:48:00.495Z"
   },
   {
    "duration": 10,
    "start_time": "2025-04-14T16:48:00.514Z"
   },
   {
    "duration": 26,
    "start_time": "2025-04-14T16:48:00.526Z"
   },
   {
    "duration": 406,
    "start_time": "2025-04-14T16:48:00.554Z"
   },
   {
    "duration": 6,
    "start_time": "2025-04-14T16:48:00.962Z"
   },
   {
    "duration": 13,
    "start_time": "2025-04-14T16:48:00.969Z"
   },
   {
    "duration": 12,
    "start_time": "2025-04-14T16:48:00.984Z"
   },
   {
    "duration": 59,
    "start_time": "2025-04-14T16:48:00.998Z"
   },
   {
    "duration": 233,
    "start_time": "2025-04-14T16:48:01.059Z"
   },
   {
    "duration": 229,
    "start_time": "2025-04-14T16:48:01.293Z"
   },
   {
    "duration": 96,
    "start_time": "2025-04-14T16:48:01.524Z"
   },
   {
    "duration": 36,
    "start_time": "2025-04-14T16:48:01.622Z"
   },
   {
    "duration": 452,
    "start_time": "2025-04-14T16:48:01.660Z"
   },
   {
    "duration": 38,
    "start_time": "2025-04-14T16:48:02.114Z"
   },
   {
    "duration": 329,
    "start_time": "2025-04-14T16:48:02.154Z"
   },
   {
    "duration": 11,
    "start_time": "2025-04-14T16:48:02.485Z"
   },
   {
    "duration": 567,
    "start_time": "2025-04-14T16:48:02.498Z"
   },
   {
    "duration": 8,
    "start_time": "2025-04-14T16:48:03.067Z"
   },
   {
    "duration": 665,
    "start_time": "2025-04-14T16:48:03.078Z"
   },
   {
    "duration": 10,
    "start_time": "2025-04-14T16:48:03.747Z"
   },
   {
    "duration": 11,
    "start_time": "2025-04-14T16:48:03.759Z"
   },
   {
    "duration": 40,
    "start_time": "2025-04-14T16:48:03.772Z"
   },
   {
    "duration": 41,
    "start_time": "2025-04-14T16:48:03.814Z"
   },
   {
    "duration": 14,
    "start_time": "2025-04-14T16:48:03.857Z"
   },
   {
    "duration": 23,
    "start_time": "2025-04-14T16:48:03.873Z"
   },
   {
    "duration": 757,
    "start_time": "2025-04-14T16:48:03.898Z"
   },
   {
    "duration": 708,
    "start_time": "2025-04-14T16:48:04.657Z"
   },
   {
    "duration": 84,
    "start_time": "2025-04-14T16:48:05.367Z"
   },
   {
    "duration": 22,
    "start_time": "2025-04-14T16:48:21.821Z"
   },
   {
    "duration": 23,
    "start_time": "2025-04-14T16:56:41.593Z"
   },
   {
    "duration": 25,
    "start_time": "2025-04-14T16:56:50.627Z"
   },
   {
    "duration": 9,
    "start_time": "2025-04-14T16:59:32.478Z"
   },
   {
    "duration": 26,
    "start_time": "2025-04-14T17:02:24.046Z"
   },
   {
    "duration": 8,
    "start_time": "2025-04-14T17:02:33.683Z"
   },
   {
    "duration": 16,
    "start_time": "2025-04-14T17:04:51.267Z"
   },
   {
    "duration": 8,
    "start_time": "2025-04-14T17:28:07.767Z"
   },
   {
    "duration": 16,
    "start_time": "2025-04-14T17:28:28.468Z"
   },
   {
    "duration": 4,
    "start_time": "2025-04-14T17:36:40.872Z"
   },
   {
    "duration": 22,
    "start_time": "2025-04-14T17:36:53.240Z"
   },
   {
    "duration": 22,
    "start_time": "2025-04-14T17:37:32.562Z"
   },
   {
    "duration": 10,
    "start_time": "2025-04-14T17:37:35.161Z"
   },
   {
    "duration": 8,
    "start_time": "2025-04-14T17:38:01.149Z"
   },
   {
    "duration": 22,
    "start_time": "2025-04-14T17:38:16.370Z"
   },
   {
    "duration": 11,
    "start_time": "2025-04-14T17:38:18.550Z"
   },
   {
    "duration": 8,
    "start_time": "2025-04-14T17:38:22.054Z"
   },
   {
    "duration": 15,
    "start_time": "2025-04-14T17:38:24.886Z"
   },
   {
    "duration": 10,
    "start_time": "2025-04-14T17:40:26.271Z"
   },
   {
    "duration": 6,
    "start_time": "2025-04-14T17:46:10.521Z"
   },
   {
    "duration": 11,
    "start_time": "2025-04-14T17:46:33.260Z"
   },
   {
    "duration": 568,
    "start_time": "2025-04-14T17:50:14.895Z"
   },
   {
    "duration": 60,
    "start_time": "2025-04-14T17:56:57.638Z"
   },
   {
    "duration": 16,
    "start_time": "2025-04-14T17:57:27.722Z"
   },
   {
    "duration": 8,
    "start_time": "2025-04-14T18:01:17.415Z"
   },
   {
    "duration": 15,
    "start_time": "2025-04-14T18:01:56.344Z"
   },
   {
    "duration": 15,
    "start_time": "2025-04-14T18:02:21.647Z"
   },
   {
    "duration": 11,
    "start_time": "2025-04-14T18:03:51.368Z"
   },
   {
    "duration": 12,
    "start_time": "2025-04-14T18:03:53.798Z"
   },
   {
    "duration": 94,
    "start_time": "2025-04-14T18:04:54.722Z"
   },
   {
    "duration": 21,
    "start_time": "2025-04-14T18:05:00.378Z"
   },
   {
    "duration": 31,
    "start_time": "2025-04-14T18:05:49.667Z"
   },
   {
    "duration": 49,
    "start_time": "2025-04-14T18:13:27.629Z"
   },
   {
    "duration": 40,
    "start_time": "2025-04-14T18:14:48.138Z"
   },
   {
    "duration": 38,
    "start_time": "2025-04-14T18:15:16.908Z"
   },
   {
    "duration": 42,
    "start_time": "2025-04-14T18:21:57.112Z"
   },
   {
    "duration": 27,
    "start_time": "2025-04-14T18:22:50.848Z"
   },
   {
    "duration": 37,
    "start_time": "2025-04-14T18:23:18.417Z"
   },
   {
    "duration": 32,
    "start_time": "2025-04-14T18:23:31.356Z"
   },
   {
    "duration": 38,
    "start_time": "2025-04-14T18:23:49.912Z"
   },
   {
    "duration": 36,
    "start_time": "2025-04-14T18:24:05.904Z"
   },
   {
    "duration": 39,
    "start_time": "2025-04-14T18:24:16.631Z"
   },
   {
    "duration": 35,
    "start_time": "2025-04-14T18:25:53.230Z"
   },
   {
    "duration": 31,
    "start_time": "2025-04-14T18:25:58.696Z"
   },
   {
    "duration": 562,
    "start_time": "2025-04-14T19:31:51.096Z"
   },
   {
    "duration": 497,
    "start_time": "2025-04-14T19:33:09.256Z"
   },
   {
    "duration": 478,
    "start_time": "2025-04-14T19:33:59.765Z"
   },
   {
    "duration": 503,
    "start_time": "2025-04-14T19:52:56.649Z"
   },
   {
    "duration": 394,
    "start_time": "2025-04-14T20:00:39.576Z"
   },
   {
    "duration": 31,
    "start_time": "2025-04-14T20:01:18.592Z"
   },
   {
    "duration": 508,
    "start_time": "2025-04-14T20:04:25.758Z"
   },
   {
    "duration": 831,
    "start_time": "2025-04-14T20:04:34.854Z"
   },
   {
    "duration": 551,
    "start_time": "2025-04-14T20:05:29.816Z"
   },
   {
    "duration": 554,
    "start_time": "2025-04-14T20:06:04.601Z"
   },
   {
    "duration": 490,
    "start_time": "2025-04-14T20:07:14.468Z"
   },
   {
    "duration": 11,
    "start_time": "2025-04-14T20:16:47.194Z"
   },
   {
    "duration": 2408,
    "start_time": "2025-04-14T20:49:51.592Z"
   },
   {
    "duration": 465,
    "start_time": "2025-04-14T20:50:34.887Z"
   },
   {
    "duration": 5,
    "start_time": "2025-04-14T20:51:18.692Z"
   },
   {
    "duration": 4,
    "start_time": "2025-04-14T20:51:28.297Z"
   },
   {
    "duration": 6,
    "start_time": "2025-04-14T20:51:37.410Z"
   },
   {
    "duration": 8,
    "start_time": "2025-04-14T20:52:17.449Z"
   },
   {
    "duration": 4,
    "start_time": "2025-04-14T20:52:49.218Z"
   },
   {
    "duration": 6,
    "start_time": "2025-04-14T20:53:25.476Z"
   },
   {
    "duration": 4,
    "start_time": "2025-04-15T10:47:01.854Z"
   },
   {
    "duration": 4,
    "start_time": "2025-04-15T10:47:37.338Z"
   },
   {
    "duration": 3,
    "start_time": "2025-04-15T10:54:37.707Z"
   },
   {
    "duration": 4,
    "start_time": "2025-04-15T10:56:53.905Z"
   },
   {
    "duration": 5,
    "start_time": "2025-04-15T11:02:54.862Z"
   },
   {
    "duration": 5,
    "start_time": "2025-04-15T11:03:32.508Z"
   },
   {
    "duration": 5,
    "start_time": "2025-04-15T11:03:34.468Z"
   },
   {
    "duration": 4,
    "start_time": "2025-04-15T11:03:36.994Z"
   },
   {
    "duration": 5,
    "start_time": "2025-04-15T11:03:39.951Z"
   },
   {
    "duration": 3,
    "start_time": "2025-04-15T11:03:47.974Z"
   },
   {
    "duration": 6,
    "start_time": "2025-04-15T11:04:45.564Z"
   },
   {
    "duration": 4,
    "start_time": "2025-04-15T11:04:56.018Z"
   },
   {
    "duration": 5,
    "start_time": "2025-04-15T11:09:33.703Z"
   },
   {
    "duration": 4,
    "start_time": "2025-04-15T11:09:39.769Z"
   },
   {
    "duration": 4,
    "start_time": "2025-04-15T11:11:40.377Z"
   },
   {
    "duration": 3,
    "start_time": "2025-04-15T11:11:46.062Z"
   },
   {
    "duration": 4,
    "start_time": "2025-04-15T11:11:48.561Z"
   },
   {
    "duration": 5,
    "start_time": "2025-04-15T11:12:06.966Z"
   },
   {
    "duration": 5,
    "start_time": "2025-04-15T11:12:09.337Z"
   },
   {
    "duration": 6,
    "start_time": "2025-04-15T11:13:32.655Z"
   },
   {
    "duration": 5,
    "start_time": "2025-04-15T11:15:06.637Z"
   },
   {
    "duration": 4,
    "start_time": "2025-04-15T11:15:16.221Z"
   },
   {
    "duration": 6,
    "start_time": "2025-04-15T11:15:50.283Z"
   },
   {
    "duration": 5,
    "start_time": "2025-04-15T11:17:48.472Z"
   },
   {
    "duration": 82,
    "start_time": "2025-04-15T13:38:42.849Z"
   },
   {
    "duration": 5,
    "start_time": "2025-04-15T13:39:35.947Z"
   },
   {
    "duration": 73,
    "start_time": "2025-04-15T13:41:12.701Z"
   },
   {
    "duration": 5,
    "start_time": "2025-04-15T13:43:34.474Z"
   },
   {
    "duration": 4,
    "start_time": "2025-04-15T13:43:48.925Z"
   },
   {
    "duration": 22,
    "start_time": "2025-04-15T13:50:17.285Z"
   },
   {
    "duration": 166,
    "start_time": "2025-04-15T13:50:47.149Z"
   },
   {
    "duration": 59,
    "start_time": "2025-04-15T13:59:05.284Z"
   },
   {
    "duration": 8,
    "start_time": "2025-04-15T14:32:24.485Z"
   },
   {
    "duration": 2694,
    "start_time": "2025-04-15T14:36:48.033Z"
   },
   {
    "duration": 3,
    "start_time": "2025-04-15T14:37:06.910Z"
   },
   {
    "duration": 4,
    "start_time": "2025-04-15T14:37:09.991Z"
   },
   {
    "duration": 6,
    "start_time": "2025-04-15T14:37:25.278Z"
   },
   {
    "duration": 5,
    "start_time": "2025-04-15T14:37:36.026Z"
   },
   {
    "duration": 5,
    "start_time": "2025-04-15T14:39:05.308Z"
   },
   {
    "duration": 4,
    "start_time": "2025-04-15T14:39:13.510Z"
   },
   {
    "duration": 178,
    "start_time": "2025-04-15T14:40:24.823Z"
   },
   {
    "duration": 3,
    "start_time": "2025-04-15T14:43:46.287Z"
   },
   {
    "duration": 5,
    "start_time": "2025-04-15T15:07:03.149Z"
   },
   {
    "duration": 4,
    "start_time": "2025-04-15T15:14:42.188Z"
   },
   {
    "duration": 5,
    "start_time": "2025-04-15T15:16:14.414Z"
   },
   {
    "duration": 15,
    "start_time": "2025-04-15T15:17:29.343Z"
   },
   {
    "duration": 6,
    "start_time": "2025-04-15T15:17:51.575Z"
   },
   {
    "duration": 11,
    "start_time": "2025-04-15T15:22:30.152Z"
   },
   {
    "duration": 6,
    "start_time": "2025-04-15T15:22:38.877Z"
   },
   {
    "duration": 6,
    "start_time": "2025-04-15T15:24:46.626Z"
   },
   {
    "duration": 5,
    "start_time": "2025-04-15T17:43:04.351Z"
   },
   {
    "duration": 11,
    "start_time": "2025-04-15T17:43:09.302Z"
   },
   {
    "duration": 7,
    "start_time": "2025-04-15T17:45:01.067Z"
   },
   {
    "duration": 9,
    "start_time": "2025-04-15T17:48:20.046Z"
   },
   {
    "duration": 1392,
    "start_time": "2025-04-15T17:54:42.324Z"
   },
   {
    "duration": 10,
    "start_time": "2025-04-15T17:55:11.800Z"
   },
   {
    "duration": 13,
    "start_time": "2025-04-15T17:58:47.772Z"
   },
   {
    "duration": 18,
    "start_time": "2025-04-15T18:07:35.420Z"
   },
   {
    "duration": 6,
    "start_time": "2025-04-15T18:07:42.882Z"
   },
   {
    "duration": 18,
    "start_time": "2025-04-15T18:08:08.656Z"
   },
   {
    "duration": 15,
    "start_time": "2025-04-15T18:08:13.678Z"
   },
   {
    "duration": 10,
    "start_time": "2025-04-15T18:08:17.923Z"
   },
   {
    "duration": 14,
    "start_time": "2025-04-15T18:09:31.285Z"
   },
   {
    "duration": 8,
    "start_time": "2025-04-15T18:10:11.629Z"
   },
   {
    "duration": 7,
    "start_time": "2025-04-15T18:10:37.301Z"
   },
   {
    "duration": 13,
    "start_time": "2025-04-15T18:11:09.341Z"
   },
   {
    "duration": 7,
    "start_time": "2025-04-15T18:11:12.182Z"
   },
   {
    "duration": 7,
    "start_time": "2025-04-15T18:11:14.776Z"
   },
   {
    "duration": 17,
    "start_time": "2025-04-15T18:14:11.606Z"
   },
   {
    "duration": 14,
    "start_time": "2025-04-15T18:15:53.673Z"
   },
   {
    "duration": 9,
    "start_time": "2025-04-15T18:16:05.840Z"
   },
   {
    "duration": 8,
    "start_time": "2025-04-15T18:17:06.888Z"
   },
   {
    "duration": 12,
    "start_time": "2025-04-15T18:18:46.112Z"
   },
   {
    "duration": 4,
    "start_time": "2025-04-15T18:20:39.651Z"
   },
   {
    "duration": 3,
    "start_time": "2025-04-15T18:21:29.460Z"
   },
   {
    "duration": 350,
    "start_time": "2025-04-15T18:50:05.780Z"
   },
   {
    "duration": 4,
    "start_time": "2025-04-15T18:51:11.705Z"
   },
   {
    "duration": 3,
    "start_time": "2025-04-15T18:53:12.453Z"
   },
   {
    "duration": 41,
    "start_time": "2025-04-15T18:54:06.272Z"
   },
   {
    "duration": 362,
    "start_time": "2025-04-15T18:55:04.129Z"
   },
   {
    "duration": 180,
    "start_time": "2025-04-15T18:55:24.112Z"
   },
   {
    "duration": 302,
    "start_time": "2025-04-15T18:55:27.262Z"
   },
   {
    "duration": 376,
    "start_time": "2025-04-15T19:01:21.084Z"
   },
   {
    "duration": 300,
    "start_time": "2025-04-15T19:01:23.952Z"
   },
   {
    "duration": 4,
    "start_time": "2025-04-15T19:17:35.962Z"
   },
   {
    "duration": 3,
    "start_time": "2025-04-15T19:18:50.080Z"
   },
   {
    "duration": 6,
    "start_time": "2025-04-15T19:18:53.481Z"
   },
   {
    "duration": 352,
    "start_time": "2025-04-15T19:19:03.804Z"
   },
   {
    "duration": 6,
    "start_time": "2025-04-15T19:23:18.341Z"
   },
   {
    "duration": 314,
    "start_time": "2025-04-15T19:23:20.871Z"
   },
   {
    "duration": 6,
    "start_time": "2025-04-15T19:24:22.763Z"
   },
   {
    "duration": 1510,
    "start_time": "2025-04-15T20:27:07.279Z"
   },
   {
    "duration": 73,
    "start_time": "2025-04-15T20:27:08.791Z"
   },
   {
    "duration": 14,
    "start_time": "2025-04-15T20:27:08.866Z"
   },
   {
    "duration": 12,
    "start_time": "2025-04-15T20:27:08.882Z"
   },
   {
    "duration": 18,
    "start_time": "2025-04-15T20:27:08.896Z"
   },
   {
    "duration": 31,
    "start_time": "2025-04-15T20:27:08.915Z"
   },
   {
    "duration": 13,
    "start_time": "2025-04-15T20:27:08.948Z"
   },
   {
    "duration": 20,
    "start_time": "2025-04-15T20:27:08.963Z"
   },
   {
    "duration": 6,
    "start_time": "2025-04-15T20:27:08.985Z"
   },
   {
    "duration": 25,
    "start_time": "2025-04-15T20:27:08.994Z"
   },
   {
    "duration": 24,
    "start_time": "2025-04-15T20:27:09.021Z"
   },
   {
    "duration": 19,
    "start_time": "2025-04-15T20:27:09.047Z"
   },
   {
    "duration": 322,
    "start_time": "2025-04-15T20:27:09.068Z"
   },
   {
    "duration": 6,
    "start_time": "2025-04-15T20:27:09.392Z"
   },
   {
    "duration": 43,
    "start_time": "2025-04-15T20:27:09.400Z"
   },
   {
    "duration": 33,
    "start_time": "2025-04-15T20:27:09.445Z"
   },
   {
    "duration": 17,
    "start_time": "2025-04-15T20:27:09.480Z"
   },
   {
    "duration": 240,
    "start_time": "2025-04-15T20:27:09.499Z"
   },
   {
    "duration": 219,
    "start_time": "2025-04-15T20:27:09.740Z"
   },
   {
    "duration": 104,
    "start_time": "2025-04-15T20:27:09.960Z"
   },
   {
    "duration": 13,
    "start_time": "2025-04-15T20:27:10.066Z"
   },
   {
    "duration": 463,
    "start_time": "2025-04-15T20:27:10.081Z"
   },
   {
    "duration": 11,
    "start_time": "2025-04-15T20:27:10.546Z"
   },
   {
    "duration": 317,
    "start_time": "2025-04-15T20:27:10.559Z"
   },
   {
    "duration": 9,
    "start_time": "2025-04-15T20:27:10.878Z"
   },
   {
    "duration": 660,
    "start_time": "2025-04-15T20:27:10.888Z"
   },
   {
    "duration": 13,
    "start_time": "2025-04-15T20:27:11.550Z"
   },
   {
    "duration": 680,
    "start_time": "2025-04-15T20:27:11.570Z"
   },
   {
    "duration": 10,
    "start_time": "2025-04-15T20:27:12.251Z"
   },
   {
    "duration": 19,
    "start_time": "2025-04-15T20:27:12.263Z"
   },
   {
    "duration": 49,
    "start_time": "2025-04-15T20:27:12.284Z"
   },
   {
    "duration": 130,
    "start_time": "2025-04-15T20:27:12.335Z"
   },
   {
    "duration": 67,
    "start_time": "2025-04-15T20:27:12.466Z"
   },
   {
    "duration": 56,
    "start_time": "2025-04-15T20:27:12.535Z"
   },
   {
    "duration": 758,
    "start_time": "2025-04-15T20:27:12.593Z"
   },
   {
    "duration": 799,
    "start_time": "2025-04-15T20:27:13.353Z"
   },
   {
    "duration": 6,
    "start_time": "2025-04-15T20:27:14.154Z"
   },
   {
    "duration": 48,
    "start_time": "2025-04-15T20:27:14.162Z"
   },
   {
    "duration": 36,
    "start_time": "2025-04-15T20:27:14.212Z"
   },
   {
    "duration": 24,
    "start_time": "2025-04-15T20:27:14.250Z"
   },
   {
    "duration": 15,
    "start_time": "2025-04-15T20:27:14.276Z"
   },
   {
    "duration": 44,
    "start_time": "2025-04-15T20:27:14.293Z"
   },
   {
    "duration": 37,
    "start_time": "2025-04-15T20:27:14.339Z"
   },
   {
    "duration": 148,
    "start_time": "2025-04-15T20:27:14.378Z"
   },
   {
    "duration": 684,
    "start_time": "2025-04-15T20:27:14.528Z"
   },
   {
    "duration": 27,
    "start_time": "2025-04-15T20:27:15.214Z"
   },
   {
    "duration": 37,
    "start_time": "2025-04-15T20:27:15.243Z"
   },
   {
    "duration": 67,
    "start_time": "2025-04-15T20:27:15.282Z"
   },
   {
    "duration": 173,
    "start_time": "2025-04-15T20:27:15.351Z"
   },
   {
    "duration": 0,
    "start_time": "2025-04-15T20:27:15.526Z"
   },
   {
    "duration": 0,
    "start_time": "2025-04-15T20:27:15.527Z"
   },
   {
    "duration": 0,
    "start_time": "2025-04-15T20:27:15.528Z"
   },
   {
    "duration": 0,
    "start_time": "2025-04-15T20:27:15.539Z"
   },
   {
    "duration": 0,
    "start_time": "2025-04-15T20:27:15.541Z"
   },
   {
    "duration": 0,
    "start_time": "2025-04-15T20:27:15.544Z"
   },
   {
    "duration": 0,
    "start_time": "2025-04-15T20:27:15.546Z"
   },
   {
    "duration": 0,
    "start_time": "2025-04-15T20:27:15.547Z"
   },
   {
    "duration": 0,
    "start_time": "2025-04-15T20:27:15.549Z"
   },
   {
    "duration": 0,
    "start_time": "2025-04-15T20:27:15.551Z"
   },
   {
    "duration": 0,
    "start_time": "2025-04-15T20:27:15.553Z"
   },
   {
    "duration": 0,
    "start_time": "2025-04-15T20:27:15.554Z"
   },
   {
    "duration": 0,
    "start_time": "2025-04-15T20:27:15.556Z"
   },
   {
    "duration": 0,
    "start_time": "2025-04-15T20:27:15.558Z"
   },
   {
    "duration": 0,
    "start_time": "2025-04-15T20:27:15.559Z"
   },
   {
    "duration": 0,
    "start_time": "2025-04-15T20:27:15.561Z"
   },
   {
    "duration": 0,
    "start_time": "2025-04-15T20:27:15.562Z"
   },
   {
    "duration": 0,
    "start_time": "2025-04-15T20:27:15.564Z"
   },
   {
    "duration": 0,
    "start_time": "2025-04-15T20:27:15.565Z"
   },
   {
    "duration": 0,
    "start_time": "2025-04-15T20:27:15.566Z"
   },
   {
    "duration": 0,
    "start_time": "2025-04-15T20:27:15.567Z"
   },
   {
    "duration": 0,
    "start_time": "2025-04-15T20:27:15.569Z"
   },
   {
    "duration": 1536,
    "start_time": "2025-04-16T04:19:51.013Z"
   },
   {
    "duration": 72,
    "start_time": "2025-04-16T04:19:52.551Z"
   },
   {
    "duration": 13,
    "start_time": "2025-04-16T04:19:52.625Z"
   },
   {
    "duration": 40,
    "start_time": "2025-04-16T04:19:52.640Z"
   },
   {
    "duration": 35,
    "start_time": "2025-04-16T04:19:52.682Z"
   },
   {
    "duration": 27,
    "start_time": "2025-04-16T04:19:52.718Z"
   },
   {
    "duration": 27,
    "start_time": "2025-04-16T04:19:52.746Z"
   },
   {
    "duration": 20,
    "start_time": "2025-04-16T04:19:52.775Z"
   },
   {
    "duration": 22,
    "start_time": "2025-04-16T04:19:52.796Z"
   },
   {
    "duration": 19,
    "start_time": "2025-04-16T04:19:52.820Z"
   },
   {
    "duration": 72,
    "start_time": "2025-04-16T04:19:52.841Z"
   },
   {
    "duration": 15,
    "start_time": "2025-04-16T04:19:52.915Z"
   },
   {
    "duration": 259,
    "start_time": "2025-04-16T04:19:52.932Z"
   },
   {
    "duration": 42,
    "start_time": "2025-04-16T04:19:53.194Z"
   },
   {
    "duration": 6,
    "start_time": "2025-04-16T04:19:53.238Z"
   },
   {
    "duration": 23,
    "start_time": "2025-04-16T04:19:53.245Z"
   },
   {
    "duration": 56,
    "start_time": "2025-04-16T04:19:53.269Z"
   },
   {
    "duration": 245,
    "start_time": "2025-04-16T04:19:53.327Z"
   },
   {
    "duration": 205,
    "start_time": "2025-04-16T04:19:53.574Z"
   },
   {
    "duration": 86,
    "start_time": "2025-04-16T04:19:53.780Z"
   },
   {
    "duration": 12,
    "start_time": "2025-04-16T04:19:53.868Z"
   },
   {
    "duration": 506,
    "start_time": "2025-04-16T04:19:53.882Z"
   },
   {
    "duration": 12,
    "start_time": "2025-04-16T04:19:54.390Z"
   },
   {
    "duration": 282,
    "start_time": "2025-04-16T04:19:54.405Z"
   },
   {
    "duration": 8,
    "start_time": "2025-04-16T04:19:54.688Z"
   },
   {
    "duration": 544,
    "start_time": "2025-04-16T04:19:54.698Z"
   },
   {
    "duration": 8,
    "start_time": "2025-04-16T04:19:55.244Z"
   },
   {
    "duration": 543,
    "start_time": "2025-04-16T04:19:55.254Z"
   },
   {
    "duration": 44,
    "start_time": "2025-04-16T04:19:55.799Z"
   },
   {
    "duration": 68,
    "start_time": "2025-04-16T04:19:55.845Z"
   },
   {
    "duration": 26,
    "start_time": "2025-04-16T04:19:55.914Z"
   },
   {
    "duration": 12,
    "start_time": "2025-04-16T04:19:55.941Z"
   },
   {
    "duration": 11,
    "start_time": "2025-04-16T04:19:55.954Z"
   },
   {
    "duration": 14,
    "start_time": "2025-04-16T04:19:55.967Z"
   },
   {
    "duration": 644,
    "start_time": "2025-04-16T04:19:55.982Z"
   },
   {
    "duration": 696,
    "start_time": "2025-04-16T04:19:56.628Z"
   },
   {
    "duration": 4,
    "start_time": "2025-04-16T04:19:57.325Z"
   },
   {
    "duration": 74,
    "start_time": "2025-04-16T04:19:57.330Z"
   },
   {
    "duration": 40,
    "start_time": "2025-04-16T04:19:57.406Z"
   },
   {
    "duration": 7,
    "start_time": "2025-04-16T04:19:57.448Z"
   },
   {
    "duration": 11,
    "start_time": "2025-04-16T04:19:57.459Z"
   },
   {
    "duration": 9,
    "start_time": "2025-04-16T04:19:57.472Z"
   },
   {
    "duration": 5,
    "start_time": "2025-04-16T04:19:57.482Z"
   },
   {
    "duration": 11,
    "start_time": "2025-04-16T04:19:57.488Z"
   },
   {
    "duration": 541,
    "start_time": "2025-04-16T04:19:57.501Z"
   },
   {
    "duration": 11,
    "start_time": "2025-04-16T04:19:58.044Z"
   },
   {
    "duration": 13,
    "start_time": "2025-04-16T04:19:58.057Z"
   },
   {
    "duration": 28,
    "start_time": "2025-04-16T04:19:58.072Z"
   },
   {
    "duration": 17,
    "start_time": "2025-04-16T04:24:03.842Z"
   },
   {
    "duration": 9,
    "start_time": "2025-04-16T04:24:07.626Z"
   },
   {
    "duration": 97,
    "start_time": "2025-04-16T04:26:54.705Z"
   },
   {
    "duration": 9,
    "start_time": "2025-04-16T04:27:36.452Z"
   },
   {
    "duration": 11,
    "start_time": "2025-04-16T04:27:42.359Z"
   },
   {
    "duration": 62,
    "start_time": "2025-04-16T04:29:38.818Z"
   },
   {
    "duration": 8,
    "start_time": "2025-04-16T04:32:25.127Z"
   },
   {
    "duration": 11,
    "start_time": "2025-04-16T04:32:35.165Z"
   },
   {
    "duration": 6,
    "start_time": "2025-04-16T04:33:10.778Z"
   },
   {
    "duration": 12,
    "start_time": "2025-04-16T04:33:14.482Z"
   },
   {
    "duration": 581,
    "start_time": "2025-04-16T04:37:23.730Z"
   },
   {
    "duration": 128,
    "start_time": "2025-04-16T04:37:40.782Z"
   },
   {
    "duration": 35,
    "start_time": "2025-04-16T04:40:08.693Z"
   },
   {
    "duration": 39,
    "start_time": "2025-04-16T04:40:36.956Z"
   },
   {
    "duration": 16,
    "start_time": "2025-04-16T04:41:48.910Z"
   },
   {
    "duration": 541,
    "start_time": "2025-04-16T04:43:17.997Z"
   },
   {
    "duration": 632,
    "start_time": "2025-04-16T04:45:30.241Z"
   },
   {
    "duration": 3,
    "start_time": "2025-04-16T04:52:38.941Z"
   },
   {
    "duration": 3,
    "start_time": "2025-04-16T04:52:42.854Z"
   },
   {
    "duration": 6,
    "start_time": "2025-04-16T04:52:53.287Z"
   },
   {
    "duration": 7,
    "start_time": "2025-04-16T04:53:17.663Z"
   },
   {
    "duration": 5,
    "start_time": "2025-04-16T04:53:39.846Z"
   },
   {
    "duration": 4,
    "start_time": "2025-04-16T04:53:44.450Z"
   },
   {
    "duration": 152,
    "start_time": "2025-04-16T04:53:57.831Z"
   },
   {
    "duration": 3,
    "start_time": "2025-04-16T04:54:36.201Z"
   },
   {
    "duration": 5,
    "start_time": "2025-04-16T04:55:07.383Z"
   },
   {
    "duration": 4,
    "start_time": "2025-04-16T04:55:10.837Z"
   },
   {
    "duration": 16,
    "start_time": "2025-04-16T04:56:01.696Z"
   },
   {
    "duration": 8,
    "start_time": "2025-04-16T04:56:03.591Z"
   },
   {
    "duration": 5,
    "start_time": "2025-04-16T04:56:07.732Z"
   },
   {
    "duration": 4,
    "start_time": "2025-04-16T04:56:11.505Z"
   },
   {
    "duration": 3,
    "start_time": "2025-04-16T04:56:47.102Z"
   },
   {
    "duration": 344,
    "start_time": "2025-04-16T04:56:49.268Z"
   },
   {
    "duration": 323,
    "start_time": "2025-04-16T04:56:51.514Z"
   },
   {
    "duration": 4,
    "start_time": "2025-04-16T04:56:58.958Z"
   },
   {
    "duration": 6,
    "start_time": "2025-04-16T04:57:01.109Z"
   },
   {
    "duration": 315,
    "start_time": "2025-04-16T04:57:05.206Z"
   },
   {
    "duration": 1614,
    "start_time": "2025-04-16T10:16:11.105Z"
   },
   {
    "duration": 73,
    "start_time": "2025-04-16T10:16:12.721Z"
   },
   {
    "duration": 20,
    "start_time": "2025-04-16T10:16:12.795Z"
   },
   {
    "duration": 20,
    "start_time": "2025-04-16T10:16:12.817Z"
   },
   {
    "duration": 29,
    "start_time": "2025-04-16T10:16:12.839Z"
   },
   {
    "duration": 59,
    "start_time": "2025-04-16T10:16:12.870Z"
   },
   {
    "duration": 19,
    "start_time": "2025-04-16T10:16:12.931Z"
   },
   {
    "duration": 45,
    "start_time": "2025-04-16T10:16:12.953Z"
   },
   {
    "duration": 27,
    "start_time": "2025-04-16T10:16:13.000Z"
   },
   {
    "duration": 7,
    "start_time": "2025-04-16T10:16:13.031Z"
   },
   {
    "duration": 21,
    "start_time": "2025-04-16T10:16:13.040Z"
   },
   {
    "duration": 38,
    "start_time": "2025-04-16T10:16:13.063Z"
   },
   {
    "duration": 424,
    "start_time": "2025-04-16T10:16:13.103Z"
   },
   {
    "duration": 6,
    "start_time": "2025-04-16T10:16:13.529Z"
   },
   {
    "duration": 25,
    "start_time": "2025-04-16T10:16:13.537Z"
   },
   {
    "duration": 13,
    "start_time": "2025-04-16T10:16:13.564Z"
   },
   {
    "duration": 15,
    "start_time": "2025-04-16T10:16:13.578Z"
   },
   {
    "duration": 257,
    "start_time": "2025-04-16T10:16:13.595Z"
   },
   {
    "duration": 242,
    "start_time": "2025-04-16T10:16:13.854Z"
   },
   {
    "duration": 99,
    "start_time": "2025-04-16T10:16:14.098Z"
   },
   {
    "duration": 26,
    "start_time": "2025-04-16T10:16:14.199Z"
   },
   {
    "duration": 461,
    "start_time": "2025-04-16T10:16:14.227Z"
   },
   {
    "duration": 28,
    "start_time": "2025-04-16T10:16:14.690Z"
   },
   {
    "duration": 326,
    "start_time": "2025-04-16T10:16:14.721Z"
   },
   {
    "duration": 9,
    "start_time": "2025-04-16T10:16:15.049Z"
   },
   {
    "duration": 710,
    "start_time": "2025-04-16T10:16:15.060Z"
   },
   {
    "duration": 9,
    "start_time": "2025-04-16T10:16:15.772Z"
   },
   {
    "duration": 646,
    "start_time": "2025-04-16T10:16:15.786Z"
   },
   {
    "duration": 10,
    "start_time": "2025-04-16T10:16:16.434Z"
   },
   {
    "duration": 19,
    "start_time": "2025-04-16T10:16:16.446Z"
   },
   {
    "duration": 74,
    "start_time": "2025-04-16T10:16:16.467Z"
   },
   {
    "duration": 12,
    "start_time": "2025-04-16T10:16:16.543Z"
   },
   {
    "duration": 23,
    "start_time": "2025-04-16T10:16:16.557Z"
   },
   {
    "duration": 49,
    "start_time": "2025-04-16T10:16:16.583Z"
   },
   {
    "duration": 721,
    "start_time": "2025-04-16T10:16:16.634Z"
   },
   {
    "duration": 775,
    "start_time": "2025-04-16T10:16:17.357Z"
   },
   {
    "duration": 4,
    "start_time": "2025-04-16T10:16:18.134Z"
   },
   {
    "duration": 30,
    "start_time": "2025-04-16T10:16:18.140Z"
   },
   {
    "duration": 28,
    "start_time": "2025-04-16T10:16:18.172Z"
   },
   {
    "duration": 23,
    "start_time": "2025-04-16T10:16:18.202Z"
   },
   {
    "duration": 19,
    "start_time": "2025-04-16T10:16:18.226Z"
   },
   {
    "duration": 210,
    "start_time": "2025-04-16T10:16:18.247Z"
   },
   {
    "duration": 54,
    "start_time": "2025-04-16T10:16:18.458Z"
   },
   {
    "duration": 14,
    "start_time": "2025-04-16T10:16:18.516Z"
   },
   {
    "duration": 15,
    "start_time": "2025-04-16T10:16:18.532Z"
   },
   {
    "duration": 36,
    "start_time": "2025-04-16T10:16:18.549Z"
   },
   {
    "duration": 631,
    "start_time": "2025-04-16T10:16:18.587Z"
   },
   {
    "duration": 32,
    "start_time": "2025-04-16T10:16:19.220Z"
   },
   {
    "duration": 579,
    "start_time": "2025-04-16T10:16:19.254Z"
   },
   {
    "duration": 502,
    "start_time": "2025-04-16T10:16:19.835Z"
   },
   {
    "duration": 3,
    "start_time": "2025-04-16T10:16:20.339Z"
   },
   {
    "duration": 44,
    "start_time": "2025-04-16T10:16:20.344Z"
   },
   {
    "duration": 28,
    "start_time": "2025-04-16T10:16:20.390Z"
   },
   {
    "duration": 17,
    "start_time": "2025-04-16T10:16:20.420Z"
   },
   {
    "duration": 45,
    "start_time": "2025-04-16T10:16:20.439Z"
   },
   {
    "duration": 37,
    "start_time": "2025-04-16T10:16:20.485Z"
   },
   {
    "duration": 226,
    "start_time": "2025-04-16T10:16:20.525Z"
   },
   {
    "duration": 3,
    "start_time": "2025-04-16T10:16:20.753Z"
   },
   {
    "duration": 30,
    "start_time": "2025-04-16T10:16:20.757Z"
   },
   {
    "duration": 47,
    "start_time": "2025-04-16T10:16:20.788Z"
   },
   {
    "duration": 153,
    "start_time": "2025-04-16T10:16:20.837Z"
   },
   {
    "duration": 0,
    "start_time": "2025-04-16T10:16:20.992Z"
   },
   {
    "duration": 0,
    "start_time": "2025-04-16T10:16:20.993Z"
   },
   {
    "duration": 0,
    "start_time": "2025-04-16T10:16:20.994Z"
   },
   {
    "duration": 0,
    "start_time": "2025-04-16T10:16:20.995Z"
   },
   {
    "duration": 0,
    "start_time": "2025-04-16T10:16:20.997Z"
   },
   {
    "duration": 0,
    "start_time": "2025-04-16T10:16:21.015Z"
   },
   {
    "duration": 0,
    "start_time": "2025-04-16T10:16:21.020Z"
   },
   {
    "duration": 0,
    "start_time": "2025-04-16T10:16:21.023Z"
   },
   {
    "duration": 0,
    "start_time": "2025-04-16T10:16:21.024Z"
   },
   {
    "duration": 0,
    "start_time": "2025-04-16T10:16:21.025Z"
   },
   {
    "duration": 1416,
    "start_time": "2025-04-16T10:19:52.566Z"
   },
   {
    "duration": 67,
    "start_time": "2025-04-16T10:19:53.984Z"
   },
   {
    "duration": 14,
    "start_time": "2025-04-16T10:19:54.053Z"
   },
   {
    "duration": 15,
    "start_time": "2025-04-16T10:19:54.069Z"
   },
   {
    "duration": 40,
    "start_time": "2025-04-16T10:19:54.086Z"
   },
   {
    "duration": 21,
    "start_time": "2025-04-16T10:19:54.128Z"
   },
   {
    "duration": 8,
    "start_time": "2025-04-16T10:19:54.151Z"
   },
   {
    "duration": 22,
    "start_time": "2025-04-16T10:19:54.161Z"
   },
   {
    "duration": 19,
    "start_time": "2025-04-16T10:19:54.185Z"
   },
   {
    "duration": 17,
    "start_time": "2025-04-16T10:19:54.210Z"
   },
   {
    "duration": 41,
    "start_time": "2025-04-16T10:19:54.229Z"
   },
   {
    "duration": 15,
    "start_time": "2025-04-16T10:19:54.272Z"
   },
   {
    "duration": 366,
    "start_time": "2025-04-16T10:19:54.289Z"
   },
   {
    "duration": 5,
    "start_time": "2025-04-16T10:19:54.656Z"
   },
   {
    "duration": 57,
    "start_time": "2025-04-16T10:19:54.663Z"
   },
   {
    "duration": 30,
    "start_time": "2025-04-16T10:19:54.722Z"
   },
   {
    "duration": 64,
    "start_time": "2025-04-16T10:19:54.754Z"
   },
   {
    "duration": 311,
    "start_time": "2025-04-16T10:19:54.821Z"
   },
   {
    "duration": 235,
    "start_time": "2025-04-16T10:19:55.134Z"
   },
   {
    "duration": 111,
    "start_time": "2025-04-16T10:19:55.371Z"
   },
   {
    "duration": 36,
    "start_time": "2025-04-16T10:19:55.484Z"
   },
   {
    "duration": 444,
    "start_time": "2025-04-16T10:19:55.521Z"
   },
   {
    "duration": 10,
    "start_time": "2025-04-16T10:19:55.967Z"
   },
   {
    "duration": 360,
    "start_time": "2025-04-16T10:19:55.979Z"
   },
   {
    "duration": 11,
    "start_time": "2025-04-16T10:19:56.341Z"
   },
   {
    "duration": 724,
    "start_time": "2025-04-16T10:19:56.354Z"
   },
   {
    "duration": 8,
    "start_time": "2025-04-16T10:19:57.080Z"
   },
   {
    "duration": 638,
    "start_time": "2025-04-16T10:19:57.112Z"
   },
   {
    "duration": 9,
    "start_time": "2025-04-16T10:19:57.752Z"
   },
   {
    "duration": 61,
    "start_time": "2025-04-16T10:19:57.763Z"
   },
   {
    "duration": 37,
    "start_time": "2025-04-16T10:19:57.826Z"
   },
   {
    "duration": 15,
    "start_time": "2025-04-16T10:19:57.865Z"
   },
   {
    "duration": 38,
    "start_time": "2025-04-16T10:19:57.882Z"
   },
   {
    "duration": 24,
    "start_time": "2025-04-16T10:19:57.922Z"
   },
   {
    "duration": 799,
    "start_time": "2025-04-16T10:19:57.947Z"
   },
   {
    "duration": 821,
    "start_time": "2025-04-16T10:19:58.749Z"
   },
   {
    "duration": 4,
    "start_time": "2025-04-16T10:19:59.572Z"
   },
   {
    "duration": 75,
    "start_time": "2025-04-16T10:19:59.578Z"
   },
   {
    "duration": 35,
    "start_time": "2025-04-16T10:19:59.655Z"
   },
   {
    "duration": 118,
    "start_time": "2025-04-16T10:19:59.692Z"
   },
   {
    "duration": 47,
    "start_time": "2025-04-16T10:19:59.812Z"
   },
   {
    "duration": 20,
    "start_time": "2025-04-16T10:19:59.861Z"
   },
   {
    "duration": 17,
    "start_time": "2025-04-16T10:19:59.883Z"
   },
   {
    "duration": 30,
    "start_time": "2025-04-16T10:19:59.902Z"
   },
   {
    "duration": 13,
    "start_time": "2025-04-16T10:19:59.934Z"
   },
   {
    "duration": 23,
    "start_time": "2025-04-16T10:19:59.949Z"
   },
   {
    "duration": 699,
    "start_time": "2025-04-16T10:19:59.974Z"
   },
   {
    "duration": 47,
    "start_time": "2025-04-16T10:20:00.674Z"
   },
   {
    "duration": 511,
    "start_time": "2025-04-16T10:20:00.723Z"
   },
   {
    "duration": 519,
    "start_time": "2025-04-16T10:20:01.236Z"
   },
   {
    "duration": 4,
    "start_time": "2025-04-16T10:20:01.756Z"
   },
   {
    "duration": 109,
    "start_time": "2025-04-16T10:20:01.761Z"
   },
   {
    "duration": 38,
    "start_time": "2025-04-16T10:20:01.872Z"
   },
   {
    "duration": 34,
    "start_time": "2025-04-16T10:20:01.915Z"
   },
   {
    "duration": 51,
    "start_time": "2025-04-16T10:20:01.951Z"
   },
   {
    "duration": 38,
    "start_time": "2025-04-16T10:20:02.006Z"
   },
   {
    "duration": 225,
    "start_time": "2025-04-16T10:20:02.046Z"
   },
   {
    "duration": 3,
    "start_time": "2025-04-16T10:20:02.272Z"
   },
   {
    "duration": 141,
    "start_time": "2025-04-16T10:20:02.277Z"
   },
   {
    "duration": 20,
    "start_time": "2025-04-16T10:20:02.421Z"
   },
   {
    "duration": 44,
    "start_time": "2025-04-16T10:20:02.443Z"
   },
   {
    "duration": 56,
    "start_time": "2025-04-16T10:20:02.489Z"
   },
   {
    "duration": 130,
    "start_time": "2025-04-16T10:20:02.546Z"
   },
   {
    "duration": 45,
    "start_time": "2025-04-16T10:20:02.677Z"
   },
   {
    "duration": 34,
    "start_time": "2025-04-16T10:20:02.724Z"
   },
   {
    "duration": 62,
    "start_time": "2025-04-16T10:20:02.760Z"
   },
   {
    "duration": 402,
    "start_time": "2025-04-16T10:20:02.823Z"
   },
   {
    "duration": 318,
    "start_time": "2025-04-16T10:20:03.227Z"
   },
   {
    "duration": 3,
    "start_time": "2025-04-16T10:20:03.547Z"
   },
   {
    "duration": 125,
    "start_time": "2025-04-16T10:20:03.552Z"
   },
   {
    "duration": 575,
    "start_time": "2025-04-16T10:20:03.679Z"
   },
   {
    "duration": 1404,
    "start_time": "2025-04-16T10:22:56.181Z"
   },
   {
    "duration": 61,
    "start_time": "2025-04-16T10:22:57.587Z"
   },
   {
    "duration": 26,
    "start_time": "2025-04-16T10:22:57.650Z"
   },
   {
    "duration": 12,
    "start_time": "2025-04-16T10:22:57.679Z"
   },
   {
    "duration": 31,
    "start_time": "2025-04-16T10:22:57.693Z"
   },
   {
    "duration": 104,
    "start_time": "2025-04-16T10:22:57.726Z"
   },
   {
    "duration": 32,
    "start_time": "2025-04-16T10:22:57.832Z"
   },
   {
    "duration": 24,
    "start_time": "2025-04-16T10:22:57.866Z"
   },
   {
    "duration": 16,
    "start_time": "2025-04-16T10:22:57.892Z"
   },
   {
    "duration": 28,
    "start_time": "2025-04-16T10:22:57.912Z"
   },
   {
    "duration": 45,
    "start_time": "2025-04-16T10:22:57.942Z"
   },
   {
    "duration": 61,
    "start_time": "2025-04-16T10:22:57.988Z"
   },
   {
    "duration": 319,
    "start_time": "2025-04-16T10:22:58.051Z"
   },
   {
    "duration": 6,
    "start_time": "2025-04-16T10:22:58.371Z"
   },
   {
    "duration": 14,
    "start_time": "2025-04-16T10:22:58.408Z"
   },
   {
    "duration": 7,
    "start_time": "2025-04-16T10:22:58.424Z"
   },
   {
    "duration": 16,
    "start_time": "2025-04-16T10:22:58.433Z"
   },
   {
    "duration": 243,
    "start_time": "2025-04-16T10:22:58.451Z"
   },
   {
    "duration": 235,
    "start_time": "2025-04-16T10:22:58.697Z"
   },
   {
    "duration": 103,
    "start_time": "2025-04-16T10:22:58.934Z"
   },
   {
    "duration": 14,
    "start_time": "2025-04-16T10:22:59.039Z"
   },
   {
    "duration": 437,
    "start_time": "2025-04-16T10:22:59.055Z"
   },
   {
    "duration": 18,
    "start_time": "2025-04-16T10:22:59.494Z"
   },
   {
    "duration": 329,
    "start_time": "2025-04-16T10:22:59.515Z"
   },
   {
    "duration": 8,
    "start_time": "2025-04-16T10:22:59.847Z"
   },
   {
    "duration": 605,
    "start_time": "2025-04-16T10:22:59.857Z"
   },
   {
    "duration": 10,
    "start_time": "2025-04-16T10:23:00.463Z"
   },
   {
    "duration": 646,
    "start_time": "2025-04-16T10:23:00.477Z"
   },
   {
    "duration": 13,
    "start_time": "2025-04-16T10:23:01.125Z"
   },
   {
    "duration": 32,
    "start_time": "2025-04-16T10:23:01.140Z"
   },
   {
    "duration": 90,
    "start_time": "2025-04-16T10:23:01.175Z"
   },
   {
    "duration": 122,
    "start_time": "2025-04-16T10:23:01.267Z"
   },
   {
    "duration": 40,
    "start_time": "2025-04-16T10:23:01.391Z"
   },
   {
    "duration": 33,
    "start_time": "2025-04-16T10:23:01.433Z"
   },
   {
    "duration": 792,
    "start_time": "2025-04-16T10:23:01.468Z"
   },
   {
    "duration": 790,
    "start_time": "2025-04-16T10:23:02.262Z"
   },
   {
    "duration": 5,
    "start_time": "2025-04-16T10:23:03.054Z"
   },
   {
    "duration": 32,
    "start_time": "2025-04-16T10:23:03.061Z"
   },
   {
    "duration": 32,
    "start_time": "2025-04-16T10:23:03.095Z"
   },
   {
    "duration": 13,
    "start_time": "2025-04-16T10:23:03.129Z"
   },
   {
    "duration": 119,
    "start_time": "2025-04-16T10:23:03.144Z"
   },
   {
    "duration": 151,
    "start_time": "2025-04-16T10:23:03.265Z"
   },
   {
    "duration": 53,
    "start_time": "2025-04-16T10:23:03.418Z"
   },
   {
    "duration": 56,
    "start_time": "2025-04-16T10:23:03.473Z"
   },
   {
    "duration": 167,
    "start_time": "2025-04-16T10:23:03.530Z"
   },
   {
    "duration": 92,
    "start_time": "2025-04-16T10:23:03.698Z"
   },
   {
    "duration": 671,
    "start_time": "2025-04-16T10:23:03.791Z"
   },
   {
    "duration": 58,
    "start_time": "2025-04-16T10:23:04.464Z"
   },
   {
    "duration": 516,
    "start_time": "2025-04-16T10:23:04.524Z"
   },
   {
    "duration": 513,
    "start_time": "2025-04-16T10:23:05.042Z"
   },
   {
    "duration": 3,
    "start_time": "2025-04-16T10:23:05.558Z"
   },
   {
    "duration": 128,
    "start_time": "2025-04-16T10:23:05.563Z"
   },
   {
    "duration": 167,
    "start_time": "2025-04-16T10:23:05.693Z"
   },
   {
    "duration": 90,
    "start_time": "2025-04-16T10:23:05.862Z"
   },
   {
    "duration": 57,
    "start_time": "2025-04-16T10:23:05.954Z"
   },
   {
    "duration": 50,
    "start_time": "2025-04-16T10:23:06.013Z"
   },
   {
    "duration": 207,
    "start_time": "2025-04-16T10:23:06.065Z"
   },
   {
    "duration": 3,
    "start_time": "2025-04-16T10:23:06.274Z"
   },
   {
    "duration": 157,
    "start_time": "2025-04-16T10:23:06.278Z"
   },
   {
    "duration": 33,
    "start_time": "2025-04-16T10:23:06.437Z"
   },
   {
    "duration": 142,
    "start_time": "2025-04-16T10:23:06.472Z"
   },
   {
    "duration": 0,
    "start_time": "2025-04-16T10:23:06.616Z"
   },
   {
    "duration": 0,
    "start_time": "2025-04-16T10:23:06.620Z"
   },
   {
    "duration": 0,
    "start_time": "2025-04-16T10:23:06.622Z"
   },
   {
    "duration": 0,
    "start_time": "2025-04-16T10:23:06.623Z"
   },
   {
    "duration": 0,
    "start_time": "2025-04-16T10:23:06.624Z"
   },
   {
    "duration": 0,
    "start_time": "2025-04-16T10:23:06.625Z"
   },
   {
    "duration": 0,
    "start_time": "2025-04-16T10:23:06.626Z"
   },
   {
    "duration": 0,
    "start_time": "2025-04-16T10:23:06.627Z"
   },
   {
    "duration": 0,
    "start_time": "2025-04-16T10:23:06.628Z"
   },
   {
    "duration": 0,
    "start_time": "2025-04-16T10:23:06.629Z"
   },
   {
    "duration": 50,
    "start_time": "2025-04-16T10:33:45.370Z"
   },
   {
    "duration": 1551,
    "start_time": "2025-04-16T10:33:56.534Z"
   },
   {
    "duration": 73,
    "start_time": "2025-04-16T10:33:58.088Z"
   },
   {
    "duration": 13,
    "start_time": "2025-04-16T10:33:58.163Z"
   },
   {
    "duration": 13,
    "start_time": "2025-04-16T10:33:58.178Z"
   },
   {
    "duration": 17,
    "start_time": "2025-04-16T10:33:58.193Z"
   },
   {
    "duration": 27,
    "start_time": "2025-04-16T10:33:58.211Z"
   },
   {
    "duration": 9,
    "start_time": "2025-04-16T10:33:58.240Z"
   },
   {
    "duration": 19,
    "start_time": "2025-04-16T10:33:58.251Z"
   },
   {
    "duration": 14,
    "start_time": "2025-04-16T10:33:58.272Z"
   },
   {
    "duration": 28,
    "start_time": "2025-04-16T10:33:58.287Z"
   },
   {
    "duration": 26,
    "start_time": "2025-04-16T10:33:58.316Z"
   },
   {
    "duration": 13,
    "start_time": "2025-04-16T10:33:58.344Z"
   },
   {
    "duration": 313,
    "start_time": "2025-04-16T10:33:58.359Z"
   },
   {
    "duration": 5,
    "start_time": "2025-04-16T10:33:58.675Z"
   },
   {
    "duration": 16,
    "start_time": "2025-04-16T10:33:58.681Z"
   },
   {
    "duration": 15,
    "start_time": "2025-04-16T10:33:58.698Z"
   },
   {
    "duration": 36,
    "start_time": "2025-04-16T10:33:58.715Z"
   },
   {
    "duration": 234,
    "start_time": "2025-04-16T10:33:58.753Z"
   },
   {
    "duration": 216,
    "start_time": "2025-04-16T10:33:58.989Z"
   },
   {
    "duration": 96,
    "start_time": "2025-04-16T10:33:59.207Z"
   },
   {
    "duration": 13,
    "start_time": "2025-04-16T10:33:59.305Z"
   },
   {
    "duration": 494,
    "start_time": "2025-04-16T10:33:59.319Z"
   },
   {
    "duration": 9,
    "start_time": "2025-04-16T10:33:59.815Z"
   },
   {
    "duration": 357,
    "start_time": "2025-04-16T10:33:59.826Z"
   },
   {
    "duration": 10,
    "start_time": "2025-04-16T10:34:00.185Z"
   },
   {
    "duration": 698,
    "start_time": "2025-04-16T10:34:00.197Z"
   },
   {
    "duration": 12,
    "start_time": "2025-04-16T10:34:00.898Z"
   },
   {
    "duration": 590,
    "start_time": "2025-04-16T10:34:00.912Z"
   },
   {
    "duration": 11,
    "start_time": "2025-04-16T10:34:01.504Z"
   },
   {
    "duration": 54,
    "start_time": "2025-04-16T10:34:01.517Z"
   },
   {
    "duration": 30,
    "start_time": "2025-04-16T10:34:01.573Z"
   },
   {
    "duration": 49,
    "start_time": "2025-04-16T10:34:01.605Z"
   },
   {
    "duration": 33,
    "start_time": "2025-04-16T10:34:01.656Z"
   },
   {
    "duration": 73,
    "start_time": "2025-04-16T10:34:01.691Z"
   },
   {
    "duration": 705,
    "start_time": "2025-04-16T10:34:01.766Z"
   },
   {
    "duration": 671,
    "start_time": "2025-04-16T10:34:02.472Z"
   },
   {
    "duration": 4,
    "start_time": "2025-04-16T10:34:03.144Z"
   },
   {
    "duration": 32,
    "start_time": "2025-04-16T10:34:03.150Z"
   },
   {
    "duration": 22,
    "start_time": "2025-04-16T10:34:03.184Z"
   },
   {
    "duration": 16,
    "start_time": "2025-04-16T10:34:03.207Z"
   },
   {
    "duration": 34,
    "start_time": "2025-04-16T10:34:03.227Z"
   },
   {
    "duration": 44,
    "start_time": "2025-04-16T10:34:03.263Z"
   },
   {
    "duration": 55,
    "start_time": "2025-04-16T10:34:03.309Z"
   },
   {
    "duration": 12,
    "start_time": "2025-04-16T10:34:03.366Z"
   },
   {
    "duration": 7,
    "start_time": "2025-04-16T10:34:03.380Z"
   },
   {
    "duration": 27,
    "start_time": "2025-04-16T10:34:03.389Z"
   },
   {
    "duration": 594,
    "start_time": "2025-04-16T10:34:03.418Z"
   },
   {
    "duration": 41,
    "start_time": "2025-04-16T10:34:04.014Z"
   },
   {
    "duration": 484,
    "start_time": "2025-04-16T10:34:04.057Z"
   },
   {
    "duration": 511,
    "start_time": "2025-04-16T10:34:04.543Z"
   },
   {
    "duration": 3,
    "start_time": "2025-04-16T10:34:05.056Z"
   },
   {
    "duration": 26,
    "start_time": "2025-04-16T10:34:05.061Z"
   },
   {
    "duration": 19,
    "start_time": "2025-04-16T10:34:05.089Z"
   },
   {
    "duration": 21,
    "start_time": "2025-04-16T10:34:05.109Z"
   },
   {
    "duration": 5,
    "start_time": "2025-04-16T10:34:12.210Z"
   },
   {
    "duration": 4,
    "start_time": "2025-04-16T10:34:38.445Z"
   },
   {
    "duration": 133,
    "start_time": "2025-04-16T10:36:59.044Z"
   },
   {
    "duration": 73,
    "start_time": "2025-04-16T10:44:45.324Z"
   },
   {
    "duration": 2,
    "start_time": "2025-04-16T10:44:50.421Z"
   },
   {
    "duration": 5,
    "start_time": "2025-04-16T10:44:52.794Z"
   },
   {
    "duration": 4,
    "start_time": "2025-04-16T10:44:59.844Z"
   },
   {
    "duration": 128,
    "start_time": "2025-04-16T10:45:31.626Z"
   },
   {
    "duration": 11,
    "start_time": "2025-04-16T10:45:51.665Z"
   },
   {
    "duration": 6,
    "start_time": "2025-04-16T10:47:00.104Z"
   },
   {
    "duration": 4,
    "start_time": "2025-04-16T10:48:53.261Z"
   },
   {
    "duration": 5,
    "start_time": "2025-04-16T10:49:00.193Z"
   },
   {
    "duration": 2,
    "start_time": "2025-04-16T10:50:43.106Z"
   },
   {
    "duration": 5,
    "start_time": "2025-04-16T10:50:47.112Z"
   },
   {
    "duration": 125,
    "start_time": "2025-04-16T10:53:54.090Z"
   },
   {
    "duration": 6,
    "start_time": "2025-04-16T10:57:12.977Z"
   },
   {
    "duration": 140,
    "start_time": "2025-04-16T11:05:41.914Z"
   },
   {
    "duration": 10,
    "start_time": "2025-04-16T11:55:28.306Z"
   },
   {
    "duration": 166,
    "start_time": "2025-04-16T11:56:55.446Z"
   },
   {
    "duration": 12,
    "start_time": "2025-04-16T12:00:19.381Z"
   },
   {
    "duration": 5,
    "start_time": "2025-04-16T12:01:29.649Z"
   },
   {
    "duration": 6,
    "start_time": "2025-04-16T12:01:40.570Z"
   },
   {
    "duration": 4,
    "start_time": "2025-04-16T12:05:30.547Z"
   },
   {
    "duration": 4,
    "start_time": "2025-04-16T12:05:55.244Z"
   },
   {
    "duration": 4,
    "start_time": "2025-04-16T12:07:56.477Z"
   },
   {
    "duration": 5,
    "start_time": "2025-04-16T12:08:18.173Z"
   },
   {
    "duration": 3,
    "start_time": "2025-04-16T12:08:26.876Z"
   },
   {
    "duration": 223,
    "start_time": "2025-04-16T12:32:10.446Z"
   },
   {
    "duration": 4,
    "start_time": "2025-04-16T12:48:45.772Z"
   },
   {
    "duration": 138,
    "start_time": "2025-04-16T12:48:45.779Z"
   },
   {
    "duration": 13,
    "start_time": "2025-04-16T12:48:45.919Z"
   },
   {
    "duration": 13,
    "start_time": "2025-04-16T12:48:45.934Z"
   },
   {
    "duration": 13,
    "start_time": "2025-04-16T12:48:45.950Z"
   },
   {
    "duration": 15,
    "start_time": "2025-04-16T12:48:45.965Z"
   },
   {
    "duration": 9,
    "start_time": "2025-04-16T12:48:45.982Z"
   },
   {
    "duration": 8,
    "start_time": "2025-04-16T12:48:45.993Z"
   },
   {
    "duration": 38,
    "start_time": "2025-04-16T12:48:46.003Z"
   },
   {
    "duration": 32,
    "start_time": "2025-04-16T12:48:46.043Z"
   },
   {
    "duration": 16,
    "start_time": "2025-04-16T12:48:46.077Z"
   },
   {
    "duration": 10,
    "start_time": "2025-04-16T12:48:46.096Z"
   },
   {
    "duration": 339,
    "start_time": "2025-04-16T12:48:46.108Z"
   },
   {
    "duration": 6,
    "start_time": "2025-04-16T12:48:46.450Z"
   },
   {
    "duration": 65,
    "start_time": "2025-04-16T12:48:46.457Z"
   },
   {
    "duration": 34,
    "start_time": "2025-04-16T12:48:46.523Z"
   },
   {
    "duration": 15,
    "start_time": "2025-04-16T12:48:46.558Z"
   },
   {
    "duration": 309,
    "start_time": "2025-04-16T12:48:46.575Z"
   },
   {
    "duration": 227,
    "start_time": "2025-04-16T12:48:46.885Z"
   },
   {
    "duration": 105,
    "start_time": "2025-04-16T12:48:47.115Z"
   },
   {
    "duration": 24,
    "start_time": "2025-04-16T12:48:47.222Z"
   },
   {
    "duration": 459,
    "start_time": "2025-04-16T12:48:47.248Z"
   },
   {
    "duration": 11,
    "start_time": "2025-04-16T12:48:47.709Z"
   },
   {
    "duration": 278,
    "start_time": "2025-04-16T12:48:47.721Z"
   },
   {
    "duration": 38,
    "start_time": "2025-04-16T12:48:48.001Z"
   },
   {
    "duration": 571,
    "start_time": "2025-04-16T12:48:48.041Z"
   },
   {
    "duration": 10,
    "start_time": "2025-04-16T12:48:48.613Z"
   },
   {
    "duration": 560,
    "start_time": "2025-04-16T12:48:48.624Z"
   },
   {
    "duration": 11,
    "start_time": "2025-04-16T12:48:49.187Z"
   },
   {
    "duration": 10,
    "start_time": "2025-04-16T12:48:49.199Z"
   },
   {
    "duration": 42,
    "start_time": "2025-04-16T12:48:49.210Z"
   },
   {
    "duration": 14,
    "start_time": "2025-04-16T12:48:49.255Z"
   },
   {
    "duration": 14,
    "start_time": "2025-04-16T12:48:49.271Z"
   },
   {
    "duration": 57,
    "start_time": "2025-04-16T12:48:49.288Z"
   },
   {
    "duration": 723,
    "start_time": "2025-04-16T12:48:49.347Z"
   },
   {
    "duration": 705,
    "start_time": "2025-04-16T12:48:50.072Z"
   },
   {
    "duration": 5,
    "start_time": "2025-04-16T12:48:50.780Z"
   },
   {
    "duration": 59,
    "start_time": "2025-04-16T12:48:50.787Z"
   },
   {
    "duration": 49,
    "start_time": "2025-04-16T12:48:50.847Z"
   },
   {
    "duration": 12,
    "start_time": "2025-04-16T12:48:50.898Z"
   },
   {
    "duration": 26,
    "start_time": "2025-04-16T12:48:50.916Z"
   },
   {
    "duration": 15,
    "start_time": "2025-04-16T12:48:50.944Z"
   },
   {
    "duration": 19,
    "start_time": "2025-04-16T12:48:50.961Z"
   },
   {
    "duration": 17,
    "start_time": "2025-04-16T12:48:50.982Z"
   },
   {
    "duration": 7,
    "start_time": "2025-04-16T12:48:51.002Z"
   },
   {
    "duration": 23,
    "start_time": "2025-04-16T12:48:51.039Z"
   },
   {
    "duration": 712,
    "start_time": "2025-04-16T12:48:51.065Z"
   },
   {
    "duration": 35,
    "start_time": "2025-04-16T12:48:51.778Z"
   },
   {
    "duration": 534,
    "start_time": "2025-04-16T12:48:51.815Z"
   },
   {
    "duration": 510,
    "start_time": "2025-04-16T12:48:52.351Z"
   },
   {
    "duration": 3,
    "start_time": "2025-04-16T12:48:52.863Z"
   },
   {
    "duration": 10,
    "start_time": "2025-04-16T12:48:52.868Z"
   },
   {
    "duration": 16,
    "start_time": "2025-04-16T12:48:52.879Z"
   },
   {
    "duration": 6,
    "start_time": "2025-04-16T12:48:52.897Z"
   },
   {
    "duration": 34,
    "start_time": "2025-04-16T12:48:52.905Z"
   },
   {
    "duration": 18,
    "start_time": "2025-04-16T12:48:52.941Z"
   },
   {
    "duration": 161,
    "start_time": "2025-04-16T12:48:52.961Z"
   },
   {
    "duration": 3,
    "start_time": "2025-04-16T12:48:53.124Z"
   },
   {
    "duration": 13,
    "start_time": "2025-04-16T12:48:53.130Z"
   },
   {
    "duration": 12,
    "start_time": "2025-04-16T12:48:53.146Z"
   },
   {
    "duration": 52,
    "start_time": "2025-04-16T12:48:53.161Z"
   },
   {
    "duration": 22,
    "start_time": "2025-04-16T12:48:53.216Z"
   },
   {
    "duration": 20,
    "start_time": "2025-04-16T12:48:53.240Z"
   },
   {
    "duration": 12,
    "start_time": "2025-04-16T12:48:53.261Z"
   },
   {
    "duration": 5,
    "start_time": "2025-04-16T12:48:53.275Z"
   },
   {
    "duration": 5,
    "start_time": "2025-04-16T12:48:53.282Z"
   },
   {
    "duration": 4,
    "start_time": "2025-04-16T12:48:53.288Z"
   },
   {
    "duration": 7,
    "start_time": "2025-04-16T12:48:53.294Z"
   },
   {
    "duration": 36,
    "start_time": "2025-04-16T12:48:53.303Z"
   },
   {
    "duration": 12,
    "start_time": "2025-04-16T12:48:53.341Z"
   },
   {
    "duration": 373,
    "start_time": "2025-04-16T12:48:53.355Z"
   },
   {
    "duration": 327,
    "start_time": "2025-04-16T12:48:53.730Z"
   },
   {
    "duration": 4,
    "start_time": "2025-04-16T12:48:54.058Z"
   },
   {
    "duration": 11,
    "start_time": "2025-04-16T12:48:54.063Z"
   },
   {
    "duration": 351,
    "start_time": "2025-04-16T12:48:54.076Z"
   },
   {
    "duration": 1386,
    "start_time": "2025-04-16T12:50:03.632Z"
   },
   {
    "duration": 73,
    "start_time": "2025-04-16T12:50:05.020Z"
   },
   {
    "duration": 14,
    "start_time": "2025-04-16T12:50:05.094Z"
   },
   {
    "duration": 31,
    "start_time": "2025-04-16T12:50:05.110Z"
   },
   {
    "duration": 25,
    "start_time": "2025-04-16T12:50:05.145Z"
   },
   {
    "duration": 34,
    "start_time": "2025-04-16T12:50:05.171Z"
   },
   {
    "duration": 19,
    "start_time": "2025-04-16T12:50:05.207Z"
   },
   {
    "duration": 8,
    "start_time": "2025-04-16T12:50:05.227Z"
   },
   {
    "duration": 25,
    "start_time": "2025-04-16T12:50:05.237Z"
   },
   {
    "duration": 17,
    "start_time": "2025-04-16T12:50:05.264Z"
   },
   {
    "duration": 30,
    "start_time": "2025-04-16T12:50:05.283Z"
   },
   {
    "duration": 17,
    "start_time": "2025-04-16T12:50:05.315Z"
   },
   {
    "duration": 352,
    "start_time": "2025-04-16T12:50:05.333Z"
   },
   {
    "duration": 6,
    "start_time": "2025-04-16T12:50:05.689Z"
   },
   {
    "duration": 50,
    "start_time": "2025-04-16T12:50:05.697Z"
   },
   {
    "duration": 56,
    "start_time": "2025-04-16T12:50:05.749Z"
   },
   {
    "duration": 102,
    "start_time": "2025-04-16T12:50:05.808Z"
   },
   {
    "duration": 247,
    "start_time": "2025-04-16T12:50:05.912Z"
   },
   {
    "duration": 236,
    "start_time": "2025-04-16T12:50:06.161Z"
   },
   {
    "duration": 105,
    "start_time": "2025-04-16T12:50:06.399Z"
   },
   {
    "duration": 65,
    "start_time": "2025-04-16T12:50:06.506Z"
   },
   {
    "duration": 492,
    "start_time": "2025-04-16T12:50:06.573Z"
   },
   {
    "duration": 9,
    "start_time": "2025-04-16T12:50:07.067Z"
   },
   {
    "duration": 306,
    "start_time": "2025-04-16T12:50:07.078Z"
   },
   {
    "duration": 9,
    "start_time": "2025-04-16T12:50:07.386Z"
   },
   {
    "duration": 590,
    "start_time": "2025-04-16T12:50:07.397Z"
   },
   {
    "duration": 9,
    "start_time": "2025-04-16T12:50:07.989Z"
   },
   {
    "duration": 686,
    "start_time": "2025-04-16T12:50:08.000Z"
   },
   {
    "duration": 10,
    "start_time": "2025-04-16T12:50:08.688Z"
   },
   {
    "duration": 102,
    "start_time": "2025-04-16T12:50:08.700Z"
   },
   {
    "duration": 68,
    "start_time": "2025-04-16T12:50:08.804Z"
   },
   {
    "duration": 13,
    "start_time": "2025-04-16T12:50:08.874Z"
   },
   {
    "duration": 28,
    "start_time": "2025-04-16T12:50:08.889Z"
   },
   {
    "duration": 33,
    "start_time": "2025-04-16T12:50:08.919Z"
   },
   {
    "duration": 705,
    "start_time": "2025-04-16T12:50:08.954Z"
   },
   {
    "duration": 702,
    "start_time": "2025-04-16T12:50:09.661Z"
   },
   {
    "duration": 4,
    "start_time": "2025-04-16T12:50:10.365Z"
   },
   {
    "duration": 27,
    "start_time": "2025-04-16T12:50:10.371Z"
   },
   {
    "duration": 165,
    "start_time": "2025-04-16T12:50:10.400Z"
   },
   {
    "duration": 25,
    "start_time": "2025-04-16T12:50:10.567Z"
   },
   {
    "duration": 9,
    "start_time": "2025-04-16T12:50:10.597Z"
   },
   {
    "duration": 12,
    "start_time": "2025-04-16T12:50:10.607Z"
   },
   {
    "duration": 16,
    "start_time": "2025-04-16T12:50:10.621Z"
   },
   {
    "duration": 51,
    "start_time": "2025-04-16T12:50:10.640Z"
   },
   {
    "duration": 13,
    "start_time": "2025-04-16T12:50:10.693Z"
   },
   {
    "duration": 15,
    "start_time": "2025-04-16T12:50:10.707Z"
   },
   {
    "duration": 764,
    "start_time": "2025-04-16T12:50:10.723Z"
   },
   {
    "duration": 89,
    "start_time": "2025-04-16T12:50:11.489Z"
   },
   {
    "duration": 570,
    "start_time": "2025-04-16T12:50:11.580Z"
   },
   {
    "duration": 519,
    "start_time": "2025-04-16T12:50:12.152Z"
   },
   {
    "duration": 3,
    "start_time": "2025-04-16T12:50:12.673Z"
   },
   {
    "duration": 6,
    "start_time": "2025-04-16T12:50:12.678Z"
   },
   {
    "duration": 7,
    "start_time": "2025-04-16T12:50:12.686Z"
   },
   {
    "duration": 10,
    "start_time": "2025-04-16T12:50:12.694Z"
   },
   {
    "duration": 4,
    "start_time": "2025-04-16T12:50:12.706Z"
   },
   {
    "duration": 4,
    "start_time": "2025-04-16T12:50:12.739Z"
   },
   {
    "duration": 185,
    "start_time": "2025-04-16T12:50:12.745Z"
   },
   {
    "duration": 3,
    "start_time": "2025-04-16T12:50:12.932Z"
   },
   {
    "duration": 46,
    "start_time": "2025-04-16T12:50:12.939Z"
   },
   {
    "duration": 117,
    "start_time": "2025-04-16T12:50:12.987Z"
   },
   {
    "duration": 58,
    "start_time": "2025-04-16T12:50:13.106Z"
   },
   {
    "duration": 100,
    "start_time": "2025-04-16T12:50:13.165Z"
   },
   {
    "duration": 91,
    "start_time": "2025-04-16T12:50:13.266Z"
   },
   {
    "duration": 45,
    "start_time": "2025-04-16T12:50:13.359Z"
   },
   {
    "duration": 32,
    "start_time": "2025-04-16T12:50:13.406Z"
   },
   {
    "duration": 20,
    "start_time": "2025-04-16T12:50:13.440Z"
   },
   {
    "duration": 18,
    "start_time": "2025-04-16T12:50:13.462Z"
   },
   {
    "duration": 6,
    "start_time": "2025-04-16T12:50:13.483Z"
   },
   {
    "duration": 15,
    "start_time": "2025-04-16T12:50:13.494Z"
   },
   {
    "duration": 15,
    "start_time": "2025-04-16T12:50:13.511Z"
   },
   {
    "duration": 378,
    "start_time": "2025-04-16T12:50:13.528Z"
   },
   {
    "duration": 343,
    "start_time": "2025-04-16T12:50:13.908Z"
   },
   {
    "duration": 4,
    "start_time": "2025-04-16T12:50:14.252Z"
   },
   {
    "duration": 28,
    "start_time": "2025-04-16T12:50:14.257Z"
   },
   {
    "duration": 420,
    "start_time": "2025-04-16T12:50:14.287Z"
   },
   {
    "duration": 1659,
    "start_time": "2025-04-16T13:35:44.482Z"
   },
   {
    "duration": 75,
    "start_time": "2025-04-16T13:35:46.143Z"
   },
   {
    "duration": 14,
    "start_time": "2025-04-16T13:35:46.219Z"
   },
   {
    "duration": 12,
    "start_time": "2025-04-16T13:35:46.235Z"
   },
   {
    "duration": 14,
    "start_time": "2025-04-16T13:35:46.250Z"
   },
   {
    "duration": 14,
    "start_time": "2025-04-16T13:35:46.266Z"
   },
   {
    "duration": 10,
    "start_time": "2025-04-16T13:35:46.282Z"
   },
   {
    "duration": 11,
    "start_time": "2025-04-16T13:35:46.294Z"
   },
   {
    "duration": 45,
    "start_time": "2025-04-16T13:35:46.307Z"
   },
   {
    "duration": 13,
    "start_time": "2025-04-16T13:35:46.354Z"
   },
   {
    "duration": 15,
    "start_time": "2025-04-16T13:35:46.369Z"
   },
   {
    "duration": 30,
    "start_time": "2025-04-16T13:35:46.386Z"
   },
   {
    "duration": 305,
    "start_time": "2025-04-16T13:35:46.418Z"
   },
   {
    "duration": 7,
    "start_time": "2025-04-16T13:35:46.762Z"
   },
   {
    "duration": 11,
    "start_time": "2025-04-16T13:35:46.771Z"
   },
   {
    "duration": 26,
    "start_time": "2025-04-16T13:35:46.784Z"
   },
   {
    "duration": 16,
    "start_time": "2025-04-16T13:35:46.811Z"
   },
   {
    "duration": 261,
    "start_time": "2025-04-16T13:35:46.829Z"
   },
   {
    "duration": 224,
    "start_time": "2025-04-16T13:35:47.091Z"
   },
   {
    "duration": 98,
    "start_time": "2025-04-16T13:35:47.316Z"
   },
   {
    "duration": 14,
    "start_time": "2025-04-16T13:35:47.416Z"
   },
   {
    "duration": 517,
    "start_time": "2025-04-16T13:35:47.432Z"
   },
   {
    "duration": 13,
    "start_time": "2025-04-16T13:35:47.951Z"
   },
   {
    "duration": 336,
    "start_time": "2025-04-16T13:35:47.965Z"
   },
   {
    "duration": 10,
    "start_time": "2025-04-16T13:35:48.303Z"
   },
   {
    "duration": 591,
    "start_time": "2025-04-16T13:35:48.315Z"
   },
   {
    "duration": 9,
    "start_time": "2025-04-16T13:35:48.908Z"
   },
   {
    "duration": 659,
    "start_time": "2025-04-16T13:35:48.919Z"
   },
   {
    "duration": 10,
    "start_time": "2025-04-16T13:35:49.580Z"
   },
   {
    "duration": 34,
    "start_time": "2025-04-16T13:35:49.591Z"
   },
   {
    "duration": 31,
    "start_time": "2025-04-16T13:35:49.626Z"
   },
   {
    "duration": 14,
    "start_time": "2025-04-16T13:35:49.658Z"
   },
   {
    "duration": 48,
    "start_time": "2025-04-16T13:35:49.674Z"
   },
   {
    "duration": 91,
    "start_time": "2025-04-16T13:35:49.723Z"
   },
   {
    "duration": 778,
    "start_time": "2025-04-16T13:35:49.815Z"
   },
   {
    "duration": 695,
    "start_time": "2025-04-16T13:35:50.595Z"
   },
   {
    "duration": 3,
    "start_time": "2025-04-16T13:35:51.292Z"
   },
   {
    "duration": 49,
    "start_time": "2025-04-16T13:35:51.297Z"
   },
   {
    "duration": 34,
    "start_time": "2025-04-16T13:35:51.348Z"
   },
   {
    "duration": 59,
    "start_time": "2025-04-16T13:35:51.384Z"
   },
   {
    "duration": 146,
    "start_time": "2025-04-16T13:35:51.447Z"
   },
   {
    "duration": 64,
    "start_time": "2025-04-16T13:35:51.595Z"
   },
   {
    "duration": 51,
    "start_time": "2025-04-16T13:35:51.661Z"
   },
   {
    "duration": 25,
    "start_time": "2025-04-16T13:35:51.713Z"
   },
   {
    "duration": 25,
    "start_time": "2025-04-16T13:35:51.740Z"
   },
   {
    "duration": 34,
    "start_time": "2025-04-16T13:35:51.766Z"
   },
   {
    "duration": 596,
    "start_time": "2025-04-16T13:35:51.801Z"
   },
   {
    "duration": 35,
    "start_time": "2025-04-16T13:35:52.399Z"
   },
   {
    "duration": 533,
    "start_time": "2025-04-16T13:35:52.436Z"
   },
   {
    "duration": 502,
    "start_time": "2025-04-16T13:35:52.971Z"
   },
   {
    "duration": 3,
    "start_time": "2025-04-16T13:35:53.475Z"
   },
   {
    "duration": 14,
    "start_time": "2025-04-16T13:35:53.479Z"
   },
   {
    "duration": 24,
    "start_time": "2025-04-16T13:35:53.495Z"
   },
   {
    "duration": 38,
    "start_time": "2025-04-16T13:35:53.520Z"
   },
   {
    "duration": 33,
    "start_time": "2025-04-16T13:35:53.560Z"
   },
   {
    "duration": 28,
    "start_time": "2025-04-16T13:35:53.594Z"
   },
   {
    "duration": 166,
    "start_time": "2025-04-16T13:35:53.624Z"
   },
   {
    "duration": 2,
    "start_time": "2025-04-16T13:35:53.792Z"
   },
   {
    "duration": 33,
    "start_time": "2025-04-16T13:35:53.796Z"
   },
   {
    "duration": 23,
    "start_time": "2025-04-16T13:35:53.831Z"
   },
   {
    "duration": 21,
    "start_time": "2025-04-16T13:35:53.856Z"
   },
   {
    "duration": 36,
    "start_time": "2025-04-16T13:35:53.879Z"
   },
   {
    "duration": 21,
    "start_time": "2025-04-16T13:35:53.916Z"
   },
   {
    "duration": 5,
    "start_time": "2025-04-16T13:35:53.939Z"
   },
   {
    "duration": 29,
    "start_time": "2025-04-16T13:35:53.945Z"
   },
   {
    "duration": 46,
    "start_time": "2025-04-16T13:35:53.976Z"
   },
   {
    "duration": 48,
    "start_time": "2025-04-16T13:35:54.024Z"
   },
   {
    "duration": 51,
    "start_time": "2025-04-16T13:35:54.073Z"
   },
   {
    "duration": 166,
    "start_time": "2025-04-16T13:35:54.125Z"
   },
   {
    "duration": 35,
    "start_time": "2025-04-16T13:35:54.292Z"
   },
   {
    "duration": 368,
    "start_time": "2025-04-16T13:35:54.329Z"
   },
   {
    "duration": 314,
    "start_time": "2025-04-16T13:35:54.699Z"
   },
   {
    "duration": 3,
    "start_time": "2025-04-16T13:35:55.015Z"
   },
   {
    "duration": 14,
    "start_time": "2025-04-16T13:35:55.021Z"
   },
   {
    "duration": 473,
    "start_time": "2025-04-16T13:35:55.037Z"
   }
  ],
  "kernelspec": {
   "display_name": "Python 3 (ipykernel)",
   "language": "python",
   "name": "python3"
  },
  "language_info": {
   "codemirror_mode": {
    "name": "ipython",
    "version": 3
   },
   "file_extension": ".py",
   "mimetype": "text/x-python",
   "name": "python",
   "nbconvert_exporter": "python",
   "pygments_lexer": "ipython3",
   "version": "3.9.5"
  },
  "toc": {
   "base_numbering": 1,
   "nav_menu": {},
   "number_sections": true,
   "sideBar": true,
   "skip_h1_title": true,
   "title_cell": "Table of Contents",
   "title_sidebar": "Contents",
   "toc_cell": false,
   "toc_position": {
    "height": "calc(100% - 180px)",
    "left": "10px",
    "top": "150px",
    "width": "302.391px"
   },
   "toc_section_display": true,
   "toc_window_display": false
  }
 },
 "nbformat": 4,
 "nbformat_minor": 5
}
