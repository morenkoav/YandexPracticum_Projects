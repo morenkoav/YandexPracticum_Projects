{
 "cells": [
  {
   "cell_type": "markdown",
   "id": "5c99902c",
   "metadata": {},
   "source": [
    "<div style=\"border:solid lightblue 3px; background:#f7faf8; padding: 20px\">\n",
    "<b>Антон, привет!</b>\n",
    "\n",
    "Меня зовут Владимир Бердников, и я буду проверять твой проект. Предлагаю общаться на «ты», но если это не совсем удобно для тебя — дай знать, и мы перейдем на \"вы\". Моя цель не указать на совершённые тобой ошибки, а поделиться своим опытом и помочь улучшить навыки. \n",
    "    \n",
    "Пожалуйста, не перемещай, не удаляй и не правь мои комментарии. Всё это поможет выполнить повторную проверку твоего проекта оперативнее.\n",
    "\n",
    "При проверке работы я буду отмечать комментарии цветом и примечанием. В конце заголовка комментария указан номер итерации проверки.\n",
    "\n",
    "<div class=\"alert alert-block alert-danger\" style=\"border-radius: 15px; box-shadow: 4px 4px 4px; border: 1px solid \">\n",
    "<h2> Комментарий ревьюера v_1: <a class=\"tocSkip\"></h2>\n",
    "    \n",
    "❌ Комментарии такого цвета нужно исправить, иначе проект не будет принят. \n",
    "</div>\n",
    "\n",
    "<div class=\"alert alert-warning\" style=\"border-radius: 15px; box-shadow: 4px 4px 4px; border: 1px solid \">\n",
    "<h2> Комментарий ревьюера v_1: <a class=\"tocSkip\"> </h2>\n",
    "    \n",
    "⚠️ Такой комментарий является рекомендацией или советом. \n",
    "</div>\n",
    "\n",
    "<div class=\"alert alert-success\" style=\"border-radius: 15px; box-shadow: 4px 4px 4px; border: 1px solid \">\n",
    "<h2> Комментарий ревьюера v_1: <a class=\"tocSkip\"> </h2>\n",
    "    \n",
    "✅ Так выделены все остальные комментарии, включая позитивные моменты, пояснения и рассуждения.\n",
    "</div>  \n",
    "    \n",
    "Давай работать над проектом в диалоге: если ты что-то меняешь в проекте — пиши об этом в комментариях, например, с помощью такого кода в markdown ячейке:"
   ]
  },
  {
   "cell_type": "markdown",
   "id": "636bfafc",
   "metadata": {},
   "source": [
    "<div class=\"alert alert-info\"  style=\"border-radius: 15px; box-shadow: 4px 4px 4px; border: 1px solid \">\n",
    "    \n",
    "<h2>Комментарий студента v_1: <a class=\"tocSkip\"> </h2>\n",
    "\n",
    "Ок.   "
   ]
  },
  {
   "cell_type": "code",
   "execution_count": 1,
   "id": "fc7efa54",
   "metadata": {},
   "outputs": [],
   "source": [
    "import os\n",
    "import pandas as pd\n",
    "import numpy as np\n",
    "\n",
    "from sqlalchemy import create_engine"
   ]
  },
  {
   "cell_type": "code",
   "execution_count": 2,
   "id": "0017f8e7",
   "metadata": {},
   "outputs": [],
   "source": [
    "path_to_db_local = 'telecomm_csi.db'\n",
    "path_to_db_platform = '/datasets/telecomm_csi.db'\n",
    "path_to_db = None\n",
    "\n",
    "if os.path.exists(path_to_db_local):\n",
    "    path_to_db = path_to_db_local\n",
    "elif os.path.exists(path_to_db_platform):\n",
    "    path_to_db = path_to_db_platform\n",
    "else:\n",
    "    raise Exception('Файл с базой данных SQLite не найден!')\n",
    "\n",
    "if path_to_db:\n",
    "    engine = create_engine(f'sqlite:///{path_to_db}', echo=False)"
   ]
  },
  {
   "cell_type": "code",
   "execution_count": 3,
   "id": "84ebad43",
   "metadata": {},
   "outputs": [],
   "source": [
    "query = \"\"\"\n",
    "SELECT user_id,\n",
    "       lt_day,\n",
    "       CASE\n",
    "           WHEN lt_day <= 365 THEN TRUE\n",
    "       ELSE FALSE\n",
    "       END AS is_new,\n",
    "       age,\n",
    "       CASE \n",
    "           WHEN gender_segment=1 THEN 'Жен.'\n",
    "           WHEN gender_segment=0 THEN 'Муж.'\n",
    "       ELSE 'Другое'\n",
    "       END AS gender_segment,\n",
    "       os_name,\n",
    "       cpe_type_name,\n",
    "       location.country,\n",
    "       location.city,\n",
    "       SUBSTRING(age_segment.title,4) as age_segment,\n",
    "       SUBSTRING(traffic_segment.title,4) as traffic_segment,\n",
    "       SUBSTRING(lifetime_segment.title,4) as life_time_segment,\n",
    "       nps_score,\n",
    "       CASE \n",
    "           WHEN nps_score>=9 THEN 'сторонники'\n",
    "           WHEN nps_score IN (7,8) THEN 'нейтралы'\n",
    "           WHEN nps_score IN (0,1,2,3,4,5,6) THEN 'критики'\n",
    "           ELSE 'error'\n",
    "       END AS nps_group\n",
    "FROM user\n",
    "LEFT JOIN location ON user.location_id=location.location_id\n",
    "LEFT JOIN age_segment ON user.age_gr_id=age_segment.age_gr_id\n",
    "LEFT JOIN traffic_segment ON user.tr_gr_id=traffic_segment.tr_gr_id\n",
    "LEFT JOIN lifetime_segment ON user.lt_gr_id=lifetime_segment.lt_gr_id\n",
    "\"\"\""
   ]
  },
  {
   "cell_type": "markdown",
   "id": "fe16d4d7",
   "metadata": {},
   "source": [
    "<div class=\"alert alert-success\" style=\"border-radius: 15px; box-shadow: 4px 4px 4px; border: 1px solid \">\n",
    "<h2> Комментарий ревьюера v_1: <a class=\"tocSkip\"> </h2>\n",
    "    \n",
    "✅ Таблицы соединены верно."
   ]
  },
  {
   "cell_type": "markdown",
   "id": "375ad1e1",
   "metadata": {},
   "source": [
    "<div class=\"alert alert-warning\" style=\"border-radius: 15px; box-shadow: 4px 4px 4px; border: 1px solid \">\n",
    "<h2> Комментарий ревьюера v_1: <a class=\"tocSkip\"> </h2>\n",
    "    \n",
    "⚠️ Рекомендую использовать метод `SUBSTR` или `SUBSTRING` в отношении параметров age_segment, traffic_segment, lifetime_segment. Он позволяет убрать лишние цифры. [Здесь](https://sql-academy.org/ru/handbook/SUBSTRING) краткая справка про функцию.\n",
    "    \n",
    "Дополнительно можно проверить, что с данными всё ок. В частности, что значения в nps_score находятся в диапазоне от 1 до 10, что в поле city отсутствуют неявные дубликаты городов, а в age/age_segment нет отрицательных значений и т.д."
   ]
  },
  {
   "cell_type": "markdown",
   "id": "b43c75b8",
   "metadata": {},
   "source": [
    "<div class=\"alert alert-info\"  style=\"border-radius: 15px; box-shadow: 4px 4px 4px; border: 1px solid \">\n",
    "    \n",
    "<h2>Комментарий студента v_1: <a class=\"tocSkip\"> </h2>\n",
    "\n",
    "Владимир, привет! \n",
    "\n",
    "Дополнил текст запроса методом `SUBSTRING` для удаления лишних индексов"
   ]
  },
  {
   "cell_type": "markdown",
   "id": "ea8ca66a",
   "metadata": {},
   "source": [
    "<div class=\"alert alert-block alert-danger\" style=\"border-radius: 15px; box-shadow: 4px 4px 4px; border: 1px solid \">\n",
    "<h2> Комментарий ревьюера v_1: <a class=\"tocSkip\"></h2>\n",
    "    \n",
    "❌ В части сегментации по полу необходимо добавить другое значение (\"другой\", \"неопределенный\" или иной вариант), т.к. в данных есть не только 0 и 1. \n",
    "    \n",
    "И в задании написано: \"Чтобы оценить результаты опроса, оценки обычно делят на три группы:\n",
    "    \n",
    "9-10 баллов — «cторонники» (англ. promoters);\n",
    "    \n",
    "7-8 баллов — «нейтралы» (англ. passives);\n",
    "    \n",
    "0-6 баллов — «критики» (англ. detractors)\"\n",
    "    \n",
    "Нужно исправить"
   ]
  },
  {
   "cell_type": "markdown",
   "id": "0a940f03",
   "metadata": {},
   "source": [
    "<div class=\"alert alert-info\"  style=\"border-radius: 15px; box-shadow: 4px 4px 4px; border: 1px solid \">\n",
    "    \n",
    "<h2>Комментарий студента v_1: <a class=\"tocSkip\"> </h2>\n",
    "\n",
    "* Скорректировал запрос в части пола (добавил категорию \"другое\")\n",
    "\n",
    "* Исправил границы сегментации по оценкам NPS"
   ]
  },
  {
   "cell_type": "markdown",
   "id": "f4dad947",
   "metadata": {},
   "source": [
    "<div class=\"alert alert-success\" style=\"border-radius: 15px; box-shadow: 4px 4px 4px; border: 1px solid \">\n",
    "<h2> Комментарий ревьюера v_2: <a class=\"tocSkip\"> </h2>\n",
    "    \n",
    "✅ Отлично"
   ]
  },
  {
   "cell_type": "code",
   "execution_count": 4,
   "id": "3965faf2",
   "metadata": {
    "scrolled": false
   },
   "outputs": [
    {
     "data": {
      "text/html": [
       "<div>\n",
       "<style scoped>\n",
       "    .dataframe tbody tr th:only-of-type {\n",
       "        vertical-align: middle;\n",
       "    }\n",
       "\n",
       "    .dataframe tbody tr th {\n",
       "        vertical-align: top;\n",
       "    }\n",
       "\n",
       "    .dataframe thead th {\n",
       "        text-align: right;\n",
       "    }\n",
       "</style>\n",
       "<table border=\"1\" class=\"dataframe\">\n",
       "  <thead>\n",
       "    <tr style=\"text-align: right;\">\n",
       "      <th></th>\n",
       "      <th>user_id</th>\n",
       "      <th>lt_day</th>\n",
       "      <th>is_new</th>\n",
       "      <th>age</th>\n",
       "      <th>gender_segment</th>\n",
       "      <th>os_name</th>\n",
       "      <th>cpe_type_name</th>\n",
       "      <th>country</th>\n",
       "      <th>city</th>\n",
       "      <th>age_segment</th>\n",
       "      <th>traffic_segment</th>\n",
       "      <th>life_time_segment</th>\n",
       "      <th>nps_score</th>\n",
       "      <th>nps_group</th>\n",
       "    </tr>\n",
       "  </thead>\n",
       "  <tbody>\n",
       "    <tr>\n",
       "      <th>0</th>\n",
       "      <td>A001A2</td>\n",
       "      <td>2320</td>\n",
       "      <td>0</td>\n",
       "      <td>45.0</td>\n",
       "      <td>Жен.</td>\n",
       "      <td>ANDROID</td>\n",
       "      <td>SMARTPHONE</td>\n",
       "      <td>Россия</td>\n",
       "      <td>Уфа</td>\n",
       "      <td>45-54</td>\n",
       "      <td>1-5</td>\n",
       "      <td>36+</td>\n",
       "      <td>10</td>\n",
       "      <td>сторонники</td>\n",
       "    </tr>\n",
       "    <tr>\n",
       "      <th>1</th>\n",
       "      <td>A001WF</td>\n",
       "      <td>2344</td>\n",
       "      <td>0</td>\n",
       "      <td>53.0</td>\n",
       "      <td>Муж.</td>\n",
       "      <td>ANDROID</td>\n",
       "      <td>SMARTPHONE</td>\n",
       "      <td>Россия</td>\n",
       "      <td>Киров</td>\n",
       "      <td>45-54</td>\n",
       "      <td>1-5</td>\n",
       "      <td>36+</td>\n",
       "      <td>10</td>\n",
       "      <td>сторонники</td>\n",
       "    </tr>\n",
       "    <tr>\n",
       "      <th>2</th>\n",
       "      <td>A003Q7</td>\n",
       "      <td>467</td>\n",
       "      <td>0</td>\n",
       "      <td>57.0</td>\n",
       "      <td>Муж.</td>\n",
       "      <td>ANDROID</td>\n",
       "      <td>SMARTPHONE</td>\n",
       "      <td>Россия</td>\n",
       "      <td>Москва</td>\n",
       "      <td>55-64</td>\n",
       "      <td>20-25</td>\n",
       "      <td>13-24</td>\n",
       "      <td>10</td>\n",
       "      <td>сторонники</td>\n",
       "    </tr>\n",
       "    <tr>\n",
       "      <th>3</th>\n",
       "      <td>A004TB</td>\n",
       "      <td>4190</td>\n",
       "      <td>0</td>\n",
       "      <td>44.0</td>\n",
       "      <td>Жен.</td>\n",
       "      <td>IOS</td>\n",
       "      <td>SMARTPHONE</td>\n",
       "      <td>Россия</td>\n",
       "      <td>РостовнаДону</td>\n",
       "      <td>35-44</td>\n",
       "      <td>0.1-1</td>\n",
       "      <td>36+</td>\n",
       "      <td>10</td>\n",
       "      <td>сторонники</td>\n",
       "    </tr>\n",
       "    <tr>\n",
       "      <th>4</th>\n",
       "      <td>A004XT</td>\n",
       "      <td>1163</td>\n",
       "      <td>0</td>\n",
       "      <td>24.0</td>\n",
       "      <td>Муж.</td>\n",
       "      <td>ANDROID</td>\n",
       "      <td>SMARTPHONE</td>\n",
       "      <td>Россия</td>\n",
       "      <td>Рязань</td>\n",
       "      <td>16-24</td>\n",
       "      <td>5-10</td>\n",
       "      <td>36+</td>\n",
       "      <td>10</td>\n",
       "      <td>сторонники</td>\n",
       "    </tr>\n",
       "    <tr>\n",
       "      <th>5</th>\n",
       "      <td>A005O0</td>\n",
       "      <td>5501</td>\n",
       "      <td>0</td>\n",
       "      <td>42.0</td>\n",
       "      <td>Жен.</td>\n",
       "      <td>ANDROID</td>\n",
       "      <td>SMARTPHONE</td>\n",
       "      <td>Россия</td>\n",
       "      <td>Омск</td>\n",
       "      <td>35-44</td>\n",
       "      <td>5-10</td>\n",
       "      <td>36+</td>\n",
       "      <td>6</td>\n",
       "      <td>критики</td>\n",
       "    </tr>\n",
       "    <tr>\n",
       "      <th>6</th>\n",
       "      <td>A0061R</td>\n",
       "      <td>1236</td>\n",
       "      <td>0</td>\n",
       "      <td>45.0</td>\n",
       "      <td>Муж.</td>\n",
       "      <td>ANDROID</td>\n",
       "      <td>SMARTPHONE</td>\n",
       "      <td>Россия</td>\n",
       "      <td>Уфа</td>\n",
       "      <td>45-54</td>\n",
       "      <td>10-15</td>\n",
       "      <td>36+</td>\n",
       "      <td>10</td>\n",
       "      <td>сторонники</td>\n",
       "    </tr>\n",
       "    <tr>\n",
       "      <th>7</th>\n",
       "      <td>A009KS</td>\n",
       "      <td>313</td>\n",
       "      <td>1</td>\n",
       "      <td>35.0</td>\n",
       "      <td>Муж.</td>\n",
       "      <td>ANDROID</td>\n",
       "      <td>SMARTPHONE</td>\n",
       "      <td>Россия</td>\n",
       "      <td>Москва</td>\n",
       "      <td>35-44</td>\n",
       "      <td>45-50</td>\n",
       "      <td>7-12</td>\n",
       "      <td>10</td>\n",
       "      <td>сторонники</td>\n",
       "    </tr>\n",
       "    <tr>\n",
       "      <th>8</th>\n",
       "      <td>A00AES</td>\n",
       "      <td>3238</td>\n",
       "      <td>0</td>\n",
       "      <td>36.0</td>\n",
       "      <td>Жен.</td>\n",
       "      <td>ANDROID</td>\n",
       "      <td>SMARTPHONE</td>\n",
       "      <td>Россия</td>\n",
       "      <td>СанктПетербург</td>\n",
       "      <td>35-44</td>\n",
       "      <td>1-5</td>\n",
       "      <td>36+</td>\n",
       "      <td>10</td>\n",
       "      <td>сторонники</td>\n",
       "    </tr>\n",
       "    <tr>\n",
       "      <th>9</th>\n",
       "      <td>A00F70</td>\n",
       "      <td>4479</td>\n",
       "      <td>0</td>\n",
       "      <td>54.0</td>\n",
       "      <td>Жен.</td>\n",
       "      <td>ANDROID</td>\n",
       "      <td>SMARTPHONE</td>\n",
       "      <td>Россия</td>\n",
       "      <td>Волгоград</td>\n",
       "      <td>45-54</td>\n",
       "      <td>15-20</td>\n",
       "      <td>36+</td>\n",
       "      <td>9</td>\n",
       "      <td>сторонники</td>\n",
       "    </tr>\n",
       "  </tbody>\n",
       "</table>\n",
       "</div>"
      ],
      "text/plain": [
       "  user_id  lt_day  is_new   age gender_segment  os_name cpe_type_name country  \\\n",
       "0  A001A2    2320       0  45.0           Жен.  ANDROID    SMARTPHONE  Россия   \n",
       "1  A001WF    2344       0  53.0           Муж.  ANDROID    SMARTPHONE  Россия   \n",
       "2  A003Q7     467       0  57.0           Муж.  ANDROID    SMARTPHONE  Россия   \n",
       "3  A004TB    4190       0  44.0           Жен.      IOS    SMARTPHONE  Россия   \n",
       "4  A004XT    1163       0  24.0           Муж.  ANDROID    SMARTPHONE  Россия   \n",
       "5  A005O0    5501       0  42.0           Жен.  ANDROID    SMARTPHONE  Россия   \n",
       "6  A0061R    1236       0  45.0           Муж.  ANDROID    SMARTPHONE  Россия   \n",
       "7  A009KS     313       1  35.0           Муж.  ANDROID    SMARTPHONE  Россия   \n",
       "8  A00AES    3238       0  36.0           Жен.  ANDROID    SMARTPHONE  Россия   \n",
       "9  A00F70    4479       0  54.0           Жен.  ANDROID    SMARTPHONE  Россия   \n",
       "\n",
       "             city age_segment traffic_segment life_time_segment  nps_score  \\\n",
       "0             Уфа       45-54             1-5               36+         10   \n",
       "1           Киров       45-54             1-5               36+         10   \n",
       "2          Москва       55-64           20-25             13-24         10   \n",
       "3    РостовнаДону       35-44           0.1-1               36+         10   \n",
       "4          Рязань       16-24            5-10               36+         10   \n",
       "5            Омск       35-44            5-10               36+          6   \n",
       "6             Уфа       45-54           10-15               36+         10   \n",
       "7          Москва       35-44           45-50              7-12         10   \n",
       "8  СанктПетербург       35-44             1-5               36+         10   \n",
       "9       Волгоград       45-54           15-20               36+          9   \n",
       "\n",
       "    nps_group  \n",
       "0  сторонники  \n",
       "1  сторонники  \n",
       "2  сторонники  \n",
       "3  сторонники  \n",
       "4  сторонники  \n",
       "5     критики  \n",
       "6  сторонники  \n",
       "7  сторонники  \n",
       "8  сторонники  \n",
       "9  сторонники  "
      ]
     },
     "execution_count": 4,
     "metadata": {},
     "output_type": "execute_result"
    }
   ],
   "source": [
    "df = pd.read_sql(query, engine)\n",
    "df.head(10)"
   ]
  },
  {
   "cell_type": "code",
   "execution_count": 5,
   "id": "e6ef58ec",
   "metadata": {},
   "outputs": [
    {
     "name": "stdout",
     "output_type": "stream",
     "text": [
      "<class 'pandas.core.frame.DataFrame'>\n",
      "RangeIndex: 502493 entries, 0 to 502492\n",
      "Data columns (total 14 columns):\n",
      " #   Column             Non-Null Count   Dtype  \n",
      "---  ------             --------------   -----  \n",
      " 0   user_id            502493 non-null  object \n",
      " 1   lt_day             502493 non-null  int64  \n",
      " 2   is_new             502493 non-null  int64  \n",
      " 3   age                501939 non-null  float64\n",
      " 4   gender_segment     502493 non-null  object \n",
      " 5   os_name            502493 non-null  object \n",
      " 6   cpe_type_name      502493 non-null  object \n",
      " 7   country            502493 non-null  object \n",
      " 8   city               502493 non-null  object \n",
      " 9   age_segment        502493 non-null  object \n",
      " 10  traffic_segment    502493 non-null  object \n",
      " 11  life_time_segment  502493 non-null  object \n",
      " 12  nps_score          502493 non-null  int64  \n",
      " 13  nps_group          502493 non-null  object \n",
      "dtypes: float64(1), int64(3), object(10)\n",
      "memory usage: 53.7+ MB\n"
     ]
    }
   ],
   "source": [
    "# Общая информация о датасете\n",
    "df.info()"
   ]
  },
  {
   "cell_type": "code",
   "execution_count": 6,
   "id": "5228132b",
   "metadata": {},
   "outputs": [
    {
     "data": {
      "text/plain": [
       "array(['Жен.', 'Муж.', 'Другое'], dtype=object)"
      ]
     },
     "execution_count": 6,
     "metadata": {},
     "output_type": "execute_result"
    }
   ],
   "source": [
    "df['gender_segment'].unique()"
   ]
  },
  {
   "cell_type": "code",
   "execution_count": 7,
   "id": "3878b556",
   "metadata": {},
   "outputs": [
    {
     "data": {
      "text/plain": [
       "array([10,  6,  9,  2,  5,  8,  1,  4,  7,  3])"
      ]
     },
     "execution_count": 7,
     "metadata": {},
     "output_type": "execute_result"
    }
   ],
   "source": [
    "# Проверим значения оценок\n",
    "df['nps_score'].unique()"
   ]
  },
  {
   "cell_type": "code",
   "execution_count": 8,
   "id": "0b9e39fb",
   "metadata": {},
   "outputs": [
    {
     "data": {
      "text/plain": [
       "['Архангельск',\n",
       " 'Астрахань',\n",
       " 'Балашиха',\n",
       " 'Барнаул',\n",
       " 'Белгород',\n",
       " 'Брянск',\n",
       " 'Владивосток',\n",
       " 'Владимир',\n",
       " 'Волгоград',\n",
       " 'Волжский',\n",
       " 'Воронеж',\n",
       " 'Грозный',\n",
       " 'Екатеринбург',\n",
       " 'Иваново',\n",
       " 'Ижевск',\n",
       " 'Иркутск',\n",
       " 'Казань',\n",
       " 'Калининград',\n",
       " 'Калуга',\n",
       " 'Кемерово',\n",
       " 'Киров',\n",
       " 'Краснодар',\n",
       " 'Красноярск',\n",
       " 'Курск',\n",
       " 'Липецк',\n",
       " 'Магнитогорск',\n",
       " 'Махачкала',\n",
       " 'Москва',\n",
       " 'НабережныеЧелны',\n",
       " 'НижнийНовгород',\n",
       " 'НижнийТагил',\n",
       " 'Новокузнецк',\n",
       " 'Новосибирск',\n",
       " 'Омск',\n",
       " 'Оренбург',\n",
       " 'Пенза',\n",
       " 'Пермь',\n",
       " 'РостовнаДону',\n",
       " 'Рязань',\n",
       " 'Самара',\n",
       " 'СанктПетербург',\n",
       " 'Саранск',\n",
       " 'Саратов',\n",
       " 'Смоленск',\n",
       " 'Сочи',\n",
       " 'Ставрополь',\n",
       " 'Сургут',\n",
       " 'Тверь',\n",
       " 'Тольятти',\n",
       " 'Томск',\n",
       " 'Тула',\n",
       " 'Тюмень',\n",
       " 'УланУдэ',\n",
       " 'Ульяновск',\n",
       " 'Уфа',\n",
       " 'Хабаровск',\n",
       " 'Чебоксары',\n",
       " 'Челябинск',\n",
       " 'Череповец',\n",
       " 'Чита',\n",
       " 'Якутск',\n",
       " 'Ярославль']"
      ]
     },
     "execution_count": 8,
     "metadata": {},
     "output_type": "execute_result"
    }
   ],
   "source": [
    "# Проверим возможные дубликаты названий городов\n",
    "sorted(df['city'].unique().tolist())"
   ]
  },
  {
   "cell_type": "code",
   "execution_count": 9,
   "id": "0ac6eaef",
   "metadata": {},
   "outputs": [],
   "source": [
    "df.to_csv('telecomm_csi_tableau.csv', index=False)"
   ]
  },
  {
   "cell_type": "markdown",
   "id": "12b1f78c",
   "metadata": {},
   "source": [
    "<div class=\"alert alert-info\">\n",
    "<b>Комментарий студента:</b>\n",
    "<br> Привет! Ссылка на дашборд в ячейке ниже.\n",
    "</div>"
   ]
  },
  {
   "cell_type": "markdown",
   "id": "b4b1b368",
   "metadata": {},
   "source": [
    "https://public.tableau.com/views/Telecom-NPSRussia/NPSRussia?:language=en-US&publish=yes&:sid=&:redirect=auth&:display_count=n&:origin=viz_share_link"
   ]
  },
  {
   "cell_type": "markdown",
   "id": "bb66e104",
   "metadata": {},
   "source": [
    "<div class=\"alert alert-success\" style=\"border-radius: 15px; box-shadow: 4px 4px 4px; border: 1px solid \">\n",
    "<h2> Комментарий ревьюера v_1: <a class=\"tocSkip\"> </h2>  \n",
    "    \n",
    "✅ Сделано хорошо:\n",
    "    \n",
    "* есть описание дашборда\n",
    "    \n",
    "* на вкладке расположено несколько графиков\n",
    "    \n",
    "* есть заголовки визуализаций и названия дашбордов\n",
    "    \n",
    "* есть подписи на визуализациях\n",
    "   \n",
    "* подписи во всплывающих подсказках визуализаций на русском языке\n",
    "    \n",
    "* представлены необходимые графики по распределению участников\n",
    "    \n",
    "* выбраны подходящие типы визуализаций\n",
    "    \n",
    "* даны ответы на все вопросы по распределению\n",
    " "
   ]
  },
  {
   "cell_type": "markdown",
   "id": "9a0e7114",
   "metadata": {},
   "source": [
    "<div class=\"alert alert-block alert-danger\" style=\"border-radius: 15px; box-shadow: 4px 4px 4px; border: 1px solid \">\n",
    "<h2> Комментарий ревьюера v_1: <a class=\"tocSkip\"></h2>\n",
    "    \n",
    "❌ Что обязательно нужно сделать:\n",
    "  \n",
    "* обновить график по старым/новым клиентам после внесения изменений в запрос (источник данных можно обновить с помощью опции Replace Data Source или Refresh на панели в Data). На этом графике должно быть больше 500 тыс. респондентов вместе взятых\n",
    "        \n",
    "* исправить текущие расчеты NPS после доработки запроса\n",
    " \n",
    "*  построить графики (т.к. эти параметры упоминаются в вопросах):   \n",
    "    - NPS по полу\n",
    "    - NPS по возрасту\n",
    "    - NPS по lifetime и/или новым и старым клиентам\n",
    "    (либо единую таблицу по трем категориям, с помощью highlight table; что позволит точнее определить портрет лояльного пользователя)\n",
    "    \n",
    "Ответы на вопросы: \n",
    "   \n",
    "* \"Какие группы пользователей наиболее лояльны к сервису? Какие менее?\" - подготовить ответ на основе анализа построенных графиков по NPS и перепроверить текущие ответы\n",
    "   "
   ]
  },
  {
   "cell_type": "markdown",
   "id": "bb268a97",
   "metadata": {},
   "source": [
    "<div class=\"alert alert-info\"  style=\"border-radius: 15px; box-shadow: 4px 4px 4px; border: 1px solid \">\n",
    "    \n",
    "<h2>Комментарий студента v_1: <a class=\"tocSkip\"> </h2>\n",
    "\n",
    "* Обновил датасет в Tableau исправленными данными\n",
    "\n",
    "* Построены дополнительные чарты по показателям:\n",
    "    * NPS по полу\n",
    "    * NPS по возрасту\n",
    "    * NPS по lifetime и новым и старым клиентам\n",
    "\n",
    "* Скорректировал наблюдения и выводы, резюме"
   ]
  },
  {
   "cell_type": "markdown",
   "id": "fbcfea88",
   "metadata": {},
   "source": [
    "<div class=\"alert alert-warning\" style=\"border-radius: 15px; box-shadow: 4px 4px 4px; border: 1px solid \">\n",
    "<h2> Комментарий ревьюера v_1: <a class=\"tocSkip\"> </h2>\n",
    "\n",
    "⚠️ Что можно лучше:\n",
    "  \n",
    "* добавить общее количество участников (одно число на дашборде)\n",
    "    \n",
    "* создать фильтр по группам участников (сторонники/нейтралы/критики) и/или Action (на визуализации с данными группами участников) на дашборде с распределением участников по полу, возрасту и новым/старым клиентам, чтобы можно было, в том числе, проанализировать сторонников\n",
    "    \n",
    "* добавить распределение участников опроса по (создав еще один дашборд или параметр, который позволяет выбирать визуализацию): \n",
    "    * типу устройства\n",
    "    * трафику\n",
    " \n",
    "* добавить графики NPS по:\n",
    "    * устройству\n",
    "    * операционной системе\n",
    "    * трафику  \n",
    "  \n",
    "Ответы на вопросы: \n",
    "    \n",
    "* совпадают ли профили всех пользователей и профили сторонников друг с другом, имеют ли группы пользователей среди сторонников примерно тоже самое соотношение, что и на визуализациях со всеми пользователиями?"
   ]
  },
  {
   "cell_type": "markdown",
   "id": "3340e747",
   "metadata": {},
   "source": [
    "<div class=\"alert alert-info\"  style=\"border-radius: 15px; box-shadow: 4px 4px 4px; border: 1px solid \">\n",
    "    \n",
    "<h2>Комментарий студента v_1: <a class=\"tocSkip\"> </h2>\n",
    "\n",
    "Рекомендации учел в скорректированном дашборде"
   ]
  },
  {
   "cell_type": "markdown",
   "id": "e45107e1",
   "metadata": {},
   "source": [
    "https://public.tableau.com/views/Telecom-NPSRussia/NPSRussia?:language=en-US&publish=yes&:sid=&:redirect=auth&:display_count=n&:origin=viz_share_link"
   ]
  },
  {
   "cell_type": "markdown",
   "id": "b0edd567",
   "metadata": {},
   "source": [
    "<div style=\"border:solid lightblue 3px; background:#f7faf8; padding: 20px\">\n",
    "<span style=\"color:darkblue\">Комментарий ревьюера v_1:</span>\n",
    "    \n",
    "По распределению респондентов работа хорошо выполнена, но также нужно добавить анализ NPS и доработать запрос. Жду проект)"
   ]
  },
  {
   "cell_type": "markdown",
   "id": "58be64aa",
   "metadata": {},
   "source": [
    "<div style=\"border:solid lightblue 3px; background:#f7faf8; padding: 20px\">\n",
    " \n",
    "<span style=\"color:darkblue\">Комментарий ревьюера v_2:</span> \n",
    "\n",
    "Спасибо за доработанные замечания. Всё здорово получилось. Проект принят. \n",
    "    \n",
    "Для углубления навыков работы с Tableau советую следующий бесплатный курс:\n",
    "\n",
    "* [Дата йога. 8 ступеней](https://tableau.pro/8steps)\n",
    "\n",
    "По [этой ссылке](https://public.tableau.com/app/discover/viz-of-the-day) можно посмотреть примеры дашбордов.\n",
    "    \n",
    "Также для всех желающих доступен курс [\"Основы работы с DataLens\"](https://practicum.yandex.ru/ycloud-datalens/) - это еще один инструмент, которые позволяет создавать графики и дашборды.\n",
    "    \n",
    "Много полезной информации про визуализации можно почерпнуть в telegram-каналах Ромы Бунина и Александра Богачева - [здесь](https://t.me/revealthedata) и [здесь](https://t.me/chartomojka)\n",
    "    \n",
    "Успехов в дальнейшем обучении!)"
   ]
  }
 ],
 "metadata": {
  "ExecuteTimeLog": [
   {
    "duration": 563,
    "start_time": "2024-12-24T12:55:28.999Z"
   },
   {
    "duration": 87,
    "start_time": "2024-12-24T12:55:32.836Z"
   },
   {
    "duration": 2,
    "start_time": "2024-12-24T13:08:54.216Z"
   },
   {
    "duration": 3561,
    "start_time": "2024-12-24T13:08:57.909Z"
   },
   {
    "duration": 3,
    "start_time": "2024-12-24T13:25:50.666Z"
   },
   {
    "duration": 3491,
    "start_time": "2024-12-24T13:25:55.848Z"
   },
   {
    "duration": 3,
    "start_time": "2024-12-24T13:46:05.371Z"
   },
   {
    "duration": 3816,
    "start_time": "2024-12-24T13:46:08.090Z"
   },
   {
    "duration": 2,
    "start_time": "2024-12-24T13:48:58.330Z"
   },
   {
    "duration": 1017,
    "start_time": "2024-12-24T13:49:05.123Z"
   },
   {
    "duration": 2,
    "start_time": "2024-12-24T13:50:41.819Z"
   },
   {
    "duration": 4050,
    "start_time": "2024-12-24T13:50:44.728Z"
   },
   {
    "duration": 3,
    "start_time": "2024-12-24T13:53:00.496Z"
   },
   {
    "duration": 4375,
    "start_time": "2024-12-24T13:53:05.131Z"
   },
   {
    "duration": 3,
    "start_time": "2024-12-24T13:53:59.011Z"
   },
   {
    "duration": 4582,
    "start_time": "2024-12-24T13:54:02.913Z"
   },
   {
    "duration": 4,
    "start_time": "2024-12-24T13:59:03.107Z"
   },
   {
    "duration": 556,
    "start_time": "2024-12-24T13:59:07.871Z"
   },
   {
    "duration": 3,
    "start_time": "2024-12-24T13:59:17.864Z"
   },
   {
    "duration": 334,
    "start_time": "2024-12-24T13:59:20.265Z"
   },
   {
    "duration": 2,
    "start_time": "2024-12-24T14:00:45.018Z"
   },
   {
    "duration": 394,
    "start_time": "2024-12-24T14:00:47.777Z"
   },
   {
    "duration": 3,
    "start_time": "2024-12-24T14:01:22.487Z"
   },
   {
    "duration": 4865,
    "start_time": "2024-12-24T14:01:25.011Z"
   },
   {
    "duration": 4977,
    "start_time": "2024-12-24T14:01:38.643Z"
   },
   {
    "duration": 3,
    "start_time": "2024-12-24T14:02:16.204Z"
   },
   {
    "duration": 5207,
    "start_time": "2024-12-24T14:02:19.911Z"
   },
   {
    "duration": 4370,
    "start_time": "2024-12-24T14:03:50.256Z"
   },
   {
    "duration": 13,
    "start_time": "2024-12-24T14:08:00.182Z"
   },
   {
    "duration": 1028,
    "start_time": "2024-12-24T14:12:24.679Z"
   },
   {
    "duration": 915,
    "start_time": "2024-12-24T14:15:46.060Z"
   },
   {
    "duration": 4376,
    "start_time": "2024-12-24T14:19:47.624Z"
   },
   {
    "duration": 944,
    "start_time": "2024-12-24T14:20:00.075Z"
   },
   {
    "duration": 495,
    "start_time": "2024-12-25T06:23:52.292Z"
   },
   {
    "duration": 104,
    "start_time": "2024-12-25T06:23:53.025Z"
   },
   {
    "duration": 3,
    "start_time": "2024-12-25T06:23:53.789Z"
   },
   {
    "duration": 4818,
    "start_time": "2024-12-25T06:23:54.692Z"
   },
   {
    "duration": 5,
    "start_time": "2024-12-25T06:24:28.803Z"
   },
   {
    "duration": 72,
    "start_time": "2024-12-25T06:24:41.022Z"
   },
   {
    "duration": 4069,
    "start_time": "2024-12-25T06:24:54.096Z"
   },
   {
    "duration": 96,
    "start_time": "2024-12-25T06:25:27.233Z"
   },
   {
    "duration": 480,
    "start_time": "2024-12-25T10:40:22.955Z"
   },
   {
    "duration": 121,
    "start_time": "2024-12-25T10:40:24.503Z"
   },
   {
    "duration": 3,
    "start_time": "2024-12-25T10:40:25.367Z"
   },
   {
    "duration": 4957,
    "start_time": "2024-12-25T10:40:28.533Z"
   },
   {
    "duration": 98,
    "start_time": "2024-12-25T10:41:12.951Z"
   },
   {
    "duration": 515,
    "start_time": "2024-12-26T09:27:46.600Z"
   },
   {
    "duration": 10,
    "start_time": "2024-12-26T09:27:47.117Z"
   },
   {
    "duration": 45,
    "start_time": "2024-12-26T09:27:47.129Z"
   },
   {
    "duration": 6426,
    "start_time": "2024-12-26T09:27:47.176Z"
   },
   {
    "duration": 4495,
    "start_time": "2024-12-26T09:27:53.605Z"
   },
   {
    "duration": 550,
    "start_time": "2024-12-26T09:43:52.972Z"
   },
   {
    "duration": 603,
    "start_time": "2024-12-26T09:45:11.153Z"
   },
   {
    "duration": 481,
    "start_time": "2024-12-26T10:02:39.782Z"
   },
   {
    "duration": 561,
    "start_time": "2024-12-26T10:09:30.506Z"
   },
   {
    "duration": 11,
    "start_time": "2024-12-26T10:09:31.071Z"
   },
   {
    "duration": 3,
    "start_time": "2024-12-26T10:09:31.083Z"
   },
   {
    "duration": 11583,
    "start_time": "2024-12-26T10:09:31.088Z"
   },
   {
    "duration": 4551,
    "start_time": "2024-12-26T10:09:42.673Z"
   },
   {
    "duration": 515,
    "start_time": "2024-12-26T10:14:49.006Z"
   },
   {
    "duration": 12,
    "start_time": "2024-12-26T10:14:49.524Z"
   },
   {
    "duration": 4,
    "start_time": "2024-12-26T10:14:49.539Z"
   },
   {
    "duration": 6962,
    "start_time": "2024-12-26T10:14:49.545Z"
   },
   {
    "duration": 4675,
    "start_time": "2024-12-26T10:14:56.510Z"
   },
   {
    "duration": 46,
    "start_time": "2024-12-26T11:38:53.998Z"
   },
   {
    "duration": 532,
    "start_time": "2024-12-26T11:39:00.833Z"
   },
   {
    "duration": 90,
    "start_time": "2024-12-26T11:39:03.983Z"
   },
   {
    "duration": 3,
    "start_time": "2024-12-26T11:39:06.099Z"
   },
   {
    "duration": 4921,
    "start_time": "2024-12-26T11:39:11.222Z"
   },
   {
    "duration": 81,
    "start_time": "2024-12-26T11:39:19.503Z"
   },
   {
    "duration": 4,
    "start_time": "2024-12-26T11:44:18.314Z"
   },
   {
    "duration": 4796,
    "start_time": "2024-12-26T11:44:22.928Z"
   },
   {
    "duration": 3,
    "start_time": "2024-12-26T11:46:29.928Z"
   },
   {
    "duration": 4891,
    "start_time": "2024-12-26T11:46:35.615Z"
   },
   {
    "duration": 34,
    "start_time": "2024-12-26T11:47:41.405Z"
   },
   {
    "duration": 3,
    "start_time": "2024-12-26T11:47:45.546Z"
   },
   {
    "duration": 6,
    "start_time": "2024-12-26T11:51:44.502Z"
   },
   {
    "duration": 406,
    "start_time": "2024-12-26T11:52:07.465Z"
   },
   {
    "duration": 91,
    "start_time": "2024-12-26T12:00:18.658Z"
   },
   {
    "duration": 79,
    "start_time": "2024-12-26T12:01:01.710Z"
   },
   {
    "duration": 76,
    "start_time": "2024-12-26T12:02:37.407Z"
   },
   {
    "duration": 9,
    "start_time": "2024-12-26T12:08:36.747Z"
   },
   {
    "duration": 24,
    "start_time": "2024-12-26T12:09:03.278Z"
   },
   {
    "duration": 3,
    "start_time": "2024-12-26T12:15:06.784Z"
   },
   {
    "duration": 3,
    "start_time": "2024-12-26T12:15:32.917Z"
   },
   {
    "duration": 6075,
    "start_time": "2024-12-26T12:15:39.228Z"
   },
   {
    "duration": 59,
    "start_time": "2024-12-26T12:15:59.814Z"
   },
   {
    "duration": 31,
    "start_time": "2024-12-26T12:16:21.085Z"
   },
   {
    "duration": 42,
    "start_time": "2024-12-26T12:16:44.051Z"
   },
   {
    "duration": 3,
    "start_time": "2024-12-26T12:25:29.809Z"
   },
   {
    "duration": 5824,
    "start_time": "2024-12-26T12:25:37.917Z"
   },
   {
    "duration": 7,
    "start_time": "2024-12-26T12:26:36.808Z"
   },
   {
    "duration": 102,
    "start_time": "2024-12-26T12:26:48.177Z"
   },
   {
    "duration": 89,
    "start_time": "2024-12-27T13:47:58.252Z"
   },
   {
    "duration": 82,
    "start_time": "2024-12-27T13:50:07.042Z"
   },
   {
    "duration": 502,
    "start_time": "2024-12-27T21:13:30.896Z"
   },
   {
    "duration": 10,
    "start_time": "2024-12-27T21:13:31.400Z"
   },
   {
    "duration": 5,
    "start_time": "2024-12-27T21:13:31.411Z"
   },
   {
    "duration": 6002,
    "start_time": "2024-12-27T21:13:31.418Z"
   },
   {
    "duration": 459,
    "start_time": "2024-12-27T21:13:37.422Z"
   },
   {
    "duration": 57,
    "start_time": "2024-12-27T21:13:37.886Z"
   },
   {
    "duration": 6,
    "start_time": "2024-12-27T21:13:37.944Z"
   },
   {
    "duration": 116,
    "start_time": "2024-12-27T21:13:37.952Z"
   },
   {
    "duration": 3699,
    "start_time": "2024-12-27T21:13:38.069Z"
   },
   {
    "duration": 511,
    "start_time": "2024-12-27T21:49:45.947Z"
   },
   {
    "duration": 12,
    "start_time": "2024-12-27T21:49:46.460Z"
   },
   {
    "duration": 12,
    "start_time": "2024-12-27T21:49:46.476Z"
   },
   {
    "duration": 5746,
    "start_time": "2024-12-27T21:49:46.490Z"
   },
   {
    "duration": 457,
    "start_time": "2024-12-27T21:49:52.238Z"
   },
   {
    "duration": 100,
    "start_time": "2024-12-27T21:49:52.696Z"
   },
   {
    "duration": 14,
    "start_time": "2024-12-27T21:49:52.797Z"
   },
   {
    "duration": 122,
    "start_time": "2024-12-27T21:49:52.812Z"
   },
   {
    "duration": 3632,
    "start_time": "2024-12-27T21:49:52.935Z"
   }
  ],
  "kernelspec": {
   "display_name": "Python 3 (ipykernel)",
   "language": "python",
   "name": "python3"
  },
  "language_info": {
   "codemirror_mode": {
    "name": "ipython",
    "version": 3
   },
   "file_extension": ".py",
   "mimetype": "text/x-python",
   "name": "python",
   "nbconvert_exporter": "python",
   "pygments_lexer": "ipython3",
   "version": "3.9.5"
  },
  "toc": {
   "base_numbering": 1,
   "nav_menu": {},
   "number_sections": true,
   "sideBar": true,
   "skip_h1_title": true,
   "title_cell": "Table of Contents",
   "title_sidebar": "Contents",
   "toc_cell": false,
   "toc_position": {},
   "toc_section_display": true,
   "toc_window_display": false
  }
 },
 "nbformat": 4,
 "nbformat_minor": 5
}
